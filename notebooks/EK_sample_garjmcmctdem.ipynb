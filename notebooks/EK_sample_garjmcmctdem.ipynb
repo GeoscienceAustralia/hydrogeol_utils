{
 "cells": [
  {
   "cell_type": "code",
   "execution_count": 1,
   "metadata": {},
   "outputs": [],
   "source": [
    "%matplotlib inline\n"
   ]
  },
  {
   "cell_type": "code",
   "execution_count": 6,
   "metadata": {},
   "outputs": [],
   "source": [
    "import netCDF4\n",
    "import numpy as np\n",
    "import pandas as pd\n",
    "import rasterio"
   ]
  },
  {
   "cell_type": "code",
   "execution_count": 176,
   "metadata": {},
   "outputs": [],
   "source": [
    "# Birng the AEM data into memory\n",
    "cond_path = r\"C:\\Users\\PCUser\\Desktop\\AEM\\rjmcmc\\EastKimberley_rjmcmc.nc\"\n",
    "\n",
    "rj_dat = netCDF4.Dataset(cond_path, 'r')"
   ]
  },
  {
   "cell_type": "code",
   "execution_count": 177,
   "metadata": {},
   "outputs": [],
   "source": [
    "coords = np.column_stack((rj_dat['easting'][:].data,\n",
    "                         rj_dat['northing'][:].data))"
   ]
  },
  {
   "cell_type": "code",
   "execution_count": 196,
   "metadata": {},
   "outputs": [],
   "source": [
    "# Ugly raster sampling\n",
    "\n",
    "infile = r\"C:\\Users\\PCUser\\Desktop\\EK_data\\Interp\\KeepWaterTable\\WaterTable_31Oct\\KR_wt_mAHD_regKrig_1000ml.tif\"\n",
    "\n",
    "wt_src = rasterio.open(infile)\n",
    "\n",
    "\n",
    "wt_poly = box(wt_src.bounds.left, wt_src.bounds.bottom,\n",
    "              wt_src.bounds.right, wt_src.bounds.top)\n",
    "\n",
    "\n",
    "inds = []\n",
    "\n",
    "for i in range(coords.shape[0]):\n",
    "    if Point(coords[i]).within(poly):\n",
    "        inds.append(i)\n",
    "\n",
    "inds = np.array(inds)      \n",
    "\n",
    "wt_coords = coords[inds]\n",
    "        \n",
    "# Now sample the water table elevation and calculate depth\n",
    "\n",
    "wt_elevs = np.zeros(shape = wt_coords.shape[0],\n",
    "                    dtype = np.float64)\n",
    "\n",
    "\n",
    "for i in range(len(wt_coords)):\n",
    "    wte = next(wt_src.sample(wt_coords[i:i+1]))[0]\n",
    "    \n",
    "    wt_elevs[i] = wte\n",
    "    \n",
    "\n",
    "# mask out -9999.\n",
    "\n",
    "mask = np.isclose(wt_elevs, -9999.)\n",
    "\n",
    "inds = inds[~mask]\n",
    "\n",
    "wt_elevs = wt_elevs[~mask]"
   ]
  },
  {
   "cell_type": "code",
   "execution_count": 197,
   "metadata": {},
   "outputs": [],
   "source": [
    "df_final = pd.DataFrame(columns = ['Depth_from', 'Depth_to', 'easting',\n",
    "                                  'northing'] + ['cond_' + str(i+1) for i in range(100)])"
   ]
  },
  {
   "cell_type": "code",
   "execution_count": 198,
   "metadata": {},
   "outputs": [],
   "source": [
    "# Now we have the coordinates we need to extract all the 10m pmaps \n",
    "\n",
    "# choose our interval\n",
    "\n",
    "interval = 10. # We will examine the top 10 metres of the water table\n",
    "\n",
    "for i, idx in enumerate(inds):\n",
    "    wt_depth = rj_dat['elevation'][idx] - wt_elevs[i]\n",
    "    \n",
    "    # Get the depths\n",
    "    \n",
    "    ltd = rj_dat['layer_top_depth'][idx]\n",
    "    \n",
    "    top_idx = np.searchsorted(ltd, wt_depth,\n",
    "                              side = 'right')\n",
    "    \n",
    "    bottom_idx  = np.searchsorted(ltd, wt_depth + interval,\n",
    "                              side = 'right')\n",
    "    layer_idx = np.arange(top_idx, bottom_idx)\n",
    "    \n",
    "    # Get the conductivity bins and sum them along the depth axis\n",
    "    \n",
    "    cond_bin_counts = rj_dat['conductivity_bin_count'][idx, layer_inds, :].sum(axis = 0)\n",
    "    \n",
    "    # Write this into a dataframe\n",
    "    \n",
    "    dat = {'Depth_from': ltd[top_idx], 'Depth_to': ltd[bottom_idx], 'easting': rj_dat['easting'][idx],\n",
    "           \"northing\": rj_dat['northing'][idx]}\n",
    "    \n",
    "    for i in range(len(cond_bin_counts)):\n",
    "        dat['cond_' + str(i+1)] = cond_bin_counts[i]\n",
    "    \n",
    "    # Append dictionary to data frame\n",
    "        \n",
    "    df_final = df_final.append(dat, ignore_index = True)\n",
    "           \n",
    "    "
   ]
  },
  {
   "cell_type": "code",
   "execution_count": 199,
   "metadata": {},
   "outputs": [],
   "source": [
    "df_final.to_csv(r\"C:\\Users\\PCUser\\Desktop\\EK_data\\salinity_mapping\\EK_cond_pmap_top10m_saturated_zone.csv\",\n",
    "               index = False)"
   ]
  }
 ],
 "metadata": {
  "kernelspec": {
   "display_name": "hydrogeol_utils",
   "language": "python",
   "name": "hydrogeol_utils"
  },
  "language_info": {
   "codemirror_mode": {
    "name": "ipython",
    "version": 3
   },
   "file_extension": ".py",
   "mimetype": "text/x-python",
   "name": "python",
   "nbconvert_exporter": "python",
   "pygments_lexer": "ipython3",
   "version": "3.7.3"
  }
 },
 "nbformat": 4,
 "nbformat_minor": 4
}
