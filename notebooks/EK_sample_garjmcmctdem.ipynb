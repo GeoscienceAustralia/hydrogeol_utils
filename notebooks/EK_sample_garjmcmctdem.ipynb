{
 "cells": [
  {
   "cell_type": "markdown",
   "metadata": {},
   "source": [
    "This notebook demonstrates sampling the stochastic AEM inversions at a number of points and finding the weighted average bulk conductivity for a given depth interval. This depth interval is based x m below the water table, which is defined in a raster file."
   ]
  },
  {
   "cell_type": "code",
   "execution_count": 1,
   "metadata": {},
   "outputs": [],
   "source": [
    "%matplotlib inline\n"
   ]
  },
  {
   "cell_type": "code",
   "execution_count": 60,
   "metadata": {},
   "outputs": [],
   "source": [
    "import netCDF4\n",
    "import numpy as np\n",
    "import pandas as pd\n",
    "import os\n",
    "from osgeo import osr, gdal\n",
    "from shapely.geometry import box, Point, Polygon\n",
    "# These packages are geoscience australia packages for geophysics and hydrogeological data\n",
    "from geophys_utils._netcdf_line_utils import NetCDFLineUtils\n",
    "from geophys_utils._netcdf_point_utils import NetCDFPointUtils\n",
    "from geophys_utils import points2convex_hull"
   ]
  },
  {
   "cell_type": "code",
   "execution_count": 61,
   "metadata": {},
   "outputs": [],
   "source": [
    "# Birng the AEM data into memory\n",
    "cond_path = r\"C:\\Users\\PCUser\\Desktop\\AEM\\rjmcmc\\EastKimberley_rjmcmc.nc\"\n",
    "\n",
    "rj_dat = netCDF4.Dataset(cond_path, 'r')"
   ]
  },
  {
   "cell_type": "code",
   "execution_count": 62,
   "metadata": {},
   "outputs": [],
   "source": [
    "coords = np.column_stack((rj_dat['easting'][:].data,\n",
    "                         rj_dat['northing'][:].data))"
   ]
  },
  {
   "cell_type": "code",
   "execution_count": 63,
   "metadata": {},
   "outputs": [
    {
     "data": {
      "image/svg+xml": [
       "<svg xmlns=\"http://www.w3.org/2000/svg\" xmlns:xlink=\"http://www.w3.org/1999/xlink\" width=\"300\" height=\"300\" viewBox=\"497497.49374992383 8269655.399945018 56480.41875009466 68434.20000202116\" preserveAspectRatio=\"xMinYMin meet\"><g transform=\"matrix(1,0,0,-1,0,16607744.999892056)\"><path fill-rule=\"evenodd\" fill=\"#66cc99\" stroke=\"#555555\" stroke-width=\"456.2280000134744\" opacity=\"0.6\" d=\"M 502718.59374999756,8272189.999945093 L 501461.6874999995,8272652.499945106 L 500032.09374999866,8275930.499945202 L 500039.59374999884,8295700.499945784 L 500096.81249999977,8296669.499945813 L 512022.68749998393,8316827.499946409 L 540942.1874999559,8335554.999946964 L 551443.3124999437,8332595.499946878 L 550987.624999944,8329028.999946772 L 548067.1249999468,8322763.999946587 L 502718.59374999756,8272189.999945093 z\" /></g></svg>"
      ],
      "text/plain": [
       "<shapely.geometry.polygon.Polygon at 0x17adb24ca58>"
      ]
     },
     "execution_count": 63,
     "metadata": {},
     "output_type": "execute_result"
    }
   ],
   "source": [
    "# Create a convex hull around the Keep River area based on line 3xxx,xxx\n",
    "\n",
    "# Initialise an instance of the netCDF point and line utility classes\n",
    "cond_line_utils = NetCDFLineUtils(rj_dat)\n",
    "cond_point_utils = NetCDFPointUtils(rj_dat)\n",
    "\n",
    "# Get the utm coordinates for the survey\n",
    "\n",
    "utm_wkt, aem_coords = cond_point_utils.utm_coords(cond_point_utils.xycoords)\n",
    "\n",
    "# Get the lines nun,bers in our area of interest\n",
    "\n",
    "lines = cond_line_utils.line\n",
    "\n",
    "# Get the index of lines of interest\n",
    "\n",
    "line_ind  = np.where(np.logical_and(lines>299999, lines<399999))\n",
    "\n",
    "# Get the indices of points in the rj file from these lines\n",
    "point_mask = [x for x in rj_dat['line_index'][:] if np.any(line_ind == x)]\n",
    "    \n",
    "# Get the Keep River coords    \n",
    "\n",
    "Keep_river_coords = aem_coords[point_mask]\n",
    "\n",
    "# We also want to filter out lines that are too far west\n",
    "\n",
    "Keep_river_coords = Keep_river_coords[np.where(Keep_river_coords[:,0] > 500000)]\n",
    "    \n",
    "# Get the convex hull of the subset\n",
    "convex_hull = points2convex_hull(Keep_river_coords)\n",
    "\n",
    "\n",
    "# Create a shapely object of the convex hull\n",
    "Keep_poly = Polygon(convex_hull)\n",
    "\n",
    "\n",
    "Keep_poly"
   ]
  },
  {
   "cell_type": "code",
   "execution_count": 65,
   "metadata": {},
   "outputs": [],
   "source": [
    "# Ugly raster sampling\n",
    "\n",
    "\n",
    "# Open the raster using raster i\n",
    "infile = \"..\\\\water_table_mAHD.tif\"\n",
    "\n",
    "wt_src = rasterio.open(infile)\n",
    "\n",
    "# Create a polygon around the extent of raster\n",
    "\n",
    "wt_poly = box(wt_src.bounds.left, wt_src.bounds.bottom,\n",
    "              wt_src.bounds.right, wt_src.bounds.top)\n",
    "\n",
    "\n",
    "\n",
    "# Get indices of rjmcmc coordinates that are within our area of interest\n",
    "\n",
    "inds = []\n",
    "\n",
    "for i in range(coords.shape[0]):\n",
    "    P = Point(coords[i])\n",
    "    if np.logical_and(P.within(Keep_poly), P.within(wt_poly)):\n",
    "        inds.append(i)\n",
    "\n",
    "        \n",
    "inds = np.array(inds)      \n",
    "\n",
    "# Extract these coordinates to an array\n",
    "\n",
    "wt_coords = coords[inds]\n",
    "        \n",
    "# Now sample the water table elevation and calculate depth\n",
    "\n",
    "wt_elevs = np.zeros(shape = wt_coords.shape[0],\n",
    "                    dtype = np.float64)\n",
    "\n",
    "# Iterate through rjmcmc coordinates\n",
    "for i in range(len(wt_coords)):\n",
    "    #Get elevation using the generator\n",
    "    wte = next(wt_src.sample(wt_coords[i:i+1]))[0]\n",
    "    \n",
    "    # Write into array\n",
    "    wt_elevs[i] = wte\n",
    "    \n",
    "\n",
    "# mask out -9999.\n",
    "\n",
    "mask = np.isclose(wt_elevs, -9999.)\n",
    "\n",
    "inds = inds[~mask]\n",
    "\n",
    "wt_elevs = wt_elevs[~mask]"
   ]
  },
  {
   "cell_type": "code",
   "execution_count": 66,
   "metadata": {},
   "outputs": [],
   "source": [
    "df_final = pd.DataFrame(columns = ['Depth_from', 'Depth_to', 'easting',\n",
    "                                  'northing'] + ['cond_' + str(i+1) for i in range(100)])"
   ]
  },
  {
   "cell_type": "code",
   "execution_count": 67,
   "metadata": {},
   "outputs": [],
   "source": [
    "# Now we have the coordinates we need to extract all the 10m pmaps \n",
    "\n",
    "# choose our interval\n",
    "\n",
    "interval = 10. # We will examine the top 10 metres of the water table\n",
    "\n",
    "for i, idx in enumerate(inds):\n",
    "    # Calculate depth\n",
    "    wt_depth = rj_dat['elevation'][idx] - wt_elevs[i]\n",
    "    \n",
    "    # Get the layer to depths \n",
    "    \n",
    "    ltd = rj_dat['layer_top_depth'][idx]\n",
    "    \n",
    "    # find the index of the top and bottom of the interval\n",
    "    top_idx = np.searchsorted(ltd, wt_depth,\n",
    "                              side = 'right')\n",
    "    \n",
    "    bottom_idx  = np.searchsorted(ltd, wt_depth + interval,\n",
    "                              side = 'right')\n",
    "    # Get all indices\n",
    "    layer_idx = np.arange(top_idx, bottom_idx)\n",
    "    \n",
    "    # Get the conductivity bins and sum them along the depth axis\n",
    "    \n",
    "    cond_bin_counts = rj_dat['conductivity_bin_count'][idx, layer_idx, :].sum(axis = 0)\n",
    "    \n",
    "    # Write this into a dataframe\n",
    "    \n",
    "    dat = {'Depth_from': ltd[top_idx], 'Depth_to': ltd[bottom_idx], 'easting': rj_dat['easting'][idx],\n",
    "           \"northing\": rj_dat['northing'][idx]}\n",
    "    \n",
    "    for i in range(len(cond_bin_counts)):\n",
    "        dat['cond_' + str(i+1)] = cond_bin_counts[i]\n",
    "    \n",
    "    # Append dictionary to data frame\n",
    "        \n",
    "    df_final = df_final.append(dat, ignore_index = True)\n",
    "           \n",
    "    "
   ]
  },
  {
   "cell_type": "code",
   "execution_count": 69,
   "metadata": {},
   "outputs": [],
   "source": [
    "df_final.to_csv(r\"..\\\\EK_cond_pmap_top10m_saturated_zone.csv\",\n",
    "               index = False)"
   ]
  },
  {
   "cell_type": "code",
   "execution_count": 70,
   "metadata": {},
   "outputs": [
    {
     "data": {
      "text/plain": [
       "<matplotlib.axes._subplots.AxesSubplot at 0x17adb334a20>"
      ]
     },
     "execution_count": 70,
     "metadata": {},
     "output_type": "execute_result"
    },
    {
     "data": {
      "image/png": "[encoded data removed]",
      "text/plain": [
       "<Figure size 432x288 with 1 Axes>"
      ]
     },
     "metadata": {
      "needs_background": "light"
     },
     "output_type": "display_data"
    }
   ],
   "source": [
    "df_final['Depth_from'].hist(bins=30)"
   ]
  }
 ],
 "metadata": {
  "kernelspec": {
   "display_name": "hydrogeol_utils",
   "language": "python",
   "name": "hydrogeol_utils"
  },
  "language_info": {
   "codemirror_mode": {
    "name": "ipython",
    "version": 3
   },
   "file_extension": ".py",
   "mimetype": "text/x-python",
   "name": "python",
   "nbconvert_exporter": "python",
   "pygments_lexer": "ipython3",
   "version": "3.7.3"
  }
 },
 "nbformat": 4,
 "nbformat_minor": 4
}
