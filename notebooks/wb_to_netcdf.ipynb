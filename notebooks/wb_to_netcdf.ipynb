{
 "cells": [
  {
   "cell_type": "markdown",
   "metadata": {},
   "source": [
    "This notebook takes an AEM inversion text file from the Aarhus Workbench and writes a netCDF file (see https://github.com/GeoscienceAustralia/geophys_utils)\n",
    "\n"
   ]
  },
  {
   "cell_type": "code",
   "execution_count": 1,
   "metadata": {},
   "outputs": [],
   "source": [
    "from hydrogeol_utils import AEM_utils\n",
    "import pandas as pd\n",
    "import numpy as np\n",
    "import math\n",
    "import yaml\n",
    "import importlib"
   ]
  },
  {
   "cell_type": "code",
   "execution_count": 2,
   "metadata": {},
   "outputs": [],
   "source": [
    "#infile = r\"C:\\Users\\PCUser\\Desktop\\NSC_data\\data\\AEM\\HE\\WB_Exported_Inversions\\HE_WB_SCI_Smooth_v2_ks_inv.xyz\"\n",
    "infile = r\"C:\\Users\\PCUser\\Desktop\\EK_data\\AEM\\KR_WBsci_smooth03\\Smooth_03_MOD_inv.xyz\"\n",
    "# Now opent the file and delete the pipe\n",
    "\n",
    "with open(infile, 'r') as inf:\n",
    "    s = inf.read()\n",
    "\n",
    "new_s = s.replace(';',',')\n",
    "\n",
    "\n",
    "# Reomve the final\n",
    "if new_s[-1:] == '\\n':\n",
    "    new_s = new_s[:-1]\n",
    "\n",
    "new_file = r\"C:\\Users\\PCUser\\Desktop\\EK_data\\AEM\\KR_WBsci_smooth03\\KR_WBsci_smooth03_.xyz\"\n",
    "\n",
    "with open(new_file, 'w') as f:\n",
    "    f.write(new_s)\n",
    "\n",
    "AEM_data = AEM_utils.parse_wb_file(new_file)"
   ]
  },
  {
   "cell_type": "code",
   "execution_count": 3,
   "metadata": {},
   "outputs": [],
   "source": [
    "# Create a dataframe for ease of use\n",
    "\n",
    "df = pd.DataFrame(data = AEM_data['data'], columns = AEM_data['header'])"
   ]
  },
  {
   "cell_type": "code",
   "execution_count": 6,
   "metadata": {},
   "outputs": [
    {
     "data": {
      "text/plain": [
       "0          13.60360\n",
       "1           8.21018\n",
       "2          65.87620\n",
       "3           8.24402\n",
       "4          10.09290\n",
       "            ...    \n",
       "148995     63.01200\n",
       "148996     38.86510\n",
       "148997     70.72140\n",
       "148998    158.55400\n",
       "148999    570.45100\n",
       "Name: SIGMA_I_1, Length: 149000, dtype: float64"
      ]
     },
     "execution_count": 6,
     "metadata": {},
     "output_type": "execute_result"
    }
   ],
   "source": [
    "df['SIGMA_I_1']"
   ]
  },
  {
   "cell_type": "code",
   "execution_count": 7,
   "metadata": {
    "scrolled": true
   },
   "outputs": [],
   "source": [
    "# Lets do some changing of the data to suit our needs\n",
    "\n",
    "# Convert the conductivity to S/m\n",
    "\n",
    "condcols = [s for s in df.columns if s.startswith('SIGMA_')]\n",
    "\n",
    "df.at[:, condcols] = df.loc[:,condcols] / 1000."
   ]
  },
  {
   "cell_type": "code",
   "execution_count": 8,
   "metadata": {},
   "outputs": [],
   "source": [
    "# Replcae the nulls with -9999\n",
    "null = float(AEM_data['DUMMY'])\n",
    "\n",
    "df.replace(null, -9999., inplace=True)\n",
    "\n",
    "df['NLAYERS'] = 30"
   ]
  },
  {
   "cell_type": "code",
   "execution_count": 9,
   "metadata": {},
   "outputs": [],
   "source": [
    "# Now lets output the data into a fixed width delimited file. We choose the columns to output\n",
    "# and the format to match a dfn from a different survey\n",
    "\n",
    "export_cols = ['FID', 'LINE_NO', 'UTMX', 'UTMY', 'ELEVATION', 'RESDATA',\n",
    "              'ALT', 'INVALT', 'DOI_STANDARD', 'NLAYERS']\n",
    "\n",
    "for item in df.columns:\n",
    "    if item.startswith('RHO'):\n",
    "        export_cols.append(item)\n",
    "\n",
    "for item in df.columns:\n",
    "    if item.startswith('DEP_TOP'):\n",
    "        export_cols.append(item)\n",
    "\n",
    "df_exp = df[export_cols]\n"
   ]
  },
  {
   "cell_type": "code",
   "execution_count": 10,
   "metadata": {},
   "outputs": [
    {
     "data": {
      "text/plain": [
       "0         30\n",
       "1         30\n",
       "2         30\n",
       "3         30\n",
       "4         30\n",
       "          ..\n",
       "148995    30\n",
       "148996    30\n",
       "148997    30\n",
       "148998    30\n",
       "148999    30\n",
       "Name: NLAYERS, Length: 149000, dtype: int64"
      ]
     },
     "execution_count": 10,
     "metadata": {},
     "output_type": "execute_result"
    }
   ],
   "source": [
    "df_exp['NLAYERS']"
   ]
  },
  {
   "cell_type": "code",
   "execution_count": 11,
   "metadata": {},
   "outputs": [
    {
     "name": "stderr",
     "output_type": "stream",
     "text": [
      "C:\\Users\\PCUser\\Anaconda3\\envs\\hydrogeol_utils\\lib\\site-packages\\pandas\\core\\indexing.py:480: SettingWithCopyWarning: \n",
      "A value is trying to be set on a copy of a slice from a DataFrame.\n",
      "Try using .loc[row_indexer,col_indexer] = value instead\n",
      "\n",
      "See the caveats in the documentation: http://pandas.pydata.org/pandas-docs/stable/user_guide/indexing.html#returning-a-view-versus-a-copy\n",
      "  self.obj[item] = s\n"
     ]
    }
   ],
   "source": [
    "# Now we replace the columns with formatted strings\n",
    "\n",
    "df_exp.at[:,'FID'] = ['{:6d}'.format(x) for x in df_exp['FID'].values.astype(int)]\n",
    "df_exp.at[:,'LINE_NO'] = ['{:9d}'.format(x) for x in df_exp['LINE_NO'].values.astype(int)]\n",
    "df_exp.at[:,'UTMX'] = ['{:10.1F}'.format(x) for x in df_exp['UTMX'].values]\n",
    "df_exp.at[:,'UTMY'] = ['{:10.1F}'.format(x) for x in df_exp['UTMY'].values]\n",
    "df_exp.at[:,'ELEVATION'] = ['{:8.2F}'.format(x) for x in df_exp['ELEVATION'].values]\n",
    "df_exp.at[:,'RESDATA'] = ['{:7.3F}'.format(x) for x in df_exp['RESDATA'].values]\n",
    "df_exp.at[:,'ALT'] = ['{:7.2F}'.format(x) for x in df_exp['ALT'].values]\n",
    "df_exp.at[:,'INVALT'] = ['{:7.2F}'.format(x) for x in df_exp['INVALT'].values]\n",
    "df_exp.at[:,'DOI_STANDARD'] = ['{:7.2F}'.format(x) for x in df_exp['DOI_STANDARD'].values]\n",
    "df_exp.at[:,'NLAYERS'] = ['{:6d}'.format(x) for x in df_exp['NLAYERS'].values]\n",
    "\n",
    "# Iterate through the resisitivities\n",
    "\n",
    "for item in df_exp.columns:\n",
    "    if item.startswith('RHO'):\n",
    "        df_exp.at[:,item] = ['{:9.3F}'.format(x) for x in df_exp[item].values]\n",
    "    elif item.startswith('DEP'):\n",
    "        df_exp.at[:,item] = ['{:9.3F}'.format(x) for x in df_exp[item].values]"
   ]
  },
  {
   "cell_type": "code",
   "execution_count": 12,
   "metadata": {},
   "outputs": [],
   "source": [
    "# Now we output the data\n",
    "#outfile = r\"C:\\Users\\PCUser\\Desktop\\NSC_data\\data\\AEM\\HE\\nc\\HowardsEast_wb_inversion_temp.dat\"\n",
    "outfile = r\"C:\\Users\\PCUser\\Desktop\\EK_data\\AEM\\netCDF\\EastKimberley_wb_inversion_temp.dat\"\n",
    "\n",
    "\n",
    "# Note use a pipe so we can easily delete later\n",
    "df_exp.to_csv(outfile, sep = '|', index = False, header = False)\n",
    "\n",
    "# Now opent the file and delete the pipe\n",
    "\n",
    "with open(outfile, 'r') as inf:\n",
    "    s = inf.read()\n",
    "\n",
    "new_s = s.replace('|','')\n",
    "\n",
    "\n",
    "# Reomve the final\n",
    "if new_s[-1:] == '\\n':\n",
    "    new_s = new_s[:-1]\n",
    "\n",
    "new_outfile = r\"C:\\Users\\PCUser\\Desktop\\EK_data\\AEM\\netCDF\\EastKimberley_wb_inversion.dat\"\n",
    "\n",
    "with open(new_outfile, 'w') as f:\n",
    "    f.write(new_s)\n"
   ]
  },
  {
   "cell_type": "code",
   "execution_count": 2,
   "metadata": {},
   "outputs": [
    {
     "name": "stderr",
     "output_type": "stream",
     "text": [
      "DEBUG:root:test\n",
      "DEBUG:matplotlib.pyplot:Loaded backend module://ipykernel.pylab.backend_inline version unknown.\n"
     ]
    }
   ],
   "source": [
    "%matplotlib inline\n",
    "\n",
    "from geophys_utils.netcdf_converter import aseg_gdf2netcdf_converter\n",
    "from geophys_utils.netcdf_converter.aseg_gdf_utils import aseg_gdf_format2dtype\n",
    "from hydrogeol_utils import AEM_utils\n",
    "import netCDF4\n",
    "import os, math\n",
    "import numpy as np\n",
    "import matplotlib.pyplot as plt\n",
    "# SO we can see the logging. This enables us to debug\n",
    "import gc\n",
    "import logging\n",
    "logger = logging.getLogger()\n",
    "logger.setLevel(logging.DEBUG)\n",
    "logging.debug(\"test\")\n"
   ]
  },
  {
   "cell_type": "code",
   "execution_count": 3,
   "metadata": {},
   "outputs": [],
   "source": [
    "root = r\"C:\\Users\\PCUser\\Desktop\\EK_data\\AEM\\KR_WBsci_smooth03\"\n",
    "\n",
    "nc_out_path = r\"C:\\Users\\PCUser\\Desktop\\EK_data\\AEM\\netCDF\\EastKimberley_wb_inversion.nc\"\n",
    "\n",
    "dat_in_path = os.path.join(root, \"EastKimberley_wb_inversion.dat\")\n",
    "\n",
    "dfn_in_path = os.path.join(root, 'EastKimberley_wb_inversion.dfn')\n",
    "\n",
    "crs_string = \"EPSG:28352\""
   ]
  },
  {
   "cell_type": "code",
   "execution_count": 15,
   "metadata": {},
   "outputs": [
    {
     "name": "stderr",
     "output_type": "stream",
     "text": [
      "INFO:geophys_utils.netcdf_converter.aseg_gdf2netcdf_converter:Reading definitions file C:\\Users\\PCUser\\Desktop\\EK_data\\AEM\\KR_WBsci_smooth03\\EastKimberley_wb_inversion.dfn\n",
      "INFO:geophys_utils.netcdf_converter.aseg_gdf2netcdf_converter:Reading data file C:\\Users\\PCUser\\Desktop\\EK_data\\AEM\\KR_WBsci_smooth03\\EastKimberley_wb_inversion.dat\n",
      "INFO:geophys_utils.netcdf_converter.aseg_gdf2netcdf_converter:10000 lines read\n",
      "INFO:geophys_utils.netcdf_converter.aseg_gdf2netcdf_converter:20000 lines read\n",
      "INFO:geophys_utils.netcdf_converter.aseg_gdf2netcdf_converter:30000 lines read\n",
      "INFO:geophys_utils.netcdf_converter.aseg_gdf2netcdf_converter:40000 lines read\n",
      "INFO:geophys_utils.netcdf_converter.aseg_gdf2netcdf_converter:50000 lines read\n",
      "INFO:geophys_utils.netcdf_converter.aseg_gdf2netcdf_converter:60000 lines read\n",
      "INFO:geophys_utils.netcdf_converter.aseg_gdf2netcdf_converter:70000 lines read\n",
      "INFO:geophys_utils.netcdf_converter.aseg_gdf2netcdf_converter:80000 lines read\n",
      "INFO:geophys_utils.netcdf_converter.aseg_gdf2netcdf_converter:90000 lines read\n",
      "INFO:geophys_utils.netcdf_converter.aseg_gdf2netcdf_converter:100000 lines read\n",
      "INFO:geophys_utils.netcdf_converter.aseg_gdf2netcdf_converter:110000 lines read\n",
      "INFO:geophys_utils.netcdf_converter.aseg_gdf2netcdf_converter:120000 lines read\n",
      "INFO:geophys_utils.netcdf_converter.aseg_gdf2netcdf_converter:130000 lines read\n",
      "INFO:geophys_utils.netcdf_converter.aseg_gdf2netcdf_converter:140000 lines read\n",
      "INFO:geophys_utils.netcdf_converter.aseg_gdf2netcdf_converter:A total of 149000 points were read\n",
      "INFO:geophys_utils.netcdf_converter.aseg_gdf2netcdf_converter:Datatype for variable sequence changed from int32 to int8\n",
      "INFO:geophys_utils.netcdf_converter.aseg_gdf2netcdf_converter:Datatype for variable easting changed from float64 to float32\n",
      "INFO:geophys_utils.netcdf_converter.aseg_gdf2netcdf_converter:Datatype for variable northing changed from float64 to float32\n"
     ]
    },
    {
     "name": "stdout",
     "output_type": "stream",
     "text": [
      "point 149000\n",
      "layer 30\n"
     ]
    },
    {
     "name": "stderr",
     "output_type": "stream",
     "text": [
      "INFO:geophys_utils.netcdf_converter.aseg_gdf2netcdf_converter:\tWriting comments lookup variables\n",
      "INFO:geophys_utils.netcdf_converter.aseg_gdf2netcdf_converter:\tCreating dimension for comments\n",
      "INFO:geophys_utils.netcdf_converter.aseg_gdf2netcdf_converter:\t\tWriting 1492 comments lookup values to array variable comments\n",
      "INFO:geophys_utils.netcdf_converter.aseg_gdf2netcdf_converter:\t\tWriting comments lookup indices to array variable comments_index\n",
      "INFO:geophys_utils.netcdf_converter.aseg_gdf2netcdf_converter:\tWriting 1D int8 variable sequence\n",
      "INFO:geophys_utils.netcdf_converter.aseg_gdf2netcdf_converter:\tWriting line lookup variables\n",
      "INFO:geophys_utils.netcdf_converter.aseg_gdf2netcdf_converter:\tCreating dimension for line\n",
      "INFO:geophys_utils.netcdf_converter.aseg_gdf2netcdf_converter:\t\tWriting 352 line lookup values to array variable line\n",
      "INFO:geophys_utils.netcdf_converter.aseg_gdf2netcdf_converter:\t\tWriting line lookup indices to array variable line_index\n",
      "INFO:geophys_utils.netcdf_converter.aseg_gdf2netcdf_converter:\tWriting 1D float32 variable easting\n",
      "INFO:geophys_utils.netcdf_converter.aseg_gdf2netcdf_converter:\tWriting 1D float32 variable northing\n",
      "INFO:geophys_utils.netcdf_converter.aseg_gdf2netcdf_converter:\tWriting 1D float32 variable elevation\n",
      "INFO:geophys_utils.netcdf_converter.aseg_gdf2netcdf_converter:\tWriting 1D float32 variable data_residual\n",
      "INFO:geophys_utils.netcdf_converter.aseg_gdf2netcdf_converter:\tWriting 1D float32 variable tx_height_measured\n",
      "INFO:geophys_utils.netcdf_converter.aseg_gdf2netcdf_converter:\tWriting 1D float32 variable tx_height_inverted\n",
      "INFO:geophys_utils.netcdf_converter.aseg_gdf2netcdf_converter:\tWriting 1D float32 variable depth_of_investigation\n",
      "INFO:geophys_utils.netcdf_converter.aseg_gdf2netcdf_converter:\tWriting 2D float32 variable conductivity\n",
      "INFO:geophys_utils.netcdf_converter.aseg_gdf2netcdf_converter:\tWriting 2D float32 variable conductivity_uncertainty\n",
      "INFO:geophys_utils.netcdf_converter.aseg_gdf2netcdf_converter:\tWriting 2D float32 variable layer_top_depth\n",
      "INFO:geophys_utils.netcdf_converter.aseg_gdf2netcdf_converter:Creating crs, longitude and latitude variables for unprojected CRS\n",
      "INFO:geophys_utils.netcdf_converter.aseg_gdf2netcdf_converter:Creating new crs variable for unprojected CRS\n",
      "INFO:geophys_utils.netcdf_converter.aseg_gdf2netcdf_converter:Creating new longitude variable\n",
      "INFO:geophys_utils.netcdf_converter.aseg_gdf2netcdf_converter:Creating new latitude variable\n",
      "INFO:geophys_utils.netcdf_converter.aseg_gdf2netcdf_converter:Re-writing new global attributes for new CRS\n"
     ]
    }
   ],
   "source": [
    "if os.path.exists(nc_out_path):\n",
    "    os.remove(nc_out_path)\n",
    "\n",
    "d2n = aseg_gdf2netcdf_converter.ASEGGDF2NetCDFConverter(nc_out_path, \n",
    "                                                 dat_in_path, \n",
    "                                                 dfn_in_path,\n",
    "                                                 crs_string,\n",
    "                                                 fix_precision=True,\n",
    "                                                 remove_null_columns = False)\n",
    "d2n.convert2netcdf()    "
   ]
  },
  {
   "cell_type": "code",
   "execution_count": 24,
   "metadata": {},
   "outputs": [],
   "source": [
    "d = netCDF4.Dataset(r\"C:\\Users\\PCUser\\Desktop\\NSC_data\\data\\AEM\\HE\\nc\\HowardsEast_wb_inversion.nc\", 'r')"
   ]
  },
  {
   "cell_type": "code",
   "execution_count": 25,
   "metadata": {},
   "outputs": [
    {
     "data": {
      "text/plain": [
       "<class 'netCDF4._netCDF4.Dataset'>\n",
       "root group (NETCDF4 data model, file format HDF5):\n",
       "    geospatial_east_min: 718050.3125\n",
       "    geospatial_east_max: 741266.3125\n",
       "    geospatial_east_units: m\n",
       "    geospatial_north_min: 8612255.0\n",
       "    geospatial_north_max: 8631394.0\n",
       "    geospatial_north_units: m\n",
       "    title: Dataset read from ASEG-GDF file HowardsEast_wb_inversion.dat\n",
       "    Conventions: CF-1.6,ACDD-1.3\n",
       "    featureType: trajectory\n",
       "    geospatial_vertical_min: -11.9\n",
       "    geospatial_vertical_max: 77.1\n",
       "    geospatial_vertical_units: m\n",
       "    geospatial_vertical_resolution: point\n",
       "    geospatial_vertical_positive: up\n",
       "    history: Converted from ASEG-GDF file C:\\Users\\PCUser\\Desktop\\NSC_data\\data\\AEM\\HE\\nc\\HowardsEast_wb_inversion.dat using definitions file C:\\Users\\PCUser\\Desktop\\NSC_data\\data\\AEM\\HE\\nc\\HowardsEast_wb_inversion.dfn\n",
       "    date_created: 2019-09-25T19:45:34.029179\n",
       "    geospatial_east_resolution: point\n",
       "    geospatial_north_resolution: point\n",
       "    geospatial_bounds: POLYGON((131.1328 -12.5449, 131.1275 -12.5435, 131.0165 -12.4894, 131.0076 -12.4810, 131.0064 -12.4793, 131.0062 -12.4733, 131.0063 -12.4731, 131.0113 -12.4639, 131.0547 -12.3851, 131.1179 -12.3720, 131.1209 -12.3744, 131.1306 -12.3835, 131.1669 -12.4172, 131.1849 -12.4342, 131.1996 -12.4480, 131.2158 -12.4642, 131.2186 -12.4675, 131.2192 -12.4683, 131.2197 -12.4691, 131.2184 -12.4728, 131.1954 -12.4939, 131.1328 -12.5449))\n",
       "    keywords: geophysics, airborne, AEM, conductivity\n",
       "    geospatial_lon_min: 131.0062458594862\n",
       "    geospatial_lon_max: 131.21972358364616\n",
       "    geospatial_lon_units: degrees East\n",
       "    geospatial_lat_min: -12.54489076233762\n",
       "    geospatial_lat_max: -12.37204129405095\n",
       "    geospatial_lat_units: degrees North\n",
       "    dimensions(sizes): point(72894), layer(30), comments(730), line(235)\n",
       "    variables(dimensions): int8 \u001b[4mtransverse_mercator\u001b[0m(), <class 'str'> \u001b[4mcomments\u001b[0m(comments), int32 \u001b[4mcomments_index\u001b[0m(point), int8 \u001b[4msequence\u001b[0m(point), int32 \u001b[4mline\u001b[0m(line), int32 \u001b[4mline_index\u001b[0m(point), float32 \u001b[4measting\u001b[0m(point), float32 \u001b[4mnorthing\u001b[0m(point), float32 \u001b[4melevation\u001b[0m(point), float32 \u001b[4mdata_residual\u001b[0m(point), float32 \u001b[4mtx_height_measured\u001b[0m(point), float32 \u001b[4mtx_height_inverted\u001b[0m(point), float32 \u001b[4mdepth_of_investigation\u001b[0m(point), float32 \u001b[4mconductivity\u001b[0m(point,layer), float32 \u001b[4mconductivity_uncertainty\u001b[0m(point,layer), float32 \u001b[4mlayer_top_depth\u001b[0m(point,layer), int8 \u001b[4mcrs\u001b[0m(), float64 \u001b[4mlongitude\u001b[0m(point), float64 \u001b[4mlatitude\u001b[0m(point)\n",
       "    groups: "
      ]
     },
     "execution_count": 25,
     "metadata": {},
     "output_type": "execute_result"
    }
   ],
   "source": [
    "d"
   ]
  },
  {
   "cell_type": "code",
   "execution_count": 26,
   "metadata": {},
   "outputs": [],
   "source": [
    "import time\n",
    "from hydrogeol_utils import spatial_functions\n",
    "from geophys_utils._netcdf_point_utils import NetCDFPointUtils"
   ]
  },
  {
   "cell_type": "code",
   "execution_count": 27,
   "metadata": {},
   "outputs": [],
   "source": [
    "cond_point_utils = NetCDFPointUtils(d)"
   ]
  },
  {
   "cell_type": "code",
   "execution_count": 28,
   "metadata": {},
   "outputs": [],
   "source": [
    "minx = d.geospatial_east_min\n",
    "maxx = d.geospatial_east_max\n",
    "miny = d.geospatial_north_min\n",
    "maxy = d.geospatial_north_max\n"
   ]
  },
  {
   "cell_type": "code",
   "execution_count": 29,
   "metadata": {},
   "outputs": [
    {
     "data": {
      "text/plain": [
       "718050.3125"
      ]
     },
     "execution_count": 29,
     "metadata": {},
     "output_type": "execute_result"
    }
   ],
   "source": [
    "minx"
   ]
  },
  {
   "cell_type": "code",
   "execution_count": 30,
   "metadata": {},
   "outputs": [
    {
     "name": "stdout",
     "output_type": "stream",
     "text": [
      "Gridding  temp_grid.tif\n",
      "Finished gridding  temp_grid.tif\n",
      "Gridding  temp_grid.tif\n",
      "Finished gridding  temp_grid.tif\n",
      "Gridding  temp_grid.tif\n",
      "Finished gridding  temp_grid.tif\n",
      "Gridding  temp_grid.tif\n",
      "Finished gridding  temp_grid.tif\n",
      "Gridding  temp_grid.tif\n",
      "Finished gridding  temp_grid.tif\n",
      "Gridding  temp_grid.tif\n",
      "Finished gridding  temp_grid.tif\n",
      "Gridding  temp_grid.tif\n",
      "Finished gridding  temp_grid.tif\n",
      "Gridding  temp_grid.tif\n",
      "Finished gridding  temp_grid.tif\n",
      "Gridding  temp_grid.tif\n",
      "Finished gridding  temp_grid.tif\n",
      "Gridding  temp_grid.tif\n",
      "Finished gridding  temp_grid.tif\n",
      "Gridding  temp_grid.tif\n",
      "Finished gridding  temp_grid.tif\n",
      "Gridding  temp_grid.tif\n",
      "Finished gridding  temp_grid.tif\n",
      "Gridding  temp_grid.tif\n",
      "Finished gridding  temp_grid.tif\n",
      "Gridding  temp_grid.tif\n",
      "Finished gridding  temp_grid.tif\n",
      "Gridding  temp_grid.tif\n",
      "Finished gridding  temp_grid.tif\n",
      "Gridding  temp_grid.tif\n",
      "Finished gridding  temp_grid.tif\n",
      "Gridding  temp_grid.tif\n",
      "Finished gridding  temp_grid.tif\n",
      "Gridding  temp_grid.tif\n",
      "Finished gridding  temp_grid.tif\n",
      "Gridding  temp_grid.tif\n",
      "Finished gridding  temp_grid.tif\n",
      "Gridding  temp_grid.tif\n",
      "Finished gridding  temp_grid.tif\n",
      "Gridding  temp_grid.tif\n",
      "Finished gridding  temp_grid.tif\n",
      "Gridding  temp_grid.tif\n",
      "Finished gridding  temp_grid.tif\n",
      "Gridding  temp_grid.tif\n",
      "Finished gridding  temp_grid.tif\n",
      "Gridding  temp_grid.tif\n",
      "Finished gridding  temp_grid.tif\n",
      "Gridding  temp_grid.tif\n",
      "Finished gridding  temp_grid.tif\n",
      "Gridding  temp_grid.tif\n",
      "Finished gridding  temp_grid.tif\n",
      "Gridding  temp_grid.tif\n",
      "Finished gridding  temp_grid.tif\n",
      "Gridding  temp_grid.tif\n",
      "Finished gridding  temp_grid.tif\n",
      "Gridding  temp_grid.tif\n",
      "Finished gridding  temp_grid.tif\n",
      "Gridding  temp_grid.tif\n",
      "Finished gridding  temp_grid.tif\n",
      "Gridding time:  134.78416204452515  seconds\n"
     ]
    }
   ],
   "source": [
    "# Define gdal algorithm as string - see https://gdal.org/programs/gdal_grid.html\n",
    "algorithm = 'invdist:power=2:radius1=250:radius2=250:max_points=10:'\n",
    "algorithm += 'min_points=2:nodata=-999.999'\n",
    "\n",
    "grid_kwargs = {'conductivity': {'log_grid': True,\n",
    "                                'gdal_algorithm': algorithm}}\n",
    "\n",
    "utm_wkt = 'PROJCS[\"GDA94 / MGA zone 52\",GEOGCS[\"GDA94\",DATUM[\"Geocentric_Datum_of_Australia_1994\",SPHEROID[\"GRS 1980\",6378137,298.257222101,AUTHORITY[\"EPSG\",\"7019\"]],TOWGS84[0,0,0,0,0,0,0],AUTHORITY[\"EPSG\",\"6283\"]],PRIMEM[\"Greenwich\",0,AUTHORITY[\"EPSG\",\"8901\"]],UNIT[\"degree\",0.01745329251994328,AUTHORITY[\"EPSG\",\"9122\"]],AUTHORITY[\"EPSG\",\"4283\"]],UNIT[\"metre\",1,AUTHORITY[\"EPSG\",\"9001\"]],PROJECTION[\"Transverse_Mercator\"],PARAMETER[\"latitude_of_origin\",0],PARAMETER[\"central_meridian\",129],PARAMETER[\"scale_factor\",0.9996],PARAMETER[\"false_easting\",500000],PARAMETER[\"false_northing\",10000000],AUTHORITY[\"EPSG\",\"28352\"],AXIS[\"Easting\",EAST],AXIS[\"Northing\",NORTH]]'\n",
    "\n",
    "start_time = time.time()\n",
    "\n",
    "# Currently this is too resource intense, need to make it more effecient\n",
    "aem_grid = spatial_functions.grid_points_gdal(cond_point_utils,\n",
    "                 grid_resolution = 100,\n",
    "                 variables = 'conductivity',\n",
    "                 reprojected_grid_bounds = (minx, miny, maxx, maxy),\n",
    "                 grid_wkt = utm_wkt,\n",
    "                 point_step=1, # Only use every 4th point\n",
    "                 grid_kwargs = grid_kwargs,\n",
    "                 depth_inds = np.arange(0,30))\n",
    "\n",
    "print(\"Gridding time: \", time.time() - start_time, ' seconds')"
   ]
  },
  {
   "cell_type": "code",
   "execution_count": 31,
   "metadata": {},
   "outputs": [],
   "source": [
    "import affine\n",
    "aff = affine.Affine.from_gdal(*aem_grid['geotransform'])"
   ]
  },
  {
   "cell_type": "code",
   "execution_count": 32,
   "metadata": {},
   "outputs": [],
   "source": [
    "arr= aem_grid['conductivity']\n",
    "\n",
    "arr[np.isnan(arr)] = null"
   ]
  },
  {
   "cell_type": "code",
   "execution_count": 36,
   "metadata": {},
   "outputs": [
    {
     "name": "stderr",
     "output_type": "stream",
     "text": [
      "DEBUG:rasterio.env:Entering env context: <rasterio.env.Env object at 0x0000029D03E2E348>\n",
      "DEBUG:rasterio.env:Starting outermost env\n",
      "DEBUG:rasterio.env:No GDAL environment exists\n",
      "DEBUG:rasterio.env:New GDAL environment <rasterio._env.GDALEnv object at 0x0000029D0288C388> created\n",
      "DEBUG:rasterio._env:GDAL_DATA found in environment: 'C:\\\\Users\\\\PCUser\\\\Anaconda3\\\\envs\\\\hydrogeol_utils\\\\Library\\\\share\\\\gdal'.\n",
      "DEBUG:rasterio._env:PROJ_LIB found in environment: 'C:\\\\Users\\\\PCUser\\\\Anaconda3\\\\envs\\\\hydrogeol_utils\\\\Library\\\\share'.\n",
      "DEBUG:rasterio._env:Started GDALEnv <rasterio._env.GDALEnv object at 0x0000029D0288C388>.\n",
      "DEBUG:rasterio.env:Got a copy of environment <rasterio._env.GDALEnv object at 0x0000029D0288C388> options\n",
      "DEBUG:rasterio.env:Entered env context: <rasterio.env.Env object at 0x0000029D03E2E348>\n",
      "DEBUG:rasterio._io:Path: UnparsedPath(path='C:\\\\Users\\\\PCUser\\\\Desktop\\\\NSC_data\\\\data\\\\AEM\\\\HE\\\\grids\\\\EK_wb_layer_grids_logCond.tif'), mode: w, driver: GTiff\n",
      "DEBUG:rasterio._io:Skipped delete for overwrite.  Dataset does not exist: b'C:\\\\Users\\\\PCUser\\\\Desktop\\\\NSC_data\\\\data\\\\AEM\\\\HE\\\\grids\\\\EK_wb_layer_grids_logCond.tif'\n",
      "DEBUG:rasterio._base:Nodata success: 1, Nodata value: -999.990000\n",
      "DEBUG:rasterio._base:Nodata success: 1, Nodata value: -999.990000\n",
      "DEBUG:rasterio._base:Nodata success: 1, Nodata value: -999.990000\n",
      "DEBUG:rasterio._base:Nodata success: 1, Nodata value: -999.990000\n",
      "DEBUG:rasterio._base:Nodata success: 1, Nodata value: -999.990000\n",
      "DEBUG:rasterio._base:Nodata success: 1, Nodata value: -999.990000\n",
      "DEBUG:rasterio._base:Nodata success: 1, Nodata value: -999.990000\n",
      "DEBUG:rasterio._base:Nodata success: 1, Nodata value: -999.990000\n",
      "DEBUG:rasterio._base:Nodata success: 1, Nodata value: -999.990000\n",
      "DEBUG:rasterio._base:Nodata success: 1, Nodata value: -999.990000\n",
      "DEBUG:rasterio._base:Nodata success: 1, Nodata value: -999.990000\n",
      "DEBUG:rasterio._base:Nodata success: 1, Nodata value: -999.990000\n",
      "DEBUG:rasterio._base:Nodata success: 1, Nodata value: -999.990000\n",
      "DEBUG:rasterio._base:Nodata success: 1, Nodata value: -999.990000\n",
      "DEBUG:rasterio._base:Nodata success: 1, Nodata value: -999.990000\n",
      "DEBUG:rasterio._base:Nodata success: 1, Nodata value: -999.990000\n",
      "DEBUG:rasterio._base:Nodata success: 1, Nodata value: -999.990000\n",
      "DEBUG:rasterio._base:Nodata success: 1, Nodata value: -999.990000\n",
      "DEBUG:rasterio._base:Nodata success: 1, Nodata value: -999.990000\n",
      "DEBUG:rasterio._base:Nodata success: 1, Nodata value: -999.990000\n",
      "DEBUG:rasterio._base:Nodata success: 1, Nodata value: -999.990000\n",
      "DEBUG:rasterio._base:Nodata success: 1, Nodata value: -999.990000\n",
      "DEBUG:rasterio._base:Nodata success: 1, Nodata value: -999.990000\n",
      "DEBUG:rasterio._base:Nodata success: 1, Nodata value: -999.990000\n",
      "DEBUG:rasterio._base:Nodata success: 1, Nodata value: -999.990000\n",
      "DEBUG:rasterio._base:Nodata success: 1, Nodata value: -999.990000\n",
      "DEBUG:rasterio._base:Nodata success: 1, Nodata value: -999.990000\n",
      "DEBUG:rasterio._base:Nodata success: 1, Nodata value: -999.990000\n",
      "DEBUG:rasterio._base:Nodata success: 1, Nodata value: -999.990000\n",
      "DEBUG:rasterio._base:Nodata success: 1, Nodata value: -999.990000\n",
      "DEBUG:rasterio.env:Exiting env context: <rasterio.env.Env object at 0x0000029D03E2E348>\n",
      "DEBUG:rasterio.env:Cleared existing <rasterio._env.GDALEnv object at 0x0000029D0288C388> options\n",
      "DEBUG:rasterio._env:Stopped GDALEnv <rasterio._env.GDALEnv object at 0x0000029D0288C388>.\n",
      "DEBUG:rasterio.env:Exiting outermost env\n",
      "DEBUG:rasterio.env:Exited env context: <rasterio.env.Env object at 0x0000029D03E2E348>\n",
      "C:\\Users\\PCUser\\Anaconda3\\envs\\hydrogeol_utils\\lib\\site-packages\\ipykernel_launcher.py:20: RuntimeWarning: invalid value encountered in log10\n"
     ]
    }
   ],
   "source": [
    "# Write into a raster\n",
    "\n",
    "import rasterio\n",
    "\n",
    "null = -999.99\n",
    "\n",
    "outfile = r\"C:\\Users\\PCUser\\Desktop\\NSC_data\\data\\AEM\\HE\\grids\\EK_wb_layer_grids_logCond.tif\"\n",
    "\n",
    "new_dataset = rasterio.open(outfile, 'w', driver='GTiff',\n",
    "                                height=aem_grid['conductivity'].shape[1], \n",
    "                                width=aem_grid['conductivity'].shape[2],\n",
    "                                count=aem_grid['conductivity'].shape[0],\n",
    "                                dtype=aem_grid['conductivity'].dtype,\n",
    "                                crs=\"EPSG:28352\",\n",
    "                                transform=aff,\n",
    "                                nodata = null\n",
    "                           )\n",
    "\n",
    "for i in range(30):\n",
    "    new_dataset.write(np.log10(aem_grid['conductivity'][i]), i+1)\n"
   ]
  },
  {
   "cell_type": "code",
   "execution_count": 37,
   "metadata": {},
   "outputs": [
    {
     "name": "stderr",
     "output_type": "stream",
     "text": [
      "DEBUG:rasterio._io:Dataset <closed DatasetWriter name='C:\\Users\\PCUser\\Desktop\\NSC_data\\data\\AEM\\HE\\grids\\EK_wb_layer_grids_logCond.tif' mode='w'> has been stopped.\n"
     ]
    }
   ],
   "source": [
    "new_dataset.close()\n"
   ]
  },
  {
   "cell_type": "code",
   "execution_count": null,
   "metadata": {},
   "outputs": [],
   "source": []
  }
 ],
 "metadata": {
  "@webio": {
   "lastCommId": null,
   "lastKernelId": null
  },
  "kernelspec": {
   "display_name": "Python 3",
   "language": "python",
   "name": "python3"
  },
  "language_info": {
   "codemirror_mode": {
    "name": "ipython",
    "version": 3
   },
   "file_extension": ".py",
   "mimetype": "text/x-python",
   "name": "python",
   "nbconvert_exporter": "python",
   "pygments_lexer": "ipython3",
   "version": "3.7.4"
  }
 },
 "nbformat": 4,
 "nbformat_minor": 2
}
