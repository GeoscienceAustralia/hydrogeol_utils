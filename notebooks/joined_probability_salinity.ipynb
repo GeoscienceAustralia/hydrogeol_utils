{
 "cells": [
  {
   "cell_type": "markdown",
   "metadata": {},
   "source": [
    "This notebook is my first attempt at stochastic estimation of salinity using rjmcmc AEM inversions and EC measurements on pore fluids collected in the East Kimberley\n"
   ]
  },
  {
   "cell_type": "code",
   "execution_count": 1,
   "metadata": {},
   "outputs": [],
   "source": [
    "%matplotlib widget"
   ]
  },
  {
   "cell_type": "code",
   "execution_count": 79,
   "metadata": {},
   "outputs": [],
   "source": [
    "import pandas as pd\n",
    "import rasterio\n",
    "from sqlite3 import dbapi2 as sqlite\n",
    "import numpy as np\n",
    "from hydrogeol_utils import SNMR_utils, AEM_utils, spatial_functions, borehole_utils, grid_utils\n",
    "from shapely.geometry import Polygon, shape\n",
    "import netCDF4\n",
    "import math\n",
    "import time\n",
    "import os, glob\n",
    "import gc\n",
    "from geophys_utils._netcdf_line_utils import NetCDFLineUtils\n",
    "from geophys_utils._netcdf_point_utils import NetCDFPointUtils\n",
    "from geophys_utils import points2convex_hull\n",
    "import rasterio\n",
    "from rasterio import Affine\n",
    "from rasterio.warp import reproject, Resampling\n",
    "from scipy import interpolate, stats\n",
    "import sqlalchemy as db\n",
    "from sqlalchemy import create_engine, event\n",
    "import matplotlib.pyplot as plt\n",
    "from hydrogeol_utils.db_utils import makeCon, closeCon\n",
    "import math"
   ]
  },
  {
   "cell_type": "code",
   "execution_count": 3,
   "metadata": {},
   "outputs": [],
   "source": [
    "# Birng the AEM data into memory\n",
    "cond_path = r\"C:\\Users\\PCUser\\Desktop\\AEM\\rjmcmc\\EastKimberley_rjmcmc.nc\"\n",
    "\n",
    "rj_dat = netCDF4.Dataset(cond_path, 'r')"
   ]
  },
  {
   "cell_type": "code",
   "execution_count": 4,
   "metadata": {},
   "outputs": [],
   "source": [
    "infile = r\"C:\\Users\\PCUser\\Desktop\\AEM\\LCI\\OrdK_WB_MGA52.nc\"\n",
    "\n",
    "lci_dat = netCDF4.Dataset(infile)\n",
    "\n",
    "lci_coords = np.column_stack((lci_dat['easting'][:],\n",
    "                          lci_dat['northing'][:]))\n",
    "\n"
   ]
  },
  {
   "cell_type": "code",
   "execution_count": 5,
   "metadata": {},
   "outputs": [
    {
     "data": {
      "image/svg+xml": [
       "<svg xmlns=\"http://www.w3.org/2000/svg\" xmlns:xlink=\"http://www.w3.org/1999/xlink\" width=\"300\" height=\"300\" viewBox=\"428190.83250008506 8245702.019944458 127992.9599998531 97011.4600025732\" preserveAspectRatio=\"xMinYMin meet\"><g transform=\"matrix(1,0,0,-1,0,16588415.49989149)\"><path fill-rule=\"evenodd\" fill=\"#66cc99\" stroke=\"#555555\" stroke-width=\"853.2863999990207\" opacity=\"0.6\" d=\"M 488128.18750001356,8250442.499944453 L 480017.00000002363,8253308.999944538 L 433773.1875000782,8278023.499945267 L 432931.3125000796,8287154.999945535 L 433001.593750078,8287538.4999455465 L 467446.3125000329,8337972.999947037 L 511489.0937499862,8337131.999947011 L 540942.1874999559,8335554.999946964 L 551443.3124999437,8332595.499946878 L 550987.624999944,8329028.999946772 L 548067.1249999468,8322763.999946587 L 523936.8124999695,8282856.999945406 L 504490.093749991,8262904.499944819 L 504189.40624999587,8262633.499944811 L 488128.18750001356,8250442.499944453 z\" /></g></svg>"
      ],
      "text/plain": [
       "<shapely.geometry.polygon.Polygon at 0x246cbc19ef0>"
      ]
     },
     "execution_count": 5,
     "metadata": {},
     "output_type": "execute_result"
    }
   ],
   "source": [
    "# Create a convex hull around the Keep River area based on line 3xxx,xxx\n",
    "\n",
    "# Initialise an instance of the netCDF point and line utility classes\n",
    "cond_line_utils = NetCDFLineUtils(rj_dat)\n",
    "cond_point_utils = NetCDFPointUtils(rj_dat)\n",
    "\n",
    "# Display the lines for the conductivity mode\n",
    "\n",
    "lines = cond_line_utils.line\n",
    "\n",
    "# Get the utm coordinates using the mask created above\n",
    "\n",
    "utm_wkt, aem_coords = cond_point_utils.utm_coords(cond_point_utils.xycoords)\n",
    "\n",
    "# Get the convex hull of the subset\n",
    "convex_hull = points2convex_hull(aem_coords)\n",
    "\n",
    "\n",
    "# Create a shapely object of the convex hull\n",
    "Keep_poly = Polygon(convex_hull)\n",
    "\n",
    "Keep_poly"
   ]
  },
  {
   "cell_type": "code",
   "execution_count": 6,
   "metadata": {},
   "outputs": [
    {
     "name": "stdout",
     "output_type": "stream",
     "text": [
      "Connected to C:\\Users\\PCUser\\Desktop\\EK_data\\Boreholes\\East_Kimberley_borehole_data.sqlite. Temporary working copy created.\n"
     ]
    }
   ],
   "source": [
    "# Extract data from the borehole spatialite database\n",
    "\n",
    "# Extract borehole data from the database\n",
    "\n",
    "DB_PATH = r\"C:\\Users\\PCUser\\Desktop\\EK_data\\Boreholes\\East_Kimberley_borehole_data.sqlite\"\n",
    "\n",
    "SPATIALITE_PATH = r'C:\\mod_spatialite-NG-win-amd64'\n",
    "\n",
    "# Add spatialite dll to path\n",
    "os.environ['PATH'] = SPATIALITE_PATH + ';' + os.environ['PATH']\n",
    "\n",
    "engine = db.create_engine('sqlite:///' + DB_PATH, module=sqlite)\n",
    "\n",
    "\n",
    "connection = makeCon(DB_PATH)"
   ]
  },
  {
   "cell_type": "code",
   "execution_count": 7,
   "metadata": {},
   "outputs": [
    {
     "name": "stdout",
     "output_type": "stream",
     "text": [
      "Select b.borehole_id, b.Easting, b.Northing, b.Ground_elevation_mAHD, b.EC_pH_acquired, b.geometry, b.geom from borehole b  where within(b.geom,GeomFromText('POLYGON ((488128.1875000136 8250442.499944453, 480017.0000000236 8253308.999944538, 433773.1875000782 8278023.499945267, 432931.3125000796 8287154.999945535, 433001.593750078 8287538.499945547, 467446.3125000329 8337972.999947037, 511489.0937499862 8337131.999947011, 540942.1874999559 8335554.999946964, 551443.3124999437 8332595.499946878, 550987.624999944 8329028.999946772, 548067.1249999468 8322763.999946587, 523936.8124999695 8282856.999945406, 504490.093749991 8262904.499944819, 504189.4062499959 8262633.499944811, 488128.1875000136 8250442.499944453))'));\n"
     ]
    }
   ],
   "source": [
    "# Extract boreholes from within this geometry\n",
    "\n",
    "df_header = borehole_utils.extract_boreholes_within_geometry('borehole', connection,\n",
    "                                                             Keep_poly.wkt, columns = ['borehole_id', 'Easting','Northing',\n",
    "                                                                                      'Ground_elevation_mAHD', 'EC_pH_acquired', 'geometry', 'geom'],\n",
    "                                                             verbose = True)\n",
    "# Keep only bores with both EC\n",
    "\n",
    "mask = df_header['EC_pH_acquired'] == 1\n",
    "\n",
    "df_header= df_header[mask]\n"
   ]
  },
  {
   "cell_type": "code",
   "execution_count": 8,
   "metadata": {},
   "outputs": [],
   "source": [
    "rj_coords = np.column_stack((rj_dat['easting'][:].data,\n",
    "                             rj_dat['northing'][:].data,))\n",
    "\n",
    "# Now get the netcdf index of the nearest point\n",
    "\n",
    "# Extract the AEM conductivity using nearest neighbour\n",
    "distances, indices = spatial_functions.nearest_neighbours(df_header[['Easting','Northing']],\n",
    "                                                          aem_coords,\n",
    "                                                          points_required = 1,# return 1 closest point\n",
    "                                                          max_distance = 250.)\n",
    "# Remove nulls which are >250m from a FID\n",
    "mask = np.isfinite(distances)\n",
    "\n",
    "enos = df_header['borehole_id'].values\n",
    "\n",
    "indices = indices[mask]\n",
    "\n",
    "df_header = df_header[mask]\n",
    "\n",
    "df_header['rj_dat_ind'] = indices\n",
    "\n",
    "\n",
    "\n",
    "lci_coords = np.column_stack((lci_dat['easting'][:].data,\n",
    "                             lci_dat['northing'][:].data,))\n",
    "\n",
    "# Extract the AEM conductivity using nearest neighbour\n",
    "distances, indices = spatial_functions.nearest_neighbours(df_header[['Easting','Northing']],\n",
    "                                                          lci_coords,\n",
    "                                                          points_required = 1,# return 1 closest point\n",
    "                                                          max_distance = 250.)\n",
    "# Remove nulls which are >250m from a FID\n",
    "mask = np.isfinite(distances)\n",
    "\n",
    "indices = indices[mask]\n",
    "df_header = df_header[mask]\n",
    "\n",
    "df_header['lci_dat_ind'] = indices\n"
   ]
  },
  {
   "cell_type": "code",
   "execution_count": 9,
   "metadata": {},
   "outputs": [
    {
     "data": {
      "text/plain": [
       "array([[ 430946. , 8293547. ],\n",
       "       [ 430965.6, 8293548.5],\n",
       "       [ 430985.6, 8293549. ],\n",
       "       ...,\n",
       "       [ 472561.7, 8291863. ],\n",
       "       [ 472536.8, 8291872.5],\n",
       "       [ 472511.7, 8291881.5]], dtype=float32)"
      ]
     },
     "execution_count": 9,
     "metadata": {},
     "output_type": "execute_result"
    }
   ],
   "source": [
    "lci_coords"
   ]
  },
  {
   "cell_type": "code",
   "execution_count": 10,
   "metadata": {},
   "outputs": [
    {
     "name": "stdout",
     "output_type": "stream",
     "text": [
      "select t.Depth, t.EC, t.borehole_id from pore_fluid_EC_pH t where t.borehole_id in (635728,635730,635733,635734,635735,635737,635738,635739,635740,635741,635742,635744,635747,635748,635749,635921);\n"
     ]
    }
   ],
   "source": [
    "# First import all the datasets based on our enos (primary key)\n",
    "\n",
    "df_EC = borehole_utils.extract_sql_with_primary_key(\"pore_fluid_EC_pH\", \n",
    "                                                       ['Depth', 'EC', 'borehole_id'],\n",
    "                                                       connection, enos, verbose = True).merge(df_header, on = 'borehole_id')\n",
    "\n",
    "#df_EC['EC_uncert'] = 0.05 * df_EC['EC'].values"
   ]
  },
  {
   "cell_type": "code",
   "execution_count": 114,
   "metadata": {},
   "outputs": [],
   "source": [
    "def extract_data():\n",
    "    \"\"\"\n",
    "    FUnction for extracting all the AEM data from the netCDF files\n",
    "    \"\"\"\n",
    "\n",
    "    freq = rj_dat['conducitivty_bin_count'][point_ind_rj].data.astype(np.float)\n",
    "\n",
    "    cond_pdf = freq / freq.sum(axis =1)[0]\n",
    "\n",
    "    cond_pdf[cond_pdf == 0] = np.nan\n",
    "    \n",
    "    cp_freq = rj_dat['change_point'][point_ind_rj].data.astype(np.float)\n",
    "    \n",
    "    cp_pdf = cp_freq / freq.sum(axis =1)[0]\n",
    "    \n",
    "    laybins = rj_dat['nlayer_bin_count'][point_ind_rj].data\n",
    "    \n",
    "    lay_prob = laybins / freq.sum(axis =1)[0]\n",
    "    \n",
    "    cond_cells = rj_dat[\"conductivity_cells\"][:].data\n",
    "    \n",
    "    depth_cells = rj_dat['layer_top_depth'][point_ind_rj].data\n",
    "    \n",
    "    extent = [cond_cells.min(), cond_cells.max(), depth_cells.max(), depth_cells.min()]\n",
    "    \n",
    "    mean = rj_dat['conductivity_mean'][point_ind_rj].data\n",
    "    p10 = rj_dat['conductivity_p10'][point_ind_rj].data\n",
    "    p50 = rj_dat['conductivity_p50'][point_ind_rj].data\n",
    "    p90 = rj_dat['conductivity_p90'][point_ind_rj].data\n",
    "    \n",
    "    lci_cond = lci_dat['conductivity'][point_ind_lci].data\n",
    "    lci_depth_top = lci_dat['layer_top_depth'][point_ind_lci].data\n",
    "    \n",
    "    lci_doi = lci_dat['depth_of_investigation'][point_ind_lci].data\n",
    "    \n",
    "    misfit = rj_dat['misfit'][point_ind_rj].data\n",
    "    sample_no = rj_dat['rj_sample_number'][:].data\n",
    "    \n",
    "    burnin = rj_dat[\"nburnin\"][point_ind_rj].data\n",
    "    nsamples = rj_dat['nsamples'][point_ind_rj].data\n",
    "    nchains = rj_dat['nchains'][point_ind_rj].data\n",
    "    \n",
    "    line_ind = rj_dat['line_index'][point_ind_rj].data\n",
    "    line = int(rj_dat['line'][line_ind].data)\n",
    "    \n",
    "    return {'conductivity_pdf': cond_pdf, \"change_point_pdf\": cp_pdf, \"conductivity_extent\": extent,\n",
    "           'cond_p10': p10, 'cond_p50': p50, 'cond_p90': p90, 'cond_mean': mean, 'depth_cells': depth_cells,\n",
    "           'nlayer_bins': laybins, 'nlayer_prob': lay_prob, 'nsamples': nsamples, 'ndata': rj_dat['n_data'][:].data,\n",
    "           \"nchains\": nchains, 'burnin': burnin, 'misfit': misfit, 'sample_no': sample_no, 'cond_cells': cond_cells, 'lci_cond': lci_cond,\n",
    "           'lci_depth_top': lci_depth_top, 'lci_doi': lci_doi, 'line': line}\n",
    "\n",
    "def EC_plot(D, df_boreEC, outfile = None):\n",
    "    fig = plt.figure(figsize = (12,10))\n",
    "\n",
    "    # These are for interactive widget mode\n",
    "    fig.canvas.layout.width = '6in'\n",
    "    fig.canvas.layout.height= '5in'\n",
    "\n",
    "    ax1 = fig.add_axes([0.05, 0.1, 0.35, 0.8])\n",
    "    ax2 = fig.add_axes([0.45, 0.1, 0.2, 0.8])\n",
    "    ax3 = fig.add_axes([0.70, 0.52, 0.2, 0.2])\n",
    "    ax4 = fig.add_axes([0.72, 0.32, 0.16, 0.16])\n",
    "    cbar_ax1 = fig.add_axes([0.05, 0.05, 0.35, 0.01])\n",
    "\n",
    "\n",
    "    # Plot probability map\n",
    "    \n",
    "    im = ax1.imshow(D['conductivity_pdf'], extent = D['conductivity_extent'],\n",
    "                    aspect = 'auto', cmap = 'rainbow')\n",
    "    \n",
    "    #  PLot the median, and percentile plots\n",
    "    ax1.plot(np.log10(D['cond_p10']), D['depth_cells'], c = 'k',linestyle='dashed', label = 'p10')\n",
    "    ax1.plot(np.log10(D['cond_p90']), D['depth_cells'], c = 'k',linestyle='dashed', label = 'p90')\n",
    "    ax1.plot(np.log10(D['cond_p50']), D['depth_cells'], c = 'k',label = 'p50')\n",
    "    ax1.plot(np.log10(D['cond_mean']), D['depth_cells'], c = 'grey',label = 'mean')\n",
    "    \n",
    "    ax1.set_xticklabels([round(10 ** float(x), 4) for x in ax1.get_xticks()])\n",
    "\n",
    "    # for lci layered model we do some processing\n",
    "    lci_expanded = np.zeros(shape=2 * len(D['lci_cond']) + 1,\n",
    "                                 dtype=np.float)\n",
    "\n",
    "    lci_expanded[1:] = np.repeat(D['lci_cond'], 2)\n",
    "\n",
    "    depth_expanded = (np.max(D['lci_depth_top']) + 10) * np.ones(shape=len(lci_expanded),\n",
    "                                                            dtype=np.float)\n",
    "\n",
    "    depth_expanded[:-1] = np.repeat(D['lci_depth_top'], 2)\n",
    "\n",
    "    ax1.plot(np.log10(lci_expanded), depth_expanded, c = 'pink',\n",
    "             linestyle = 'dashed', label = 'lci')\n",
    "    ax1.plot(ax1.get_xlim(), [D['lci_doi'], D['lci_doi']], c = 'yellow',\n",
    "             label = 'LCI doi')\n",
    "    ax1.set_title('rj-MCMC probability map')\n",
    "    ax1.set_ylabel('depth (mBGL)')\n",
    "    ax1.set_xlabel('Conductivity (S/m)')\n",
    "    ax1.grid(which = 'both')\n",
    "\n",
    "    ax1.legend(loc = 3)\n",
    "    \n",
    "    # Add EC to the plot\n",
    "    \n",
    "    logEC = np.log10(df_boreEC['EC'].values)\n",
    "    EC_depth = df_boreEC['Depth'].values\n",
    "    \n",
    "    ax1.scatter(logEC, EC_depth, c = 'k', marker = '+')\n",
    "    \n",
    "    lims = np.concatenate((logEC, np.array(ax1.get_xlim())))\n",
    "    \n",
    "    ax1.set_xlim(np.min(lims) - 0.5, np.max(lims) + 0.5)\n",
    "\n",
    "    ax2.plot(D['change_point_pdf'], D['depth_cells'], label = 'P(change point)')\n",
    "    ax2.set_ylim(ax2.get_ylim()[::-1])\n",
    "    ax2.set_yticks(np.arange(0, 500, 20.))\n",
    "    ax2.set_title('change point probability')\n",
    "    ax2.set_ylim(D['conductivity_extent'][2], D['conductivity_extent'][3])#(100.,0)\n",
    "    ax2.legend()\n",
    "    ax2.grid(which = 'both')\n",
    "    \n",
    "    ax1.set_ylim(np.max(EC_depth + 10), 0.)\n",
    "\n",
    "    sample = D['sample_no'][:]\n",
    "    \n",
    "    # Ax3 can be for number of layers\n",
    "    \n",
    "    ax3.bar(rj_dat['nlayers_cells'][:].data, height = D['nlayer_prob'])\n",
    "    ax3.set_xlabel (\"no of layers\")\n",
    "    \n",
    "    # Add the misfit\n",
    "    for i in range(D['misfit'].shape[0]):\n",
    "       \n",
    "        misfits = D['misfit'][i]\n",
    "        ax4.plot(sample, misfits/D['ndata'])\n",
    "\n",
    "    ax4.plot([1, D['nsamples']], [1,1], 'k')\n",
    "    ax4.plot([D['burnin'], D['burnin']],[0.1,1e4], 'k')\n",
    "    ax4.set_xlim([1, D['nsamples']])\n",
    "    ax4.set_ylim(0.1, 1e4)\n",
    "\n",
    "    ax4.set_xscale('log')\n",
    "    ax4.set_yscale('log')\n",
    "\n",
    "    ax4.set_xlabel(\"sample #\")\n",
    "    ax4.set_ylabel(\"Normalised misfit\")\n",
    "    \n",
    "    cb1 = fig.colorbar(im, cax=cbar_ax1, orientation='horizontal')\n",
    "    cb1.set_label('probabilitiy', fontsize=10)\n",
    "    \n",
    "    # Add any existing splits\n",
    "    \n",
    "    for item in picks:\n",
    "        if item[0] == bore_id:\n",
    "            ax1.plot(ax1.get_xlim(), [item[1], item[1]], c = 'green',\n",
    "                     label = 'split')\n",
    "    \n",
    "    return fig\n",
    "\n",
    "\n",
    "picks = []\n",
    "\n",
    "def onclick(event):\n",
    "    if event.xdata != None and event.ydata != None:\n",
    "        picks.append([bore_id, np.round(event.ydata/2.,0)*2])"
   ]
  },
  {
   "cell_type": "code",
   "execution_count": 121,
   "metadata": {},
   "outputs": [
    {
     "data": {
      "text/plain": [
       "[[635728, 12.0],\n",
       " [635728, 22.0],\n",
       " [635728, 30.0],\n",
       " [635730, 2.0],\n",
       " [635730, 14.0],\n",
       " [635730, 24.0],\n",
       " [635730, 34.0],\n",
       " [635730, 40.0]]"
      ]
     },
     "execution_count": 121,
     "metadata": {},
     "output_type": "execute_result"
    }
   ],
   "source": [
    "bores = df_EC['borehole_id'].unique()"
   ]
  },
  {
   "cell_type": "code",
   "execution_count": 118,
   "metadata": {},
   "outputs": [
    {
     "name": "stdout",
     "output_type": "stream",
     "text": [
      "83\n"
     ]
    },
    {
     "data": {
      "application/vnd.jupyter.widget-view+json": {
       "model_id": "abd450c6c76c4b128d2011f87ddcd037",
       "version_major": 2,
       "version_minor": 0
      },
      "text/plain": [
       "Canvas(toolbar=Toolbar(toolitems=[('Home', 'Reset original view', 'home', 'home'), ('Back', 'Back to previous …"
      ]
     },
     "metadata": {},
     "output_type": "display_data"
    },
    {
     "name": "stderr",
     "output_type": "stream",
     "text": [
      "C:\\Users\\PCUser\\Anaconda3\\envs\\hydrogeol_utils\\lib\\site-packages\\ipykernel_launcher.py:90: RuntimeWarning: divide by zero encountered in log10\n"
     ]
    }
   ],
   "source": [
    "\n",
    "plt.close('all')\n",
    "\n",
    "bore_id = bores[0]\n",
    "\n",
    "mask = df_EC['borehole_id'] == bore_id\n",
    "\n",
    "print(len(df_EC['borehole_id'][mask]))\n",
    "\n",
    "point_ind_rj = df_EC[mask]['rj_dat_ind'].iloc[0]\n",
    "\n",
    "point_ind_lci = df_EC[mask]['lci_dat_ind'].iloc[0]\n",
    "\n",
    "D = extract_data()\n",
    "\n",
    "fig = EC_plot(D, df_EC[mask],\n",
    "        outfile = None)\n",
    "\n",
    "cid = fig.canvas.mpl_connect('button_press_event', onclick)\n",
    "\n",
    "plt.show()"
   ]
  },
  {
   "cell_type": "code",
   "execution_count": 120,
   "metadata": {},
   "outputs": [
    {
     "name": "stdout",
     "output_type": "stream",
     "text": [
      "87\n"
     ]
    },
    {
     "data": {
      "application/vnd.jupyter.widget-view+json": {
       "model_id": "929ce8751aa04958a87f2954e1fcfc2a",
       "version_major": 2,
       "version_minor": 0
      },
      "text/plain": [
       "Canvas(toolbar=Toolbar(toolitems=[('Home', 'Reset original view', 'home', 'home'), ('Back', 'Back to previous …"
      ]
     },
     "metadata": {},
     "output_type": "display_data"
    },
    {
     "name": "stderr",
     "output_type": "stream",
     "text": [
      "C:\\Users\\PCUser\\Anaconda3\\envs\\hydrogeol_utils\\lib\\site-packages\\ipykernel_launcher.py:90: RuntimeWarning: divide by zero encountered in log10\n"
     ]
    }
   ],
   "source": [
    "\n",
    "#plt.close('all')\n",
    "\n",
    "bore_id = bores[1]\n",
    "\n",
    "mask = df_EC['borehole_id'] == bore_id\n",
    "\n",
    "print(len(df_EC['borehole_id'][mask]))\n",
    "\n",
    "point_ind_rj = df_EC[mask]['rj_dat_ind'].iloc[0]\n",
    "\n",
    "point_ind_lci = df_EC[mask]['lci_dat_ind'].iloc[0]\n",
    "\n",
    "D = extract_data()\n",
    "\n",
    "fig = EC_plot(D, df_EC[mask],\n",
    "        outfile = None)\n",
    "\n",
    "cid = fig.canvas.mpl_connect('button_press_event', onclick)\n",
    "\n",
    "plt.show()"
   ]
  },
  {
   "cell_type": "code",
   "execution_count": 123,
   "metadata": {},
   "outputs": [
    {
     "name": "stdout",
     "output_type": "stream",
     "text": [
      "43\n"
     ]
    },
    {
     "data": {
      "application/vnd.jupyter.widget-view+json": {
       "model_id": "60ba571c92d74affb96a7554000bb667",
       "version_major": 2,
       "version_minor": 0
      },
      "text/plain": [
       "Canvas(toolbar=Toolbar(toolitems=[('Home', 'Reset original view', 'home', 'home'), ('Back', 'Back to previous …"
      ]
     },
     "metadata": {},
     "output_type": "display_data"
    },
    {
     "name": "stderr",
     "output_type": "stream",
     "text": [
      "C:\\Users\\PCUser\\Anaconda3\\envs\\hydrogeol_utils\\lib\\site-packages\\ipykernel_launcher.py:90: RuntimeWarning: divide by zero encountered in log10\n"
     ]
    }
   ],
   "source": [
    "\n",
    "#plt.close('all')\n",
    "\n",
    "bore_id = bores[2]\n",
    "\n",
    "mask = df_EC['borehole_id'] == bore_id\n",
    "\n",
    "print(len(df_EC['borehole_id'][mask]))\n",
    "\n",
    "point_ind_rj = df_EC[mask]['rj_dat_ind'].iloc[0]\n",
    "\n",
    "point_ind_lci = df_EC[mask]['lci_dat_ind'].iloc[0]\n",
    "\n",
    "D = extract_data()\n",
    "\n",
    "fig = EC_plot(D, df_EC[mask],\n",
    "        outfile = None)\n",
    "\n",
    "cid = fig.canvas.mpl_connect('button_press_event', onclick)\n",
    "\n",
    "plt.show()"
   ]
  },
  {
   "cell_type": "code",
   "execution_count": 125,
   "metadata": {},
   "outputs": [
    {
     "name": "stdout",
     "output_type": "stream",
     "text": [
      "61\n"
     ]
    },
    {
     "data": {
      "application/vnd.jupyter.widget-view+json": {
       "model_id": "93928919b7d141c8a921ad8e26de16d1",
       "version_major": 2,
       "version_minor": 0
      },
      "text/plain": [
       "Canvas(toolbar=Toolbar(toolitems=[('Home', 'Reset original view', 'home', 'home'), ('Back', 'Back to previous …"
      ]
     },
     "metadata": {},
     "output_type": "display_data"
    },
    {
     "name": "stderr",
     "output_type": "stream",
     "text": [
      "C:\\Users\\PCUser\\Anaconda3\\envs\\hydrogeol_utils\\lib\\site-packages\\ipykernel_launcher.py:90: RuntimeWarning: divide by zero encountered in log10\n"
     ]
    }
   ],
   "source": [
    "\n",
    "#plt.close('all')\n",
    "\n",
    "bore_id = bores[3]\n",
    "\n",
    "mask = df_EC['borehole_id'] == bore_id\n",
    "\n",
    "print(len(df_EC['borehole_id'][mask]))\n",
    "\n",
    "point_ind_rj = df_EC[mask]['rj_dat_ind'].iloc[0]\n",
    "\n",
    "point_ind_lci = df_EC[mask]['lci_dat_ind'].iloc[0]\n",
    "\n",
    "D = extract_data()\n",
    "\n",
    "fig = EC_plot(D, df_EC[mask],\n",
    "        outfile = None)\n",
    "\n",
    "cid = fig.canvas.mpl_connect('button_press_event', onclick)\n",
    "\n",
    "plt.show()"
   ]
  },
  {
   "cell_type": "code",
   "execution_count": 127,
   "metadata": {},
   "outputs": [
    {
     "name": "stdout",
     "output_type": "stream",
     "text": [
      "73\n"
     ]
    },
    {
     "data": {
      "application/vnd.jupyter.widget-view+json": {
       "model_id": "c700ab83f1344b52af9c7e7b79fa3365",
       "version_major": 2,
       "version_minor": 0
      },
      "text/plain": [
       "Canvas(toolbar=Toolbar(toolitems=[('Home', 'Reset original view', 'home', 'home'), ('Back', 'Back to previous …"
      ]
     },
     "metadata": {},
     "output_type": "display_data"
    },
    {
     "name": "stderr",
     "output_type": "stream",
     "text": [
      "C:\\Users\\PCUser\\Anaconda3\\envs\\hydrogeol_utils\\lib\\site-packages\\ipykernel_launcher.py:90: RuntimeWarning: divide by zero encountered in log10\n"
     ]
    }
   ],
   "source": [
    "\n",
    "#plt.close('all')\n",
    "\n",
    "bore_id = bores[4]\n",
    "\n",
    "mask = df_EC['borehole_id'] == bore_id\n",
    "\n",
    "print(len(df_EC['borehole_id'][mask]))\n",
    "\n",
    "point_ind_rj = df_EC[mask]['rj_dat_ind'].iloc[0]\n",
    "\n",
    "point_ind_lci = df_EC[mask]['lci_dat_ind'].iloc[0]\n",
    "\n",
    "D = extract_data()\n",
    "\n",
    "fig = EC_plot(D, df_EC[mask],\n",
    "        outfile = None)\n",
    "\n",
    "cid = fig.canvas.mpl_connect('button_press_event', onclick)\n",
    "\n",
    "plt.show()"
   ]
  },
  {
   "cell_type": "code",
   "execution_count": 129,
   "metadata": {},
   "outputs": [
    {
     "name": "stdout",
     "output_type": "stream",
     "text": [
      "19\n"
     ]
    },
    {
     "data": {
      "application/vnd.jupyter.widget-view+json": {
       "model_id": "8f1d5f0ded5846d79f59719f999bd34c",
       "version_major": 2,
       "version_minor": 0
      },
      "text/plain": [
       "Canvas(toolbar=Toolbar(toolitems=[('Home', 'Reset original view', 'home', 'home'), ('Back', 'Back to previous …"
      ]
     },
     "metadata": {},
     "output_type": "display_data"
    },
    {
     "name": "stderr",
     "output_type": "stream",
     "text": [
      "C:\\Users\\PCUser\\Anaconda3\\envs\\hydrogeol_utils\\lib\\site-packages\\ipykernel_launcher.py:90: RuntimeWarning: divide by zero encountered in log10\n"
     ]
    }
   ],
   "source": [
    "\n",
    "#plt.close('all')\n",
    "\n",
    "bore_id = bores[5]\n",
    "\n",
    "mask = df_EC['borehole_id'] == bore_id\n",
    "\n",
    "print(len(df_EC['borehole_id'][mask]))\n",
    "\n",
    "point_ind_rj = df_EC[mask]['rj_dat_ind'].iloc[0]\n",
    "\n",
    "point_ind_lci = df_EC[mask]['lci_dat_ind'].iloc[0]\n",
    "\n",
    "D = extract_data()\n",
    "\n",
    "fig = EC_plot(D, df_EC[mask],\n",
    "        outfile = None)\n",
    "\n",
    "cid = fig.canvas.mpl_connect('button_press_event', onclick)\n",
    "\n",
    "plt.show()"
   ]
  },
  {
   "cell_type": "code",
   "execution_count": 131,
   "metadata": {},
   "outputs": [
    {
     "name": "stdout",
     "output_type": "stream",
     "text": [
      "84\n"
     ]
    },
    {
     "data": {
      "application/vnd.jupyter.widget-view+json": {
       "model_id": "70cd436c294645629c19d97837115311",
       "version_major": 2,
       "version_minor": 0
      },
      "text/plain": [
       "Canvas(toolbar=Toolbar(toolitems=[('Home', 'Reset original view', 'home', 'home'), ('Back', 'Back to previous …"
      ]
     },
     "metadata": {},
     "output_type": "display_data"
    },
    {
     "name": "stderr",
     "output_type": "stream",
     "text": [
      "C:\\Users\\PCUser\\Anaconda3\\envs\\hydrogeol_utils\\lib\\site-packages\\ipykernel_launcher.py:90: RuntimeWarning: divide by zero encountered in log10\n"
     ]
    }
   ],
   "source": [
    "\n",
    "#plt.close('all')\n",
    "\n",
    "bore_id = bores[6]\n",
    "\n",
    "mask = df_EC['borehole_id'] == bore_id\n",
    "\n",
    "print(len(df_EC['borehole_id'][mask]))\n",
    "\n",
    "point_ind_rj = df_EC[mask]['rj_dat_ind'].iloc[0]\n",
    "\n",
    "point_ind_lci = df_EC[mask]['lci_dat_ind'].iloc[0]\n",
    "\n",
    "D = extract_data()\n",
    "\n",
    "fig = EC_plot(D, df_EC[mask],\n",
    "        outfile = None)\n",
    "\n",
    "cid = fig.canvas.mpl_connect('button_press_event', onclick)\n",
    "\n",
    "plt.show()"
   ]
  },
  {
   "cell_type": "code",
   "execution_count": 133,
   "metadata": {},
   "outputs": [
    {
     "name": "stdout",
     "output_type": "stream",
     "text": [
      "48\n"
     ]
    },
    {
     "data": {
      "application/vnd.jupyter.widget-view+json": {
       "model_id": "c61b0946e74248d4b36ee93e3d35c5dc",
       "version_major": 2,
       "version_minor": 0
      },
      "text/plain": [
       "Canvas(toolbar=Toolbar(toolitems=[('Home', 'Reset original view', 'home', 'home'), ('Back', 'Back to previous …"
      ]
     },
     "metadata": {},
     "output_type": "display_data"
    },
    {
     "name": "stderr",
     "output_type": "stream",
     "text": [
      "C:\\Users\\PCUser\\Anaconda3\\envs\\hydrogeol_utils\\lib\\site-packages\\ipykernel_launcher.py:90: RuntimeWarning: divide by zero encountered in log10\n"
     ]
    }
   ],
   "source": [
    "bore_id = bores[7]\n",
    "\n",
    "mask = df_EC['borehole_id'] == bore_id\n",
    "\n",
    "print(len(df_EC['borehole_id'][mask]))\n",
    "\n",
    "point_ind_rj = df_EC[mask]['rj_dat_ind'].iloc[0]\n",
    "\n",
    "point_ind_lci = df_EC[mask]['lci_dat_ind'].iloc[0]\n",
    "\n",
    "D = extract_data()\n",
    "\n",
    "fig = EC_plot(D, df_EC[mask],\n",
    "        outfile = None)\n",
    "\n",
    "cid = fig.canvas.mpl_connect('button_press_event', onclick)\n",
    "\n",
    "plt.show()"
   ]
  },
  {
   "cell_type": "code",
   "execution_count": 135,
   "metadata": {},
   "outputs": [
    {
     "name": "stdout",
     "output_type": "stream",
     "text": [
      "40\n"
     ]
    },
    {
     "data": {
      "application/vnd.jupyter.widget-view+json": {
       "model_id": "38f6e94790ae43f6bcdd570141fff953",
       "version_major": 2,
       "version_minor": 0
      },
      "text/plain": [
       "Canvas(toolbar=Toolbar(toolitems=[('Home', 'Reset original view', 'home', 'home'), ('Back', 'Back to previous …"
      ]
     },
     "metadata": {},
     "output_type": "display_data"
    },
    {
     "name": "stderr",
     "output_type": "stream",
     "text": [
      "C:\\Users\\PCUser\\Anaconda3\\envs\\hydrogeol_utils\\lib\\site-packages\\ipykernel_launcher.py:90: RuntimeWarning: divide by zero encountered in log10\n"
     ]
    }
   ],
   "source": [
    "bore_id = bores[8]\n",
    "\n",
    "mask = df_EC['borehole_id'] == bore_id\n",
    "\n",
    "print(len(df_EC['borehole_id'][mask]))\n",
    "\n",
    "point_ind_rj = df_EC[mask]['rj_dat_ind'].iloc[0]\n",
    "\n",
    "point_ind_lci = df_EC[mask]['lci_dat_ind'].iloc[0]\n",
    "\n",
    "D = extract_data()\n",
    "\n",
    "fig = EC_plot(D, df_EC[mask],\n",
    "        outfile = None)\n",
    "\n",
    "cid = fig.canvas.mpl_connect('button_press_event', onclick)\n",
    "\n",
    "plt.show()"
   ]
  },
  {
   "cell_type": "code",
   "execution_count": 137,
   "metadata": {},
   "outputs": [
    {
     "name": "stdout",
     "output_type": "stream",
     "text": [
      "61\n"
     ]
    },
    {
     "data": {
      "application/vnd.jupyter.widget-view+json": {
       "model_id": "427faeefb367414e84f72eeab58f4be5",
       "version_major": 2,
       "version_minor": 0
      },
      "text/plain": [
       "Canvas(toolbar=Toolbar(toolitems=[('Home', 'Reset original view', 'home', 'home'), ('Back', 'Back to previous …"
      ]
     },
     "metadata": {},
     "output_type": "display_data"
    },
    {
     "name": "stderr",
     "output_type": "stream",
     "text": [
      "C:\\Users\\PCUser\\Anaconda3\\envs\\hydrogeol_utils\\lib\\site-packages\\ipykernel_launcher.py:90: RuntimeWarning: divide by zero encountered in log10\n"
     ]
    }
   ],
   "source": [
    "bore_id = bores[9]\n",
    "\n",
    "mask = df_EC['borehole_id'] == bore_id\n",
    "\n",
    "print(len(df_EC['borehole_id'][mask]))\n",
    "\n",
    "point_ind_rj = df_EC[mask]['rj_dat_ind'].iloc[0]\n",
    "\n",
    "point_ind_lci = df_EC[mask]['lci_dat_ind'].iloc[0]\n",
    "\n",
    "D = extract_data()\n",
    "\n",
    "fig = EC_plot(D, df_EC[mask],\n",
    "        outfile = None)\n",
    "\n",
    "cid = fig.canvas.mpl_connect('button_press_event', onclick)\n",
    "\n",
    "plt.show()"
   ]
  },
  {
   "cell_type": "code",
   "execution_count": 141,
   "metadata": {},
   "outputs": [
    {
     "name": "stdout",
     "output_type": "stream",
     "text": [
      "58\n"
     ]
    },
    {
     "name": "stderr",
     "output_type": "stream",
     "text": [
      "C:\\Users\\PCUser\\Anaconda3\\envs\\hydrogeol_utils\\lib\\site-packages\\ipykernel_launcher.py:53: RuntimeWarning: More than 20 figures have been opened. Figures created through the pyplot interface (`matplotlib.pyplot.figure`) are retained until explicitly closed and may consume too much memory. (To control this warning, see the rcParam `figure.max_open_warning`).\n"
     ]
    },
    {
     "data": {
      "application/vnd.jupyter.widget-view+json": {
       "model_id": "37296003c2a54f5f8bfcd0b26b30bc33",
       "version_major": 2,
       "version_minor": 0
      },
      "text/plain": [
       "Canvas(toolbar=Toolbar(toolitems=[('Home', 'Reset original view', 'home', 'home'), ('Back', 'Back to previous …"
      ]
     },
     "metadata": {},
     "output_type": "display_data"
    },
    {
     "name": "stderr",
     "output_type": "stream",
     "text": [
      "C:\\Users\\PCUser\\Anaconda3\\envs\\hydrogeol_utils\\lib\\site-packages\\ipykernel_launcher.py:90: RuntimeWarning: divide by zero encountered in log10\n"
     ]
    }
   ],
   "source": [
    "bore_id = bores[10]\n",
    "\n",
    "mask = df_EC['borehole_id'] == bore_id\n",
    "\n",
    "print(len(df_EC['borehole_id'][mask]))\n",
    "\n",
    "point_ind_rj = df_EC[mask]['rj_dat_ind'].iloc[0]\n",
    "\n",
    "point_ind_lci = df_EC[mask]['lci_dat_ind'].iloc[0]\n",
    "\n",
    "D = extract_data()\n",
    "\n",
    "fig = EC_plot(D, df_EC[mask].dropna(),\n",
    "        outfile = None)\n",
    "\n",
    "cid = fig.canvas.mpl_connect('button_press_event', onclick)\n",
    "\n",
    "plt.show()"
   ]
  },
  {
   "cell_type": "code",
   "execution_count": 143,
   "metadata": {},
   "outputs": [
    {
     "name": "stdout",
     "output_type": "stream",
     "text": [
      "46\n"
     ]
    },
    {
     "name": "stderr",
     "output_type": "stream",
     "text": [
      "C:\\Users\\PCUser\\Anaconda3\\envs\\hydrogeol_utils\\lib\\site-packages\\ipykernel_launcher.py:53: RuntimeWarning: More than 20 figures have been opened. Figures created through the pyplot interface (`matplotlib.pyplot.figure`) are retained until explicitly closed and may consume too much memory. (To control this warning, see the rcParam `figure.max_open_warning`).\n"
     ]
    },
    {
     "data": {
      "application/vnd.jupyter.widget-view+json": {
       "model_id": "04ba62d2bc6c4c47bbe20921908d4e71",
       "version_major": 2,
       "version_minor": 0
      },
      "text/plain": [
       "Canvas(toolbar=Toolbar(toolitems=[('Home', 'Reset original view', 'home', 'home'), ('Back', 'Back to previous …"
      ]
     },
     "metadata": {},
     "output_type": "display_data"
    },
    {
     "name": "stderr",
     "output_type": "stream",
     "text": [
      "C:\\Users\\PCUser\\Anaconda3\\envs\\hydrogeol_utils\\lib\\site-packages\\ipykernel_launcher.py:90: RuntimeWarning: divide by zero encountered in log10\n"
     ]
    }
   ],
   "source": [
    "bore_id = bores[11]\n",
    "\n",
    "mask = df_EC['borehole_id'] == bore_id\n",
    "\n",
    "print(len(df_EC['borehole_id'][mask]))\n",
    "\n",
    "point_ind_rj = df_EC[mask]['rj_dat_ind'].iloc[0]\n",
    "\n",
    "point_ind_lci = df_EC[mask]['lci_dat_ind'].iloc[0]\n",
    "\n",
    "D = extract_data()\n",
    "\n",
    "fig = EC_plot(D, df_EC[mask].dropna(),\n",
    "        outfile = None)\n",
    "\n",
    "cid = fig.canvas.mpl_connect('button_press_event', onclick)\n",
    "\n",
    "plt.show()"
   ]
  },
  {
   "cell_type": "code",
   "execution_count": 145,
   "metadata": {},
   "outputs": [
    {
     "name": "stdout",
     "output_type": "stream",
     "text": [
      "43\n"
     ]
    },
    {
     "name": "stderr",
     "output_type": "stream",
     "text": [
      "C:\\Users\\PCUser\\Anaconda3\\envs\\hydrogeol_utils\\lib\\site-packages\\ipykernel_launcher.py:53: RuntimeWarning: More than 20 figures have been opened. Figures created through the pyplot interface (`matplotlib.pyplot.figure`) are retained until explicitly closed and may consume too much memory. (To control this warning, see the rcParam `figure.max_open_warning`).\n"
     ]
    },
    {
     "data": {
      "application/vnd.jupyter.widget-view+json": {
       "model_id": "bdf62af2084c49f4af05b237268c2f0a",
       "version_major": 2,
       "version_minor": 0
      },
      "text/plain": [
       "Canvas(toolbar=Toolbar(toolitems=[('Home', 'Reset original view', 'home', 'home'), ('Back', 'Back to previous …"
      ]
     },
     "metadata": {},
     "output_type": "display_data"
    },
    {
     "name": "stderr",
     "output_type": "stream",
     "text": [
      "C:\\Users\\PCUser\\Anaconda3\\envs\\hydrogeol_utils\\lib\\site-packages\\ipykernel_launcher.py:90: RuntimeWarning: divide by zero encountered in log10\n"
     ]
    }
   ],
   "source": [
    "bore_id = bores[12]\n",
    "\n",
    "mask = df_EC['borehole_id'] == bore_id\n",
    "\n",
    "print(len(df_EC['borehole_id'][mask]))\n",
    "\n",
    "point_ind_rj = df_EC[mask]['rj_dat_ind'].iloc[0]\n",
    "\n",
    "point_ind_lci = df_EC[mask]['lci_dat_ind'].iloc[0]\n",
    "\n",
    "D = extract_data()\n",
    "\n",
    "fig = EC_plot(D, df_EC[mask].dropna(),\n",
    "        outfile = None)\n",
    "\n",
    "cid = fig.canvas.mpl_connect('button_press_event', onclick)\n",
    "\n",
    "plt.show()"
   ]
  },
  {
   "cell_type": "code",
   "execution_count": 147,
   "metadata": {},
   "outputs": [
    {
     "name": "stdout",
     "output_type": "stream",
     "text": [
      "32\n"
     ]
    },
    {
     "name": "stderr",
     "output_type": "stream",
     "text": [
      "C:\\Users\\PCUser\\Anaconda3\\envs\\hydrogeol_utils\\lib\\site-packages\\ipykernel_launcher.py:53: RuntimeWarning: More than 20 figures have been opened. Figures created through the pyplot interface (`matplotlib.pyplot.figure`) are retained until explicitly closed and may consume too much memory. (To control this warning, see the rcParam `figure.max_open_warning`).\n"
     ]
    },
    {
     "data": {
      "application/vnd.jupyter.widget-view+json": {
       "model_id": "f3c602f0d32c48d4836b304ee96c6166",
       "version_major": 2,
       "version_minor": 0
      },
      "text/plain": [
       "Canvas(toolbar=Toolbar(toolitems=[('Home', 'Reset original view', 'home', 'home'), ('Back', 'Back to previous …"
      ]
     },
     "metadata": {},
     "output_type": "display_data"
    },
    {
     "name": "stderr",
     "output_type": "stream",
     "text": [
      "C:\\Users\\PCUser\\Anaconda3\\envs\\hydrogeol_utils\\lib\\site-packages\\ipykernel_launcher.py:90: RuntimeWarning: divide by zero encountered in log10\n"
     ]
    }
   ],
   "source": [
    "bore_id = bores[13]\n",
    "\n",
    "mask = df_EC['borehole_id'] == bore_id\n",
    "\n",
    "print(len(df_EC['borehole_id'][mask]))\n",
    "\n",
    "point_ind_rj = df_EC[mask]['rj_dat_ind'].iloc[0]\n",
    "\n",
    "point_ind_lci = df_EC[mask]['lci_dat_ind'].iloc[0]\n",
    "\n",
    "D = extract_data()\n",
    "\n",
    "fig = EC_plot(D, df_EC[mask].dropna(),\n",
    "        outfile = None)\n",
    "\n",
    "cid = fig.canvas.mpl_connect('button_press_event', onclick)\n",
    "\n",
    "plt.show()"
   ]
  },
  {
   "cell_type": "code",
   "execution_count": 148,
   "metadata": {},
   "outputs": [],
   "source": [
    "# Now subset the data based on the splits\n",
    "\n",
    "\n",
    "df_picks = pd.DataFrame(columns = ['borehole_id', 'split_depth'], data = picks)"
   ]
  },
  {
   "cell_type": "code",
   "execution_count": 155,
   "metadata": {},
   "outputs": [
    {
     "data": {
      "text/html": [
       "<div>\n",
       "<style scoped>\n",
       "    .dataframe tbody tr th:only-of-type {\n",
       "        vertical-align: middle;\n",
       "    }\n",
       "\n",
       "    .dataframe tbody tr th {\n",
       "        vertical-align: top;\n",
       "    }\n",
       "\n",
       "    .dataframe thead th {\n",
       "        text-align: right;\n",
       "    }\n",
       "</style>\n",
       "<table border=\"1\" class=\"dataframe\">\n",
       "  <thead>\n",
       "    <tr style=\"text-align: right;\">\n",
       "      <th></th>\n",
       "      <th>borehole_id</th>\n",
       "      <th>split_depth</th>\n",
       "    </tr>\n",
       "  </thead>\n",
       "  <tbody>\n",
       "    <tr>\n",
       "      <th>0</th>\n",
       "      <td>635728</td>\n",
       "      <td>12.0</td>\n",
       "    </tr>\n",
       "    <tr>\n",
       "      <th>1</th>\n",
       "      <td>635728</td>\n",
       "      <td>22.0</td>\n",
       "    </tr>\n",
       "    <tr>\n",
       "      <th>2</th>\n",
       "      <td>635728</td>\n",
       "      <td>30.0</td>\n",
       "    </tr>\n",
       "    <tr>\n",
       "      <th>3</th>\n",
       "      <td>635730</td>\n",
       "      <td>2.0</td>\n",
       "    </tr>\n",
       "    <tr>\n",
       "      <th>4</th>\n",
       "      <td>635730</td>\n",
       "      <td>14.0</td>\n",
       "    </tr>\n",
       "    <tr>\n",
       "      <th>5</th>\n",
       "      <td>635730</td>\n",
       "      <td>24.0</td>\n",
       "    </tr>\n",
       "    <tr>\n",
       "      <th>6</th>\n",
       "      <td>635730</td>\n",
       "      <td>34.0</td>\n",
       "    </tr>\n",
       "    <tr>\n",
       "      <th>7</th>\n",
       "      <td>635730</td>\n",
       "      <td>40.0</td>\n",
       "    </tr>\n",
       "    <tr>\n",
       "      <th>8</th>\n",
       "      <td>635733</td>\n",
       "      <td>18.0</td>\n",
       "    </tr>\n",
       "    <tr>\n",
       "      <th>9</th>\n",
       "      <td>635733</td>\n",
       "      <td>24.0</td>\n",
       "    </tr>\n",
       "    <tr>\n",
       "      <th>10</th>\n",
       "      <td>635733</td>\n",
       "      <td>30.0</td>\n",
       "    </tr>\n",
       "    <tr>\n",
       "      <th>11</th>\n",
       "      <td>635734</td>\n",
       "      <td>10.0</td>\n",
       "    </tr>\n",
       "    <tr>\n",
       "      <th>12</th>\n",
       "      <td>635734</td>\n",
       "      <td>18.0</td>\n",
       "    </tr>\n",
       "    <tr>\n",
       "      <th>13</th>\n",
       "      <td>635734</td>\n",
       "      <td>24.0</td>\n",
       "    </tr>\n",
       "    <tr>\n",
       "      <th>14</th>\n",
       "      <td>635734</td>\n",
       "      <td>28.0</td>\n",
       "    </tr>\n",
       "    <tr>\n",
       "      <th>15</th>\n",
       "      <td>635735</td>\n",
       "      <td>10.0</td>\n",
       "    </tr>\n",
       "    <tr>\n",
       "      <th>16</th>\n",
       "      <td>635735</td>\n",
       "      <td>18.0</td>\n",
       "    </tr>\n",
       "    <tr>\n",
       "      <th>17</th>\n",
       "      <td>635735</td>\n",
       "      <td>30.0</td>\n",
       "    </tr>\n",
       "    <tr>\n",
       "      <th>18</th>\n",
       "      <td>635737</td>\n",
       "      <td>14.0</td>\n",
       "    </tr>\n",
       "    <tr>\n",
       "      <th>19</th>\n",
       "      <td>635738</td>\n",
       "      <td>14.0</td>\n",
       "    </tr>\n",
       "    <tr>\n",
       "      <th>20</th>\n",
       "      <td>635738</td>\n",
       "      <td>24.0</td>\n",
       "    </tr>\n",
       "    <tr>\n",
       "      <th>21</th>\n",
       "      <td>635738</td>\n",
       "      <td>32.0</td>\n",
       "    </tr>\n",
       "    <tr>\n",
       "      <th>22</th>\n",
       "      <td>635738</td>\n",
       "      <td>42.0</td>\n",
       "    </tr>\n",
       "    <tr>\n",
       "      <th>23</th>\n",
       "      <td>635739</td>\n",
       "      <td>14.0</td>\n",
       "    </tr>\n",
       "    <tr>\n",
       "      <th>24</th>\n",
       "      <td>635739</td>\n",
       "      <td>22.0</td>\n",
       "    </tr>\n",
       "    <tr>\n",
       "      <th>25</th>\n",
       "      <td>635739</td>\n",
       "      <td>32.0</td>\n",
       "    </tr>\n",
       "    <tr>\n",
       "      <th>26</th>\n",
       "      <td>635740</td>\n",
       "      <td>22.0</td>\n",
       "    </tr>\n",
       "    <tr>\n",
       "      <th>27</th>\n",
       "      <td>635740</td>\n",
       "      <td>30.0</td>\n",
       "    </tr>\n",
       "    <tr>\n",
       "      <th>28</th>\n",
       "      <td>635740</td>\n",
       "      <td>38.0</td>\n",
       "    </tr>\n",
       "    <tr>\n",
       "      <th>29</th>\n",
       "      <td>635741</td>\n",
       "      <td>8.0</td>\n",
       "    </tr>\n",
       "    <tr>\n",
       "      <th>30</th>\n",
       "      <td>635741</td>\n",
       "      <td>18.0</td>\n",
       "    </tr>\n",
       "    <tr>\n",
       "      <th>31</th>\n",
       "      <td>635741</td>\n",
       "      <td>26.0</td>\n",
       "    </tr>\n",
       "    <tr>\n",
       "      <th>32</th>\n",
       "      <td>635741</td>\n",
       "      <td>34.0</td>\n",
       "    </tr>\n",
       "    <tr>\n",
       "      <th>33</th>\n",
       "      <td>635742</td>\n",
       "      <td>10.0</td>\n",
       "    </tr>\n",
       "    <tr>\n",
       "      <th>34</th>\n",
       "      <td>635742</td>\n",
       "      <td>18.0</td>\n",
       "    </tr>\n",
       "    <tr>\n",
       "      <th>35</th>\n",
       "      <td>635742</td>\n",
       "      <td>28.0</td>\n",
       "    </tr>\n",
       "    <tr>\n",
       "      <th>36</th>\n",
       "      <td>635747</td>\n",
       "      <td>8.0</td>\n",
       "    </tr>\n",
       "    <tr>\n",
       "      <th>37</th>\n",
       "      <td>635747</td>\n",
       "      <td>20.0</td>\n",
       "    </tr>\n",
       "    <tr>\n",
       "      <th>38</th>\n",
       "      <td>635747</td>\n",
       "      <td>32.0</td>\n",
       "    </tr>\n",
       "    <tr>\n",
       "      <th>39</th>\n",
       "      <td>635748</td>\n",
       "      <td>16.0</td>\n",
       "    </tr>\n",
       "    <tr>\n",
       "      <th>40</th>\n",
       "      <td>635748</td>\n",
       "      <td>26.0</td>\n",
       "    </tr>\n",
       "    <tr>\n",
       "      <th>41</th>\n",
       "      <td>635749</td>\n",
       "      <td>12.0</td>\n",
       "    </tr>\n",
       "  </tbody>\n",
       "</table>\n",
       "</div>"
      ],
      "text/plain": [
       "    borehole_id  split_depth\n",
       "0        635728         12.0\n",
       "1        635728         22.0\n",
       "2        635728         30.0\n",
       "3        635730          2.0\n",
       "4        635730         14.0\n",
       "5        635730         24.0\n",
       "6        635730         34.0\n",
       "7        635730         40.0\n",
       "8        635733         18.0\n",
       "9        635733         24.0\n",
       "10       635733         30.0\n",
       "11       635734         10.0\n",
       "12       635734         18.0\n",
       "13       635734         24.0\n",
       "14       635734         28.0\n",
       "15       635735         10.0\n",
       "16       635735         18.0\n",
       "17       635735         30.0\n",
       "18       635737         14.0\n",
       "19       635738         14.0\n",
       "20       635738         24.0\n",
       "21       635738         32.0\n",
       "22       635738         42.0\n",
       "23       635739         14.0\n",
       "24       635739         22.0\n",
       "25       635739         32.0\n",
       "26       635740         22.0\n",
       "27       635740         30.0\n",
       "28       635740         38.0\n",
       "29       635741          8.0\n",
       "30       635741         18.0\n",
       "31       635741         26.0\n",
       "32       635741         34.0\n",
       "33       635742         10.0\n",
       "34       635742         18.0\n",
       "35       635742         28.0\n",
       "36       635747          8.0\n",
       "37       635747         20.0\n",
       "38       635747         32.0\n",
       "39       635748         16.0\n",
       "40       635748         26.0\n",
       "41       635749         12.0"
      ]
     },
     "execution_count": 155,
     "metadata": {},
     "output_type": "execute_result"
    }
   ],
   "source": [
    "df_picks"
   ]
  },
  {
   "cell_type": "code",
   "execution_count": 236,
   "metadata": {},
   "outputs": [],
   "source": [
    "\n",
    "n_cond_bins = rj_dat.dimensions['conductivity_cells'].size\n",
    "\n",
    "df_final = pd.DataFrame(columns = ['borehole_id', 'Depth_from', 'Depth_to', 'n_EC',\n",
    "                                  'log_EC_mean', 'log_EC_stderr'] + ['cond_' + str(i+1) for i in range(n_cond_bins)])\n",
    "\n",
    "# Iterate through the bores and get statistics for each split\n",
    "\n",
    "for item in bores:\n",
    "    splits = list(df_picks[df_picks['borehole_id'] == item]['split_depth'])\n",
    "    \n",
    "    df_EC_bore = df_EC[df_EC['borehole_id'] == item]\n",
    "    \n",
    "    #add the min and max depth using the EC data\n",
    "    \n",
    "    splits.insert(0, math.floor(df_EC_bore['Depth'].min()/2.) *2.)\n",
    "    \n",
    "    splits.append(math.ceil(df_EC_bore['Depth'].max()/2.) * 2.)\n",
    "    \n",
    "    # Now for each interval\n",
    "    \n",
    "    for i in range(len(splits) - 1):\n",
    "        du, dl = splits[i], splits[i+1]\n",
    "        \n",
    "        # Get the EC values from between these intervals\n",
    "        \n",
    "        ECs = np.log10(df_EC_bore[(df_EC_bore['Depth'] > du) & (df_EC_bore['Depth'] < dl)]['EC'])\n",
    "        \n",
    "        dat = {'borehole_id': item, 'Depth_from': du, 'Depth_to': dl,\n",
    "                  'log_EC_mean': np.mean(ECs), 'log_EC_stderr': np.std(ECs)/np.sqrt(len(ECs))}\n",
    "        \n",
    "        # Now we want to get our conductivity histogram\n",
    "        \n",
    "        point_ind_rj = df_EC_bore['rj_dat_ind'].iloc[0]\n",
    "        \n",
    "        # Get our layer indices\n",
    "        \n",
    "        layer_inds = np.arange(np.where(np.isclose(rj_dat['layer_top_depth'][point_ind_rj],\n",
    "                                                  du))[0][0],\n",
    "                             np.where(np.isclose(rj_dat['layer_top_depth'][point_ind_rj],\n",
    "                                                 dl))[0][0] + 1, 1)\n",
    "        \n",
    "        # Now sum the counts across the layers a\n",
    "        \n",
    "        cond_counts = rj_dat['conducitivty_bin_count'][point_ind_rj, layer_inds].sum(axis = 0)\n",
    "        \n",
    "        # Add each column to dictionary\n",
    "        for i in range(rj_dat.dimensions['conductivity_cells'].size):\n",
    "            dat['cond_' + str(i+1)] = cond_counts[i]\n",
    "        \n",
    "        dat['n_EC'] = len(ECs)\n",
    "        \n",
    "        # Append dictionary to data frame\n",
    "        \n",
    "        df_final = df_final.append(dat, ignore_index = True)\n",
    "        "
   ]
  },
  {
   "cell_type": "code",
   "execution_count": 237,
   "metadata": {},
   "outputs": [],
   "source": [
    "df_final.to_csv(r\"C:\\Users\\PCUser\\Desktop\\EK_data\\salinity_mapping\\EK_EC_cond_joint_pdf_pmap.csv\",\n",
    "               index = False)"
   ]
  },
  {
   "cell_type": "code",
   "execution_count": null,
   "metadata": {},
   "outputs": [],
   "source": []
  }
 ],
 "metadata": {
  "kernelspec": {
   "display_name": "hydrogeol_utils",
   "language": "python",
   "name": "hydrogeol_utils"
  },
  "language_info": {
   "codemirror_mode": {
    "name": "ipython",
    "version": 3
   },
   "file_extension": ".py",
   "mimetype": "text/x-python",
   "name": "python",
   "nbconvert_exporter": "python",
   "pygments_lexer": "ipython3",
   "version": "3.7.3"
  }
 },
 "nbformat": 4,
 "nbformat_minor": 4
}
