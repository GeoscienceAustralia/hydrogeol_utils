{
 "cells": [
  {
   "cell_type": "markdown",
   "metadata": {},
   "source": [
    "This notebook demonstrates the conversion of AEM data from aseg-gdf format to netCDF format\n",
    "\n",
    "Neil Symington\n",
    "neil.symington@ga.gov.au"
   ]
  },
  {
   "cell_type": "code",
   "execution_count": 1,
   "metadata": {},
   "outputs": [
    {
     "name": "stderr",
     "output_type": "stream",
     "text": [
      "DEBUG:root:test\n"
     ]
    }
   ],
   "source": [
    "%matplotlib inline\n",
    "\n",
    "from geophys_utils.netcdf_converter import aseg_gdf2netcdf_converter\n",
    "from geophys_utils.netcdf_converter.aseg_gdf_utils import aseg_gdf_format2dtype\n",
    "from hydrogeol_utils import AEM_utils\n",
    "import netCDF4\n",
    "import os, math\n",
    "import numpy as np\n",
    "import matplotlib.pyplot as plt\n",
    "# SO we can see the logging. This enables us to debug\n",
    "import logging\n",
    "logger = logging.getLogger()\n",
    "logger.setLevel(logging.DEBUG)\n",
    "logging.debug(\"test\")\n"
   ]
  },
  {
   "cell_type": "code",
   "execution_count": 2,
   "metadata": {},
   "outputs": [],
   "source": [
    "\n",
    "#root = r\"\\\\prod.lan\\active\\proj\\futurex\\East_Kimberley\\Data\\Processed\\Geophysics\\AEM\\EK_nbc_inversions\\OrdKeep_borehole_constrained\\combined_aseg_gdf\"\n",
    "root = r\"\\\\prod.lan\\active\\proj\\futurex\\East_Kimberley\\Data\\Original\\Geophysics\\AEM\\OrdKeep_SkyTEM_190117\\01_EM\"\n",
    "\n",
    "nc_out_path = os.path.join(root, 'AUS_10021_OrdK_EM.nc')\n",
    "\n",
    "dat_in_path = os.path.join(root, 'AUS_10021_OrdK_EM.dat')\n",
    "dfn_in_path = os.path.join(root, 'AUS_10021_OrdK_EM.dfn')\n",
    "crs_string = \"EPSG:28352\""
   ]
  },
  {
   "cell_type": "code",
   "execution_count": 3,
   "metadata": {
    "scrolled": true
   },
   "outputs": [
    {
     "name": "stderr",
     "output_type": "stream",
     "text": [
      "INFO:geophys_utils.netcdf_converter.aseg_gdf2netcdf_converter:Reading definitions file \\\\prod.lan\\active\\proj\\futurex\\East_Kimberley\\Data\\Original\\Geophysics\\AEM\\OrdKeep_SkyTEM_190117\\01_EM\\AUS_10021_OrdK_EM.dfn\n",
      "INFO:geophys_utils.netcdf_converter.aseg_gdf2netcdf_converter:Reading data file \\\\prod.lan\\active\\proj\\futurex\\East_Kimberley\\Data\\Original\\Geophysics\\AEM\\OrdKeep_SkyTEM_190117\\01_EM\\AUS_10021_OrdK_EM.dat\n",
      "INFO:geophys_utils.netcdf_converter.aseg_gdf2netcdf_converter:10000 lines read\n",
      "INFO:geophys_utils.netcdf_converter.aseg_gdf2netcdf_converter:20000 lines read\n",
      "INFO:geophys_utils.netcdf_converter.aseg_gdf2netcdf_converter:30000 lines read\n",
      "INFO:geophys_utils.netcdf_converter.aseg_gdf2netcdf_converter:40000 lines read\n",
      "INFO:geophys_utils.netcdf_converter.aseg_gdf2netcdf_converter:50000 lines read\n",
      "INFO:geophys_utils.netcdf_converter.aseg_gdf2netcdf_converter:60000 lines read\n",
      "INFO:geophys_utils.netcdf_converter.aseg_gdf2netcdf_converter:70000 lines read\n",
      "INFO:geophys_utils.netcdf_converter.aseg_gdf2netcdf_converter:80000 lines read\n",
      "INFO:geophys_utils.netcdf_converter.aseg_gdf2netcdf_converter:90000 lines read\n",
      "INFO:geophys_utils.netcdf_converter.aseg_gdf2netcdf_converter:100000 lines read\n",
      "INFO:geophys_utils.netcdf_converter.aseg_gdf2netcdf_converter:110000 lines read\n",
      "INFO:geophys_utils.netcdf_converter.aseg_gdf2netcdf_converter:120000 lines read\n",
      "INFO:geophys_utils.netcdf_converter.aseg_gdf2netcdf_converter:130000 lines read\n",
      "INFO:geophys_utils.netcdf_converter.aseg_gdf2netcdf_converter:140000 lines read\n",
      "INFO:geophys_utils.netcdf_converter.aseg_gdf2netcdf_converter:150000 lines read\n",
      "INFO:geophys_utils.netcdf_converter.aseg_gdf2netcdf_converter:160000 lines read\n",
      "INFO:geophys_utils.netcdf_converter.aseg_gdf2netcdf_converter:170000 lines read\n",
      "INFO:geophys_utils.netcdf_converter.aseg_gdf2netcdf_converter:180000 lines read\n",
      "INFO:geophys_utils.netcdf_converter.aseg_gdf2netcdf_converter:190000 lines read\n",
      "INFO:geophys_utils.netcdf_converter.aseg_gdf2netcdf_converter:200000 lines read\n",
      "INFO:geophys_utils.netcdf_converter.aseg_gdf2netcdf_converter:210000 lines read\n",
      "INFO:geophys_utils.netcdf_converter.aseg_gdf2netcdf_converter:220000 lines read\n",
      "INFO:geophys_utils.netcdf_converter.aseg_gdf2netcdf_converter:230000 lines read\n",
      "INFO:geophys_utils.netcdf_converter.aseg_gdf2netcdf_converter:240000 lines read\n",
      "INFO:geophys_utils.netcdf_converter.aseg_gdf2netcdf_converter:250000 lines read\n",
      "INFO:geophys_utils.netcdf_converter.aseg_gdf2netcdf_converter:260000 lines read\n",
      "INFO:geophys_utils.netcdf_converter.aseg_gdf2netcdf_converter:270000 lines read\n",
      "INFO:geophys_utils.netcdf_converter.aseg_gdf2netcdf_converter:280000 lines read\n",
      "INFO:geophys_utils.netcdf_converter.aseg_gdf2netcdf_converter:290000 lines read\n",
      "INFO:geophys_utils.netcdf_converter.aseg_gdf2netcdf_converter:300000 lines read\n",
      "INFO:geophys_utils.netcdf_converter.aseg_gdf2netcdf_converter:310000 lines read\n",
      "INFO:geophys_utils.netcdf_converter.aseg_gdf2netcdf_converter:320000 lines read\n",
      "INFO:geophys_utils.netcdf_converter.aseg_gdf2netcdf_converter:330000 lines read\n",
      "INFO:geophys_utils.netcdf_converter.aseg_gdf2netcdf_converter:340000 lines read\n",
      "INFO:geophys_utils.netcdf_converter.aseg_gdf2netcdf_converter:350000 lines read\n",
      "INFO:geophys_utils.netcdf_converter.aseg_gdf2netcdf_converter:360000 lines read\n",
      "INFO:geophys_utils.netcdf_converter.aseg_gdf2netcdf_converter:370000 lines read\n",
      "INFO:geophys_utils.netcdf_converter.aseg_gdf2netcdf_converter:380000 lines read\n",
      "INFO:geophys_utils.netcdf_converter.aseg_gdf2netcdf_converter:390000 lines read\n",
      "INFO:geophys_utils.netcdf_converter.aseg_gdf2netcdf_converter:400000 lines read\n",
      "INFO:geophys_utils.netcdf_converter.aseg_gdf2netcdf_converter:410000 lines read\n",
      "INFO:geophys_utils.netcdf_converter.aseg_gdf2netcdf_converter:420000 lines read\n",
      "INFO:geophys_utils.netcdf_converter.aseg_gdf2netcdf_converter:430000 lines read\n",
      "INFO:geophys_utils.netcdf_converter.aseg_gdf2netcdf_converter:440000 lines read\n",
      "INFO:geophys_utils.netcdf_converter.aseg_gdf2netcdf_converter:450000 lines read\n",
      "INFO:geophys_utils.netcdf_converter.aseg_gdf2netcdf_converter:460000 lines read\n",
      "INFO:geophys_utils.netcdf_converter.aseg_gdf2netcdf_converter:470000 lines read\n",
      "INFO:geophys_utils.netcdf_converter.aseg_gdf2netcdf_converter:480000 lines read\n",
      "INFO:geophys_utils.netcdf_converter.aseg_gdf2netcdf_converter:490000 lines read\n",
      "INFO:geophys_utils.netcdf_converter.aseg_gdf2netcdf_converter:500000 lines read\n",
      "INFO:geophys_utils.netcdf_converter.aseg_gdf2netcdf_converter:510000 lines read\n",
      "INFO:geophys_utils.netcdf_converter.aseg_gdf2netcdf_converter:520000 lines read\n",
      "INFO:geophys_utils.netcdf_converter.aseg_gdf2netcdf_converter:530000 lines read\n",
      "INFO:geophys_utils.netcdf_converter.aseg_gdf2netcdf_converter:540000 lines read\n",
      "INFO:geophys_utils.netcdf_converter.aseg_gdf2netcdf_converter:550000 lines read\n",
      "INFO:geophys_utils.netcdf_converter.aseg_gdf2netcdf_converter:560000 lines read\n",
      "INFO:geophys_utils.netcdf_converter.aseg_gdf2netcdf_converter:570000 lines read\n",
      "INFO:geophys_utils.netcdf_converter.aseg_gdf2netcdf_converter:580000 lines read\n",
      "INFO:geophys_utils.netcdf_converter.aseg_gdf2netcdf_converter:590000 lines read\n",
      "INFO:geophys_utils.netcdf_converter.aseg_gdf2netcdf_converter:600000 lines read\n",
      "INFO:geophys_utils.netcdf_converter.aseg_gdf2netcdf_converter:610000 lines read\n",
      "INFO:geophys_utils.netcdf_converter.aseg_gdf2netcdf_converter:620000 lines read\n",
      "INFO:geophys_utils.netcdf_converter.aseg_gdf2netcdf_converter:630000 lines read\n",
      "INFO:geophys_utils.netcdf_converter.aseg_gdf2netcdf_converter:640000 lines read\n",
      "INFO:geophys_utils.netcdf_converter.aseg_gdf2netcdf_converter:650000 lines read\n",
      "INFO:geophys_utils.netcdf_converter.aseg_gdf2netcdf_converter:660000 lines read\n",
      "INFO:geophys_utils.netcdf_converter.aseg_gdf2netcdf_converter:A total of 660371 points were read\n",
      "INFO:geophys_utils.netcdf_converter.aseg_gdf2netcdf_converter:Datatype for variable flight_line changed from float64 to float32\n",
      "INFO:geophys_utils.netcdf_converter.aseg_gdf2netcdf_converter:Datatype for variable ga_project changed from int32 to int16\n",
      "INFO:geophys_utils.netcdf_converter.aseg_gdf2netcdf_converter:Datatype for variable job_no changed from int32 to int16\n",
      "INFO:geophys_utils.netcdf_converter.aseg_gdf2netcdf_converter:Datatype for variable fiducial changed from float64 to float32\n",
      "C:\\Users\\u77932\\AppData\\Local\\Continuum\\anaconda3\\envs\\hydrogeol_utils\\lib\\site-packages\\geophys_utils\\netcdf_converter\\aseg_gdf_utils.py:29: RuntimeWarning: invalid value encountered in log10\n",
      "  fexp[f != 0] = np.ceil(np.log10(np.abs(f[f != 0]))).astype('int32')\n",
      "C:\\Users\\u77932\\AppData\\Local\\Continuum\\anaconda3\\envs\\hydrogeol_utils\\lib\\site-packages\\geophys_utils\\netcdf_converter\\aseg_gdf_utils.py:34: RuntimeWarning: divide by zero encountered in true_divide\n",
      "  fman = f/10.0**fexp\n",
      "INFO:geophys_utils.netcdf_converter.aseg_gdf2netcdf_converter:Datatype for variable flight changed from float64 to float32\n",
      "INFO:geophys_utils.netcdf_converter.aseg_gdf2netcdf_converter:Datatype for variable utc_date changed from int64 to int32\n",
      "INFO:geophys_utils.netcdf_converter.aseg_gdf2netcdf_converter:Datatype for variable utc_time changed from float64 to float32\n",
      "INFO:geophys_utils.netcdf_converter.aseg_gdf2netcdf_converter:Datatype for variable local_date changed from int64 to int32\n",
      "INFO:geophys_utils.netcdf_converter.aseg_gdf2netcdf_converter:Datatype for variable local_time changed from float64 to float32\n",
      "INFO:geophys_utils.netcdf_converter.aseg_gdf2netcdf_converter:Datatype for variable x_tilt changed from float64 to float32\n",
      "INFO:geophys_utils.netcdf_converter.aseg_gdf2netcdf_converter:Datatype for variable y_tilt changed from float64 to float32\n",
      "INFO:geophys_utils.netcdf_converter.aseg_gdf2netcdf_converter:Datatype for variable height changed from float64 to float32\n",
      "INFO:geophys_utils.netcdf_converter.aseg_gdf2netcdf_converter:Datatype for variable elevation changed from float64 to float32\n",
      "INFO:geophys_utils.netcdf_converter.aseg_gdf2netcdf_converter:Datatype for variable longitude changed from float64 to float32\n",
      "INFO:geophys_utils.netcdf_converter.aseg_gdf2netcdf_converter:Datatype for variable latitude changed from float64 to float32\n",
      "INFO:geophys_utils.netcdf_converter.aseg_gdf2netcdf_converter:Datatype for variable easting changed from float64 to float32\n"
     ]
    },
    {
     "name": "stderr",
     "output_type": "stream",
     "text": [
      "INFO:geophys_utils.netcdf_converter.aseg_gdf2netcdf_converter:Datatype for variable northing changed from float64 to float32\n",
      "INFO:geophys_utils.netcdf_converter.aseg_gdf2netcdf_converter:Datatype for variable gps_height changed from float64 to float32\n",
      "INFO:geophys_utils.netcdf_converter.aseg_gdf2netcdf_converter:Datatype for variable gdspeed changed from float64 to float32\n",
      "INFO:geophys_utils.netcdf_converter.aseg_gdf2netcdf_converter:Datatype for variable LM_current changed from float64 to float32\n",
      "INFO:geophys_utils.netcdf_converter.aseg_gdf2netcdf_converter:Datatype for variable HM_current changed from float64 to float32\n",
      "INFO:geophys_utils.netcdf_converter.aseg_gdf2netcdf_converter:Datatype for variable powerline_noise changed from float64 to float32\n",
      "INFO:geophys_utils.netcdf_converter.aseg_gdf2netcdf_converter:Datatype for variable high_moment_Z-component_EM_data changed from float64 to float32\n",
      "INFO:geophys_utils.netcdf_converter.aseg_gdf2netcdf_converter:Datatype for variable high_moment_X-component_EM_data changed from float64 to float32\n",
      "INFO:geophys_utils.netcdf_converter.aseg_gdf2netcdf_converter:Datatype for variable rel_uncertainty_low_moment_Z-component changed from float64 to float32\n",
      "INFO:geophys_utils.netcdf_converter.aseg_gdf2netcdf_converter:Datatype for variable rel_uncertainty_high_moment_Z-component changed from float64 to float32\n",
      "INFO:geophys_utils.netcdf_converter.aseg_gdf2netcdf_converter:Datatype for variable rel_uncertainty_low_moment_X-component changed from float64 to float32\n",
      "INFO:geophys_utils.netcdf_converter.aseg_gdf2netcdf_converter:Datatype for variable rel_uncertainty_high_moment_X-component changed from float64 to float32\n",
      "INFO:geophys_utils.netcdf_converter.aseg_gdf2netcdf_converter:Datatype for variable ma1 changed from float64 to float32\n",
      "INFO:geophys_utils.netcdf_converter.aseg_gdf2netcdf_converter:Datatype for variable bmag changed from float64 to float32\n",
      "INFO:geophys_utils.netcdf_converter.aseg_gdf2netcdf_converter:Datatype for variable tmi changed from float64 to float32\n",
      "INFO:geophys_utils.netcdf_converter.aseg_gdf2netcdf_converter:Datatype for variable igrf changed from float64 to float32\n",
      "INFO:geophys_utils.netcdf_converter.aseg_gdf2netcdf_converter:Datatype for variable tmi_igrf changed from float64 to float32\n",
      "INFO:geophys_utils.netcdf_converter.aseg_gdf2netcdf_converter:Datatype for variable tmi_igrf_lev changed from float64 to float32\n"
     ]
    },
    {
     "name": "stdout",
     "output_type": "stream",
     "text": [
      "OrderedDict([('point', 660371), ('low_moment_gate', 18), ('high_moment_gate', 23)])\n"
     ]
    },
    {
     "name": "stderr",
     "output_type": "stream",
     "text": [
      "INFO:geophys_utils.netcdf_converter.aseg_gdf2netcdf_converter:\tWriting single comments value to scalar variable\n",
      "INFO:geophys_utils.netcdf_converter.aseg_gdf2netcdf_converter:\tWriting 1D float32 variable flight_line\n",
      "INFO:geophys_utils.netcdf_converter.aseg_gdf2netcdf_converter:\tWriting single ga_project value to scalar variable\n",
      "INFO:geophys_utils.netcdf_converter.aseg_gdf2netcdf_converter:\tWriting single job_no value to scalar variable\n",
      "INFO:geophys_utils.netcdf_converter.aseg_gdf2netcdf_converter:\tWriting 1D float32 variable fiducial\n",
      "INFO:geophys_utils.netcdf_converter.aseg_gdf2netcdf_converter:\tWriting line lookup variables\n",
      "INFO:geophys_utils.netcdf_converter.aseg_gdf2netcdf_converter:\tCreating dimension for line\n",
      "INFO:geophys_utils.netcdf_converter.aseg_gdf2netcdf_converter:\t\tWriting 584 line lookup values to array variable line\n",
      "INFO:geophys_utils.netcdf_converter.aseg_gdf2netcdf_converter:\t\tWriting line lookup indices to array variable line_index\n",
      "INFO:geophys_utils.netcdf_converter.aseg_gdf2netcdf_converter:\tWriting flight lookup variables\n",
      "INFO:geophys_utils.netcdf_converter.aseg_gdf2netcdf_converter:\tCreating dimension for flight\n",
      "INFO:geophys_utils.netcdf_converter.aseg_gdf2netcdf_converter:\t\tWriting 61 flight lookup values to array variable flight\n",
      "INFO:geophys_utils.netcdf_converter.aseg_gdf2netcdf_converter:\t\tWriting flight lookup indices to array variable flight_index\n",
      "INFO:geophys_utils.netcdf_converter.aseg_gdf2netcdf_converter:\tWriting 1D float64 variable DateTime\n",
      "INFO:geophys_utils.netcdf_converter.aseg_gdf2netcdf_converter:\tWriting 1D int32 variable utc_date\n",
      "INFO:geophys_utils.netcdf_converter.aseg_gdf2netcdf_converter:\tWriting 1D float32 variable utc_time\n",
      "INFO:geophys_utils.netcdf_converter.aseg_gdf2netcdf_converter:\tWriting 1D int32 variable local_date\n",
      "INFO:geophys_utils.netcdf_converter.aseg_gdf2netcdf_converter:\tWriting 1D float32 variable local_time\n",
      "INFO:geophys_utils.netcdf_converter.aseg_gdf2netcdf_converter:\tWriting 1D float32 variable x_tilt\n",
      "INFO:geophys_utils.netcdf_converter.aseg_gdf2netcdf_converter:\tWriting 1D float32 variable y_tilt\n",
      "INFO:geophys_utils.netcdf_converter.aseg_gdf2netcdf_converter:\tWriting 1D float32 variable height\n",
      "INFO:geophys_utils.netcdf_converter.aseg_gdf2netcdf_converter:\tWriting 1D float32 variable elevation\n",
      "INFO:geophys_utils.netcdf_converter.aseg_gdf2netcdf_converter:\tWriting 1D float32 variable longitude\n",
      "INFO:geophys_utils.netcdf_converter.aseg_gdf2netcdf_converter:\tWriting 1D float32 variable latitude\n",
      "INFO:geophys_utils.netcdf_converter.aseg_gdf2netcdf_converter:\tWriting 1D float32 variable easting\n",
      "INFO:geophys_utils.netcdf_converter.aseg_gdf2netcdf_converter:\tWriting 1D float32 variable northing\n",
      "INFO:geophys_utils.netcdf_converter.aseg_gdf2netcdf_converter:\tWriting 1D float32 variable gps_height\n",
      "INFO:geophys_utils.netcdf_converter.aseg_gdf2netcdf_converter:\tWriting 1D float32 variable gdspeed\n",
      "INFO:geophys_utils.netcdf_converter.aseg_gdf2netcdf_converter:\tWriting 1D float32 variable LM_current\n",
      "INFO:geophys_utils.netcdf_converter.aseg_gdf2netcdf_converter:\tWriting 1D float32 variable HM_current\n",
      "INFO:geophys_utils.netcdf_converter.aseg_gdf2netcdf_converter:\tWriting 1D float32 variable powerline_noise\n",
      "INFO:geophys_utils.netcdf_converter.aseg_gdf2netcdf_converter:\tWriting 2D float64 variable low_moment_Z-component_EM_data\n",
      "INFO:geophys_utils.netcdf_converter.aseg_gdf2netcdf_converter:\tWriting 2D float32 variable high_moment_Z-component_EM_data\n",
      "INFO:geophys_utils.netcdf_converter.aseg_gdf2netcdf_converter:\tWriting 2D float64 variable low_moment_X-component_EM_data\n",
      "INFO:geophys_utils.netcdf_converter.aseg_gdf2netcdf_converter:\tWriting 2D float32 variable high_moment_X-component_EM_data\n",
      "INFO:geophys_utils.netcdf_converter.aseg_gdf2netcdf_converter:\tWriting 2D float32 variable rel_uncertainty_low_moment_Z-component\n",
      "INFO:geophys_utils.netcdf_converter.aseg_gdf2netcdf_converter:\tWriting 2D float32 variable rel_uncertainty_high_moment_Z-component\n",
      "INFO:geophys_utils.netcdf_converter.aseg_gdf2netcdf_converter:\tWriting 2D float32 variable rel_uncertainty_low_moment_X-component\n",
      "INFO:geophys_utils.netcdf_converter.aseg_gdf2netcdf_converter:\tWriting 2D float32 variable rel_uncertainty_high_moment_X-component\n",
      "INFO:geophys_utils.netcdf_converter.aseg_gdf2netcdf_converter:\tWriting 1D float32 variable ma1\n",
      "INFO:geophys_utils.netcdf_converter.aseg_gdf2netcdf_converter:\tWriting 1D float32 variable bmag\n",
      "INFO:geophys_utils.netcdf_converter.aseg_gdf2netcdf_converter:\tWriting 1D float32 variable tmi\n",
      "INFO:geophys_utils.netcdf_converter.aseg_gdf2netcdf_converter:\tWriting 1D float32 variable igrf\n",
      "INFO:geophys_utils.netcdf_converter.aseg_gdf2netcdf_converter:\tWriting 1D float32 variable tmi_igrf\n",
      "INFO:geophys_utils.netcdf_converter.aseg_gdf2netcdf_converter:\tWriting 1D float32 variable tmi_igrf_lev\n",
      "INFO:geophys_utils.netcdf_converter.aseg_gdf2netcdf_converter:Creating crs, longitude and latitude variables for unprojected CRS\n",
      "INFO:geophys_utils.netcdf_converter.aseg_gdf2netcdf_converter:Re-writing new global attributes for new CRS\n"
     ]
    }
   ],
   "source": [
    "if os.path.exists(nc_out_path):\n",
    "    os.remove(nc_out_path)\n",
    "\n",
    "\n",
    "\n",
    "d2n = aseg_gdf2netcdf_converter.ASEGGDF2NetCDFConverter(nc_out_path, \n",
    "                                                 dat_in_path, \n",
    "                                                 dfn_in_path,\n",
    "                                                 crs_string,\n",
    "                                                 fix_precision=True)\n",
    "d2n.convert2netcdf()                                      "
   ]
  },
  {
   "cell_type": "code",
   "execution_count": 4,
   "metadata": {},
   "outputs": [],
   "source": [
    "# Create a python object with the EM dataset\n",
    "d = netCDF4.Dataset(nc_out_path, \"a\")"
   ]
  },
  {
   "cell_type": "code",
   "execution_count": 5,
   "metadata": {},
   "outputs": [
    {
     "data": {
      "text/plain": [
       "array([[7.900000e-04, 7.800000e-04, 1.050000e-03, ..., 4.170000e-03,\n",
       "        5.110000e-03, 7.600000e-03],\n",
       "       [9.100000e-04, 9.000000e-04, 1.210000e-03, ..., 4.700000e-03,\n",
       "        5.700000e-03, 8.350000e-03],\n",
       "       [1.050000e-03, 1.030000e-03, 1.380000e-03, ..., 5.210000e-03,\n",
       "        6.340000e-03, 9.140000e-03],\n",
       "       ...,\n",
       "       [3.719100e-01, 3.365400e-01, 9.521000e-02, ..., 2.910900e-01,\n",
       "        6.246400e-01, 1.114970e+00],\n",
       "       [1.334110e+00, 1.916700e-01, 7.098000e-02, ..., 1.583800e-01,\n",
       "        9.844300e-01, 8.213300e-01],\n",
       "       [1.191210e+00, 1.469900e-01, 6.185000e-02, ..., 1.236400e-01,\n",
       "        1.250202e+01, 3.220000e-01]], dtype=float32)"
      ]
     },
     "execution_count": 5,
     "metadata": {},
     "output_type": "execute_result"
    }
   ],
   "source": [
    "d.variables['rel_uncertainty_low_moment_X-component'][:]"
   ]
  },
  {
   "cell_type": "code",
   "execution_count": 6,
   "metadata": {},
   "outputs": [],
   "source": [
    "# Now we want to parse the stm files\n",
    "\n",
    "# Create an AEM system instance\n",
    "skytem = AEM_utils.AEM_System(\"SkyTEM312Fast\", dual_moment = True)\n",
    "\n",
    "# Open the lm and hm files\n",
    "root = r\"\\\\prod.lan\\active\\proj\\futurex\\East_Kimberley\\Working\\SharedWorkspace\\OK_AEM_working\\EastKimberley\\stmfiles\"\n",
    "\n",
    "lm_file = os.path.join(root, \"Skytem312Fast-LM_pV.stm\")\n",
    "\n",
    "hm_file = os.path.join(root, \"Skytem312Fast-HM_pV.stm\")\n",
    "\n",
    "# Parse\n",
    "skytem.parse_stm_file(lm_file, 'LM')\n",
    "\n",
    "skytem.parse_stm_file(hm_file, 'HM')"
   ]
  },
  {
   "cell_type": "code",
   "execution_count": 7,
   "metadata": {},
   "outputs": [
    {
     "data": {
      "text/plain": [
       "{'ForwardModelling': {'FrequenciesPerDecade': 5,\n",
       "  'ModellingLoopRadius': 10.4184,\n",
       "  'NumberOfAbsiccaInHankelTransformEvaluation': 21,\n",
       "  'OutputType': 'dB/dt',\n",
       "  'SaveDiagnosticFiles': 'no',\n",
       "  'SecondaryFieldNormalisation': 'none',\n",
       "  'XOutputScaling': 1000000000000.0,\n",
       "  'YOutputScaling': 1000000000000.0,\n",
       "  'ZOutputScaling': 1000000000000.0},\n",
       " 'Receiver': {'CutOffFrequency': array([300000, 155000]),\n",
       "  'NumberOfWindows': 18,\n",
       "  'Order': '1      2',\n",
       "  'WindowTimes': array([[1.4630e-05, 1.8200e-05],\n",
       "         [1.8630e-05, 2.3200e-05],\n",
       "         [2.3630e-05, 2.9200e-05],\n",
       "         [2.9630e-05, 3.7200e-05],\n",
       "         [3.7630e-05, 4.7200e-05],\n",
       "         [4.7630e-05, 6.0200e-05],\n",
       "         [6.0630e-05, 7.6200e-05],\n",
       "         [7.6630e-05, 9.6200e-05],\n",
       "         [9.6630e-05, 1.2120e-04],\n",
       "         [1.2163e-04, 1.5220e-04],\n",
       "         [1.5263e-04, 1.9220e-04],\n",
       "         [1.9263e-04, 2.4320e-04],\n",
       "         [2.4363e-04, 3.0620e-04],\n",
       "         [3.0663e-04, 3.8720e-04],\n",
       "         [3.8763e-04, 4.8820e-04],\n",
       "         [4.8863e-04, 6.1520e-04],\n",
       "         [6.1563e-04, 7.7620e-04],\n",
       "         [7.7663e-04, 9.7820e-04]]),\n",
       "  'WindowWeightingScheme': 'AreaUnderCurve'},\n",
       " 'Transmitter': {'BaseFrequency': 275,\n",
       "  'LoopArea': 1,\n",
       "  'NumberOfTurns': 1,\n",
       "  'PeakCurrent': 1,\n",
       "  'WaveFormCurrent': array([[-8.0000e-04,  0.0000e+00],\n",
       "         [-7.1847e-04,  1.2266e-01],\n",
       "         [-6.5990e-04,  1.9609e-01],\n",
       "         [-3.8062e-04,  5.2228e-01],\n",
       "         [-1.6838e-04,  7.7866e-01],\n",
       "         [-5.1442e-05,  9.3110e-01],\n",
       "         [ 0.0000e+00,  1.0000e+00],\n",
       "         [ 1.2800e-07,  9.9627e-01],\n",
       "         [ 6.2400e-07,  9.7994e-01],\n",
       "         [ 1.1840e-06,  9.3093e-01],\n",
       "         [ 2.9600e-06,  6.7610e-01],\n",
       "         [ 5.1200e-06,  3.5920e-01],\n",
       "         [ 6.2400e-06,  2.2688e-01],\n",
       "         [ 7.5200e-06,  1.2234e-01],\n",
       "         [ 8.8000e-06,  5.6996e-02],\n",
       "         [ 1.0048e-05,  2.2692e-02],\n",
       "         [ 1.2000e-05,  4.7230e-03],\n",
       "         [ 1.2800e-05,  0.0000e+00],\n",
       "         [ 1.0182e-03,  0.0000e+00]]),\n",
       "  'WaveformDigitisingFrequency': 4505600}}"
      ]
     },
     "execution_count": 7,
     "metadata": {},
     "output_type": "execute_result"
    }
   ],
   "source": [
    "skytem.LM"
   ]
  },
  {
   "cell_type": "code",
   "execution_count": 8,
   "metadata": {},
   "outputs": [],
   "source": [
    "\n",
    "lm_a = skytem.LM['Transmitter']['WaveFormCurrent']\n",
    "hm_a = skytem.HM['Transmitter']['WaveFormCurrent']"
   ]
  },
  {
   "cell_type": "code",
   "execution_count": 9,
   "metadata": {},
   "outputs": [
    {
     "data": {
      "image/png": "[encoded data removed]",
      "text/plain": [
       "<matplotlib.figure.Figure at 0xc4b8390>"
      ]
     },
     "metadata": {},
     "output_type": "display_data"
    }
   ],
   "source": [
    "\n",
    "\n",
    "\n",
    "plt.plot(lm_a[:,0], lm_a[:,1], 'k')\n",
    "plt.plot(hm_a[:,0], hm_a[:,1], 'r')\n",
    "plt.show()"
   ]
  },
  {
   "cell_type": "code",
   "execution_count": 10,
   "metadata": {},
   "outputs": [],
   "source": [
    "# Now we want to add this metadata to the netcdf file\n",
    "\n",
    "tx_grp = d.createGroup('Transmitter')\n",
    "\n",
    "\n",
    "# Dimensions for the current times\n",
    "lm_current_times = tx_grp.createDimension(\"low_moment_current_time\", \n",
    "                                    skytem.LM['Transmitter']['WaveFormCurrent'].shape[0])\n",
    "\n",
    "hm_current_times = tx_grp.createDimension(\"high_moment_current_time\", \n",
    "                                    skytem.HM['Transmitter']['WaveFormCurrent'].shape[0])\n",
    "\n"
   ]
  },
  {
   "cell_type": "code",
   "execution_count": 11,
   "metadata": {},
   "outputs": [],
   "source": [
    "# Create dimension variables\n",
    "\n",
    "lm_current_times = tx_grp.createVariable(\"low_moment_current_time\",\"f8\",(\"low_moment_current_time\",))\n",
    "hm_current_times = tx_grp.createVariable(\"high_moment_current_time\",\"f8\",(\"high_moment_current_time\",))\n",
    "\n"
   ]
  },
  {
   "cell_type": "code",
   "execution_count": 12,
   "metadata": {},
   "outputs": [],
   "source": [
    "# Create other variables\n",
    "\n",
    "lm_waverform_current = tx_grp.createVariable(\"low_moment_waverform_current\",\"f8\",(\"low_moment_current_time\",))\n",
    "\n",
    "hm_waverform_current = tx_grp.createVariable(\"high_moment_waverform_current\",\"f8\",(\"high_moment_current_time\",))"
   ]
  },
  {
   "cell_type": "code",
   "execution_count": 13,
   "metadata": {},
   "outputs": [],
   "source": [
    "# Add data to the variables\n",
    "\n",
    "lm_current = skytem.LM['Transmitter']['WaveFormCurrent']\n",
    "hm_current = skytem.HM['Transmitter']['WaveFormCurrent']\n",
    "\n",
    "lm_current_times[:] = lm_current[:,0]\n",
    "hm_current_times[:] = hm_current[:,0]\n",
    "\n",
    "lm_waverform_current[:] = lm_current[:,1]\n",
    "hm_waverform_current[:] = hm_current[:,1]"
   ]
  },
  {
   "cell_type": "code",
   "execution_count": 14,
   "metadata": {},
   "outputs": [],
   "source": [
    "# Add an scalar vats for frame geometries assuming a horizontal frame\n",
    "# These are from the SkyTEM files\n",
    "\n",
    "\n",
    "\n",
    "tx_area = tx_grp.createVariable('tx_loop_area',\"f8\",())\n",
    "tx_area[:] = 337.\n",
    "tx_area.units = 'm**2'\n",
    "tx_area.long_name = \"Transmitter (Tx) Loop Area\"\n"
   ]
  },
  {
   "cell_type": "code",
   "execution_count": 15,
   "metadata": {},
   "outputs": [],
   "source": [
    "rx_grp = d.createGroup('Receiver')"
   ]
  },
  {
   "cell_type": "code",
   "execution_count": 16,
   "metadata": {},
   "outputs": [],
   "source": [
    "gate_openclose = rx_grp.createDimension(\"gate_open_close\", \n",
    "                                   2)\n",
    "gates = rx_grp.createVariable(\"gate_open_close\",\"i1\",(\"gate_open_close\",))\n"
   ]
  },
  {
   "cell_type": "code",
   "execution_count": 17,
   "metadata": {},
   "outputs": [],
   "source": [
    "\n",
    "\n",
    "lm_window_times =  rx_grp.createVariable(\"low_moment_window_time\",\"f8\",(\"low_moment_gate\",\n",
    "                                                                  \"gate_open_close\"))\n",
    "\n",
    "hm_window_times =  rx_grp.createVariable(\"high_moment_window_time\",\"f8\",(\"high_moment_gate\",\n",
    "                                                                   \"gate_open_close\"))\n"
   ]
  },
  {
   "cell_type": "code",
   "execution_count": 18,
   "metadata": {},
   "outputs": [],
   "source": [
    "# Add data\n",
    "\n",
    "lm_gates = skytem.LM['Receiver']['WindowTimes']\n",
    "hm_gates = skytem.HM['Receiver']['WindowTimes']\n",
    "\n",
    "lm_window_times[:] = lm_gates\n",
    "hm_window_times[:] = hm_gates"
   ]
  },
  {
   "cell_type": "code",
   "execution_count": 19,
   "metadata": {},
   "outputs": [],
   "source": [
    "\n",
    "\n",
    "rx_x_pos = rx_grp.createVariable(\"Rx_z_component_position_x\",\"f8\",())\n",
    "rx_x_pos[:] = -13.37\n",
    "rx_x_pos.units = 'm'\n",
    "rx_x_pos.long_name = 'Z-component EM sensor relative position from centre of horizontal frame, in flight direction'\n",
    "rx_x_pos.sign_convention = 'Front of frame is positive'\n",
    "\n",
    "rx_y_pos = rx_grp.createVariable(\"Rx_z_component_position_y\",\"f8\",())\n",
    "rx_y_pos[:] = 0.\n",
    "rx_y_pos.units = 'm'\n",
    "rx_y_pos.long_name = 'Z-component EM sensor relative position from centre of horizontal frame, perpendicular to flight direction'\n",
    "rx_y_pos.sign_convention = 'Starboard of frame is positive'\n",
    "\n",
    "rx_z_pos = rx_grp.createVariable(\"Rx_z_component_position_z\",\"f8\",())\n",
    "rx_z_pos[:] = -2.\n",
    "rx_z_pos.units = 'm'\n",
    "rx_z_pos.long_name = 'Z-component EM sensor relative position from centre of horizontal frame, in vertical direction'\n",
    "rx_z_pos.sign_convention = 'Down is positive'"
   ]
  },
  {
   "cell_type": "code",
   "execution_count": 20,
   "metadata": {},
   "outputs": [],
   "source": [
    "rx_x_x_pos = rx_grp.createVariable(\"Rx_x_component_position_x\",\"f8\",())\n",
    "rx_x_x_pos[:] = -14.75\n",
    "rx_x_x_pos.units = 'm'\n",
    "rx_x_x_pos.long_name = 'X-component EM sensor relative position from centre of horizontal frame, in flight direction'\n",
    "rx_x_x_pos.sign_convention = 'Front of frame is positive'\n",
    "\n",
    "rx_x_y_pos = rx_grp.createVariable(\"Rx_x_component_position_y\",\"f8\",())\n",
    "rx_x_y_pos[:] = 0.\n",
    "rx_x_y_pos.units = 'm'\n",
    "rx_x_y_pos.long_name = 'X-component EM sensor relative position from centre of horizontal frame, perpendicular to flight direction'\n",
    "rx_x_y_pos.sign_convention = 'Starboard of frame is positive'\n",
    "\n",
    "rx_x_z_pos = rx_grp.createVariable(\"Rx_x_component_position_z\",\"f8\",())\n",
    "rx_x_z_pos[:] = -0.04\n",
    "rx_x_z_pos.units = 'm'\n",
    "rx_x_z_pos.long_name = 'X-component EM sensor relative position from centre of horizontal frame, in vertical direction'\n",
    "rx_x_z_pos.sign_convention = 'Down is positive'"
   ]
  },
  {
   "cell_type": "code",
   "execution_count": 21,
   "metadata": {},
   "outputs": [],
   "source": [
    "lm_waverform_current.units = 'normalised_current_amplitude'\n",
    "hm_waverform_current.units = 'normalised_current_amplitude'\n",
    "\n",
    "lm_current_times.units = 'seconds'\n",
    "hm_current_times.units = 'seconds'\n",
    "\n",
    "lm_window_times.units = 'seconds_since_waveform_rampdown'\n",
    "hm_window_times.units = 'seconds_since_waveform_rampdown'"
   ]
  },
  {
   "cell_type": "code",
   "execution_count": 22,
   "metadata": {},
   "outputs": [],
   "source": [
    "# Now we want to calculate the roll pitch and yaw\n",
    "\n",
    "#Input angle X and Y in the SkyTEM sign convention \n",
    "#Nose up      = +ve x-tilt\n",
    "#Left wing up = +ve y-tilt\n",
    "\n",
    "#output roll and pitch are in the GA modelling sign convention\n",
    "#Left wing up = +ve roll    \n",
    "#Nose down is = +ve pitch\n",
    "#turn left is = +ve yaw\n",
    "\n",
    "# As frame roll is simply y-tilt we just rename the variable\n",
    "try:\n",
    "    d.renameVariable('y_tilt', 'roll')\n",
    "except KeyError:\n",
    "    print('Variable not found')\n",
    "\n",
    "# We need to recalcualte for the GA convention\n",
    "d2r = math.pi/180\n",
    "r2d = 180/math.pi\n",
    "try:\n",
    "    # From Ross' tilt2rollpitchyaw function\n",
    "    frame_pitch = -r2d * np.arcsin(np.sin(d2r*d.variables['x_tilt'][:])/\n",
    "                                   np.cos(d2r*d.variables['roll'][:]))\n",
    "    d.variables['x_tilt'][:] = frame_pitch\n",
    "    d.renameVariable('x_tilt', 'pitch')\n",
    "except KeyError:\n",
    "    print('Variable not found')\n",
    "\n",
    "# Yaw is zero so we can just create a scalar variable\n",
    "yaw =  d.createVariable(\"yaw\",\"f8\",())\n",
    "yaw[:] = 0\n"
   ]
  },
  {
   "cell_type": "code",
   "execution_count": 23,
   "metadata": {},
   "outputs": [],
   "source": [
    "# Add an attribute describing the sign convention\n",
    "pitch = d['pitch']\n",
    "pitch.sign_convention = 'Nose down is positive pitch'\n",
    "\n",
    "roll = d['roll']\n",
    "pitch.sign_convention = 'Left wing up is positive roll'\n",
    "\n",
    "d['yaw'].long_name = 'Rotation of frame vertical axis'\n"
   ]
  },
  {
   "cell_type": "code",
   "execution_count": 24,
   "metadata": {},
   "outputs": [],
   "source": [
    "def rollpitchyaw_array(roll, pitch, yaw):\n",
    "    \"\"\"\n",
    "    FRom Ross' rollpitchyaw_matrix.m\n",
    "    \"\"\"\n",
    "\n",
    "    d2r = math.pi/180\n",
    "    # Calculate the cosine and sine of role, pitch and yaw\n",
    "    cosr = np.cos(d2r*roll);\n",
    "    cosp = np.cos(d2r*pitch);\n",
    "    cosy = np.cos(d2r*yaw);\n",
    "\n",
    "    sinr = np.sin(d2r*roll);\n",
    "    sinp = np.sin(d2r*pitch);\n",
    "    siny = np.sin(d2r*yaw)\n",
    "    # Create the array\n",
    "    a = np.zeros(shape = (roll.shape[0],3,3), dtype = np.float32)\n",
    "    a[:,0,0] = cosp*cosy\n",
    "    a[:,0,1] = cosp*siny\n",
    "    a[:,0,2] = -sinp\n",
    "    a[:,1,0] = sinr*sinp*cosy - cosr*siny\n",
    "    a[:,1,1] = sinr*sinp*siny + cosr*cosy\n",
    "    a[:,1,2] = sinr*cosp\n",
    "    a[:,2,0] = cosr*sinp*cosy + sinr*siny\n",
    "    a[:,2,1] = cosr*sinp*siny - sinr*cosy\n",
    "    a[:,2,2] = cosr*cosp\n",
    "    \n",
    "    return a\n"
   ]
  },
  {
   "cell_type": "code",
   "execution_count": 25,
   "metadata": {},
   "outputs": [],
   "source": [
    "# Get the offsets for the receiver\n",
    "\n",
    "yaw_arr = yaw[:]*np.ones(shape=roll[:].shape,\n",
    "              dtype = roll[:].dtype)\n",
    "\n",
    "R = rollpitchyaw_array(roll[:], pitch[:],\n",
    "                       yaw_arr)\n",
    "# Get the offsets of the receiver when the frame is horizontal\n",
    "txrx_dx = d['Receiver']['Rx_z_component_position_x'][:]\n",
    "txrx_dy = d['Receiver']['Rx_z_component_position_y'][:] \n",
    "txrx_dz = d['Receiver']['Rx_z_component_position_z'][:]\n",
    "\n",
    "v0 = np.array([txrx_dx, txrx_dy, txrx_dz])\n",
    "\n",
    "# Get matrix products of two arrays\n",
    "\n",
    "V = np.matmul(v0, R)\n"
   ]
  },
  {
   "cell_type": "code",
   "execution_count": 26,
   "metadata": {},
   "outputs": [],
   "source": [
    "# Create variables\n",
    "\n",
    "txrx_dx = d.createVariable(\"TxRx_dx\",\"f8\",('point'))\n",
    "txrx_dx[:] = V[:,0]\n",
    "txrx_dx.units = 'm'\n",
    "txrx_dx.aseg_gdf_format = 'E7.2'\n",
    "txrx_dx.long_name = 'Z-component EM sensor relative position from centre of frame, in flight direction'\n",
    "txrx_dx.sign_convention = 'Front of frame is positive'\n",
    "\n",
    "txrx_dy = d.createVariable(\"TxRx_dy\",\"f8\",('point'))\n",
    "txrx_dy[:] = V[:,1]\n",
    "txrx_dy.units = 'm'\n",
    "txrx_dy.aseg_gdf_format = 'E7.2'\n",
    "txrx_dy.long_name = 'X-component EM sensor relative position from centre of frame, perpendicular to flight direction'\n",
    "txrx_dy.sign_convention = 'Starboard of frame is positive'\n",
    "\n",
    "txrx_dz = d.createVariable(\"TxRx_dz\",\"f8\",('point'))\n",
    "txrx_dz[:] = V[:,2]\n",
    "txrx_dz.units = 'm'\n",
    "txrx_dz.aseg_gdf_format = 'E7.2'\n",
    "txrx_dz.long_name = 'X-component EM sensor relative position from centre of frame, in vertical direction'\n",
    "txrx_dz.sign_convention = 'Down is positive'"
   ]
  },
  {
   "cell_type": "code",
   "execution_count": 27,
   "metadata": {},
   "outputs": [],
   "source": [
    "d.close()"
   ]
  },
  {
   "cell_type": "code",
   "execution_count": 28,
   "metadata": {},
   "outputs": [],
   "source": [
    "# Create a python object with the EM dataset\n",
    "d = netCDF4.Dataset(nc_out_path, \"r\")"
   ]
  },
  {
   "cell_type": "code",
   "execution_count": 43,
   "metadata": {},
   "outputs": [
    {
     "data": {
      "text/plain": [
       "<class 'netCDF4._netCDF4.Group'>\n",
       "group /Transmitter:\n",
       "    dimensions(sizes): low_moment_current_time(19), high_moment_current_time(15)\n",
       "    variables(dimensions): float64 \u001b[4mlow_moment_current_time\u001b[0m(low_moment_current_time), float64 \u001b[4mhigh_moment_current_time\u001b[0m(high_moment_current_time), float64 \u001b[4mlow_moment_waverform_current\u001b[0m(low_moment_current_time), float64 \u001b[4mhigh_moment_waverform_current\u001b[0m(high_moment_current_time), float64 \u001b[4mtx_loop_area\u001b[0m()\n",
       "    groups: "
      ]
     },
     "execution_count": 43,
     "metadata": {},
     "output_type": "execute_result"
    }
   ],
   "source": [
    "d['Transmitter']['tx_']"
   ]
  },
  {
   "cell_type": "code",
   "execution_count": null,
   "metadata": {},
   "outputs": [],
   "source": []
  }
 ],
 "metadata": {
  "kernelspec": {
   "display_name": "Python 3",
   "language": "python",
   "name": "python3"
  },
  "language_info": {
   "codemirror_mode": {
    "name": "ipython",
    "version": 3
   },
   "file_extension": ".py",
   "mimetype": "text/x-python",
   "name": "python",
   "nbconvert_exporter": "python",
   "pygments_lexer": "ipython3",
   "version": "3.6.3"
  }
 },
 "nbformat": 4,
 "nbformat_minor": 2
}
