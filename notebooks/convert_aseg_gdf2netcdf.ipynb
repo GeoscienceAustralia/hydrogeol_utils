{
 "cells": [
  {
   "cell_type": "markdown",
   "metadata": {},
   "source": [
    "This notebook demonstrates the conversion of AEM data from aseg-gdf format to netCDF format\n",
    "\n",
    "Neil Symington\n",
    "neil.symington@ga.gov.au"
   ]
  },
  {
   "cell_type": "code",
   "execution_count": 2,
   "metadata": {},
   "outputs": [
    {
     "name": "stderr",
     "output_type": "stream",
     "text": [
      "DEBUG:matplotlib.pyplot:Loaded backend module://ipykernel.pylab.backend_inline version unknown.\n",
      "DEBUG:root:test\n"
     ]
    }
   ],
   "source": [
    "%matplotlib inline\n",
    "\n",
    "from geophys_utils.netcdf_converter import aseg_gdf2netcdf_converter\n",
    "from geophys_utils.netcdf_converter.aseg_gdf_utils import aseg_gdf_format2dtype\n",
    "from hydrogeol_utils import AEM_utils\n",
    "import netCDF4\n",
    "import os, math\n",
    "import numpy as np\n",
    "import matplotlib.pyplot as plt\n",
    "# SO we can see the logging. This enables us to debug\n",
    "import gc\n",
    "import logging\n",
    "logger = logging.getLogger()\n",
    "logger.setLevel(logging.DEBUG)\n",
    "logging.debug(\"test\")\n"
   ]
  },
  {
   "cell_type": "code",
   "execution_count": 3,
   "metadata": {},
   "outputs": [],
   "source": [
    "\n",
    "#root = r\"\\\\prod.lan\\active\\proj\\futurex\\East_Kimberley\\Data\\Processed\\Geophysics\\AEM\\EK_nbc_inversions\\OrdKeep_borehole_constrained\\combined_aseg_gdf\"\n",
    "root = r\"D:\\East_Kimberley\\Data\\Original\\AEM\\OrdKeep_SkyTEM_190117\\03_LCI\\01_Data\"\n",
    "nc_out_path = os.path.join(root, \"OrdK_WB_MGA52.nc\")\n",
    "\n",
    "dat_in_path = os.path.join(root, 'OrdK_WB_MGA52.dat')\n",
    "#dat_in_path = r\"D:\\SSC\\AEM\\2017_Stuart_Corridor_SkyTEM\\final\\LCI\\line_data\\lines\\100301.asc\"\n",
    "\n",
    "dfn_in_path = os.path.join(root, 'OrdK_WB_MGA52.dfn')\n",
    "crs_string = \"EPSG:28352\""
   ]
  },
  {
   "cell_type": "code",
   "execution_count": 3,
   "metadata": {},
   "outputs": [],
   "source": [
    "# This cell is a hack to deal with the four character 'data' column\n",
    "\n",
    "with open(dat_in_path, 'r') as f:\n",
    "    line = f.readline()\n",
    "    if line[0:4] == 'DATA':\n",
    "        s = f.read()\n",
    "        new_s = s.replace('DATA', '')\n",
    "        s = None\n",
    "        gc.collect()\n"
   ]
  },
  {
   "cell_type": "code",
   "execution_count": 4,
   "metadata": {},
   "outputs": [],
   "source": [
    "# Write new_s into a temporary file\n",
    "dat_temp_path = os.path.join(root, 'OrdK_WB_MGA52_temp.dat')\n",
    "\n",
    "#with open(dat_temp_path, 'w') as f:\n",
    "#    f.write(new_s)\n",
    "          \n"
   ]
  },
  {
   "cell_type": "code",
   "execution_count": 5,
   "metadata": {
    "scrolled": true
   },
   "outputs": [
    {
     "name": "stderr",
     "output_type": "stream",
     "text": [
      "INFO:geophys_utils.netcdf_converter.aseg_gdf2netcdf_converter:Reading definitions file D:\\East_Kimberley\\Data\\Original\\AEM\\OrdKeep_SkyTEM_190117\\03_LCI\\01_Data\\OrdK_WB_MGA52.dfn\n",
      "INFO:geophys_utils.netcdf_converter.aseg_gdf2netcdf_converter:Reading data file D:\\East_Kimberley\\Data\\Original\\AEM\\OrdKeep_SkyTEM_190117\\03_LCI\\01_Data\\OrdK_WB_MGA52_temp.dat\n",
      "INFO:geophys_utils.netcdf_converter.aseg_gdf2netcdf_converter:10000 lines read\n",
      "INFO:geophys_utils.netcdf_converter.aseg_gdf2netcdf_converter:20000 lines read\n",
      "INFO:geophys_utils.netcdf_converter.aseg_gdf2netcdf_converter:30000 lines read\n",
      "INFO:geophys_utils.netcdf_converter.aseg_gdf2netcdf_converter:40000 lines read\n",
      "INFO:geophys_utils.netcdf_converter.aseg_gdf2netcdf_converter:50000 lines read\n",
      "INFO:geophys_utils.netcdf_converter.aseg_gdf2netcdf_converter:60000 lines read\n",
      "INFO:geophys_utils.netcdf_converter.aseg_gdf2netcdf_converter:70000 lines read\n",
      "INFO:geophys_utils.netcdf_converter.aseg_gdf2netcdf_converter:80000 lines read\n",
      "INFO:geophys_utils.netcdf_converter.aseg_gdf2netcdf_converter:90000 lines read\n",
      "INFO:geophys_utils.netcdf_converter.aseg_gdf2netcdf_converter:100000 lines read\n",
      "INFO:geophys_utils.netcdf_converter.aseg_gdf2netcdf_converter:110000 lines read\n",
      "INFO:geophys_utils.netcdf_converter.aseg_gdf2netcdf_converter:120000 lines read\n",
      "INFO:geophys_utils.netcdf_converter.aseg_gdf2netcdf_converter:130000 lines read\n",
      "INFO:geophys_utils.netcdf_converter.aseg_gdf2netcdf_converter:140000 lines read\n",
      "INFO:geophys_utils.netcdf_converter.aseg_gdf2netcdf_converter:150000 lines read\n",
      "INFO:geophys_utils.netcdf_converter.aseg_gdf2netcdf_converter:160000 lines read\n",
      "INFO:geophys_utils.netcdf_converter.aseg_gdf2netcdf_converter:170000 lines read\n",
      "INFO:geophys_utils.netcdf_converter.aseg_gdf2netcdf_converter:180000 lines read\n",
      "INFO:geophys_utils.netcdf_converter.aseg_gdf2netcdf_converter:190000 lines read\n",
      "INFO:geophys_utils.netcdf_converter.aseg_gdf2netcdf_converter:200000 lines read\n",
      "INFO:geophys_utils.netcdf_converter.aseg_gdf2netcdf_converter:210000 lines read\n",
      "INFO:geophys_utils.netcdf_converter.aseg_gdf2netcdf_converter:220000 lines read\n",
      "INFO:geophys_utils.netcdf_converter.aseg_gdf2netcdf_converter:230000 lines read\n",
      "INFO:geophys_utils.netcdf_converter.aseg_gdf2netcdf_converter:240000 lines read\n",
      "INFO:geophys_utils.netcdf_converter.aseg_gdf2netcdf_converter:250000 lines read\n",
      "INFO:geophys_utils.netcdf_converter.aseg_gdf2netcdf_converter:260000 lines read\n",
      "INFO:geophys_utils.netcdf_converter.aseg_gdf2netcdf_converter:270000 lines read\n",
      "INFO:geophys_utils.netcdf_converter.aseg_gdf2netcdf_converter:280000 lines read\n",
      "INFO:geophys_utils.netcdf_converter.aseg_gdf2netcdf_converter:290000 lines read\n",
      "INFO:geophys_utils.netcdf_converter.aseg_gdf2netcdf_converter:300000 lines read\n",
      "INFO:geophys_utils.netcdf_converter.aseg_gdf2netcdf_converter:310000 lines read\n",
      "INFO:geophys_utils.netcdf_converter.aseg_gdf2netcdf_converter:A total of 319416 points were read\n",
      "INFO:geophys_utils.netcdf_converter.aseg_gdf2netcdf_converter:Datatype for variable flight_line changed from float64 to float32\n",
      "INFO:geophys_utils.netcdf_converter.aseg_gdf2netcdf_converter:Datatype for variable ga_project changed from int32 to int16\n",
      "INFO:geophys_utils.netcdf_converter.aseg_gdf2netcdf_converter:Datatype for variable job_no changed from int32 to int16\n"
     ]
    },
    {
     "name": "stdout",
     "output_type": "stream",
     "text": [
      "float32\n",
      "int16\n",
      "int16\n"
     ]
    },
    {
     "name": "stderr",
     "output_type": "stream",
     "text": [
      "INFO:geophys_utils.netcdf_converter.aseg_gdf2netcdf_converter:Datatype for variable fiducial changed from float64 to float32\n"
     ]
    },
    {
     "name": "stdout",
     "output_type": "stream",
     "text": [
      "float32\n"
     ]
    },
    {
     "name": "stderr",
     "output_type": "stream",
     "text": [
      "INFO:geophys_utils.netcdf_converter.aseg_gdf2netcdf_converter:Datatype for variable easting changed from float64 to float32\n",
      "INFO:geophys_utils.netcdf_converter.aseg_gdf2netcdf_converter:Datatype for variable northing changed from float64 to float32\n",
      "INFO:geophys_utils.netcdf_converter.aseg_gdf2netcdf_converter:Datatype for variable elevation changed from float64 to float32\n",
      "INFO:geophys_utils.netcdf_converter.aseg_gdf2netcdf_converter:Datatype for variable data_residual changed from float64 to float32\n"
     ]
    },
    {
     "name": "stdout",
     "output_type": "stream",
     "text": [
      "float32\n",
      "float32\n",
      "float32\n",
      "float32\n"
     ]
    },
    {
     "name": "stderr",
     "output_type": "stream",
     "text": [
      "INFO:geophys_utils.netcdf_converter.aseg_gdf2netcdf_converter:Datatype for variable tx_height_measured changed from float64 to float32\n",
      "INFO:geophys_utils.netcdf_converter.aseg_gdf2netcdf_converter:Datatype for variable tx_height_inverted changed from float64 to float32\n",
      "INFO:geophys_utils.netcdf_converter.aseg_gdf2netcdf_converter:Datatype for variable depth_of_investigation changed from float64 to float32\n"
     ]
    },
    {
     "name": "stdout",
     "output_type": "stream",
     "text": [
      "float32\n",
      "float32\n",
      "float32\n"
     ]
    },
    {
     "name": "stderr",
     "output_type": "stream",
     "text": [
      "INFO:geophys_utils.netcdf_converter.aseg_gdf2netcdf_converter:Datatype for variable elev changed from float64 to float32\n"
     ]
    },
    {
     "name": "stdout",
     "output_type": "stream",
     "text": [
      "float32\n"
     ]
    },
    {
     "name": "stderr",
     "output_type": "stream",
     "text": [
      "INFO:geophys_utils.netcdf_converter.aseg_gdf2netcdf_converter:Datatype for variable conductivity changed from float64 to float32\n"
     ]
    },
    {
     "name": "stdout",
     "output_type": "stream",
     "text": [
      "float32\n"
     ]
    },
    {
     "name": "stderr",
     "output_type": "stream",
     "text": [
      "INFO:geophys_utils.netcdf_converter.aseg_gdf2netcdf_converter:Datatype for variable conductivity_(masked_to_DOI) changed from float64 to float32\n"
     ]
    },
    {
     "name": "stdout",
     "output_type": "stream",
     "text": [
      "float32\n"
     ]
    },
    {
     "name": "stderr",
     "output_type": "stream",
     "text": [
      "INFO:geophys_utils.netcdf_converter.aseg_gdf2netcdf_converter:Datatype for variable conductivity_uncertainty changed from float64 to float32\n",
      "INFO:geophys_utils.netcdf_converter.aseg_gdf2netcdf_converter:Datatype for variable tmi_igrf_lev changed from float64 to float32\n"
     ]
    },
    {
     "name": "stdout",
     "output_type": "stream",
     "text": [
      "float32\n",
      "float32\n",
      "point 319416\n",
      "elev_dim 30\n",
      "layer 30\n"
     ]
    },
    {
     "name": "stderr",
     "output_type": "stream",
     "text": [
      "INFO:geophys_utils.netcdf_converter.aseg_gdf2netcdf_converter:\tWriting comments lookup variables\n",
      "INFO:geophys_utils.netcdf_converter.aseg_gdf2netcdf_converter:\tCreating dimension for comments\n",
      "INFO:geophys_utils.netcdf_converter.aseg_gdf2netcdf_converter:\t\tWriting 9 comments lookup values to array variable comments\n",
      "INFO:geophys_utils.netcdf_converter.aseg_gdf2netcdf_converter:\t\tWriting comments lookup indices to array variable comments_index\n",
      "INFO:geophys_utils.netcdf_converter.aseg_gdf2netcdf_converter:\tWriting 1D float32 variable flight_line\n",
      "INFO:geophys_utils.netcdf_converter.aseg_gdf2netcdf_converter:\tWriting single ga_project value to scalar variable\n",
      "INFO:geophys_utils.netcdf_converter.aseg_gdf2netcdf_converter:\tWriting single job_no value to scalar variable\n",
      "INFO:geophys_utils.netcdf_converter.aseg_gdf2netcdf_converter:\tWriting 1D float32 variable fiducial\n",
      "INFO:geophys_utils.netcdf_converter.aseg_gdf2netcdf_converter:\tWriting 1D float64 variable DateTime\n",
      "INFO:geophys_utils.netcdf_converter.aseg_gdf2netcdf_converter:\tWriting line lookup variables\n",
      "INFO:geophys_utils.netcdf_converter.aseg_gdf2netcdf_converter:\tCreating dimension for line\n",
      "INFO:geophys_utils.netcdf_converter.aseg_gdf2netcdf_converter:\t\tWriting 524 line lookup values to array variable line\n",
      "INFO:geophys_utils.netcdf_converter.aseg_gdf2netcdf_converter:\t\tWriting line lookup indices to array variable line_index\n",
      "INFO:geophys_utils.netcdf_converter.aseg_gdf2netcdf_converter:\tWriting 1D float32 variable easting\n",
      "INFO:geophys_utils.netcdf_converter.aseg_gdf2netcdf_converter:\tWriting 1D float32 variable northing\n",
      "INFO:geophys_utils.netcdf_converter.aseg_gdf2netcdf_converter:\tWriting 1D float32 variable elevation\n",
      "INFO:geophys_utils.netcdf_converter.aseg_gdf2netcdf_converter:\tWriting 1D float32 variable data_residual\n",
      "INFO:geophys_utils.netcdf_converter.aseg_gdf2netcdf_converter:\tWriting 1D float32 variable tx_height_measured\n",
      "INFO:geophys_utils.netcdf_converter.aseg_gdf2netcdf_converter:\tWriting 1D float32 variable tx_height_inverted\n",
      "INFO:geophys_utils.netcdf_converter.aseg_gdf2netcdf_converter:\tWriting 1D float32 variable depth_of_investigation\n",
      "INFO:geophys_utils.netcdf_converter.aseg_gdf2netcdf_converter:\tWriting 2D float32 variable elev\n",
      "INFO:geophys_utils.netcdf_converter.aseg_gdf2netcdf_converter:\tWriting 2D float32 variable conductivity\n",
      "INFO:geophys_utils.netcdf_converter.aseg_gdf2netcdf_converter:\tWriting 2D float32 variable conductivity_(masked_to_DOI)\n",
      "INFO:geophys_utils.netcdf_converter.aseg_gdf2netcdf_converter:\tWriting 2D float32 variable conductivity_uncertainty\n",
      "INFO:geophys_utils.netcdf_converter.aseg_gdf2netcdf_converter:\tWriting 1D float32 variable tmi_igrf_lev\n",
      "INFO:geophys_utils.netcdf_converter.aseg_gdf2netcdf_converter:Creating crs, longitude and latitude variables for unprojected CRS\n",
      "INFO:geophys_utils.netcdf_converter.aseg_gdf2netcdf_converter:Creating new crs variable for unprojected CRS\n",
      "INFO:geophys_utils.netcdf_converter.aseg_gdf2netcdf_converter:Creating new longitude variable\n",
      "INFO:geophys_utils.netcdf_converter.aseg_gdf2netcdf_converter:Creating new latitude variable\n",
      "INFO:geophys_utils.netcdf_converter.aseg_gdf2netcdf_converter:Re-writing new global attributes for new CRS\n"
     ]
    }
   ],
   "source": [
    "if os.path.exists(nc_out_path):\n",
    "    os.remove(nc_out_path)\n",
    "\n",
    "d2n = aseg_gdf2netcdf_converter.ASEGGDF2NetCDFConverter(nc_out_path, \n",
    "                                                 dat_temp_path, \n",
    "                                                 dfn_in_path,\n",
    "                                                 crs_string,\n",
    "                                                 fix_precision=True,\n",
    "                                                 remove_null_columns = False)\n",
    "d2n.convert2netcdf()                                      "
   ]
  },
  {
   "cell_type": "code",
   "execution_count": 4,
   "metadata": {},
   "outputs": [],
   "source": [
    "# Create a python object with the EM dataset\n",
    "d = netCDF4.Dataset(nc_out_path, \"a\")"
   ]
  },
  {
   "cell_type": "code",
   "execution_count": 21,
   "metadata": {},
   "outputs": [],
   "source": [
    "# For consistency lets convert mS/m to S/m\n",
    "\n",
    "d['conductivity_(masked_to_DOI)'][:] = 0.001*d['conductivity_(masked_to_DOI)'][:]"
   ]
  },
  {
   "cell_type": "code",
   "execution_count": 22,
   "metadata": {},
   "outputs": [],
   "source": [
    "d['conductivity_(masked_to_DOI)'][:].units = 'S/m'"
   ]
  },
  {
   "cell_type": "code",
   "execution_count": 28,
   "metadata": {},
   "outputs": [],
   "source": [
    "top_layers = np.array([0,5,10.4,16.2,22.5,29.2,36.5,44.3,52.8,61.9,71.7,82.3,93.7,105.9,119.2,133.5,148.8,165.4,183.3,\n",
    "              202.6,223.3,245.7,269.8,295.8,323.8,354,386.6,421.6,459.4,500.2])\n",
    "\n",
    "layer_top_depth = np.zeros(shape = d['conductivity_(masked_to_DOI)'][:].shape, dtype = np.float32)\n",
    "\n",
    "layer_top_depth[:] = np.tile(top_layers, d['conductivity'].shape[0]).reshape(d['conductivity'].shape)"
   ]
  },
  {
   "cell_type": "code",
   "execution_count": 32,
   "metadata": {},
   "outputs": [],
   "source": [
    "#ltop = d.createVariable(\"layer_top_depth\",\"f8\",(\"point\",\"layer\"))\n",
    "ltop[:] = layer_top_depth\n",
    "\n",
    "ltop.long_name = \"Depth to the top of the layer\"\n",
    "ltop.unit = \"m\"\n",
    "ltop.aseg_gdf_format = \"30E9.3\""
   ]
  },
  {
   "cell_type": "code",
   "execution_count": 37,
   "metadata": {},
   "outputs": [],
   "source": [
    "d.close()"
   ]
  },
  {
   "cell_type": "code",
   "execution_count": 23,
   "metadata": {},
   "outputs": [
    {
     "data": {
      "text/plain": [
       "odict_keys(['transverse_mercator', 'comments', 'comments_index', 'flight_line', 'ga_project', 'job_no', 'fiducial', 'DateTime', 'line', 'line_index', 'easting', 'northing', 'elevation', 'data_residual', 'tx_height_measured', 'tx_height_inverted', 'depth_of_investigation', 'elev', 'conductivity', 'conductivity_(masked_to_DOI)', 'conductivity_uncertainty', 'tmi_igrf_lev', 'crs', 'longitude', 'latitude'])"
      ]
     },
     "execution_count": 23,
     "metadata": {},
     "output_type": "execute_result"
    }
   ],
   "source": [
    "d.variables.keys()#['rel_uncertainty_low_moment_z-component'][:]"
   ]
  },
  {
   "cell_type": "code",
   "execution_count": null,
   "metadata": {},
   "outputs": [],
   "source": [
    "# Now we want to parse the stm files\n",
    "\n",
    "# Create an AEM system instance\n",
    "skytem = AEM_utils.AEM_System(\"SkyTEM312Fast\", dual_moment = True)\n",
    "\n",
    "# Open the lm and hm files\n",
    "root = r\"\\\\prod.lan\\active\\proj\\futurex\\East_Kimberley\\Working\\SharedWorkspace\\OK_AEM_working\\EastKimberley\\stmfiles\"\n",
    "\n",
    "lm_file = os.path.join(root, \"Skytem312Fast-LM_pV.stm\")\n",
    "\n",
    "hm_file = os.path.join(root, \"Skytem312Fast-HM_pV.stm\")\n",
    "\n",
    "# Parse\n",
    "skytem.parse_stm_file(lm_file, 'LM')\n",
    "\n",
    "skytem.parse_stm_file(hm_file, 'HM')"
   ]
  },
  {
   "cell_type": "code",
   "execution_count": null,
   "metadata": {},
   "outputs": [],
   "source": [
    "skytem.LM"
   ]
  },
  {
   "cell_type": "code",
   "execution_count": null,
   "metadata": {},
   "outputs": [],
   "source": [
    "\n",
    "lm_a = skytem.LM['Transmitter']['WaveFormCurrent']\n",
    "hm_a = skytem.HM['Transmitter']['WaveFormCurrent']"
   ]
  },
  {
   "cell_type": "code",
   "execution_count": null,
   "metadata": {},
   "outputs": [],
   "source": [
    "\n",
    "\n",
    "\n",
    "plt.plot(lm_a[:,0], lm_a[:,1], 'k')\n",
    "plt.plot(hm_a[:,0], hm_a[:,1], 'r')\n",
    "plt.show()"
   ]
  },
  {
   "cell_type": "code",
   "execution_count": null,
   "metadata": {},
   "outputs": [],
   "source": [
    "# Now we want to add this metadata to the netcdf file\n",
    "\n",
    "tx_grp = d.createGroup('Transmitter')\n",
    "\n",
    "\n",
    "# Dimensions for the current times\n",
    "lm_current_times = tx_grp.createDimension(\"low_moment_current_time\", \n",
    "                                    skytem.LM['Transmitter']['WaveFormCurrent'].shape[0])\n",
    "\n",
    "hm_current_times = tx_grp.createDimension(\"high_moment_current_time\", \n",
    "                                    skytem.HM['Transmitter']['WaveFormCurrent'].shape[0])\n",
    "\n"
   ]
  },
  {
   "cell_type": "code",
   "execution_count": null,
   "metadata": {},
   "outputs": [],
   "source": [
    "# Create dimension variables\n",
    "\n",
    "lm_current_times = tx_grp.createVariable(\"low_moment_current_time\",\"f8\",(\"low_moment_current_time\",))\n",
    "hm_current_times = tx_grp.createVariable(\"high_moment_current_time\",\"f8\",(\"high_moment_current_time\",))\n",
    "\n"
   ]
  },
  {
   "cell_type": "code",
   "execution_count": null,
   "metadata": {},
   "outputs": [],
   "source": [
    "# Create other variables\n",
    "\n",
    "lm_waverform_current = tx_grp.createVariable(\"low_moment_waverform_current\",\"f8\",(\"low_moment_current_time\",))\n",
    "\n",
    "hm_waverform_current = tx_grp.createVariable(\"high_moment_waverform_current\",\"f8\",(\"high_moment_current_time\",))"
   ]
  },
  {
   "cell_type": "code",
   "execution_count": null,
   "metadata": {},
   "outputs": [],
   "source": [
    "# Add data to the variables\n",
    "\n",
    "lm_current = skytem.LM['Transmitter']['WaveFormCurrent']\n",
    "hm_current = skytem.HM['Transmitter']['WaveFormCurrent']\n",
    "\n",
    "lm_current_times[:] = lm_current[:,0]\n",
    "hm_current_times[:] = hm_current[:,0]\n",
    "\n",
    "lm_waverform_current[:] = lm_current[:,1]\n",
    "hm_waverform_current[:] = hm_current[:,1]"
   ]
  },
  {
   "cell_type": "code",
   "execution_count": null,
   "metadata": {},
   "outputs": [],
   "source": [
    "# Add an scalar vats for frame geometries assuming a horizontal frame\n",
    "# These are from the SkyTEM files\n",
    "\n",
    "\n",
    "\n",
    "tx_area = tx_grp.createVariable('tx_loop_area',\"f8\",())\n",
    "tx_area[:] = 337.\n",
    "tx_area.units = 'm**2'\n",
    "tx_area.long_name = \"Transmitter (Tx) Loop Area\"\n"
   ]
  },
  {
   "cell_type": "code",
   "execution_count": null,
   "metadata": {},
   "outputs": [],
   "source": [
    "rx_grp = d.createGroup('Receiver')"
   ]
  },
  {
   "cell_type": "code",
   "execution_count": null,
   "metadata": {},
   "outputs": [],
   "source": [
    "gate_openclose = rx_grp.createDimension(\"gate_open_close\", \n",
    "                                   2)\n",
    "gates = rx_grp.createVariable(\"gate_open_close\",\"i1\",(\"gate_open_close\",))\n"
   ]
  },
  {
   "cell_type": "code",
   "execution_count": null,
   "metadata": {},
   "outputs": [],
   "source": [
    "\n",
    "\n",
    "lm_window_times =  rx_grp.createVariable(\"low_moment_window_time\",\"f8\",(\"low_moment_gate\",\n",
    "                                                                  \"gate_open_close\"))\n",
    "\n",
    "hm_window_times =  rx_grp.createVariable(\"high_moment_window_time\",\"f8\",(\"high_moment_gate\",\n",
    "                                                                   \"gate_open_close\"))\n"
   ]
  },
  {
   "cell_type": "code",
   "execution_count": null,
   "metadata": {},
   "outputs": [],
   "source": [
    "# Add data\n",
    "\n",
    "lm_gates = skytem.LM['Receiver']['WindowTimes']\n",
    "hm_gates = skytem.HM['Receiver']['WindowTimes']\n",
    "\n",
    "lm_window_times[:] = lm_gates\n",
    "hm_window_times[:] = hm_gates"
   ]
  },
  {
   "cell_type": "code",
   "execution_count": null,
   "metadata": {},
   "outputs": [],
   "source": [
    "\n",
    "\n",
    "rx_x_pos = rx_grp.createVariable(\"Rx_z_component_position_x\",\"f8\",())\n",
    "rx_x_pos[:] = -13.37\n",
    "rx_x_pos.units = 'm'\n",
    "rx_x_pos.long_name = 'Z-component EM sensor relative position from centre of horizontal frame, in flight direction'\n",
    "rx_x_pos.sign_convention = 'Front of frame is positive'\n",
    "\n",
    "rx_y_pos = rx_grp.createVariable(\"Rx_z_component_position_y\",\"f8\",())\n",
    "rx_y_pos[:] = 0.\n",
    "rx_y_pos.units = 'm'\n",
    "rx_y_pos.long_name = 'Z-component EM sensor relative position from centre of horizontal frame, perpendicular to flight direction'\n",
    "rx_y_pos.sign_convention = 'Starboard of frame is positive'\n",
    "\n",
    "rx_z_pos = rx_grp.createVariable(\"Rx_z_component_position_z\",\"f8\",())\n",
    "rx_z_pos[:] = -2.\n",
    "rx_z_pos.units = 'm'\n",
    "rx_z_pos.long_name = 'Z-component EM sensor relative position from centre of horizontal frame, in vertical direction'\n",
    "rx_z_pos.sign_convention = 'Down is positive'"
   ]
  },
  {
   "cell_type": "code",
   "execution_count": null,
   "metadata": {},
   "outputs": [],
   "source": [
    "rx_x_x_pos = rx_grp.createVariable(\"Rx_x_component_position_x\",\"f8\",())\n",
    "rx_x_x_pos[:] = -14.75\n",
    "rx_x_x_pos.units = 'm'\n",
    "rx_x_x_pos.long_name = 'X-component EM sensor relative position from centre of horizontal frame, in flight direction'\n",
    "rx_x_x_pos.sign_convention = 'Front of frame is positive'\n",
    "\n",
    "rx_x_y_pos = rx_grp.createVariable(\"Rx_x_component_position_y\",\"f8\",())\n",
    "rx_x_y_pos[:] = 0.\n",
    "rx_x_y_pos.units = 'm'\n",
    "rx_x_y_pos.long_name = 'X-component EM sensor relative position from centre of horizontal frame, perpendicular to flight direction'\n",
    "rx_x_y_pos.sign_convention = 'Starboard of frame is positive'\n",
    "\n",
    "rx_x_z_pos = rx_grp.createVariable(\"Rx_x_component_position_z\",\"f8\",())\n",
    "rx_x_z_pos[:] = -0.04\n",
    "rx_x_z_pos.units = 'm'\n",
    "rx_x_z_pos.long_name = 'X-component EM sensor relative position from centre of horizontal frame, in vertical direction'\n",
    "rx_x_z_pos.sign_convention = 'Down is positive'"
   ]
  },
  {
   "cell_type": "code",
   "execution_count": null,
   "metadata": {},
   "outputs": [],
   "source": [
    "lm_waverform_current.units = 'normalised_current_amplitude'\n",
    "hm_waverform_current.units = 'normalised_current_amplitude'\n",
    "\n",
    "lm_current_times.units = 'seconds'\n",
    "hm_current_times.units = 'seconds'\n",
    "\n",
    "lm_window_times.units = 'seconds_since_waveform_rampdown'\n",
    "hm_window_times.units = 'seconds_since_waveform_rampdown'"
   ]
  },
  {
   "cell_type": "code",
   "execution_count": null,
   "metadata": {},
   "outputs": [],
   "source": [
    "# Now we want to calculate the roll pitch and yaw\n",
    "\n",
    "#Input angle X and Y in the SkyTEM sign convention \n",
    "#Nose up      = +ve x-tilt\n",
    "#Left wing up = +ve y-tilt\n",
    "\n",
    "#output roll and pitch are in the GA modelling sign convention\n",
    "#Left wing up = +ve roll    \n",
    "#Nose down is = +ve pitch\n",
    "#turn left is = +ve yaw\n",
    "\n",
    "# As frame roll is simply y-tilt we just rename the variable\n",
    "try:\n",
    "    d.renameVariable('y_tilt', 'roll')\n",
    "except KeyError:\n",
    "    print('Variable not found')\n",
    "\n",
    "# We need to recalcualte for the GA convention\n",
    "d2r = math.pi/180\n",
    "r2d = 180/math.pi\n",
    "try:\n",
    "    # From Ross' tilt2rollpitchyaw function\n",
    "    frame_pitch = -r2d * np.arcsin(np.sin(d2r*d.variables['x_tilt'][:])/\n",
    "                                   np.cos(d2r*d.variables['roll'][:]))\n",
    "    d.variables['x_tilt'][:] = frame_pitch\n",
    "    d.renameVariable('x_tilt', 'pitch')\n",
    "except KeyError:\n",
    "    print('Variable not found')\n",
    "\n",
    "# Yaw is zero so we can just create a scalar variable\n",
    "yaw =  d.createVariable(\"yaw\",\"f8\",())\n",
    "yaw[:] = 0\n"
   ]
  },
  {
   "cell_type": "code",
   "execution_count": null,
   "metadata": {},
   "outputs": [],
   "source": [
    "# Add an attribute describing the sign convention\n",
    "pitch = d['pitch']\n",
    "pitch.sign_convention = 'Nose down is positive pitch'\n",
    "\n",
    "roll = d['roll']\n",
    "pitch.sign_convention = 'Left wing up is positive roll'\n",
    "\n",
    "d['yaw'].long_name = 'Rotation of frame vertical axis'\n"
   ]
  },
  {
   "cell_type": "code",
   "execution_count": null,
   "metadata": {},
   "outputs": [],
   "source": [
    "def rollpitchyaw_array(roll, pitch, yaw):\n",
    "    \"\"\"\n",
    "    FRom Ross' rollpitchyaw_matrix.m\n",
    "    \"\"\"\n",
    "\n",
    "    d2r = math.pi/180\n",
    "    # Calculate the cosine and sine of role, pitch and yaw\n",
    "    cosr = np.cos(d2r*roll);\n",
    "    cosp = np.cos(d2r*pitch);\n",
    "    cosy = np.cos(d2r*yaw);\n",
    "\n",
    "    sinr = np.sin(d2r*roll);\n",
    "    sinp = np.sin(d2r*pitch);\n",
    "    siny = np.sin(d2r*yaw)\n",
    "    # Create the array\n",
    "    a = np.zeros(shape = (roll.shape[0],3,3), dtype = np.float32)\n",
    "    a[:,0,0] = cosp*cosy\n",
    "    a[:,0,1] = cosp*siny\n",
    "    a[:,0,2] = -sinp\n",
    "    a[:,1,0] = sinr*sinp*cosy - cosr*siny\n",
    "    a[:,1,1] = sinr*sinp*siny + cosr*cosy\n",
    "    a[:,1,2] = sinr*cosp\n",
    "    a[:,2,0] = cosr*sinp*cosy + sinr*siny\n",
    "    a[:,2,1] = cosr*sinp*siny - sinr*cosy\n",
    "    a[:,2,2] = cosr*cosp\n",
    "    \n",
    "    return a\n"
   ]
  },
  {
   "cell_type": "code",
   "execution_count": null,
   "metadata": {},
   "outputs": [],
   "source": [
    "# Get the offsets for the receiver\n",
    "\n",
    "yaw_arr = yaw[:]*np.ones(shape=roll[:].shape,\n",
    "              dtype = roll[:].dtype)\n",
    "\n",
    "R = rollpitchyaw_array(roll[:], pitch[:],\n",
    "                       yaw_arr)\n",
    "# Get the offsets of the receiver when the frame is horizontal\n",
    "txrx_dx = d['Receiver']['Rx_z_component_position_x'][:]\n",
    "txrx_dy = d['Receiver']['Rx_z_component_position_y'][:] \n",
    "txrx_dz = d['Receiver']['Rx_z_component_position_z'][:]\n",
    "\n",
    "v0 = np.array([txrx_dx, txrx_dy, txrx_dz])\n",
    "\n",
    "# Get matrix products of two arrays\n",
    "\n",
    "V = np.matmul(v0, R)\n"
   ]
  },
  {
   "cell_type": "code",
   "execution_count": null,
   "metadata": {},
   "outputs": [],
   "source": [
    "# Create variables\n",
    "\n",
    "txrx_dx = d.createVariable(\"TxRx_dx\",\"f8\",('point'))\n",
    "txrx_dx[:] = V[:,0]\n",
    "txrx_dx.units = 'm'\n",
    "txrx_dx.aseg_gdf_format = 'E7.2'\n",
    "txrx_dx.long_name = 'Z-component EM sensor relative position from centre of frame, in flight direction'\n",
    "txrx_dx.sign_convention = 'Front of frame is positive'\n",
    "\n",
    "txrx_dy = d.createVariable(\"TxRx_dy\",\"f8\",('point'))\n",
    "txrx_dy[:] = V[:,1]\n",
    "txrx_dy.units = 'm'\n",
    "txrx_dy.aseg_gdf_format = 'E7.2'\n",
    "txrx_dy.long_name = 'X-component EM sensor relative position from centre of frame, perpendicular to flight direction'\n",
    "txrx_dy.sign_convention = 'Starboard of frame is positive'\n",
    "\n",
    "txrx_dz = d.createVariable(\"TxRx_dz\",\"f8\",('point'))\n",
    "txrx_dz[:] = V[:,2]\n",
    "txrx_dz.units = 'm'\n",
    "txrx_dz.aseg_gdf_format = 'E7.2'\n",
    "txrx_dz.long_name = 'X-component EM sensor relative position from centre of frame, in vertical direction'\n",
    "txrx_dz.sign_convention = 'Down is positive'"
   ]
  },
  {
   "cell_type": "code",
   "execution_count": null,
   "metadata": {},
   "outputs": [],
   "source": [
    "d.close()"
   ]
  },
  {
   "cell_type": "code",
   "execution_count": null,
   "metadata": {},
   "outputs": [],
   "source": [
    "# Create a python object with the EM dataset\n",
    "d = netCDF4.Dataset(nc_out_path, \"r\")"
   ]
  },
  {
   "cell_type": "code",
   "execution_count": null,
   "metadata": {},
   "outputs": [],
   "source": [
    "d['Transmitter']['tx_loop_area'].units"
   ]
  },
  {
   "cell_type": "code",
   "execution_count": null,
   "metadata": {},
   "outputs": [],
   "source": []
  }
 ],
 "metadata": {
  "@webio": {
   "lastCommId": null,
   "lastKernelId": null
  },
  "kernelspec": {
   "display_name": "Python 3",
   "language": "python",
   "name": "python3"
  },
  "language_info": {
   "codemirror_mode": {
    "name": "ipython",
    "version": 3
   },
   "file_extension": ".py",
   "mimetype": "text/x-python",
   "name": "python",
   "nbconvert_exporter": "python",
   "pygments_lexer": "ipython3",
   "version": "3.7.4"
  }
 },
 "nbformat": 4,
 "nbformat_minor": 2
}
