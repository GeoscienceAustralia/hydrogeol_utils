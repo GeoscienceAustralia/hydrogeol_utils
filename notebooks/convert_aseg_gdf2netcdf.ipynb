{
 "cells": [
  {
   "cell_type": "markdown",
   "metadata": {},
   "source": [
    "This notebook demonstrates the conversion of AEM data from aseg-gdf format to netCDF format\n",
    "\n",
    "Neil Symington\n",
    "neil.symington@ga.gov.au"
   ]
  },
  {
   "cell_type": "code",
   "execution_count": 1,
   "metadata": {},
   "outputs": [],
   "source": [
    "from geophys_utils.netcdf_converter import aseg_gdf2netcdf_converter\n",
    "import netCDF4\n",
    "import os\n",
    "import numpy as np"
   ]
  },
  {
   "cell_type": "code",
   "execution_count": null,
   "metadata": {},
   "outputs": [],
   "source": [
    "\n",
    "#root = r\"\\\\prod.lan\\active\\proj\\futurex\\East_Kimberley\\Data\\Processed\\Geophysics\\AEM\\EK_nbc_inversions\\OrdKeep_borehole_constrained\\combined_aseg_gdf\"\n",
    "root = r\"\\\\prod.lan\\active\\proj\\futurex\\East_Kimberley\\Data\\Original\\Geophysics\\AEM\\OrdKeep_SkyTEM_190117\\01_EM\"\n",
    "\n",
    "nc_out_path = os.path.join(root, 'AUS_10021_OrdK_EM.nc')\n",
    "\n",
    "if os.path.exists(nc_out_path):\n",
    "    os.remove(nc_out_path)\n",
    "\n",
    "dat_in_path = os.path.join(root, 'AUS_10021_OrdK_EM.dat')\n",
    "dfn_in_path = os.path.join(root, 'AUS_10021_OrdK_EM.dfn')\n",
    "crs_string = \"EPSG:28352\""
   ]
  },
  {
   "cell_type": "code",
   "execution_count": null,
   "metadata": {},
   "outputs": [],
   "source": [
    "\n",
    "\n",
    "d2n = aseg_gdf2netcdf_converter.ASEGGDF2NetCDFConverter(nc_out_path, \n",
    "                                                 dat_in_path, \n",
    "                                                 dfn_in_path,\n",
    "                                                 crs_string,\n",
    "                                                 fix_precision=False)\n",
    "                                                 "
   ]
  },
  {
   "cell_type": "code",
   "execution_count": null,
   "metadata": {},
   "outputs": [],
   "source": [
    "d2n.convert2netcdf()"
   ]
  },
  {
   "cell_type": "code",
   "execution_count": null,
   "metadata": {},
   "outputs": [],
   "source": [
    "d = netCDF4.Dataset(nc_out_path)"
   ]
  },
  {
   "cell_type": "code",
   "execution_count": null,
   "metadata": {},
   "outputs": [],
   "source": []
  }
 ],
 "metadata": {
  "kernelspec": {
   "display_name": "Python 3",
   "language": "python",
   "name": "python3"
  },
  "language_info": {
   "codemirror_mode": {
    "name": "ipython",
    "version": 3
   },
   "file_extension": ".py",
   "mimetype": "text/x-python",
   "name": "python",
   "nbconvert_exporter": "python",
   "pygments_lexer": "ipython3",
   "version": "3.6.3"
  }
 },
 "nbformat": 4,
 "nbformat_minor": 2
}
