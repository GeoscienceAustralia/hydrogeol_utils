{
 "cells": [
  {
   "cell_type": "markdown",
   "metadata": {},
   "source": [
    "This notebook is used to export data from a netCDF file to a csv file (which is the easiest to import into geoscene3d).\n",
    "\n",
    "Neil Symington\n",
    "neil.symington@ga.gov.au"
   ]
  },
  {
   "cell_type": "code",
   "execution_count": 1,
   "metadata": {},
   "outputs": [],
   "source": [
    "%matplotlib inline\n",
    "import matplotlib.pyplot as plt\n",
    "import netCDF4\n",
    "import os, subprocess\n",
    "import re\n",
    "import numpy as np\n",
    "import fiona\n",
    "from shapely.geometry import Polygon, MultiPoint\n",
    "from geophys_utils._netcdf_point_utils import NetCDFPointUtils\n",
    "from hydrogeol_utils import spatial_functions\n",
    "import rasterio\n",
    "import pandas as pd\n",
    "import time"
   ]
  },
  {
   "cell_type": "code",
   "execution_count": 2,
   "metadata": {},
   "outputs": [
    {
     "data": {
      "text/plain": [
       "<module 'hydrogeol_utils.spatial_functions' from 'c:\\\\users\\\\pcuser\\\\onedrive\\\\github\\\\hydrogeol_utils\\\\hydrogeol_utils\\\\spatial_functions.py'>"
      ]
     },
     "execution_count": 2,
     "metadata": {},
     "output_type": "execute_result"
    }
   ],
   "source": [
    "import importlib\n",
    "importlib.reload(spatial_functions)"
   ]
  },
  {
   "cell_type": "code",
   "execution_count": 3,
   "metadata": {},
   "outputs": [],
   "source": [
    "# Import the data\n",
    "\n",
    "#infile = r\"C:\\Users\\PCUser\\Desktop\\NSC_data\\data\\AEM\\HE\\nc\\HowardsEast_wb_inversion.nc\"\n",
    "\n",
    "infile = \"http://dapds00.nci.org.au/thredds/dodsC/uc0/rr2_dev/axi547/aem/AusAEM_Year1_NT_Final_CND.nc\"\n",
    "\n",
    "lci_dat = netCDF4.Dataset(infile)"
   ]
  },
  {
   "cell_type": "code",
   "execution_count": 4,
   "metadata": {},
   "outputs": [
    {
     "data": {
      "text/plain": [
       "<class 'netCDF4._netCDF4.Dataset'>\n",
       "root group (NETCDF3_CLASSIC data model, file format DAP2):\n",
       "    title: Dataset read from ASEG-GDF file AusAEM_Year1_NT_Final_CND.dat\n",
       "    Conventions: CF-1.6,ACDD-1.3\n",
       "    featureType: trajectory\n",
       "    geospatial_vertical_min: 0.06\n",
       "    geospatial_vertical_max: 0.06\n",
       "    geospatial_vertical_units: m\n",
       "    geospatial_vertical_resolution: point\n",
       "    geospatial_vertical_positive: up\n",
       "    history: Converted from ASEG-GDF file AusAEM_Year1_NT_Final_CND.dat using definitions file AusAEM_Year1_NT_Final_CND.dfn\n",
       "    date_created: 2019-09-20T11:08:31.121466\n",
       "    geospatial_east_resolution: point\n",
       "    geospatial_north_resolution: point\n",
       "    geospatial_lon_min: 131.989990234375\n",
       "    geospatial_lon_max: 138.09056091308594\n",
       "    geospatial_lon_units: degrees East\n",
       "    geospatial_lat_min: -24.06076431274414\n",
       "    geospatial_lat_max: -15.825227737426758\n",
       "    geospatial_lat_units: degrees North\n",
       "    geospatial_bounds: POLYGON((135.1500 -24.0608, 134.1653 -24.0585, 132.3088 -24.0146, 132.0933 -24.0094, 132.0188 -23.6524, 132.0186 -23.6511, 132.0103 -23.6100, 132.0099 -23.6081, 132.0098 -23.6073, 132.0097 -23.6071, 132.0096 -23.6066, 132.0095 -23.6057, 132.0094 -23.6050, 132.0094 -23.6046, 132.0093 -23.6040, 131.9948 -23.4168, 131.9948 -23.4164, 131.9948 -23.4161, 131.9947 -23.4156, 131.9947 -23.4149, 131.9947 -23.4144, 131.9900 -15.9909, 133.6762 -15.8716, 136.1132 -15.8252, 137.2242 -15.9921, 137.6588 -16.1767, 137.8879 -16.3401, 137.9948 -16.5413, 137.9950 -16.5420, 137.9952 -16.5426, 137.9953 -16.5431, 137.9953 -16.5433, 137.9955 -16.5441, 137.9957 -16.5447, 137.9957 -16.5450, 137.9958 -16.5454, 137.9995 -16.5651, 137.9996 -16.5658, 137.9996 -16.5659, 137.9996 -16.5662, 137.9997 -16.5670, 137.9998 -16.5678, 137.9999 -16.5685, 138.0000 -16.5689, 138.0000 -16.5693, 138.0000 -16.5697, 138.0001 -16.5704, 138.0558 -17.6158, 138.0558 -17.6162, 138.0906 -22.3642, 138.0001 -24.0091, 137.7015 -24.0158, 135.1500 -24.0608))\n",
       "    keywords: geophysics, airborne, AEM, conductivity\n",
       "    dimensions(sizes): flight(73), layer(100), line(120), point(2346636)\n",
       "    variables(dimensions): int8 \u001b[4mcrs\u001b[0m(), int32 \u001b[4mline\u001b[0m(line), int8 \u001b[4mline_index\u001b[0m(point), int16 \u001b[4mflight\u001b[0m(flight), int8 \u001b[4mflight_index\u001b[0m(point), float32 \u001b[4mfiducial\u001b[0m(point), int32 \u001b[4mproj_cgg\u001b[0m(), int32 \u001b[4mproj_client\u001b[0m(), int32 \u001b[4mdate\u001b[0m(point), float32 \u001b[4mtime_local\u001b[0m(point), float32 \u001b[4mtime_utc\u001b[0m(point), float32 \u001b[4mgps_time\u001b[0m(point), float32 \u001b[4mtx_bearing\u001b[0m(point), float32 \u001b[4mlatitude\u001b[0m(point), float32 \u001b[4mlongitude\u001b[0m(point), float32 \u001b[4measting\u001b[0m(point), float32 \u001b[4mnorthing\u001b[0m(point), float32 \u001b[4mgps_elevation\u001b[0m(point), float32 \u001b[4mtx_elevation\u001b[0m(point), float32 \u001b[4mlidar\u001b[0m(point), float32 \u001b[4mradalt\u001b[0m(point), float32 \u001b[4mdtm\u001b[0m(point), float32 \u001b[4mmag\u001b[0m(point), float32 \u001b[4mtx_height\u001b[0m(point), float32 \u001b[4mcond_xz\u001b[0m(point,layer), int16 \u001b[4mcond_xz_depth\u001b[0m(point,layer), float32 \u001b[4mcdi_depth_slice_01\u001b[0m(point), float32 \u001b[4mcdi_depth_slice_02\u001b[0m(point), float32 \u001b[4mcdi_depth_slice_03\u001b[0m(point), float32 \u001b[4mcdi_depth_slice_04\u001b[0m(point), float32 \u001b[4mcdi_depth_slice_05\u001b[0m(point), float32 \u001b[4mcdi_depth_slice_06\u001b[0m(point), float32 \u001b[4mcdi_depth_slice_07\u001b[0m(point), float32 \u001b[4mcdi_depth_slice_08\u001b[0m(point), float32 \u001b[4mcdi_depth_slice_09\u001b[0m(point), float32 \u001b[4mcdi_depth_slice_10\u001b[0m(point)\n",
       "    groups: "
      ]
     },
     "execution_count": 4,
     "metadata": {},
     "output_type": "execute_result"
    }
   ],
   "source": [
    "lci_dat#['data_residual'][:].shape"
   ]
  },
  {
   "cell_type": "code",
   "execution_count": 5,
   "metadata": {},
   "outputs": [
    {
     "name": "stderr",
     "output_type": "stream",
     "text": [
      "C:\\Users\\PCUser\\Anaconda3\\envs\\hydrogeol_utils\\lib\\site-packages\\ipykernel_launcher.py:7: FionaDeprecationWarning: Collection.__next__() is buggy and will be removed in Fiona 2.0. Switch to `next(iter(collection))`.\n",
      "  import sys\n",
      "C:\\Users\\PCUser\\Anaconda3\\envs\\hydrogeol_utils\\lib\\site-packages\\ipykernel_launcher.py:8: FionaDeprecationWarning: Collection.__next__() is buggy and will be removed in Fiona 2.0. Switch to `next(iter(collection))`.\n",
      "  \n",
      "C:\\Users\\PCUser\\Anaconda3\\envs\\hydrogeol_utils\\lib\\site-packages\\ipykernel_launcher.py:9: FionaDeprecationWarning: Collection.__next__() is buggy and will be removed in Fiona 2.0. Switch to `next(iter(collection))`.\n",
      "  if __name__ == '__main__':\n",
      "C:\\Users\\PCUser\\Anaconda3\\envs\\hydrogeol_utils\\lib\\site-packages\\ipykernel_launcher.py:10: FionaDeprecationWarning: Collection.__next__() is buggy and will be removed in Fiona 2.0. Switch to `next(iter(collection))`.\n",
      "  # Remove the CWD from sys.path while we load stuff.\n",
      "C:\\Users\\PCUser\\Anaconda3\\envs\\hydrogeol_utils\\lib\\site-packages\\ipykernel_launcher.py:11: FionaDeprecationWarning: Collection.__next__() is buggy and will be removed in Fiona 2.0. Switch to `next(iter(collection))`.\n",
      "  # This is added back by InteractiveShellApp.init_path()\n",
      "C:\\Users\\PCUser\\Anaconda3\\envs\\hydrogeol_utils\\lib\\site-packages\\ipykernel_launcher.py:12: FionaDeprecationWarning: Collection.__next__() is buggy and will be removed in Fiona 2.0. Switch to `next(iter(collection))`.\n",
      "  if sys.path[0] == '':\n",
      "C:\\Users\\PCUser\\Anaconda3\\envs\\hydrogeol_utils\\lib\\site-packages\\ipykernel_launcher.py:13: FionaDeprecationWarning: Collection.__next__() is buggy and will be removed in Fiona 2.0. Switch to `next(iter(collection))`.\n",
      "  del sys.path[0]\n"
     ]
    }
   ],
   "source": [
    "# Bring in the spatial mask\n",
    "\n",
    "shp_file = r\"C:/Users/PCUser/Desktop/SSC_data/vector/PWC_AEM_polygons.shp\"\n",
    "\n",
    "shape = fiona.open(shp_file)\n",
    "\n",
    "shp = shape.next()\n",
    "shp2 = shape.next()\n",
    "shp3 = shape.next()\n",
    "shp4 = shape.next()\n",
    "shp5 = shape.next()\n",
    "shp6 = shape.next()\n",
    "shp7 = shape.next()"
   ]
  },
  {
   "cell_type": "code",
   "execution_count": 6,
   "metadata": {},
   "outputs": [
    {
     "data": {
      "text/plain": [
       "{'type': 'Feature',\n",
       " 'id': '6',\n",
       " 'properties': OrderedDict([('id', None), ('Community', 'alice')]),\n",
       " 'geometry': {'type': 'Polygon',\n",
       "  'coordinates': [[(138659.057406227, 7561409.007124317),\n",
       "    (519267.8025343473, 7551790.735586783),\n",
       "    (527512.0352808047, 7414386.856479159),\n",
       "    (135910.9798240745, 7421257.050434539),\n",
       "    (138659.057406227, 7561409.007124317)]]}}"
      ]
     },
     "execution_count": 6,
     "metadata": {},
     "output_type": "execute_result"
    }
   ],
   "source": [
    "shp7"
   ]
  },
  {
   "cell_type": "code",
   "execution_count": 7,
   "metadata": {},
   "outputs": [
    {
     "data": {
      "text/plain": [
       "(135910.9798240745, 7414386.856479159, 527512.0352808047, 7561409.007124317)"
      ]
     },
     "execution_count": 7,
     "metadata": {},
     "output_type": "execute_result"
    }
   ],
   "source": [
    "poly = Polygon(shp7['geometry']['coordinates'][0])\n",
    "\n",
    "poly.bounds"
   ]
  },
  {
   "cell_type": "code",
   "execution_count": 8,
   "metadata": {},
   "outputs": [
    {
     "data": {
      "text/plain": [
       "<class 'netCDF4._netCDF4.Variable'>\n",
       "float32 easting(point)\n",
       "    projection_name: GDA94/53S\n",
       "    aseg_gdf_format: E10.2\n",
       "    units: m\n",
       "    long_name: UTM Easting (x) ordinate\n",
       "    _FillValue: -99999.99\n",
       "    _ChunkSizes: 1024\n",
       "unlimited dimensions: \n",
       "current shape = (2346636,)\n",
       "filling off"
      ]
     },
     "execution_count": 8,
     "metadata": {},
     "output_type": "execute_result"
    }
   ],
   "source": [
    "lci_dat['easting']"
   ]
  },
  {
   "cell_type": "code",
   "execution_count": 9,
   "metadata": {},
   "outputs": [],
   "source": [
    "cond_point_utils = NetCDFPointUtils(lci_dat)\n",
    "#utm_wkt = 'PROJCS[\"GDA94 / MGA zone 52\",GEOGCS[\"GDA94\",DATUM[\"Geocentric_Datum_of_Australia_1994\",SPHEROID[\"GRS 1980\",6378137,298.257222101,AUTHORITY[\"EPSG\",\"7019\"]],TOWGS84[0,0,0,0,0,0,0],AUTHORITY[\"EPSG\",\"6283\"]],PRIMEM[\"Greenwich\",0,AUTHORITY[\"EPSG\",\"8901\"]],UNIT[\"degree\",0.01745329251994328,AUTHORITY[\"EPSG\",\"9122\"]],AUTHORITY[\"EPSG\",\"4283\"]],UNIT[\"metre\",1,AUTHORITY[\"EPSG\",\"9001\"]],PROJECTION[\"Transverse_Mercator\"],PARAMETER[\"latitude_of_origin\",0],PARAMETER[\"central_meridian\",129],PARAMETER[\"scale_factor\",0.9996],PARAMETER[\"false_easting\",500000],PARAMETER[\"false_northing\",10000000],AUTHORITY[\"EPSG\",\"28352\"],AXIS[\"Easting\",EAST],AXIS[\"Northing\",NORTH]]'\n",
    "utm_wkt = 'PROJCS[\"GDA94 / MGA zone 53\",GEOGCS[\"GDA94\",DATUM[\"Geocentric_Datum_of_Australia_1994\",SPHEROID[\"GRS 1980\",6378137,298.257222101,AUTHORITY[\"EPSG\",\"7019\"]],TOWGS84[0,0,0,0,0,0,0],AUTHORITY[\"EPSG\",\"6283\"]],PRIMEM[\"Greenwich\",0,AUTHORITY[\"EPSG\",\"8901\"]],UNIT[\"degree\",0.01745329251994328,AUTHORITY[\"EPSG\",\"9122\"]],AUTHORITY[\"EPSG\",\"4283\"]],UNIT[\"metre\",1,AUTHORITY[\"EPSG\",\"9001\"]],PROJECTION[\"Transverse_Mercator\"],PARAMETER[\"latitude_of_origin\",0],PARAMETER[\"central_meridian\",135],PARAMETER[\"scale_factor\",0.9996],PARAMETER[\"false_easting\",500000],PARAMETER[\"false_northing\",10000000],AUTHORITY[\"EPSG\",\"28353\"],AXIS[\"Easting\",EAST],AXIS[\"Northing\",NORTH]]'"
   ]
  },
  {
   "cell_type": "code",
   "execution_count": 10,
   "metadata": {},
   "outputs": [],
   "source": [
    "spatial_mask = cond_point_utils.get_spatial_mask(bounds = poly.bounds,\n",
    "                                                 bounds_wkt = utm_wkt)"
   ]
  },
  {
   "cell_type": "code",
   "execution_count": null,
   "metadata": {},
   "outputs": [],
   "source": [
    "lci_dat"
   ]
  },
  {
   "cell_type": "code",
   "execution_count": 12,
   "metadata": {},
   "outputs": [
    {
     "ename": "NameError",
     "evalue": "name 'netcdf2aseg_gdf_converter' is not defined",
     "output_type": "error",
     "traceback": [
      "\u001b[1;31m---------------------------------------------------------------------------\u001b[0m",
      "\u001b[1;31mNameError\u001b[0m                                 Traceback (most recent call last)",
      "\u001b[1;32m<ipython-input-12-16356d31491d>\u001b[0m in \u001b[0;36m<module>\u001b[1;34m\u001b[0m\n\u001b[0;32m      1\u001b[0m \u001b[1;32mimport\u001b[0m \u001b[0mimportlib\u001b[0m\u001b[1;33m\u001b[0m\u001b[1;33m\u001b[0m\u001b[0m\n\u001b[1;32m----> 2\u001b[1;33m \u001b[0mimportlib\u001b[0m\u001b[1;33m.\u001b[0m\u001b[0mreload\u001b[0m\u001b[1;33m(\u001b[0m\u001b[0mnetcdf2aseg_gdf_converter\u001b[0m\u001b[1;33m)\u001b[0m\u001b[1;33m\u001b[0m\u001b[1;33m\u001b[0m\u001b[0m\n\u001b[0m",
      "\u001b[1;31mNameError\u001b[0m: name 'netcdf2aseg_gdf_converter' is not defined"
     ]
    }
   ],
   "source": [
    "import importlib\n",
    "importlib.reload(netcdf2aseg_gdf_converter)"
   ]
  },
  {
   "cell_type": "code",
   "execution_count": 13,
   "metadata": {},
   "outputs": [],
   "source": [
    "# testing\n",
    "\n",
    "#\n",
    "from geophys_utils.netcdf_converter import netcdf2aseg_gdf_converter\n",
    "\n",
    "nc2asegconv = netcdf2aseg_gdf_converter.NetCDF2ASEGGDFConverter(infile,\n",
    "                                                        crs_string='EPSG:4283',\n",
    "                                                        )"
   ]
  },
  {
   "cell_type": "code",
   "execution_count": 14,
   "metadata": {},
   "outputs": [
    {
     "name": "stdout",
     "output_type": "stream",
     "text": [
      "line\n",
      "I\n",
      "I\n",
      "flight\n",
      "I\n",
      "I\n",
      "fiducial\n",
      "F\n",
      "proj_cgg\n",
      "I\n",
      "proj_client\n",
      "I\n",
      "date\n",
      "I\n",
      "time_local\n",
      "F\n",
      "time_utc\n",
      "F\n",
      "gps_time\n",
      "F\n",
      "tx_bearing\n",
      "F\n",
      "latitude\n",
      "F\n",
      "longitude\n",
      "F\n",
      "easting\n",
      "F\n",
      "northing\n",
      "F\n",
      "gps_elevation\n",
      "F\n",
      "tx_elevation\n",
      "F\n",
      "lidar\n",
      "F\n",
      "radalt\n",
      "F\n",
      "dtm\n",
      "F\n",
      "mag\n",
      "F\n",
      "tx_height\n",
      "F\n",
      "cond_xz\n"
     ]
    },
    {
     "ename": "RuntimeError",
     "evalue": "NetCDF: Access failure",
     "output_type": "error",
     "traceback": [
      "\u001b[1;31m---------------------------------------------------------------------------\u001b[0m",
      "\u001b[1;31mRuntimeError\u001b[0m                              Traceback (most recent call last)",
      "\u001b[1;32m<ipython-input-14-32fed4d5ccc6>\u001b[0m in \u001b[0;36m<module>\u001b[1;34m\u001b[0m\n\u001b[0;32m      3\u001b[0m \u001b[1;33m\u001b[0m\u001b[0m\n\u001b[0;32m      4\u001b[0m nc2asegconv.convert2aseg_gdf(dat_out_path, dfn_out_path,\n\u001b[1;32m----> 5\u001b[1;33m                             spatial_mask)\n\u001b[0m",
      "\u001b[1;32mc:\\users\\pcuser\\onedrive\\github\\geophys_utils\\geophys_utils\\netcdf_converter\\netcdf2aseg_gdf_converter.py\u001b[0m in \u001b[0;36mconvert2aseg_gdf\u001b[1;34m(self, dat_out_path, dfn_out_path, mask)\u001b[0m\n\u001b[0;32m    689\u001b[0m         \u001b[0mself\u001b[0m\u001b[1;33m.\u001b[0m\u001b[0mdfn_out_path\u001b[0m \u001b[1;33m=\u001b[0m \u001b[0mdfn_out_path\u001b[0m \u001b[1;32mor\u001b[0m \u001b[0mos\u001b[0m\u001b[1;33m.\u001b[0m\u001b[0mpath\u001b[0m\u001b[1;33m.\u001b[0m\u001b[0msplitext\u001b[0m\u001b[1;33m(\u001b[0m\u001b[0mdat_out_path\u001b[0m\u001b[1;33m)\u001b[0m\u001b[1;33m[\u001b[0m\u001b[1;36m0\u001b[0m\u001b[1;33m]\u001b[0m \u001b[1;33m+\u001b[0m \u001b[1;34m'.dfn'\u001b[0m\u001b[1;33m\u001b[0m\u001b[1;33m\u001b[0m\u001b[0m\n\u001b[0;32m    690\u001b[0m \u001b[1;33m\u001b[0m\u001b[0m\n\u001b[1;32m--> 691\u001b[1;33m         \u001b[0mget_field_definitions\u001b[0m\u001b[1;33m(\u001b[0m\u001b[1;33m)\u001b[0m\u001b[1;33m\u001b[0m\u001b[1;33m\u001b[0m\u001b[0m\n\u001b[0m\u001b[0;32m    692\u001b[0m \u001b[1;33m\u001b[0m\u001b[0m\n\u001b[0;32m    693\u001b[0m         \u001b[0mwrite_dfn_file\u001b[0m\u001b[1;33m(\u001b[0m\u001b[1;33m)\u001b[0m\u001b[1;33m\u001b[0m\u001b[1;33m\u001b[0m\u001b[0m\n",
      "\u001b[1;32mc:\\users\\pcuser\\onedrive\\github\\geophys_utils\\geophys_utils\\netcdf_converter\\netcdf2aseg_gdf_converter.py\u001b[0m in \u001b[0;36mget_field_definitions\u001b[1;34m()\u001b[0m\n\u001b[0;32m    328\u001b[0m                     \u001b[0mvariable_attributes\u001b[0m \u001b[1;33m=\u001b[0m \u001b[0mvariable\u001b[0m\u001b[1;33m.\u001b[0m\u001b[0m__dict__\u001b[0m\u001b[1;33m\u001b[0m\u001b[1;33m\u001b[0m\u001b[0m\n\u001b[0;32m    329\u001b[0m                     \u001b[0mprint\u001b[0m\u001b[1;33m(\u001b[0m\u001b[0mshort_name\u001b[0m\u001b[1;33m)\u001b[0m\u001b[1;33m\u001b[0m\u001b[1;33m\u001b[0m\u001b[0m\n\u001b[1;32m--> 330\u001b[1;33m                     \u001b[0maseg_gdf_format\u001b[0m\u001b[1;33m,\u001b[0m \u001b[0mdtype\u001b[0m\u001b[1;33m,\u001b[0m \u001b[0mcolumns\u001b[0m\u001b[1;33m,\u001b[0m \u001b[0mwidth_specifier\u001b[0m\u001b[1;33m,\u001b[0m \u001b[0mdecimal_places\u001b[0m\u001b[1;33m,\u001b[0m \u001b[0mpython_format\u001b[0m \u001b[1;33m=\u001b[0m \u001b[0mvariable2aseg_gdf_format\u001b[0m\u001b[1;33m(\u001b[0m\u001b[0mvariable\u001b[0m\u001b[1;33m)\u001b[0m\u001b[1;33m\u001b[0m\u001b[1;33m\u001b[0m\u001b[0m\n\u001b[0m\u001b[0;32m    331\u001b[0m \u001b[1;33m\u001b[0m\u001b[0m\n\u001b[0;32m    332\u001b[0m                 \u001b[1;31m# Map variable name to standard ASEG-GDF field name if required\u001b[0m\u001b[1;33m\u001b[0m\u001b[1;33m\u001b[0m\u001b[1;33m\u001b[0m\u001b[0m\n",
      "\u001b[1;32mc:\\users\\pcuser\\onedrive\\github\\geophys_utils\\geophys_utils\\netcdf_converter\\aseg_gdf_utils.py\u001b[0m in \u001b[0;36mvariable2aseg_gdf_format\u001b[1;34m(array_variable, decimal_places)\u001b[0m\n\u001b[0;32m    173\u001b[0m         \u001b[1;32mraise\u001b[0m \u001b[0mBaseException\u001b[0m\u001b[1;33m(\u001b[0m\u001b[1;34m'Unable to handle arrays with dimensionality > 2'\u001b[0m\u001b[1;33m)\u001b[0m\u001b[1;33m\u001b[0m\u001b[1;33m\u001b[0m\u001b[0m\n\u001b[0;32m    174\u001b[0m \u001b[1;33m\u001b[0m\u001b[0m\n\u001b[1;32m--> 175\u001b[1;33m     \u001b[0mdata_array\u001b[0m \u001b[1;33m=\u001b[0m \u001b[0marray_variable\u001b[0m\u001b[1;33m[\u001b[0m\u001b[1;33m:\u001b[0m\u001b[1;33m]\u001b[0m\u001b[1;33m\u001b[0m\u001b[1;33m\u001b[0m\u001b[0m\n\u001b[0m\u001b[0;32m    176\u001b[0m \u001b[1;33m\u001b[0m\u001b[0m\n\u001b[0;32m    177\u001b[0m     \u001b[1;31m# Try to determine the dtype string from the variable and data_array type\u001b[0m\u001b[1;33m\u001b[0m\u001b[1;33m\u001b[0m\u001b[1;33m\u001b[0m\u001b[0m\n",
      "\u001b[1;32mnetCDF4\\_netCDF4.pyx\u001b[0m in \u001b[0;36mnetCDF4._netCDF4.Variable.__getitem__\u001b[1;34m()\u001b[0m\n",
      "\u001b[1;32mnetCDF4\\_netCDF4.pyx\u001b[0m in \u001b[0;36mnetCDF4._netCDF4.Variable._get\u001b[1;34m()\u001b[0m\n",
      "\u001b[1;32mnetCDF4\\_netCDF4.pyx\u001b[0m in \u001b[0;36mnetCDF4._netCDF4._ensure_nc_success\u001b[1;34m()\u001b[0m\n",
      "\u001b[1;31mRuntimeError\u001b[0m: NetCDF: Access failure"
     ]
    }
   ],
   "source": [
    "dat_out_path = r\"C:\\Users\\PCUser\\Documents\\AEM\\AusAEM_Year1_Tranche1_Final_CND.dat\"\n",
    "dfn_out_path = r\"C:\\Users\\PCUser\\Documents\\AEM\\AusAEM_Year1_Tranche1_Final_CND.dfn\"\n",
    "\n",
    "nc2asegconv.convert2aseg_gdf(dat_out_path, dfn_out_path,\n",
    "                            spatial_mask)"
   ]
  },
  {
   "cell_type": "code",
   "execution_count": null,
   "metadata": {},
   "outputs": [],
   "source": [
    "lci_dat['cond_xz'][spatial_mask\n",
    "                  ]"
   ]
  },
  {
   "cell_type": "code",
   "execution_count": null,
   "metadata": {},
   "outputs": [],
   "source": [
    "cond = lci_dat['conductivity']#[spatial_mask]\n",
    "easting = lci_dat['easting']#[spatial_mask]\n",
    "northing = lci_dat['northing']#[spatial_mask]\n",
    "elevation = lci_dat['elevation']#[spatial_mask]\n",
    "layer_top_depth = lci_dat['layer_top_depth']#[spatial_mask]\n",
    "doi = lci_dat['depth_of_investigation']#[spatial_mask]\n",
    "line = lci_dat['line'][lci_dat['line_index']]#[spatial_mask]]\n",
    "fid = lci_dat['sequence']#[spatial_mask]"
   ]
  },
  {
   "cell_type": "code",
   "execution_count": null,
   "metadata": {},
   "outputs": [],
   "source": [
    "df = pd.DataFrame(data = {'fiducial': fid,\n",
    "                          'line': line,\n",
    "                         'easting': easting,\n",
    "                         'northing': northing,\n",
    "                         'elevation': elevation,\n",
    "                         'doi': doi})"
   ]
  },
  {
   "cell_type": "code",
   "execution_count": null,
   "metadata": {},
   "outputs": [],
   "source": [
    "for i in range(30):\n",
    "    df['Cond_' + str(i+1)] = cond[:,i]"
   ]
  },
  {
   "cell_type": "code",
   "execution_count": null,
   "metadata": {},
   "outputs": [],
   "source": [
    "for i in range(30):\n",
    "    df['Layer_top_depth_' + str(i+1)] = layer_top_depth[:,i]"
   ]
  },
  {
   "cell_type": "code",
   "execution_count": null,
   "metadata": {},
   "outputs": [],
   "source": [
    "#outfile = r\"C:\\Users\\PCUser\\Desktop\\EK_data\\Geoscene3d\\datasets\\AEM\\VicHighway_AEM.csv\"\n",
    "outfile = r\"C:\\Users\\PCUser\\Desktop\\NSC_data\\data\\AEM\\HE\\G3D_files\\HowardsEast_AEM.csv\"\n",
    "df.to_csv(outfile,  index=False)"
   ]
  },
  {
   "cell_type": "code",
   "execution_count": null,
   "metadata": {},
   "outputs": [],
   "source": [
    "lci_dat['crs']"
   ]
  },
  {
   "cell_type": "code",
   "execution_count": null,
   "metadata": {},
   "outputs": [],
   "source": []
  }
 ],
 "metadata": {
  "@webio": {
   "lastCommId": null,
   "lastKernelId": null
  },
  "kernelspec": {
   "display_name": "Python 3",
   "language": "python",
   "name": "python3"
  },
  "language_info": {
   "codemirror_mode": {
    "name": "ipython",
    "version": 3
   },
   "file_extension": ".py",
   "mimetype": "text/x-python",
   "name": "python",
   "nbconvert_exporter": "python",
   "pygments_lexer": "ipython3",
   "version": "3.7.4"
  }
 },
 "nbformat": 4,
 "nbformat_minor": 2
}
