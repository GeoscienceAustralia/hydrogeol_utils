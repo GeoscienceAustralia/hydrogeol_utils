{
 "cells": [
  {
   "cell_type": "code",
   "execution_count": 1,
   "metadata": {},
   "outputs": [],
   "source": [
    "import geopandas as gpd\n",
    "import numpy as np\n",
    "import pandas as pd\n",
    "import aseg_gdf2\n",
    "from shapely.geometry import Polygon"
   ]
  },
  {
   "cell_type": "code",
   "execution_count": 2,
   "metadata": {},
   "outputs": [],
   "source": [
    "infile = r\"C:\\Users\\PCUser\\Desktop\\NSC_data\\data\\AEM\\DR\\2017_DalyRiver_SkyTEM\\inversion_ready\\DR_inversion_ready\"\n",
    "\n",
    "#infile = r\"C:\\Users\\PCUser\\Desktop\\EK_data\\AEM\\inversion_ready_data\\Keep_inversion_ready.dat\"\n",
    "dat = aseg_gdf2.read(infile)"
   ]
  },
  {
   "cell_type": "code",
   "execution_count": 3,
   "metadata": {},
   "outputs": [],
   "source": [
    "df_AEM = dat.df()\n",
    "\n",
    "# Convert to geopandas data frame\n",
    "gdf_AEM = gpd.GeoDataFrame(df_AEM, \n",
    "                           geometry=gpd.points_from_xy(df_AEM['easting '],\n",
    "                                                       df_AEM['northing']))"
   ]
  },
  {
   "cell_type": "code",
   "execution_count": 5,
   "metadata": {},
   "outputs": [],
   "source": [
    "# Bring in the polygon data for subseting\n",
    "\n",
    "infile = r\"C:\\Users\\PCUser\\Desktop\\NSC_data\\data\\vector\\DalyRiver\\DalyGeology_August2018.shp\"\n",
    "\n",
    "\n",
    "\n",
    "gdf = gpd.read_file(infile)\n",
    "\n",
    "# Convert to easting northing\n",
    "gdf = gdf.to_crs({'init': 'epsg:28352'})\n",
    "\n",
    "poly = gdf['geometry'].iloc[8]\n"
   ]
  },
  {
   "cell_type": "code",
   "execution_count": 6,
   "metadata": {},
   "outputs": [],
   "source": [
    "newPolygon = Polygon(poly.exterior)"
   ]
  },
  {
   "cell_type": "code",
   "execution_count": 7,
   "metadata": {},
   "outputs": [],
   "source": [
    "gdf_AEM['inside_poly'] = gdf_AEM.within(newPolygon)"
   ]
  },
  {
   "cell_type": "code",
   "execution_count": 47,
   "metadata": {},
   "outputs": [
    {
     "data": {
      "text/html": [
       "<div>\n",
       "<style scoped>\n",
       "    .dataframe tbody tr th:only-of-type {\n",
       "        vertical-align: middle;\n",
       "    }\n",
       "\n",
       "    .dataframe tbody tr th {\n",
       "        vertical-align: top;\n",
       "    }\n",
       "\n",
       "    .dataframe thead th {\n",
       "        text-align: right;\n",
       "    }\n",
       "</style>\n",
       "<table border=\"1\" class=\"dataframe\">\n",
       "  <thead>\n",
       "    <tr style=\"text-align: right;\">\n",
       "      <th></th>\n",
       "      <th>project</th>\n",
       "      <th>date</th>\n",
       "      <th>flight</th>\n",
       "      <th>line</th>\n",
       "      <th>fiducial</th>\n",
       "      <th>easting</th>\n",
       "      <th>northing</th>\n",
       "      <th>height</th>\n",
       "      <th>elevation</th>\n",
       "      <th>GPS_Alt</th>\n",
       "      <th>...</th>\n",
       "      <th>RUNC_HM_Z[15]</th>\n",
       "      <th>RUNC_HM_Z[16]</th>\n",
       "      <th>RUNC_HM_Z[17]</th>\n",
       "      <th>RUNC_HM_Z[18]</th>\n",
       "      <th>RUNC_HM_Z[19]</th>\n",
       "      <th>RUNC_HM_Z[20]</th>\n",
       "      <th>RUNC_HM_Z[21]</th>\n",
       "      <th>RUNC_HM_Z[22]</th>\n",
       "      <th>geometry</th>\n",
       "      <th>inside_poly</th>\n",
       "    </tr>\n",
       "  </thead>\n",
       "  <tbody>\n",
       "    <tr>\n",
       "      <th>166984</th>\n",
       "      <td>1304</td>\n",
       "      <td>20170819</td>\n",
       "      <td>20170819.02</td>\n",
       "      <td>109701</td>\n",
       "      <td>1582705.5</td>\n",
       "      <td>866248.06</td>\n",
       "      <td>8394875.0</td>\n",
       "      <td>50.4</td>\n",
       "      <td>154.2</td>\n",
       "      <td>251.68</td>\n",
       "      <td>...</td>\n",
       "      <td>0.008284</td>\n",
       "      <td>0.004474</td>\n",
       "      <td>0.002119</td>\n",
       "      <td>0.000977</td>\n",
       "      <td>0.000576</td>\n",
       "      <td>0.000456</td>\n",
       "      <td>0.000396</td>\n",
       "      <td>0.000358</td>\n",
       "      <td>POINT (866248.060 8394875.000)</td>\n",
       "      <td>False</td>\n",
       "    </tr>\n",
       "  </tbody>\n",
       "</table>\n",
       "<p>1 rows × 100 columns</p>\n",
       "</div>"
      ],
      "text/plain": [
       "        project      date       flight    line   fiducial    easting   \\\n",
       "166984      1304  20170819  20170819.02  109701  1582705.5  866248.06   \n",
       "\n",
       "         northing  height  elevation  GPS_Alt  ...  RUNC_HM_Z[15]  \\\n",
       "166984  8394875.0    50.4      154.2   251.68  ...       0.008284   \n",
       "\n",
       "        RUNC_HM_Z[16]  RUNC_HM_Z[17]  RUNC_HM_Z[18]  RUNC_HM_Z[19]  \\\n",
       "166984       0.004474       0.002119       0.000977       0.000576   \n",
       "\n",
       "        RUNC_HM_Z[20]  RUNC_HM_Z[21]  RUNC_HM_Z[22]  \\\n",
       "166984       0.000456       0.000396       0.000358   \n",
       "\n",
       "                              geometry  inside_poly  \n",
       "166984  POINT (866248.060 8394875.000)        False  \n",
       "\n",
       "[1 rows x 100 columns]"
      ]
     },
     "execution_count": 47,
     "metadata": {},
     "output_type": "execute_result"
    }
   ],
   "source": [
    "gdf_AEM[gdf_AEM['fiducial '] == 1582705.5]"
   ]
  },
  {
   "cell_type": "code",
   "execution_count": 8,
   "metadata": {},
   "outputs": [],
   "source": [
    "# Now we get the indices of points that are inside the poly\n",
    "#gdf_subset = gdf_AEM.copy()\n",
    "gdf_subset = gdf_AEM[gdf_AEM['inside_poly'] == True]"
   ]
  },
  {
   "cell_type": "code",
   "execution_count": 11,
   "metadata": {},
   "outputs": [],
   "source": [
    "# Lets just keep certain lines\n",
    "\n",
    "lines = [110101, 110201, 110103, 109301, 109502, 109503, 101501, 101502, 104501,\n",
    "         110002, 108301, 104801, 103502]\n",
    "\n",
    "new_lines =  [106501, 106601, 106701, 106801, 106901, 107001, 107101,\n",
    "             107201, 107301, 107401, 107501, 107601, 107701, 107801,\n",
    "             107901, 108801, 108101, 108201, 108301, 108401, 108501,\n",
    "             108601, 108701, 108801, 108901, 108001, 109101]\n",
    "\n",
    "#lines = pd.read_csv(r\"C:\\temp\\EK_3d_model_lines.csv\").values.flatten()\n",
    "\n",
    "gdf_subset = gdf_AEM[gdf_AEM['line '].isin(new_lines)]"
   ]
  },
  {
   "cell_type": "code",
   "execution_count": 12,
   "metadata": {},
   "outputs": [],
   "source": [
    "# Now we write out our data into a text file using the indices of the dataframe\n",
    "infile =  r\"C:\\Users\\PCUser\\Desktop\\NSC_data\\data\\AEM\\DR\\2017_DalyRiver_SkyTEM\\inversion_ready\\DR_inversion_ready.dat\"\n",
    "outfile =  r\"C:\\Users\\PCUser\\Desktop\\NSC_data\\data\\AEM\\DR\\2017_DalyRiver_SkyTEM\\inversion_ready\\DR_inversion_ready_NS_subset_3.dat\"\n",
    "\n",
    "inf = open(infile)\n",
    "lines = inf.readlines()\n",
    "\n",
    "with open(outfile, 'w') as outf:\n",
    "    for item in gdf_subset.index.tolist():\n",
    "        outf.write(lines[item])\n",
    "        "
   ]
  },
  {
   "cell_type": "code",
   "execution_count": null,
   "metadata": {},
   "outputs": [],
   "source": []
  }
 ],
 "metadata": {
  "@webio": {
   "lastCommId": null,
   "lastKernelId": null
  },
  "kernelspec": {
   "display_name": "Python (spatial_modelling)",
   "language": "python",
   "name": "spatial_modelling"
  },
  "language_info": {
   "codemirror_mode": {
    "name": "ipython",
    "version": 3
   },
   "file_extension": ".py",
   "mimetype": "text/x-python",
   "name": "python",
   "nbconvert_exporter": "python",
   "pygments_lexer": "ipython3",
   "version": "3.7.5"
  }
 },
 "nbformat": 4,
 "nbformat_minor": 4
}
