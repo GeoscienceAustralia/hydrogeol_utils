{
 "cells": [
  {
   "cell_type": "code",
   "execution_count": 59,
   "metadata": {},
   "outputs": [],
   "source": [
    "import geopandas as gpd\n",
    "import numpy as np\n",
    "import pandas as pd\n",
    "import aseg_gdf2\n"
   ]
  },
  {
   "cell_type": "code",
   "execution_count": 60,
   "metadata": {},
   "outputs": [],
   "source": [
    "infile = r\"C:\\Users\\PCUser\\Desktop\\NSC_data\\data\\AEM\\DR\\2017_DalyRiver_SkyTEM\\inversion_ready\\DR_inversion_ready\"\n",
    "\n",
    "dat = aseg_gdf2.read(infile)"
   ]
  },
  {
   "cell_type": "code",
   "execution_count": 62,
   "metadata": {},
   "outputs": [],
   "source": [
    "df_AEM = dat.df()\n",
    "\n",
    "# Convert to geopandas data frame\n",
    "gdf_AEM = gpd.GeoDataFrame(df_AEM, \n",
    "                           geometry=gpd.points_from_xy(df_AEM['easting '],\n",
    "                                                       df_AEM['northing']))"
   ]
  },
  {
   "cell_type": "code",
   "execution_count": 65,
   "metadata": {},
   "outputs": [],
   "source": [
    "# Bring in the polygon data for subseting\n",
    "\n",
    "infile = r\"C:\\Users\\PCUser\\Desktop\\NSC_data\\data\\vector\\DalyRiver\\Jinduckin_extent.shp\"\n",
    "\n",
    "gdf = gpd.read_file(infile)\n",
    "\n",
    "# Convert to easting northing\n",
    "#gdf = gdf.to_crs({'init': 'epsg:28352'})\n",
    "\n",
    "poly = gdf['geometry'].iloc[-1]"
   ]
  },
  {
   "cell_type": "code",
   "execution_count": 69,
   "metadata": {},
   "outputs": [],
   "source": [
    "gdf_AEM['inside_poly'] = gdf_AEM.within(poly.buffer(1000))"
   ]
  },
  {
   "cell_type": "code",
   "execution_count": 70,
   "metadata": {},
   "outputs": [],
   "source": [
    "# Now we get the indices of points that are inside the poly\n",
    "\n",
    "gdf_subset = gdf_AEM[gdf_AEM['inside_poly'] == True]"
   ]
  },
  {
   "cell_type": "code",
   "execution_count": 79,
   "metadata": {},
   "outputs": [
    {
     "data": {
      "text/plain": [
       "40841     102701\n",
       "40842     102701\n",
       "40843     102701\n",
       "40844     102701\n",
       "40845     102701\n",
       "           ...  \n",
       "236956    109204\n",
       "236957    109204\n",
       "236958    109204\n",
       "236959    109204\n",
       "236960    109204\n",
       "Name: line , Length: 44488, dtype: int64"
      ]
     },
     "execution_count": 79,
     "metadata": {},
     "output_type": "execute_result"
    }
   ],
   "source": [
    "gdf_subset[\"line \"]"
   ]
  },
  {
   "cell_type": "code",
   "execution_count": 78,
   "metadata": {},
   "outputs": [],
   "source": [
    "# Lets just keep certain lines\n",
    "\n",
    "lines = [106301, 109201, 109202, 109203, 109204, 103501, 105601, 105602, 102701, 109701, 110301, 110102, 110203]\n",
    "\n",
    "gdf_subset = gdf_AEM[gdf_AEM['line '].isin(lines)]"
   ]
  },
  {
   "cell_type": "code",
   "execution_count": 81,
   "metadata": {},
   "outputs": [],
   "source": [
    "# Now we write out our data into a text file using the indices of the dataframe\n",
    "infile =  r\"C:\\Users\\PCUser\\Desktop\\NSC_data\\data\\AEM\\DR\\2017_DalyRiver_SkyTEM\\inversion_ready\\DR_inversion_ready.dat\"\n",
    "outfile =  r\"C:\\Users\\PCUser\\Desktop\\NSC_data\\data\\AEM\\DR\\2017_DalyRiver_SkyTEM\\inversion_ready\\DR_inversion_ready_NS_subset.dat\"\n",
    "\n",
    "inf = open(infile)\n",
    "lines = inf.readlines()\n",
    "\n",
    "with open(outfile, 'w') as outf:\n",
    "    for item in gdf_subset.index.tolist():\n",
    "        outf.write(lines[item])\n",
    "        "
   ]
  },
  {
   "cell_type": "code",
   "execution_count": null,
   "metadata": {},
   "outputs": [],
   "source": []
  }
 ],
 "metadata": {
  "kernelspec": {
   "display_name": "Python (spatial_modelling)",
   "language": "python",
   "name": "spatial_modelling"
  },
  "language_info": {
   "codemirror_mode": {
    "name": "ipython",
    "version": 3
   },
   "file_extension": ".py",
   "mimetype": "text/x-python",
   "name": "python",
   "nbconvert_exporter": "python",
   "pygments_lexer": "ipython3",
   "version": "3.7.5"
  }
 },
 "nbformat": 4,
 "nbformat_minor": 4
}
