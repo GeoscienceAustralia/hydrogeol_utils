{
 "cells": [
  {
   "cell_type": "markdown",
   "metadata": {},
   "source": [
    "This notebook demonstrates the conversion of AEM data from aseg-gdf format to netCDF format\n",
    "\n",
    "Neil Symington\n",
    "neil.symington@ga.gov.au"
   ]
  },
  {
   "cell_type": "code",
   "execution_count": 1,
   "metadata": {},
   "outputs": [
    {
     "name": "stderr",
     "output_type": "stream",
     "text": [
      "DEBUG:root:test\n",
      "DEBUG:matplotlib.pyplot:Loaded backend module://ipykernel.pylab.backend_inline version unknown.\n"
     ]
    }
   ],
   "source": [
    "%matplotlib inline\n",
    "\n",
    "from geophys_utils.netcdf_converter import aseg_gdf2netcdf_converter\n",
    "from geophys_utils.netcdf_converter.aseg_gdf_utils import aseg_gdf_format2dtype\n",
    "from hydrogeol_utils import AEM_utils\n",
    "import netCDF4\n",
    "import os, math\n",
    "import numpy as np\n",
    "import matplotlib.pyplot as plt\n",
    "# SO we can see the logging. This enables us to debug\n",
    "import gc\n",
    "import logging\n",
    "logger = logging.getLogger()\n",
    "logger.setLevel(logging.DEBUG)\n",
    "logging.debug(\"test\")\n",
    "import importlib"
   ]
  },
  {
   "cell_type": "code",
   "execution_count": 2,
   "metadata": {},
   "outputs": [],
   "source": [
    "\n",
    "root = r\"C:\\Users\\PCUser\\Desktop\\EK_data\\AEM\\OrdKeep_SkyTEM_190117\\03_LCI\\01_Data\"\n",
    "nc_out_path = os.path.join(root, \"OrdK_WB_MGA52.nc\")\n",
    "\n",
    "dat_in_path = os.path.join(root, 'OrdK_WB_MGA52.dat')\n",
    "\n",
    "\n",
    "dfn_in_path = os.path.join(root, 'OrdK_WB_MGA52.dfn')\n",
    "\n",
    "dat_temp_path = os.path.join(root, 'OrdK_WB_MGA52_temp.dat')\n",
    "\n",
    "\n",
    "crs_string = \"EPSG:28352\""
   ]
  },
  {
   "cell_type": "code",
   "execution_count": 4,
   "metadata": {},
   "outputs": [],
   "source": [
    "# This cell is a hack to deal with the four character 'data' column\n",
    "\n",
    "with open(dat_in_path, 'r') as f:\n",
    "    line = f.readline()\n",
    "    if line[0:4] == 'DATA':\n",
    "        s = f.read()\n",
    "        new_s = s.replace('DATA', '')\n",
    "        s = None\n",
    "        gc.collect()\n"
   ]
  },
  {
   "cell_type": "code",
   "execution_count": 5,
   "metadata": {},
   "outputs": [],
   "source": [
    "# Write new_s into a temporary file\n",
    "\n",
    "with open(dat_temp_path, 'w') as f:\n",
    "    f.write(new_s)\n",
    "          \n"
   ]
  },
  {
   "cell_type": "code",
   "execution_count": 3,
   "metadata": {
    "scrolled": true
   },
   "outputs": [
    {
     "name": "stderr",
     "output_type": "stream",
     "text": [
      "INFO:geophys_utils.netcdf_converter.aseg_gdf2netcdf_converter:Reading definitions file C:\\Users\\PCUser\\Desktop\\EK_data\\AEM\\OrdKeep_SkyTEM_190117\\03_LCI\\01_Data\\OrdK_WB_MGA52.dfn\n",
      "INFO:geophys_utils.netcdf_converter.aseg_gdf2netcdf_converter:Reading data file C:\\Users\\PCUser\\Desktop\\EK_data\\AEM\\OrdKeep_SkyTEM_190117\\03_LCI\\01_Data\\OrdK_WB_MGA52_temp.dat\n"
     ]
    },
    {
     "name": "stdout",
     "output_type": "stream",
     "text": [
      "[{'short_name': 'comments', 'format': 'A4', 'long_name': 'COMMENTS', 'dtype': '<U4', 'columns': 1, 'width_specifier': 4, 'decimal_places': 0, 'variable_attributes': {'aseg_gdf_format': 'A4'}}, {'short_name': 'fltline_geosoft', 'format': 'F10.1', 'long_name': 'Line number', 'dtype': 'float64', 'columns': 1, 'width_specifier': 10, 'decimal_places': 1, 'variable_attributes': {'aseg_gdf_format': 'F10.1'}}, {'short_name': 'ga_project', 'format': 'I10', 'long_name': 'Geoscience Australia airborne survey project number', 'dtype': 'int32', 'columns': 1, 'width_specifier': 10, 'decimal_places': 0, 'variable_attributes': {'aseg_gdf_format': 'I10'}}, {'short_name': 'job_no', 'format': 'I10', 'long_name': 'SkyTEM Australia Job Number', 'dtype': 'int32', 'columns': 1, 'width_specifier': 10, 'decimal_places': 0, 'variable_attributes': {'aseg_gdf_format': 'I10'}}, {'short_name': 'fiducial', 'format': 'F15.2', 'long_name': 'Fiducial', 'dtype': 'float64', 'columns': 1, 'width_specifier': 15, 'decimal_places': 2, 'variable_attributes': {'aseg_gdf_format': 'F15.2'}}, {'short_name': 'datetime', 'format': 'F18.10', 'long_name': 'Decimal days since midnight December 31st 1899', 'dtype': 'float64', 'columns': 1, 'width_specifier': 18, 'decimal_places': 10, 'units': 'days', 'variable_attributes': {'aseg_gdf_format': 'F18.10'}}, {'short_name': 'line', 'format': 'I10', 'long_name': 'Line number', 'dtype': 'int32', 'columns': 1, 'width_specifier': 10, 'decimal_places': 0, 'variable_attributes': {'aseg_gdf_format': 'I10'}}, {'short_name': 'easting', 'format': 'F12.2', 'long_name': 'Easting (GDA94 MGA Zone 52)', 'dtype': 'float64', 'columns': 1, 'width_specifier': 12, 'decimal_places': 2, 'units': 'm', 'fill_value': -9999999.99, 'variable_attributes': {'aseg_gdf_format': 'F12.2'}}, {'short_name': 'northing', 'format': 'F15.2', 'long_name': 'Northing (GDA 94 MGA Zone 52)', 'dtype': 'float64', 'columns': 1, 'width_specifier': 15, 'decimal_places': 2, 'units': 'm', 'fill_value': -9999999999.99, 'variable_attributes': {'aseg_gdf_format': 'F15.2'}}, {'short_name': 'dtm_ahd', 'format': 'F10.2', 'long_name': 'Digital terrain model (AUSGeoid09 datum)', 'dtype': 'float64', 'columns': 1, 'width_specifier': 10, 'decimal_places': 2, 'fill_value': -99999.99, 'variable_attributes': {'aseg_gdf_format': 'F10.2'}}, {'short_name': 'dataresidual', 'format': 'F10.3', 'long_name': 'Residual of data', 'dtype': 'float64', 'columns': 1, 'width_specifier': 10, 'decimal_places': 3, 'fill_value': -9999.999, 'variable_attributes': {'aseg_gdf_format': 'F10.3'}}, {'short_name': 'height', 'format': 'F10.2', 'long_name': 'Laser altimeter measured height of Tx loop centre above ground', 'dtype': 'float64', 'columns': 1, 'width_specifier': 10, 'decimal_places': 2, 'units': 'm', 'fill_value': -99999.99, 'variable_attributes': {'aseg_gdf_format': 'F10.2'}}, {'short_name': 'invhei', 'format': 'F10.2', 'long_name': 'Calculated inversion height', 'dtype': 'float64', 'columns': 1, 'width_specifier': 10, 'decimal_places': 2, 'units': 'm', 'fill_value': -99999.99, 'variable_attributes': {'aseg_gdf_format': 'F10.2'}}, {'short_name': 'doi', 'format': 'F10.2', 'long_name': 'Calculated depth of investigation', 'dtype': 'float64', 'columns': 1, 'width_specifier': 10, 'decimal_places': 2, 'units': 'm', 'fill_value': -99999.99, 'variable_attributes': {'aseg_gdf_format': 'F10.2'}}, {'short_name': 'layer_top_elev', 'format': '30F12.2', 'long_name': 'layer_top_elev', 'dtype': 'float64', 'columns': 30, 'width_specifier': 12, 'decimal_places': 2, 'units': 'm', 'fill_value': -9999999.99, 'variable_attributes': {'aseg_gdf_format': '30F12.2'}}, {'short_name': 'con', 'format': '30F15.5', 'long_name': 'Inverted Conductivity for each layer', 'dtype': 'float64', 'columns': 30, 'width_specifier': 15, 'decimal_places': 5, 'units': 'mS/m', 'fill_value': -9999999.99999, 'variable_attributes': {'aseg_gdf_format': '30F15.5'}}, {'short_name': 'con_doi', 'format': '30F15.5', 'long_name': 'Inverted conductivity for each layer', 'dtype': 'float64', 'columns': 30, 'width_specifier': 15, 'decimal_places': 5, 'units': 'mS/m', 'fill_value': -9999999.99999, 'variable_attributes': {'aseg_gdf_format': '30F15.5'}}, {'short_name': 'runc', 'format': '30F15.5', 'long_name': 'Relative uncertainty of conductivity layer', 'dtype': 'float64', 'columns': 30, 'width_specifier': 15, 'decimal_places': 5, 'fill_value': -9999999.99999, 'variable_attributes': {'aseg_gdf_format': '30F15.5'}}, {'short_name': 'tmi_igrf_lev', 'format': 'F10.2', 'long_name': 'Levelled TMI_IGRF', 'dtype': 'float64', 'columns': 1, 'width_specifier': 10, 'decimal_places': 2, 'units': 'nT', 'fill_value': -99999.99, 'variable_attributes': {'aseg_gdf_format': 'F10.2'}}]\n"
     ]
    },
    {
     "name": "stderr",
     "output_type": "stream",
     "text": [
      "INFO:geophys_utils.netcdf_converter.aseg_gdf2netcdf_converter:10000 lines read\n",
      "INFO:geophys_utils.netcdf_converter.aseg_gdf2netcdf_converter:20000 lines read\n",
      "INFO:geophys_utils.netcdf_converter.aseg_gdf2netcdf_converter:30000 lines read\n",
      "INFO:geophys_utils.netcdf_converter.aseg_gdf2netcdf_converter:40000 lines read\n",
      "INFO:geophys_utils.netcdf_converter.aseg_gdf2netcdf_converter:50000 lines read\n",
      "INFO:geophys_utils.netcdf_converter.aseg_gdf2netcdf_converter:60000 lines read\n",
      "INFO:geophys_utils.netcdf_converter.aseg_gdf2netcdf_converter:70000 lines read\n",
      "INFO:geophys_utils.netcdf_converter.aseg_gdf2netcdf_converter:80000 lines read\n",
      "INFO:geophys_utils.netcdf_converter.aseg_gdf2netcdf_converter:90000 lines read\n",
      "INFO:geophys_utils.netcdf_converter.aseg_gdf2netcdf_converter:100000 lines read\n",
      "INFO:geophys_utils.netcdf_converter.aseg_gdf2netcdf_converter:110000 lines read\n",
      "INFO:geophys_utils.netcdf_converter.aseg_gdf2netcdf_converter:120000 lines read\n",
      "INFO:geophys_utils.netcdf_converter.aseg_gdf2netcdf_converter:130000 lines read\n",
      "INFO:geophys_utils.netcdf_converter.aseg_gdf2netcdf_converter:140000 lines read\n",
      "INFO:geophys_utils.netcdf_converter.aseg_gdf2netcdf_converter:150000 lines read\n",
      "INFO:geophys_utils.netcdf_converter.aseg_gdf2netcdf_converter:160000 lines read\n",
      "INFO:geophys_utils.netcdf_converter.aseg_gdf2netcdf_converter:170000 lines read\n",
      "INFO:geophys_utils.netcdf_converter.aseg_gdf2netcdf_converter:180000 lines read\n",
      "INFO:geophys_utils.netcdf_converter.aseg_gdf2netcdf_converter:190000 lines read\n",
      "INFO:geophys_utils.netcdf_converter.aseg_gdf2netcdf_converter:200000 lines read\n",
      "INFO:geophys_utils.netcdf_converter.aseg_gdf2netcdf_converter:210000 lines read\n",
      "INFO:geophys_utils.netcdf_converter.aseg_gdf2netcdf_converter:220000 lines read\n",
      "INFO:geophys_utils.netcdf_converter.aseg_gdf2netcdf_converter:230000 lines read\n",
      "INFO:geophys_utils.netcdf_converter.aseg_gdf2netcdf_converter:240000 lines read\n",
      "INFO:geophys_utils.netcdf_converter.aseg_gdf2netcdf_converter:250000 lines read\n",
      "INFO:geophys_utils.netcdf_converter.aseg_gdf2netcdf_converter:260000 lines read\n",
      "INFO:geophys_utils.netcdf_converter.aseg_gdf2netcdf_converter:270000 lines read\n",
      "INFO:geophys_utils.netcdf_converter.aseg_gdf2netcdf_converter:280000 lines read\n",
      "INFO:geophys_utils.netcdf_converter.aseg_gdf2netcdf_converter:290000 lines read\n",
      "INFO:geophys_utils.netcdf_converter.aseg_gdf2netcdf_converter:300000 lines read\n",
      "INFO:geophys_utils.netcdf_converter.aseg_gdf2netcdf_converter:310000 lines read\n",
      "INFO:geophys_utils.netcdf_converter.aseg_gdf2netcdf_converter:A total of 319416 points were read\n",
      "INFO:geophys_utils.netcdf_converter.aseg_gdf2netcdf_converter:Datatype for variable fltline_geosoft changed from float64 to float32\n",
      "INFO:geophys_utils.netcdf_converter.aseg_gdf2netcdf_converter:Datatype for variable ga_project changed from int32 to int16\n",
      "INFO:geophys_utils.netcdf_converter.aseg_gdf2netcdf_converter:Datatype for variable job_no changed from int32 to int16\n",
      "INFO:geophys_utils.netcdf_converter.aseg_gdf2netcdf_converter:Datatype for variable fiducial changed from float64 to float32\n",
      "INFO:geophys_utils.netcdf_converter.aseg_gdf2netcdf_converter:Datatype for variable easting changed from float64 to float32\n",
      "INFO:geophys_utils.netcdf_converter.aseg_gdf2netcdf_converter:Datatype for variable northing changed from float64 to float32\n",
      "INFO:geophys_utils.netcdf_converter.aseg_gdf2netcdf_converter:Datatype for variable elevation changed from float64 to float32\n",
      "INFO:geophys_utils.netcdf_converter.aseg_gdf2netcdf_converter:Datatype for variable data_residual changed from float64 to float32\n",
      "INFO:geophys_utils.netcdf_converter.aseg_gdf2netcdf_converter:Datatype for variable tx_height_measured changed from float64 to float32\n",
      "INFO:geophys_utils.netcdf_converter.aseg_gdf2netcdf_converter:Datatype for variable tx_height_inverted changed from float64 to float32\n",
      "INFO:geophys_utils.netcdf_converter.aseg_gdf2netcdf_converter:Datatype for variable depth_of_investigation changed from float64 to float32\n",
      "INFO:geophys_utils.netcdf_converter.aseg_gdf2netcdf_converter:Datatype for variable layer_top_elevation changed from float64 to float32\n",
      "INFO:geophys_utils.netcdf_converter.aseg_gdf2netcdf_converter:Datatype for variable conductivity changed from float64 to float32\n",
      "INFO:geophys_utils.netcdf_converter.aseg_gdf2netcdf_converter:Datatype for variable conductivity_(masked_to_DOI) changed from float64 to float32\n",
      "INFO:geophys_utils.netcdf_converter.aseg_gdf2netcdf_converter:Datatype for variable conductivity_uncertainty changed from float64 to float32\n",
      "INFO:geophys_utils.netcdf_converter.aseg_gdf2netcdf_converter:Datatype for variable tmi_igrf_lev changed from float64 to float32\n",
      "INFO:geophys_utils.netcdf_converter.aseg_gdf2netcdf_converter:\tWriting comments lookup variables\n",
      "INFO:geophys_utils.netcdf_converter.aseg_gdf2netcdf_converter:\tCreating dimension for comments\n",
      "INFO:geophys_utils.netcdf_converter.aseg_gdf2netcdf_converter:\t\tWriting 9 comments lookup values to array variable comments\n",
      "INFO:geophys_utils.netcdf_converter.aseg_gdf2netcdf_converter:\t\tWriting comments lookup indices to array variable comments_index\n",
      "INFO:geophys_utils.netcdf_converter.aseg_gdf2netcdf_converter:\tWriting 1D float32 variable fltline_geosoft\n"
     ]
    },
    {
     "name": "stdout",
     "output_type": "stream",
     "text": [
      "point 319416\n",
      "layer 30\n"
     ]
    },
    {
     "name": "stderr",
     "output_type": "stream",
     "text": [
      "INFO:geophys_utils.netcdf_converter.aseg_gdf2netcdf_converter:\tWriting single ga_project value to scalar variable\n",
      "INFO:geophys_utils.netcdf_converter.aseg_gdf2netcdf_converter:\tWriting single job_no value to scalar variable\n",
      "INFO:geophys_utils.netcdf_converter.aseg_gdf2netcdf_converter:\tWriting 1D float32 variable fiducial\n",
      "INFO:geophys_utils.netcdf_converter.aseg_gdf2netcdf_converter:\tWriting 1D float64 variable DateTime\n",
      "INFO:geophys_utils.netcdf_converter.aseg_gdf2netcdf_converter:\tWriting line lookup variables\n",
      "INFO:geophys_utils.netcdf_converter.aseg_gdf2netcdf_converter:\tCreating dimension for line\n",
      "INFO:geophys_utils.netcdf_converter.aseg_gdf2netcdf_converter:\t\tWriting 524 line lookup values to array variable line\n",
      "INFO:geophys_utils.netcdf_converter.aseg_gdf2netcdf_converter:\t\tWriting line lookup indices to array variable line_index\n",
      "INFO:geophys_utils.netcdf_converter.aseg_gdf2netcdf_converter:\tWriting 1D float32 variable easting\n",
      "INFO:geophys_utils.netcdf_converter.aseg_gdf2netcdf_converter:\tWriting 1D float32 variable northing\n",
      "INFO:geophys_utils.netcdf_converter.aseg_gdf2netcdf_converter:\tWriting 1D float32 variable elevation\n",
      "INFO:geophys_utils.netcdf_converter.aseg_gdf2netcdf_converter:\tWriting 1D float32 variable data_residual\n",
      "INFO:geophys_utils.netcdf_converter.aseg_gdf2netcdf_converter:\tWriting 1D float32 variable tx_height_measured\n",
      "INFO:geophys_utils.netcdf_converter.aseg_gdf2netcdf_converter:\tWriting 1D float32 variable tx_height_inverted\n",
      "INFO:geophys_utils.netcdf_converter.aseg_gdf2netcdf_converter:\tWriting 1D float32 variable depth_of_investigation\n",
      "INFO:geophys_utils.netcdf_converter.aseg_gdf2netcdf_converter:\tWriting 2D float32 variable layer_top_elevation\n",
      "INFO:geophys_utils.netcdf_converter.aseg_gdf2netcdf_converter:\tWriting 2D float32 variable conductivity\n",
      "INFO:geophys_utils.netcdf_converter.aseg_gdf2netcdf_converter:\tWriting 2D float32 variable conductivity_(masked_to_DOI)\n",
      "INFO:geophys_utils.netcdf_converter.aseg_gdf2netcdf_converter:\tWriting 2D float32 variable conductivity_uncertainty\n",
      "INFO:geophys_utils.netcdf_converter.aseg_gdf2netcdf_converter:\tWriting 1D float32 variable tmi_igrf_lev\n",
      "INFO:geophys_utils.netcdf_converter.aseg_gdf2netcdf_converter:Creating crs, longitude and latitude variables for unprojected CRS\n",
      "INFO:geophys_utils.netcdf_converter.aseg_gdf2netcdf_converter:Creating new crs variable for unprojected CRS\n",
      "INFO:geophys_utils.netcdf_converter.aseg_gdf2netcdf_converter:Creating new longitude variable\n",
      "INFO:geophys_utils.netcdf_converter.aseg_gdf2netcdf_converter:Creating new latitude variable\n",
      "INFO:geophys_utils.netcdf_converter.aseg_gdf2netcdf_converter:Re-writing new global attributes for new CRS\n"
     ]
    }
   ],
   "source": [
    "if os.path.exists(nc_out_path):\n",
    "    os.remove(nc_out_path)\n",
    "\n",
    "d2n = aseg_gdf2netcdf_converter.ASEGGDF2NetCDFConverter(nc_out_path, \n",
    "                                                 dat_temp_path, \n",
    "                                                 dfn_in_path,\n",
    "                                                 crs_string,\n",
    "                                                 fix_precision=True,\n",
    "                                                 remove_null_columns = False)\n",
    "d2n.convert2netcdf()                                      "
   ]
  },
  {
   "cell_type": "code",
   "execution_count": 4,
   "metadata": {},
   "outputs": [],
   "source": [
    "# Create a python object with the EM dataset\n",
    "d = netCDF4.Dataset(nc_out_path, \"a\")"
   ]
  },
  {
   "cell_type": "code",
   "execution_count": 5,
   "metadata": {},
   "outputs": [
    {
     "data": {
      "text/plain": [
       "<class 'netCDF4._netCDF4.Dataset'>\n",
       "root group (NETCDF4 data model, file format HDF5):\n",
       "    title: Dataset read from ASEG-GDF file OrdK_WB_MGA52_temp.dat\n",
       "    Conventions: CF-1.6,ACDD-1.3\n",
       "    featureType: trajectory\n",
       "    geospatial_vertical_min: -43.4\n",
       "    geospatial_vertical_max: 159.2\n",
       "    geospatial_vertical_units: m\n",
       "    geospatial_vertical_resolution: point\n",
       "    geospatial_vertical_positive: up\n",
       "    history: Converted from ASEG-GDF file C:\\Users\\PCUser\\Desktop\\EK_data\\AEM\\OrdKeep_SkyTEM_190117\\03_LCI\\01_Data\\OrdK_WB_MGA52_temp.dat using definitions file C:\\Users\\PCUser\\Desktop\\EK_data\\AEM\\OrdKeep_SkyTEM_190117\\03_LCI\\01_Data\\OrdK_WB_MGA52.dfn\n",
       "    date_created: 2019-11-28T10:29:26.398312\n",
       "    geospatial_east_resolution: point\n",
       "    geospatial_north_resolution: point\n",
       "    geospatial_east_min: 413625.6875\n",
       "    geospatial_east_max: 565493.625\n",
       "    geospatial_east_units: m\n",
       "    geospatial_north_min: 8244470.0\n",
       "    geospatial_north_max: 8360754.5\n",
       "    geospatial_north_units: m\n",
       "    geospatial_bounds: POLYGON((475147.3125 8244470.0000, 474128.5938 8244475.5000, 473884.0938 8244484.5000, 473862.8125 8244486.0000, 473841.5000 8244488.0000, 473820.4062 8244491.5000, 472761.0000 8244694.0000, 472198.9062 8244801.5000, 471012.0000 8245030.0000, 470836.1875 8245067.0000, 470814.0000 8245073.0000, 470792.8125 8245080.0000, 470772.8125 8245088.5000, 418817.8125 8272241.5000, 413625.6875 8278771.5000, 415177.0000 8285023.0000, 455623.1875 8332440.5000, 466801.5000 8341535.5000, 523252.5000 8360754.5000, 534329.6875 8358781.0000, 550153.3125 8350756.0000, 554446.1875 8345998.5000, 565493.6250 8329955.0000, 560499.1250 8318696.5000, 496422.3125 8244551.5000, 487522.5000 8244489.0000, 485874.0938 8244485.5000, 484693.5000 8244483.0000, 475147.3125 8244470.0000))\n",
       "    keywords: geophysics, airborne, AEM, conductivity\n",
       "    dimensions(sizes): point(319416), layer(30), comments(9), line(524)\n",
       "    variables(dimensions): int8 \u001b[4mtransverse_mercator\u001b[0m(), <class 'str'> \u001b[4mcomments\u001b[0m(comments), int8 \u001b[4mcomments_index\u001b[0m(point), float32 \u001b[4mfltline_geosoft\u001b[0m(point), int32 \u001b[4mga_project\u001b[0m(), int32 \u001b[4mjob_no\u001b[0m(), float32 \u001b[4mfiducial\u001b[0m(point), float64 \u001b[4mDateTime\u001b[0m(point), int32 \u001b[4mline\u001b[0m(line), int32 \u001b[4mline_index\u001b[0m(point), float32 \u001b[4measting\u001b[0m(point), float32 \u001b[4mnorthing\u001b[0m(point), float32 \u001b[4melevation\u001b[0m(point), float32 \u001b[4mdata_residual\u001b[0m(point), float32 \u001b[4mtx_height_measured\u001b[0m(point), float32 \u001b[4mtx_height_inverted\u001b[0m(point), float32 \u001b[4mdepth_of_investigation\u001b[0m(point), float32 \u001b[4mlayer_top_elevation\u001b[0m(point,layer), float32 \u001b[4mconductivity\u001b[0m(point,layer), float32 \u001b[4mconductivity_(masked_to_DOI)\u001b[0m(point,layer), float32 \u001b[4mconductivity_uncertainty\u001b[0m(point,layer), float32 \u001b[4mtmi_igrf_lev\u001b[0m(point), int8 \u001b[4mcrs\u001b[0m(), float64 \u001b[4mlongitude\u001b[0m(point), float64 \u001b[4mlatitude\u001b[0m(point)\n",
       "    groups: "
      ]
     },
     "execution_count": 5,
     "metadata": {},
     "output_type": "execute_result"
    }
   ],
   "source": [
    "d#.close()"
   ]
  },
  {
   "cell_type": "code",
   "execution_count": 6,
   "metadata": {},
   "outputs": [],
   "source": [
    "# For consistency lets convert mS/m to S/m\n",
    "\n",
    "d['conductivity'][:] = 0.001*d['conductivity'][:]"
   ]
  },
  {
   "cell_type": "code",
   "execution_count": 7,
   "metadata": {},
   "outputs": [],
   "source": [
    "d['conductivity'][:].units = 'S/m'"
   ]
  },
  {
   "cell_type": "code",
   "execution_count": 8,
   "metadata": {},
   "outputs": [],
   "source": [
    "top_layer = d['elevation'][0] - d['layer_top_elevation'][0]"
   ]
  },
  {
   "cell_type": "code",
   "execution_count": 9,
   "metadata": {},
   "outputs": [],
   "source": [
    "top_layers = np.array([round(x,2) for x in top_layer.data])"
   ]
  },
  {
   "cell_type": "code",
   "execution_count": 10,
   "metadata": {},
   "outputs": [
    {
     "data": {
      "text/plain": [
       "array([  0. ,   5. ,  10.4,  16.2,  22.5,  29.2,  36.5,  44.3,  52.7,\n",
       "        61.8,  71.6,  82.2,  93.6, 105.9, 119.1, 133.4, 148.8, 165.4,\n",
       "       183.3, 202.6, 223.4, 245.8, 269.9, 295.9, 323.9, 354.1, 386.6,\n",
       "       421.7, 459.5, 500.2], dtype=float32)"
      ]
     },
     "execution_count": 10,
     "metadata": {},
     "output_type": "execute_result"
    }
   ],
   "source": [
    "top_layers"
   ]
  },
  {
   "cell_type": "code",
   "execution_count": 11,
   "metadata": {},
   "outputs": [],
   "source": [
    "#top_layers = np.array([0,5,10.4,16.2,22.5,29.2,36.5,44.3,52.8,61.9,71.7,82.3,93.7,105.9,119.2,133.5,148.8,165.4,183.3,\n",
    "#              202.6,223.3,245.7,269.8,295.8,323.8,354,386.6,421.6,459.4,500.2])\n",
    "\n",
    "layer_top_depth = np.zeros(shape = d['conductivity_(masked_to_DOI)'][:].shape, dtype = np.float32)\n",
    "\n",
    "layer_top_depth[:] = np.tile(top_layers, d['conductivity'].shape[0]).reshape(d['conductivity'].shape)"
   ]
  },
  {
   "cell_type": "code",
   "execution_count": 12,
   "metadata": {},
   "outputs": [],
   "source": [
    "ltop = d.createVariable(\"layer_top_depth\",\"f8\",(\"point\",\"layer\"))\n",
    "ltop[:] = layer_top_depth\n",
    "\n",
    "ltop.long_name = \"Depth to the top of the layer\"\n",
    "ltop.unit = \"m\"\n",
    "ltop.aseg_gdf_format = \"30E9.3\""
   ]
  },
  {
   "cell_type": "code",
   "execution_count": 13,
   "metadata": {},
   "outputs": [],
   "source": [
    "d.close()"
   ]
  },
  {
   "cell_type": "code",
   "execution_count": null,
   "metadata": {},
   "outputs": [],
   "source": []
  }
 ],
 "metadata": {
  "@webio": {
   "lastCommId": null,
   "lastKernelId": null
  },
  "kernelspec": {
   "display_name": "Python 3",
   "language": "python",
   "name": "python3"
  },
  "language_info": {
   "codemirror_mode": {
    "name": "ipython",
    "version": 3
   },
   "file_extension": ".py",
   "mimetype": "text/x-python",
   "name": "python",
   "nbconvert_exporter": "python",
   "pygments_lexer": "ipython3",
   "version": "3.7.3"
  }
 },
 "nbformat": 4,
 "nbformat_minor": 4
}
