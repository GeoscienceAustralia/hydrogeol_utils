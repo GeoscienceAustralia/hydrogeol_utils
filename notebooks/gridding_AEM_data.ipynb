{
 "cells": [
  {
   "cell_type": "markdown",
   "metadata": {},
   "source": [
    "This notebook demonstrates extracting AEM conductivity data and gridding it using GDAL.\n",
    "\n",
    "Neil Symington\n",
    "\n",
    "neil.symington@ga.gov.au"
   ]
  },
  {
   "cell_type": "code",
   "execution_count": 1,
   "metadata": {},
   "outputs": [],
   "source": [
    "%matplotlib inline\n",
    "\n",
    "import matplotlib.pyplot as plt\n",
    "import netCDF4\n",
    "import numpy as np\n",
    "from geophys_utils._netcdf_line_utils import NetCDFLineUtils, NetCDFPointUtils\n",
    "from hydrogeol_utils import spatial_functions\n",
    "import fiona\n",
    "import gdal\n",
    "from shapely.geometry import Polygon, shape\n",
    "import os\n",
    "import gc\n",
    "import math\n",
    "import time\n",
    "import tempfile\n",
    "import affine\n",
    "import rasterio"
   ]
  },
  {
   "cell_type": "code",
   "execution_count": 2,
   "metadata": {},
   "outputs": [],
   "source": [
    " # Import the AEM conductivity data\n",
    "    \n",
    "\n",
    "ncdir = r'\\\\prod.lan\\active\\proj\\futurex\\East_Kimberley\\Data\\Processed\\Geophysics\\AEM\\EK_nbc_inversions\\OrdKeep_borehole_constrained\\netcdf'\n",
    "\n",
    "# Open the file with the conductivity values\n",
    "# The conductivity model was a 2d correlated borehole\n",
    "# constrained inversion done by Niel Christensen\n",
    "\n",
    "cond_path = os.path.join(ncdir,'OrdKeep2019_ModeExp_cor2DLogOrd.nc')\n",
    "ek_cond = netCDF4.Dataset(cond_path)"
   ]
  },
  {
   "cell_type": "code",
   "execution_count": 3,
   "metadata": {},
   "outputs": [
    {
     "data": {
      "text/plain": [
       "<class 'netCDF4._netCDF4.Dataset'>\n",
       "root group (NETCDF4 data model, file format HDF5):\n",
       "    geospatial_east_min: 413602.8\n",
       "    geospatial_east_max: 565524.1\n",
       "    geospatial_east_units: m\n",
       "    geospatial_north_min: 8244470.0\n",
       "    geospatial_north_max: 8360774.0\n",
       "    geospatial_north_units: m\n",
       "    title: Dataset read from ASEG-GDF file OrdKeep2019_ModeExp_cor2DLogOrd.dat\n",
       "    Conventions: CF-1.6,ACDD-1.3\n",
       "    featureType: trajectory\n",
       "    geospatial_vertical_min: -28.13\n",
       "    geospatial_vertical_max: 158.25\n",
       "    geospatial_vertical_units: m\n",
       "    geospatial_vertical_resolution: point\n",
       "    geospatial_vertical_positive: up\n",
       "    history: Converted from ASEG-GDF file ..\\combined_aseg_gdf\\OrdKeep2019_ModeExp_cor2DLogOrd.dat using definitions file ..\\combined_aseg_gdf\\OrdKeep2019_ModeExp_cor2DLogOrd.dfn\n",
       "    date_created: 2019-03-15T10:18:54.981470\n",
       "    geospatial_east_resolution: point\n",
       "    geospatial_north_resolution: point\n",
       "    geospatial_bounds: POLYGON((128.7680 -15.8787, 128.7679 -15.8787, 128.7677 -15.8787, 128.7676 -15.8787, 128.7584 -15.8786, 128.7561 -15.8785, 128.7557 -15.8785, 128.7556 -15.8785, 128.7456 -15.8766, 128.7403 -15.8757, 128.7289 -15.8735, 128.7276 -15.8732, 128.7275 -15.8732, 128.7274 -15.8732, 128.7273 -15.8732, 128.7272 -15.8731, 128.7271 -15.8731, 128.7270 -15.8730, 128.2425 -15.6266, 128.1942 -15.5672, 128.2086 -15.5108, 128.5868 -15.0827, 128.6912 -15.0009, 129.2160 -14.8272, 129.3188 -14.8447, 129.4667 -14.9171, 129.5065 -14.9602, 129.6098 -15.1049, 129.5633 -15.2071, 128.9667 -15.8781, 128.9667 -15.8781, 128.8836 -15.8786, 128.8570 -15.8786, 128.7680 -15.8787))\n",
       "    keywords: geophysics, airborne, AEM, conductivity\n",
       "    geospatial_lon_min: 128.19422040534857\n",
       "    geospatial_lon_max: 129.60977253943628\n",
       "    geospatial_lon_units: degrees East\n",
       "    geospatial_lat_min: -15.878684779827385\n",
       "    geospatial_lat_max: -14.827209899557571\n",
       "    geospatial_lat_units: degrees North\n",
       "    dimensions(sizes): point(641851), layer(30), line(524)\n",
       "    variables(dimensions): int8 \u001b[4mtransverse_mercator\u001b[0m(), int32 \u001b[4msequence\u001b[0m(point), int32 \u001b[4mline\u001b[0m(line), int32 \u001b[4mline_index\u001b[0m(point), float64 \u001b[4measting\u001b[0m(point), float64 \u001b[4mnorthing\u001b[0m(point), float32 \u001b[4melevation\u001b[0m(point), float32 \u001b[4mdata_residual\u001b[0m(point), float32 \u001b[4mdata_residual2\u001b[0m(), float32 \u001b[4mdata_residual3\u001b[0m(point), float32 \u001b[4mtotal_residual\u001b[0m(point), float32 \u001b[4mtx_height_measured\u001b[0m(point), float32 \u001b[4mtx_height_inverted\u001b[0m(point), float32 \u001b[4mstddev_txheightinverted\u001b[0m(point), float32 \u001b[4mdepth_of_investigation\u001b[0m(point), float32 \u001b[4mconductivity\u001b[0m(point,layer), float32 \u001b[4mconductivity_uncertainty\u001b[0m(point,layer), float32 \u001b[4mlayer_top_depth\u001b[0m(point,layer), int8 \u001b[4mcrs\u001b[0m(), float64 \u001b[4mlongitude\u001b[0m(point), float64 \u001b[4mlatitude\u001b[0m(point)\n",
       "    groups: "
      ]
     },
     "execution_count": 3,
     "metadata": {},
     "output_type": "execute_result"
    }
   ],
   "source": [
    "ek_cond"
   ]
  },
  {
   "cell_type": "code",
   "execution_count": 4,
   "metadata": {},
   "outputs": [],
   "source": [
    "# To utilise the geophys_utils for line data create a NetCDFLineUtils instance\n",
    "cond_line_utils = NetCDFLineUtils(ek_cond)\n",
    "\n",
    "cond_point_utils = NetCDFPointUtils(ek_cond)\n",
    "\n",
    "# Display the lines for the conductivity mode\n",
    "wkt, aem_coords = cond_point_utils.utm_coords(cond_point_utils.xycoords)"
   ]
  },
  {
   "cell_type": "code",
   "execution_count": 5,
   "metadata": {},
   "outputs": [
    {
     "data": {
      "text/plain": [
       "'PROJCS[\"UTM Zone 52, Southern Hemisphere\",GEOGCS[\"WGS 84\",DATUM[\"WGS_1984\",SPHEROID[\"WGS 84\",6378137,298.257223563,AUTHORITY[\"EPSG\",\"7030\"]],AUTHORITY[\"EPSG\",\"6326\"]],PRIMEM[\"Greenwich\",0,AUTHORITY[\"EPSG\",\"8901\"]],UNIT[\"degree\",0.0174532925199433,AUTHORITY[\"EPSG\",\"9122\"]],AUTHORITY[\"EPSG\",\"4326\"]],PROJECTION[\"Transverse_Mercator\"],PARAMETER[\"latitude_of_origin\",0],PARAMETER[\"central_meridian\",129],PARAMETER[\"scale_factor\",0.9996],PARAMETER[\"false_easting\",500000],PARAMETER[\"false_northing\",10000000],UNIT[\"Meter\",1]]'"
      ]
     },
     "execution_count": 5,
     "metadata": {},
     "output_type": "execute_result"
    }
   ],
   "source": [
    "wkt"
   ]
  },
  {
   "cell_type": "code",
   "execution_count": 6,
   "metadata": {},
   "outputs": [
    {
     "data": {
      "image/svg+xml": [
       "<svg xmlns=\"http://www.w3.org/2000/svg\" xmlns:xlink=\"http://www.w3.org/1999/xlink\" width=\"300\" height=\"300\" viewBox=\"494619.67357967497 8260223.553777247 36666.777524588455 68137.04167978\" preserveAspectRatio=\"xMinYMin meet\"><g transform=\"matrix(1,0,0,-1,0,16588584.149234273)\"><path fill-rule=\"evenodd\" fill=\"#66cc99\" stroke=\"#555555\" stroke-width=\"454.24694453186663\" opacity=\"0.6\" d=\"M 518832.7380293268,8325837.001320738 L 523685.8036760347,8323597.124868412 L 528762.8569679753,8315533.569640036 L 525253.7171926633,8314712.281607515 L 522192.5527078169,8295822.65685956 L 519430.03841661394,8294852.043730219 L 517190.1619642872,8290446.953373976 L 512113.1086723466,8286191.188114556 L 509275.9318327328,8284548.612049516 L 505468.1418637774,8284100.63675905 L 503004.277766218,8281562.110113081 L 503676.24070191605,8279098.246015521 L 505990.77970265364,8277306.344853659 L 507334.7055740497,8272751.929400595 L 504124.21599238133,8262747.147913535 L 499943.1132813714,8263344.448300823 L 497143.2677159631,8268458.83286697 L 497180.59899016854,8286079.19429194 L 498711.1812325918,8296494.619795259 L 518832.7380293268,8325837.001320738 z\" /></g></svg>"
      ],
      "text/plain": [
       "<shapely.geometry.polygon.Polygon at 0xc3a7630>"
      ]
     },
     "execution_count": 6,
     "metadata": {},
     "output_type": "execute_result"
    }
   ],
   "source": [
    "# WE are only going to grid lines that are within the Keep River plain area\n",
    "# Open a polyon to use as a spatial mask\n",
    "\n",
    "# Open geometry for a shapefile. This will be used to filter the bores extracted from the database\n",
    "c = fiona.open(r\"\\\\prod.lan\\active\\proj\\futurex\\East_Kimberley\\Working\\Neil\\Keep_spatial\\Keep_River_polygons.shp\")\n",
    "collection = [ shape(item['geometry']) for item in c ]\n",
    "names = [item['properties']['Name'] for item in c]\n",
    "polygons = [Polygon(pol.exterior.coords) for pol in collection] \n",
    "\n",
    "# Buffer by 5000 metres\n",
    "OrdKeep = polygons[names.index('AEM_close')]\n",
    "\n",
    "# Now keep only bores that are within \n",
    "OrdKeep"
   ]
  },
  {
   "cell_type": "code",
   "execution_count": 7,
   "metadata": {},
   "outputs": [],
   "source": [
    "# Define gdal algorithm as string - see https://gdal.org/programs/gdal_grid.html\n",
    "algorithm = 'invdist:power=2:radius1=250:radius2=250:max_points=15:'\n",
    "algorithm += 'min_points=2:nodata=-32768.0'\n",
    "\n",
    "grid_kwargs = {'conductivity': {'log_grid': True,\n",
    "                                'gdal_algorithm': algorithm},\n",
    "              'elevation': {'log_grid': False,\n",
    "                                'gdal_algorithm': algorithm}}\n",
    "\n",
    "\n",
    "grid = spatial_functions.grid_points_gdal(cond_point_utils, grid_resolution = 500.,\n",
    "                 variables = ['conductivity','elevation'],\n",
    "                 reprojected_grid_bounds = OrdKeep.bounds,\n",
    "                 grid_wkt = wkt,\n",
    "                 point_step=4, # Only use every 4th point\n",
    "                 grid_kwargs = grid_kwargs)"
   ]
  },
  {
   "cell_type": "code",
   "execution_count": 8,
   "metadata": {},
   "outputs": [
    {
     "data": {
      "image/png": "[encoded data removed]",
      "text/plain": [
       "<matplotlib.figure.Figure at 0xc321128>"
      ]
     },
     "metadata": {},
     "output_type": "display_data"
    }
   ],
   "source": [
    "\n",
    "a = grid['elevation']\n",
    "plt.imshow(np.flipud(a))\n",
    "plt.show()"
   ]
  },
  {
   "cell_type": "code",
   "execution_count": 11,
   "metadata": {},
   "outputs": [
    {
     "data": {
      "text/plain": [
       "(496000.0, 500.0, 0.0, 8261500.0, 0.0, 500.0)"
      ]
     },
     "execution_count": 11,
     "metadata": {},
     "output_type": "execute_result"
    }
   ],
   "source": [
    "grid['geotransform']"
   ]
  },
  {
   "cell_type": "code",
   "execution_count": 9,
   "metadata": {},
   "outputs": [],
   "source": [
    "# Create a muiltiband raster\n",
    "\n",
    "outfile = r'C:\\Temp\\EK_AEM_conductivity_layer_slices.tiff'\n",
    "\n",
    "arr = grid['conductivity']\n",
    "\n",
    "aff = affine.Affine.from_gdal(*grid['geotransform'])\n",
    "\n",
    "# Create a new dataset\n",
    "new_dataset = rasterio.open(outfile, 'w', driver='GTiff',\n",
    "                                height=arr.shape[1], width=arr.shape[2],\n",
    "                                count=arr.shape[0], dtype=arr.dtype,\n",
    "                                crs=grid['wkt'], transform=aff, nodata = np.nan)\n",
    "for i in range(arr.shape[0]):\n",
    "    new_dataset.write(arr[i], i+1)\n",
    "\n",
    "new_dataset.close()"
   ]
  },
  {
   "cell_type": "code",
   "execution_count": 27,
   "metadata": {},
   "outputs": [],
   "source": [
    "# Add to a netcdf4 grid file\n",
    "\n",
    "nc_file = r'C:\\Temp\\EK_AEM_conductivity_layer_slices.nc'\n",
    "\n",
    "# Find the coordinates for each dimension\n",
    "\n",
    "arr = grid['conductivity']\n",
    "\n",
    "x_coords = np.arange(grid['geotransform'][0],\n",
    "                     arr.shape[2] *grid['geotransform'][1] + grid['geotransform'][0],\n",
    "                     grid['geotransform'][1])\n",
    "\n",
    "y_coords = np.arange(grid['geotransform'][3],\n",
    "                     arr.shape[1] *grid['geotransform'][5] + grid['geotransform'][3],\n",
    "                     grid['geotransform'][5])\n",
    "\n",
    "layer_top_depth = ek_cond.variables['layer_top_depth'][0]\n",
    "\n",
    "# Create dataset\n",
    "\n",
    "nc_grid = netCDF4.Dataset(nc_file, \"w\", format=\"NETCDF4\")\n",
    "\n",
    "# Create dimensions\n",
    "\n",
    "layer_top = nc_grid.createDimension('layer_top_depth', np.shape(layer_top_depth)[0])\n",
    "\n",
    "x = nc_grid.createDimension('easting', np.shape(x_coords)[0])\n",
    "\n",
    "y = nc_grid.createDimension('northing', np.shape(y_coords)[0])\n",
    "\n",
    "# Create variables (both dimensions and variables)\n",
    "\n",
    "xs = nc_grid.createVariable('easting', 'f4', ('easting'))\n",
    "\n",
    "ys = nc_grid.createVariable('northing', 'f4', ('northing'))\n",
    "\n",
    "layer_tops = nc_grid.createVariable('layer_top', 'f4', ('layer_top_depth'))\n",
    "\n",
    "conductivity = nc_grid.createVariable('conductivity', 'f4', ('layer_top_depth',\n",
    "                                                          'northing',\n",
    "                                                          'easting'))\n",
    "# Attribute the variables\n",
    "nc_grid.description = \"Layer grids from the nbc inversion of the 2017 SkyTEM East Kimberley AEM data\"\n",
    "\n",
    "nc_grid.history = \"Created \" + time.ctime(time.time())\n",
    "\n",
    "nc_grid.source = \"Produce in a Jupyter Notebook by Neil Symington (neil.symington@ga.gov.au)\"\n",
    "\n",
    "nc_grid.wkt = wkt\n",
    "\n",
    "conductivity.units = \"S/m\"\n",
    "\n",
    "xs.units = 'm'\n",
    "\n",
    "ys.units = 'm'\n",
    "\n",
    "layer_tops.units = 'mAHD'\n",
    "\n",
    "# Write dimension data to variables\n",
    "xs[:] = x_coords\n",
    "ys[:] = y_coords\n",
    "layer_tops[:] = layer_top_depth\n",
    "\n",
    "# Write conductivity data to variables\n",
    "\n",
    "conductivity[:] = arr\n",
    "\n",
    "nc_grid.close()"
   ]
  },
  {
   "cell_type": "code",
   "execution_count": 28,
   "metadata": {},
   "outputs": [],
   "source": []
  },
  {
   "cell_type": "code",
   "execution_count": null,
   "metadata": {},
   "outputs": [],
   "source": []
  }
 ],
 "metadata": {
  "kernelspec": {
   "display_name": "Python 3",
   "language": "python",
   "name": "python3"
  },
  "language_info": {
   "codemirror_mode": {
    "name": "ipython",
    "version": 3
   },
   "file_extension": ".py",
   "mimetype": "text/x-python",
   "name": "python",
   "nbconvert_exporter": "python",
   "pygments_lexer": "ipython3",
   "version": "3.6.3"
  }
 },
 "nbformat": 4,
 "nbformat_minor": 2
}
