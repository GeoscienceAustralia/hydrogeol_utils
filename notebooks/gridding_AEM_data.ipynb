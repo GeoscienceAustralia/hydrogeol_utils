{
 "cells": [
  {
   "cell_type": "markdown",
   "metadata": {},
   "source": [
    "This notebook demonstrates extracting AEM conductivity data and gridding it using GDAL.\n",
    "\n",
    "Neil Symington\n",
    "\n",
    "neil.symington@ga.gov.au"
   ]
  },
  {
   "cell_type": "code",
   "execution_count": 44,
   "metadata": {},
   "outputs": [],
   "source": [
    "import netCDF4\n",
    "import numpy as np\n",
    "from geophys_utils._netcdf_line_utils import NetCDFLineUtils, NetCDFPointUtils\n",
    "import fiona\n",
    "from osgeo import gdal, ogr\n",
    "from shapely.geometry import Polygon, shape\n",
    "import os\n",
    "import tempfile"
   ]
  },
  {
   "cell_type": "code",
   "execution_count": 2,
   "metadata": {},
   "outputs": [],
   "source": [
    " # Import the AEM conductivity data\n",
    "    \n",
    "\n",
    "ncdir = r'\\\\prod.lan\\active\\proj\\futurex\\East_Kimberley\\Data\\Processed\\Geophysics\\AEM\\EK_nbc_inversions\\OrdKeep_borehole_constrained\\netcdf'\n",
    "\n",
    "# Open the file with the conductivity values\n",
    "# The conductivity model was a 2d correlated borehole\n",
    "# constrained inversion done by Niel Christensen\n",
    "\n",
    "cond_path = os.path.join(ncdir,'OrdKeep2019_ModeExp_cor2DLogOrd.nc')\n",
    "ek_cond = netCDF4.Dataset(cond_path)"
   ]
  },
  {
   "cell_type": "code",
   "execution_count": 3,
   "metadata": {},
   "outputs": [
    {
     "data": {
      "text/plain": [
       "<class 'netCDF4._netCDF4.Dataset'>\n",
       "root group (NETCDF4 data model, file format HDF5):\n",
       "    geospatial_east_min: 413602.8\n",
       "    geospatial_east_max: 565524.1\n",
       "    geospatial_east_units: m\n",
       "    geospatial_north_min: 8244470.0\n",
       "    geospatial_north_max: 8360774.0\n",
       "    geospatial_north_units: m\n",
       "    title: Dataset read from ASEG-GDF file OrdKeep2019_ModeExp_cor2DLogOrd.dat\n",
       "    Conventions: CF-1.6,ACDD-1.3\n",
       "    featureType: trajectory\n",
       "    geospatial_vertical_min: -28.13\n",
       "    geospatial_vertical_max: 158.25\n",
       "    geospatial_vertical_units: m\n",
       "    geospatial_vertical_resolution: point\n",
       "    geospatial_vertical_positive: up\n",
       "    history: Converted from ASEG-GDF file ..\\combined_aseg_gdf\\OrdKeep2019_ModeExp_cor2DLogOrd.dat using definitions file ..\\combined_aseg_gdf\\OrdKeep2019_ModeExp_cor2DLogOrd.dfn\n",
       "    date_created: 2019-03-15T10:18:54.981470\n",
       "    geospatial_east_resolution: point\n",
       "    geospatial_north_resolution: point\n",
       "    geospatial_bounds: POLYGON((128.7680 -15.8787, 128.7679 -15.8787, 128.7677 -15.8787, 128.7676 -15.8787, 128.7584 -15.8786, 128.7561 -15.8785, 128.7557 -15.8785, 128.7556 -15.8785, 128.7456 -15.8766, 128.7403 -15.8757, 128.7289 -15.8735, 128.7276 -15.8732, 128.7275 -15.8732, 128.7274 -15.8732, 128.7273 -15.8732, 128.7272 -15.8731, 128.7271 -15.8731, 128.7270 -15.8730, 128.2425 -15.6266, 128.1942 -15.5672, 128.2086 -15.5108, 128.5868 -15.0827, 128.6912 -15.0009, 129.2160 -14.8272, 129.3188 -14.8447, 129.4667 -14.9171, 129.5065 -14.9602, 129.6098 -15.1049, 129.5633 -15.2071, 128.9667 -15.8781, 128.9667 -15.8781, 128.8836 -15.8786, 128.8570 -15.8786, 128.7680 -15.8787))\n",
       "    keywords: geophysics, airborne, AEM, conductivity\n",
       "    geospatial_lon_min: 128.19422040534857\n",
       "    geospatial_lon_max: 129.60977253943628\n",
       "    geospatial_lon_units: degrees East\n",
       "    geospatial_lat_min: -15.878684779827385\n",
       "    geospatial_lat_max: -14.827209899557571\n",
       "    geospatial_lat_units: degrees North\n",
       "    dimensions(sizes): point(641851), layer(30), line(524)\n",
       "    variables(dimensions): int8 \u001b[4mtransverse_mercator\u001b[0m(), int32 \u001b[4msequence\u001b[0m(point), int32 \u001b[4mline\u001b[0m(line), int32 \u001b[4mline_index\u001b[0m(point), float64 \u001b[4measting\u001b[0m(point), float64 \u001b[4mnorthing\u001b[0m(point), float32 \u001b[4melevation\u001b[0m(point), float32 \u001b[4mdata_residual\u001b[0m(point), float32 \u001b[4mdata_residual2\u001b[0m(), float32 \u001b[4mdata_residual3\u001b[0m(point), float32 \u001b[4mtotal_residual\u001b[0m(point), float32 \u001b[4mtx_height_measured\u001b[0m(point), float32 \u001b[4mtx_height_inverted\u001b[0m(point), float32 \u001b[4mstddev_txheightinverted\u001b[0m(point), float32 \u001b[4mdepth_of_investigation\u001b[0m(point), float32 \u001b[4mconductivity\u001b[0m(point,layer), float32 \u001b[4mconductivity_uncertainty\u001b[0m(point,layer), float32 \u001b[4mlayer_top_depth\u001b[0m(point,layer), int8 \u001b[4mcrs\u001b[0m(), float64 \u001b[4mlongitude\u001b[0m(point), float64 \u001b[4mlatitude\u001b[0m(point)\n",
       "    groups: "
      ]
     },
     "execution_count": 3,
     "metadata": {},
     "output_type": "execute_result"
    }
   ],
   "source": [
    "ek_cond"
   ]
  },
  {
   "cell_type": "code",
   "execution_count": 14,
   "metadata": {},
   "outputs": [],
   "source": [
    "# To utilise the geophys_utils for line data create a NetCDFLineUtils instance\n",
    "cond_line_utils = NetCDFLineUtils(ek_cond)\n",
    "\n",
    "cond_point_utils = NetCDFPointUtils(ek_cond)\n",
    "\n",
    "# Display the lines for the conductivity mode\n",
    "wkt, aem_coords = cond_point_utils.utm_coords(cond_point_utils.xycoords)"
   ]
  },
  {
   "cell_type": "code",
   "execution_count": 25,
   "metadata": {},
   "outputs": [
    {
     "data": {
      "text/plain": [
       "'PROJCS[\"UTM Zone 52, Southern Hemisphere\",GEOGCS[\"WGS 84\",DATUM[\"WGS_1984\",SPHEROID[\"WGS 84\",6378137,298.257223563,AUTHORITY[\"EPSG\",\"7030\"]],AUTHORITY[\"EPSG\",\"6326\"]],PRIMEM[\"Greenwich\",0,AUTHORITY[\"EPSG\",\"8901\"]],UNIT[\"degree\",0.0174532925199433,AUTHORITY[\"EPSG\",\"9122\"]],AUTHORITY[\"EPSG\",\"4326\"]],PROJECTION[\"Transverse_Mercator\"],PARAMETER[\"latitude_of_origin\",0],PARAMETER[\"central_meridian\",129],PARAMETER[\"scale_factor\",0.9996],PARAMETER[\"false_easting\",500000],PARAMETER[\"false_northing\",10000000],UNIT[\"Meter\",1]]'"
      ]
     },
     "execution_count": 25,
     "metadata": {},
     "output_type": "execute_result"
    }
   ],
   "source": [
    "wkt"
   ]
  },
  {
   "cell_type": "code",
   "execution_count": 29,
   "metadata": {},
   "outputs": [
    {
     "data": {
      "image/svg+xml": [
       "<svg xmlns=\"http://www.w3.org/2000/svg\" xmlns:xlink=\"http://www.w3.org/1999/xlink\" width=\"300\" height=\"300\" viewBox=\"443394.04333148344 8232024.269276521 119218.53821040638 138141.87409276515\" preserveAspectRatio=\"xMinYMin meet\"><g transform=\"matrix(1,0,0,-1,0,16602190.412645807)\"><path fill-rule=\"evenodd\" fill=\"#66cc99\" stroke=\"#555555\" stroke-width=\"920.945827285101\" opacity=\"0.6\" d=\"M 503725.16162925033,8365005.710026997 L 503797.9112354947,8365049.777662147 L 545533.9824877982,8363955.027693332 L 557487.5911249644,8333684.793186628 L 557496.2158347503,8333662.952753694 L 544392.6445761472,8283029.217971241 L 544357.8626615324,8282894.816577523 L 503524.27025876945,8237140.634983661 L 448598.5557859408,8240759.81529371 L 448510.40903862286,8240765.623483469 L 473911.89977394114,8299766.09539283 L 473902.8962494675,8299786.129389727 L 457250.0834351546,8336857.594840728 L 503725.16162925033,8365005.710026997 z\" /></g></svg>"
      ],
      "text/plain": [
       "<shapely.geometry.polygon.Polygon at 0x142049e8>"
      ]
     },
     "execution_count": 29,
     "metadata": {},
     "output_type": "execute_result"
    }
   ],
   "source": [
    "# WE are only going to grid lines that are within the Keep River plain area\n",
    "# Open a polyon to use as a spatial mask\n",
    "\n",
    "# Open geometry for a shapefile. This will be used to filter the bores extracted from the database\n",
    "c = fiona.open(r\"\\\\prod.lan\\active\\proj\\futurex\\East_Kimberley\\Working\\Neil\\Keep_spatial\\Keep_River_polygons.shp\")\n",
    "collection = [ shape(item['geometry']) for item in c ]\n",
    "names = [item['properties']['Name'] for item in c]\n",
    "polygons = [Polygon(pol.exterior.coords) for pol in collection] \n",
    "\n",
    "# Buffer by 5000 metres\n",
    "OrdKeep = polygons[names.index('DENR_model_outline')]\n",
    "\n",
    "# Now keep only bores that are within \n",
    "OrdKeep"
   ]
  },
  {
   "cell_type": "code",
   "execution_count": 31,
   "metadata": {},
   "outputs": [
    {
     "data": {
      "text/plain": [
       "(448510.40903862286, 8237140.634983661, 557496.2158347503, 8365049.777662147)"
      ]
     },
     "execution_count": 31,
     "metadata": {},
     "output_type": "execute_result"
    }
   ],
   "source": [
    "OrdKeep.bounds"
   ]
  },
  {
   "cell_type": "code",
   "execution_count": 32,
   "metadata": {},
   "outputs": [],
   "source": [
    "grids, grid_wkt, geotransoform = cond_point_utils.grid_points(grid_resolution = 100.,\n",
    "                                                             variables = 'conductivity',\n",
    "                                                             reprojected_grid_bounds = OrdKeep.bounds,\n",
    "                                                             grid_wkt = wkt)"
   ]
  },
  {
   "cell_type": "code",
   "execution_count": 24,
   "metadata": {},
   "outputs": [
    {
     "data": {
      "text/plain": [
       "'POLYGON ((503725.1616292503 8365005.710026997, 503797.9112354947 8365049.777662147, 545533.9824877982 8363955.027693332, 557487.5911249644 8333684.793186628, 557496.2158347503 8333662.952753694, 544392.6445761472 8283029.217971241, 544357.8626615324 8282894.816577523, 503524.2702587695 8237140.634983661, 448598.5557859408 8240759.81529371, 448510.4090386229 8240765.623483469, 473911.8997739411 8299766.09539283, 473902.8962494675 8299786.129389727, 457250.0834351546 8336857.594840728, 503725.1616292503 8365005.710026997))'"
      ]
     },
     "execution_count": 24,
     "metadata": {},
     "output_type": "execute_result"
    }
   ],
   "source": [
    "OrdKeep.wkt"
   ]
  },
  {
   "cell_type": "code",
   "execution_count": 38,
   "metadata": {},
   "outputs": [
    {
     "data": {
      "image/png": "[encoded data removed]",
      "text/plain": [
       "<matplotlib.figure.Figure at 0xdf83630>"
      ]
     },
     "metadata": {},
     "output_type": "display_data"
    }
   ],
   "source": [
    "import matplotlib.pyplot as plt\n",
    "\n",
    "plt.imshow(grids[:,:,0])\n",
    "\n",
    "plt.show()"
   ]
  },
  {
   "cell_type": "code",
   "execution_count": 37,
   "metadata": {},
   "outputs": [
    {
     "data": {
      "text/plain": [
       "(1280, 1090, 30)"
      ]
     },
     "execution_count": 37,
     "metadata": {},
     "output_type": "execute_result"
    }
   ],
   "source": [
    "grids.shape"
   ]
  },
  {
   "cell_type": "code",
   "execution_count": 40,
   "metadata": {},
   "outputs": [],
   "source": [
    "def grid_points_gdal(cond_point_utils_inst, grid_resolution, \n",
    "                variables=None, \n",
    "                native_grid_bounds=None, \n",
    "                reprojected_grid_bounds=None, \n",
    "                resampling_method='linear', \n",
    "                grid_wkt=None, \n",
    "                point_step=1):\n",
    "    '''\n",
    "    Function that grids points in a specified bounding rectangle to a \n",
    "    regular grid of the specified resolution and crs using gdal gridding functions\n",
    "    @parameter grid_resolution: cell size of regular grid in grid CRS units\n",
    "    @parameter variables: Single variable name string or list of multiple variable name strings. Defaults to all point variables\n",
    "    @parameter native_grid_bounds: Spatial bounding box of area to grid in native coordinates \n",
    "    @parameter reprojected_grid_bounds: Spatial bounding box of area to grid in grid coordinates\n",
    "    @parameter resampling_method: Resampling method for gridding. 'linear' (default), 'nearest' or 'cubic'. \n",
    "    See https://docs.scipy.org/doc/scipy/reference/generated/scipy.interpolate.griddata.html \n",
    "    @parameter grid_wkt: WKT for grid coordinate reference system. Defaults to native CRS\n",
    "    @parameter point_step: Sampling spacing for points. 1 (default) means every point, 2 means every second point, etc.\n",
    "\n",
    "    @return grids: dict of grid arrays keyed by variable name if parameter 'variables' value was a list, or\n",
    "    a single grid array if 'variable' parameter value was a string\n",
    "    @return wkt: WKT for grid coordinate reference system.\n",
    "    @return geotransform: GDAL GeoTransform for grid\n",
    "    '''\n",
    "    assert not (native_grid_bounds and reprojected_grid_bounds), 'Either native_grid_bounds or reprojected_grid_bounds can be provided, but not both'\n",
    "    # Grid all data variables if not specified\n",
    "    variables = variables or cond_point_utils_inst.point_variables\n",
    "\n",
    "    # Allow single variable to be given as a string\n",
    "    single_var = (type(variables) == str)\n",
    "    if single_var:\n",
    "        variables = [variables]\n",
    "\n",
    "    if native_grid_bounds:\n",
    "        reprojected_grid_bounds = self.get_reprojected_bounds(native_grid_bounds, self.wkt, grid_wkt)\n",
    "    elif reprojected_grid_bounds:\n",
    "        native_grid_bounds = self.get_reprojected_bounds(reprojected_grid_bounds, grid_wkt, self.wkt)\n",
    "    else: # No reprojection required\n",
    "        native_grid_bounds = self.bounds\n",
    "        reprojected_grid_bounds = self.bounds\n",
    "\n",
    "    # Determine spatial grid bounds rounded out to nearest GRID_RESOLUTION multiple\n",
    "    pixel_centre_bounds = (round(math.floor(reprojected_grid_bounds[0] / grid_resolution) * grid_resolution, 6),\n",
    "                   round(math.floor(reprojected_grid_bounds[1] / grid_resolution) * grid_resolution, 6),\n",
    "                   round(math.floor(reprojected_grid_bounds[2] / grid_resolution - 1.0) * grid_resolution + grid_resolution, 6),\n",
    "                   round(math.floor(reprojected_grid_bounds[3] / grid_resolution - 1.0) * grid_resolution + grid_resolution, 6)\n",
    "                   )\n",
    "\n",
    "    grid_size = [pixel_centre_bounds[dim_index+2] - pixel_centre_bounds[dim_index] for dim_index in range(2)]\n",
    "\n",
    "    # Extend area for points an arbitrary 4% out beyond grid extents for nice interpolation at edges\n",
    "    expanded_grid_bounds = [pixel_centre_bounds[0]-grid_size[0]/50.0,\n",
    "                            pixel_centre_bounds[1]-grid_size[0]/50.0,\n",
    "                            pixel_centre_bounds[2]+grid_size[1]/50.0,\n",
    "                            pixel_centre_bounds[3]+grid_size[1]/50.0\n",
    "                            ]\n",
    "\n",
    "    spatial_subset_mask = cond_point_utils_inst.get_spatial_mask(cond_point_utils_inst.get_reprojected_bounds(expanded_grid_bounds, grid_wkt, self.wkt))\n",
    "\n",
    "    # Create grids of Y and X values. Note YX ordering and inverted Y\n",
    "    # Note GRID_RESOLUTION/2.0 fudge to avoid truncation due to rounding error\n",
    "    grid_y, grid_x = np.mgrid[pixel_centre_bounds[3]:pixel_centre_bounds[1]-grid_resolution/2.0:-grid_resolution, \n",
    "                             pixel_centre_bounds[0]:pixel_centre_bounds[2]+grid_resolution/2.0:grid_resolution]\n",
    "\n",
    "    # Skip points to reduce memory requirements\n",
    "    #TODO: Implement function which grids spatial subsets.\n",
    "    point_subset_mask = np.zeros(shape=(cond_point_utils_inst.netcdf_dataset.dimensions['point'].size,), dtype=bool)\n",
    "    point_subset_mask[0:-1:point_step] = True\n",
    "    point_subset_mask = np.logical_and(spatial_subset_mask, point_subset_mask)\n",
    "    \n",
    "\n",
    "    coordinates = self.xycoords[point_subset_mask]\n",
    "    # Reproject coordinates if required\n",
    "    if grid_wkt is not None:\n",
    "        # N.B: Be careful about XY vs YX coordinate order         \n",
    "        coordinates = np.array(transform_coords(coordinates[:], cond_point_utils_inst.wkt, grid_wkt))\n",
    "    \n",
    "    # Create a temporary shapefile with coords\n",
    "    \n",
    "    tempfile = os.path.join(tempfile.gettempdir(), 'AEM_pts_temp.csv')\n",
    "    with open(tempfile, 'w') as f:\n",
    "        f.write()\n",
    "    \n",
    "    # Interpolate required values to the grid - Note YX ordering for image\n",
    "    grids = {}\n",
    "    for variable in [cond_point_utils_inst.netcdf_dataset.variables[var_name] for var_name in variables]:\n",
    "        \n",
    "        \n",
    "        \n",
    "        grids[variable.name] = griddata(coordinates[:,::-1],\n",
    "                              variable[:][point_subset_mask], #TODO: Check why this is faster than direct indexing\n",
    "                              (grid_y, grid_x),\n",
    "                              method=resampling_method)\n",
    "\n",
    "    if single_var:\n",
    "        grids = list(grids.values())[0]\n",
    "\n",
    "    #  crs:GeoTransform = \"109.1002342895272 0.00833333 0 -9.354948067227777 0 -0.00833333 \"\n",
    "    geotransform = [pixel_centre_bounds[0]-grid_resolution/2.0,\n",
    "                    grid_resolution,\n",
    "                    0,\n",
    "                    pixel_centre_bounds[3]+grid_resolution/2.0,\n",
    "                    0,\n",
    "                    -grid_resolution\n",
    "                    ] \n",
    "\n",
    "    return grids, (grid_wkt or cond_point_utils_inst.wkt), geotransform"
   ]
  },
  {
   "cell_type": "code",
   "execution_count": 42,
   "metadata": {},
   "outputs": [],
   "source": []
  },
  {
   "cell_type": "code",
   "execution_count": null,
   "metadata": {},
   "outputs": [],
   "source": []
  }
 ],
 "metadata": {
  "kernelspec": {
   "display_name": "Python 3",
   "language": "python",
   "name": "python3"
  },
  "language_info": {
   "codemirror_mode": {
    "name": "ipython",
    "version": 3
   },
   "file_extension": ".py",
   "mimetype": "text/x-python",
   "name": "python",
   "nbconvert_exporter": "python",
   "pygments_lexer": "ipython3",
   "version": "3.6.3"
  }
 },
 "nbformat": 4,
 "nbformat_minor": 2
}
