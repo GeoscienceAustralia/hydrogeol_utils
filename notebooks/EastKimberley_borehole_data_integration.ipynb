{
 "cells": [
  {
   "cell_type": "markdown",
   "metadata": {},
   "source": [
    "This notebook takes borehole data from the East Kimberley, interpolates/ averages the data so that it they can be formulated as a sample vs feature array. This array can be used to investigate correlations between datasets, impute the array  and be used as training data for interpretations at boreholes\n",
    "\n",
    "Neil Symington\n",
    "neil.symington@ga.gov.au"
   ]
  },
  {
   "cell_type": "code",
   "execution_count": 2,
   "metadata": {},
   "outputs": [],
   "source": [
    "%matplotlib inline\n"
   ]
  },
  {
   "cell_type": "code",
   "execution_count": 3,
   "metadata": {},
   "outputs": [
    {
     "name": "stderr",
     "output_type": "stream",
     "text": [
      "C:\\Users\\u77932\\AppData\\Local\\Continuum\\anaconda3\\envs\\hydrogeol_utils\\lib\\site-packages\\h5py\\__init__.py:36: FutureWarning: Conversion of the second argument of issubdtype from `float` to `np.floating` is deprecated. In future, it will be treated as `np.float64 == np.dtype(float).type`.\n",
      "  from ._conv import register_converters as _register_converters\n"
     ]
    }
   ],
   "source": [
    "from sqlite3 import dbapi2 as sqlite\n",
    "from shapely.geometry import Polygon\n",
    "import pandas as pd\n",
    "import geopandas as gpd\n",
    "import numpy as np\n",
    "from hydrogeol_utils import spatial_functions, AEM_utils, plotting_utils, borehole_utils\n",
    "from geophys_utils._netcdf_point_utils import NetCDFPointUtils\n",
    "import matplotlib.pyplot as plt\n",
    "import os\n",
    "import sqlalchemy as db\n",
    "from sqlalchemy import create_engine, event\n",
    "import netCDF4\n",
    "import yaml\n",
    "import warnings\n",
    "warnings.filterwarnings(\"ignore\",category =RuntimeWarning)"
   ]
  },
  {
   "cell_type": "code",
   "execution_count": 4,
   "metadata": {},
   "outputs": [],
   "source": [
    "def search(kword_dict, word):\n",
    "    \"\"\"\n",
    "    A search function for finding if a keword\n",
    "    exists as a list element within a dictionary entry\n",
    "    \n",
    "    @param kword_dict: dictionary with keywords\n",
    "    @word: string\n",
    "    returns\n",
    "    the key for the entry if it exists or None if not\n",
    "    \"\"\"\n",
    "    word = word.lower()\n",
    "    for k in kword_dict:\n",
    "        for v in kword_dict[k]:\n",
    "            if word in v:\n",
    "                return k\n",
    "    return None\n",
    "\n"
   ]
  },
  {
   "cell_type": "code",
   "execution_count": 5,
   "metadata": {},
   "outputs": [],
   "source": [
    "# First we bring in polygons for the project area\n",
    "\n",
    "gdf = gpd.read_file(r\"\\\\prod.lan\\active\\proj\\futurex\\East_Kimberley\\Working\\Neil\\Keep_spatial\\Keep_River_polygons.shp\")\n",
    "\n",
    "# Visualise the palaeovalley extent as defined by the magnetics\n",
    "#gdf.loc[[0],'geometry'].plot()\n",
    "\n",
    "# Create a unary union so we can query our spatially query the bores\n",
    "OrdKeep = gdf.geometry.unary_union.wkt\n",
    "#OrdKeep = gdf['geometry'].iloc[0].wkt\n"
   ]
  },
  {
   "cell_type": "code",
   "execution_count": 6,
   "metadata": {},
   "outputs": [],
   "source": [
    "# Extract data from the database\n",
    "\n",
    "path = r\"\\\\prod.lan\\active\\proj\\futurex\\East_Kimberley\\Working\\SharedWorkspace\\Bores_working\\compilation\\spatialite\"\n",
    "\n",
    "DB_PATH = os.path.join(path, \"East_Kimberley_Boreholes.sqlite\")\n",
    "\n",
    "SPATIALITE_PATH = r'C:\\mod_spatialite-4.3.0a-win-amd64'\n",
    "\n",
    "# Add spatialite dll to path\n",
    "os.environ['PATH'] = SPATIALITE_PATH + ';' + os.environ['PATH']\n",
    "\n",
    "engine = db.create_engine('sqlite:///' + DB_PATH, module=sqlite)\n",
    "\n",
    "@event.listens_for(engine, 'connect')\n",
    "def connect(dbapi_connection, connection_rec):\n",
    "    dbapi_connection.enable_load_extension(True)\n",
    "    dbapi_connection.execute('SELECT load_extension(\"mod_spatialite\")')\n",
    "\n",
    "\n",
    "connection = engine.connect()\n"
   ]
  },
  {
   "cell_type": "code",
   "execution_count": 7,
   "metadata": {},
   "outputs": [
    {
     "name": "stdout",
     "output_type": "stream",
     "text": [
      "Select b.* from borehole b  where within(b.geom,GeomFromText('POLYGON ((503725.1616292503 8365005.710026997, 503797.9112354947 8365049.777662147, 545533.9824877982 8363955.027693332, 555824.2588038964 8337896.865118176, 558946.0197683489 8337454.919065265, 557778.2797407188 8337239.809060173, 556205.879152536 8336930.4843543, 557487.5911249644 8333684.793186628, 557496.2158347503 8333662.952753694, 544392.6445761472 8283029.217971241, 544357.8626615324 8282894.816577523, 503524.2702587695 8237140.634983661, 448598.5557859408 8240759.81529371, 448510.4090386229 8240765.623483469, 473911.8997739411 8299766.09539283, 473902.8962494675 8299786.129389727, 457250.0834351546 8336857.594840728, 503725.1616292503 8365005.710026997))'));\n"
     ]
    }
   ],
   "source": [
    "df_header = borehole_utils.extract_boreholes_within_geometry('borehole', connection,\n",
    "                                                             OrdKeep, columns = 'all')"
   ]
  },
  {
   "cell_type": "code",
   "execution_count": 10,
   "metadata": {},
   "outputs": [
    {
     "name": "stdout",
     "output_type": "stream",
     "text": [
      "select t.Depth, t.Total_water_content, t.Clay_water_content, t.Capillary_water_content, t.Free_water_content, t.K_SDR, t.borehole_id from boreholeNMR_data t where t.borehole_id in (621622,621623,626981,626984,626986,626987,626988,626989,626990,626991,626992,627061,627063,627064,628981,635728,635729,635730,635732,635733,635734,635735,635736,635737,635738,635739,635740,635741,635742,635743,635744,635745,635746,635921,635922,635923,635957,635958,635959,635960,636181,636182,636183,636184,636185,636186,636188,636189,636190,636191,636193,636194,636195,636196,636197,636198,636200,636201,636204,636205);\n",
      "select t.Depth_from, t.Depth_to, t.Lithology_name, t.Lithology_description, t.borehole_id from borehole_lithology t where t.borehole_id in (621622,621623,626981,626984,626986,626987,626988,626989,626990,626991,626992,627061,627063,627064,628981,635728,635729,635730,635732,635733,635734,635735,635736,635737,635738,635739,635740,635741,635742,635743,635744,635745,635746,635921,635922,635923,635957,635958,635959,635960,636181,636182,636183,636184,636185,636186,636188,636189,636190,636191,636193,636194,636195,636196,636197,636198,636200,636201,636204,636205);\n",
      "select t.Depth, t.Conductivity, t.Gamma_calibrated, t.GR, t.borehole_id from induction_gamma_data t where t.borehole_id in (621622,621623,626981,626984,626986,626987,626988,626989,626990,626991,626992,627061,627063,627064,628981,635728,635729,635730,635732,635733,635734,635735,635736,635737,635738,635739,635740,635741,635742,635743,635744,635745,635746,635921,635922,635923,635957,635958,635959,635960,636181,636182,636183,636184,636185,636186,636188,636189,636190,636191,636193,636194,636195,636196,636197,636198,636200,636201,636204,636205);\n",
      "select t.Depth, t.EC, t.pH, t.borehole_id from pore_fluid_EC_pH t where t.borehole_id in (621622,621623,626981,626984,626986,626987,626988,626989,626990,626991,626992,627061,627063,627064,628981,635728,635729,635730,635732,635733,635734,635735,635736,635737,635738,635739,635740,635741,635742,635743,635744,635745,635746,635921,635922,635923,635957,635958,635959,635960,636181,636182,636183,636184,636185,636186,636188,636189,636190,636191,636193,636194,636195,636196,636197,636198,636200,636201,636204,636205);\n"
     ]
    }
   ],
   "source": [
    "# First import all the datasets based on our enos (primary key)\n",
    "\n",
    "enos = df_header.borehole_id.values\n",
    "\n",
    "\n",
    "df_bNMR = borehole_utils.extract_sql_with_primary_key(\"boreholeNMR_data\", ['Depth', 'Total_water_content',\n",
    "                                                'Clay_water_content', 'Capillary_water_content',\n",
    "                                               'Free_water_content', 'K_SDR', 'borehole_id'], connection, enos)\n",
    "\n",
    "df_lithology = borehole_utils.extract_sql_with_primary_key(\"borehole_lithology\", ['Depth_from', 'Depth_to',\n",
    "                                                'Lithology_name', 'Lithology_description',\n",
    "                                                           'borehole_id'], connection, enos)\n",
    "\n",
    "# We have an issue with lithology having duplicate entries for the same interval\n",
    "# For now we are just going to keep the first entry\n",
    "\n",
    "df_lithology = df_lithology[~df_lithology.duplicated(subset = [\"Depth_from\", \"borehole_id\"],\n",
    "                                       keep = 'first')]\n",
    "\n",
    "# Classify the lithology using a yaml file keyword lookup table\n",
    "yaml_file = r\"\\\\prod.lan\\active\\proj\\futurex\\East_Kimberley\\Working\\SharedWorkspace\\Bores_working\\compilation\\classification\\hydclass_classification.yml\"\n",
    "\n",
    "with open(yaml_file) as f:\n",
    "    # use safe_load instead load\n",
    "    hyd_class = yaml.safe_load(f)\n",
    "\n",
    "\n",
    "# Assign all rows to a class of 7 which is the unkown class\n",
    "df_lithology['hydraulic_class'] = 7\n",
    "\n",
    "# iterate through lithology names\n",
    "for index, row in df_lithology.iterrows():\n",
    "    lithname = row.Lithology_name\n",
    "    \n",
    "    # Add the classification integer to the dataframe if it is found\n",
    "    interval_class = search(hyd_class, lithname)\n",
    "    \n",
    "    if interval_class is not None:\n",
    "        df_lithology.at[index, 'hydraulic_class']\n",
    "    else:\n",
    "        # Otherwise we can add it to the yaml file\n",
    "        print(lith_name)\n",
    "    \n",
    "    \n",
    "\n",
    "df_indgam = borehole_utils.extract_sql_with_primary_key(\"induction_gamma_data\", \n",
    "                                                        ['Depth', 'Conductivity','Gamma_calibrated',\n",
    "                                                         'GR','borehole_id'], connection, enos)\n",
    "\n",
    "df_EC_pH = borehole_utils.extract_sql_with_primary_key(\"pore_fluid_EC_pH\", \n",
    "                                                       ['Depth', 'EC', 'pH', 'borehole_id'],\n",
    "                                                       connection, enos)\n"
   ]
  },
  {
   "cell_type": "code",
   "execution_count": 11,
   "metadata": {},
   "outputs": [],
   "source": [
    "# Our first investigation will be looking at relationships between these borehole data \n",
    "# and the AEM\n",
    "\n",
    "# load AEM\n",
    "\n",
    "nc_dir = r\"\\\\prod.lan\\active\\proj\\futurex\\East_Kimberley\\Data\\Processed\\Geophysics\\AEM\\EK_nbc_inversions\\OrdKeep_borehole_constrained\\netcdf\"\n",
    "\n",
    "ek_cond = netCDF4.Dataset(os.path.join(nc_dir, \"OrdKeep2019_ModeExp_cor2DLogOrd.nc\"))\n",
    "\n",
    "# Create an instance of point utils\n",
    "\n",
    "cond_point_util = NetCDFPointUtils(ek_cond)\n",
    "\n",
    "wkt, aem_coords = cond_point_util.utm_coords(cond_point_util.xycoords)"
   ]
  },
  {
   "cell_type": "code",
   "execution_count": 12,
   "metadata": {},
   "outputs": [],
   "source": [
    "# For every bore we will find the distance and netcdf\n",
    "# index for each borehole that is within 1 km of an AEM fiducial\n",
    "\n",
    "distances, indices = spatial_functions.nearest_neighbours(df_header[['Easting','Northing']], aem_coords,\n",
    "                                                        points_required = 10, max_distance = 1000.)"
   ]
  },
  {
   "cell_type": "code",
   "execution_count": 13,
   "metadata": {},
   "outputs": [
    {
     "name": "stderr",
     "output_type": "stream",
     "text": [
      "C:\\Users\\u77932\\AppData\\Local\\Continuum\\anaconda3\\envs\\hydrogeol_utils\\lib\\site-packages\\pandas\\core\\frame.py:6201: FutureWarning: Sorting because non-concatenation axis is not aligned. A future version\n",
      "of pandas will change to not sort by default.\n",
      "\n",
      "To accept the future behavior, pass 'sort=True'.\n",
      "\n",
      "To retain the current behavior and silence the warning, pass sort=False\n",
      "\n",
      "  sort=sort)\n"
     ]
    }
   ],
   "source": [
    "# Here we will create a table of AEM conductivity profiles for each\n",
    "# borehole. To guard against anomolour points we will take an inverse\n",
    "# distance weighting of conductivity from the 10 closest points\n",
    "\n",
    "# REsults are written into a dataframe\n",
    "\n",
    "df_conductivity = pd.DataFrame(columns = {'borehole_id',\n",
    "                                          'Depth_from',\n",
    "                                          'Depth_to',\n",
    "                                          'conductivity'})\n",
    "\n",
    "# Create a flag for if there is AEM data for the borehole\n",
    "\n",
    "df_header['AEM_proximal'] = 0\n",
    "\n",
    "for i, (index, row) in enumerate(df_header.iterrows()):\n",
    "    # If the distances are not infinite (i.e. the boreholes disatnce is greater\n",
    "    # than the maximum)\n",
    "    if np.isfinite(np.sum(distances[i])):\n",
    "        \n",
    "        # Extract a representative profile\n",
    "        df_conductivity_profile = AEM_utils.extract_conductivity_profile(ek_cond,\n",
    "                                                   distances[i], indices[i],\n",
    "                                                   as_dataframe = True,\n",
    "                                                  mask_below_doi=True)\n",
    "        \n",
    "        df_conductivity_profile['borehole_id'] = row.borehole_id\n",
    "\n",
    "        # Append it to the dataframe\n",
    "        df_conductivity = df_conductivity.append(df_conductivity_profile)\n",
    "        \n",
    "        # Update the flag\n",
    "        df_header.at[index, 'AEM_proximal'] = 1 \n"
   ]
  },
  {
   "cell_type": "code",
   "execution_count": 14,
   "metadata": {},
   "outputs": [],
   "source": [
    "# Spit out this as a csv\n",
    "\n",
    "outfile = r\"\\\\prod.lan\\active\\proj\\futurex\\East_Kimberley\\Working\\SharedWorkspace\\Bores_working\\compilation\\AEM\\borhole_interpolated_AEM_profiles.csv\"\n",
    "\n",
    "df_conductivity.to_csv(outfile, index=False)"
   ]
  },
  {
   "cell_type": "code",
   "execution_count": 15,
   "metadata": {},
   "outputs": [
    {
     "data": {
      "image/png": "[encoded data removed]",
      "text/plain": [
       "<matplotlib.figure.Figure at 0x673e2e8>"
      ]
     },
     "metadata": {},
     "output_type": "display_data"
    }
   ],
   "source": [
    "# Lets do a quick visual analysis of borehole induction vs AEM for outrsites\n",
    "\n",
    "outdir = r\"\\\\prod.lan\\active\\proj\\futurex\\East_Kimberley\\Working\\Neil\\AEM_vs_induction_plots\"\n",
    "\n",
    "for index, row in df_header.iterrows():\n",
    "    \n",
    "    if (row['AEM_proximal'] == 1) & (row['Induction_acquired'] == 1):\n",
    "        \n",
    "        fig, (ax1,ax2) = plt.subplots(1,2, sharey = True, figsize = (8,6))\n",
    "        \n",
    "        # Extract the data using eno\n",
    "        \n",
    "        eno = row['borehole_id']\n",
    "        \n",
    "        \n",
    "        # Extract induction\n",
    "        \n",
    "        indmask = df_indgam['borehole_id'] == eno\n",
    "        \n",
    "        induction_profile = df_indgam[indmask]['Conductivity'].values\n",
    "        \n",
    "        depth = df_indgam[indmask]['Depth'].values\n",
    "        \n",
    "        ax2 = plotting_utils.plot_downhole_log(ax2, induction_profile,\n",
    "                                  depth,log_plot=True)\n",
    "        \n",
    "        # Extract AEM conductivity\n",
    "        condmask = df_conductivity['borehole_id'] == eno\n",
    "        \n",
    "        conductivity_profile = df_conductivity[condmask]['conductivity'].values\n",
    "        \n",
    "        depth_top= df_conductivity[condmask]['Depth_from'].values\n",
    "        \n",
    "        \n",
    "        # So the plots are on a similar scale we clip the conductivity to\n",
    "        # the depth of the bore + 20 m\n",
    "        \n",
    "        depth_mask = depth_top < (np.max(depth) + 20.) \n",
    "        \n",
    "        ax1 = plotting_utils.plot_AEM_conductivity_profile(ax1, conductivity_profile[depth_mask],\n",
    "                                  depth_top[depth_mask], doi=None, log_plot=True)\n",
    "        \n",
    "        \n",
    "        ax1.set_title(\"AEM inverted model\")\n",
    "        ax1.set_ylabel(\"Depth\")\n",
    "        ax1.set_xlabel(\"AEM bulk Conductivity (S/m)\")\n",
    "        ax2.set_title(\"Borehole induction data\")\n",
    "\n",
    "        ax2.set_xlabel(\"borehole induction conductivity (S/m)\")\n",
    "        #plt.savefig(os.path.join(outdir, row['Borehole_name'] + \"_conductivity_vs_induction.png\"))\n",
    "        \n",
    "        if index == df_header[df_header['Borehole_name'] == 'RN040310'].index:\n",
    "            plt.show()\n",
    "        \n",
    "        plt.close()\n",
    "        "
   ]
  },
  {
   "cell_type": "code",
   "execution_count": 17,
   "metadata": {},
   "outputs": [
    {
     "name": "stdout",
     "output_type": "stream",
     "text": [
      "    Depth_from  Depth_to borehole_id  conductivity\n",
      "0     0.000000       2.0      635728      0.160000\n",
      "1     2.000000       4.3      635728      0.228154\n",
      "2     4.300000       6.8      635728      0.369549\n",
      "3     6.800000       9.7      635728      0.903342\n",
      "4     9.700000      12.9      635728      0.878735\n",
      "5    12.900000      16.6      635728      0.483092\n",
      "6    16.600000      20.7      635728      0.470367\n",
      "7    20.700001      25.4      635728      0.774593\n",
      "8    25.400000      30.6      635728      1.011122\n",
      "9    30.600000      36.5      635728      0.734754\n",
      "10   36.500000      43.2      635728      0.471254\n",
      "11   43.200001      50.7      635728      0.315557\n",
      "12   50.700001      59.2      635728      0.272183\n",
      "13   59.200001      68.8      635728      0.299133\n",
      "14   68.800003      79.6      635728      0.281849\n",
      "15   79.599998      91.8      635728      0.181719\n",
      "16   91.800003     105.6      635728      0.098184\n",
      "17  105.599998     121.1      635728      0.059898\n",
      "18  121.099998     138.6      635728      0.045773\n",
      "19  138.600006     158.4      635728      0.043314\n",
      "20  158.399994     180.7      635728      0.052225\n",
      "21  180.699997     205.9      635728      0.082692\n",
      "22  205.899994     234.3      635728      0.174064\n",
      "23  234.300003     266.4      635728      0.480538\n",
      "24  266.399994     302.6      635728      1.718213\n"
     ]
    }
   ],
   "source": [
    "# Now lets try interpolating all data onto the lithology intervals\n",
    "\n",
    "df_subset = df_header[df_header['Lithology_available'] == 1]\n",
    "\n",
    "# The data will be appended to a dataframe called interpolated\n",
    "\n",
    "df_interpolated = pd.DataFrame(columns = ['Depth_from', 'Depth_to', 'hydraulic_class',\n",
    "                                         'AEM_conductivity', 'induction', 'GR',\n",
    "                                         \"EC\", 'pH'])\n",
    "\n",
    "# Iterate through the bores\n",
    "\n",
    "for index, row in df_subset.iterrows():\n",
    "    \n",
    "    # First we want to find the min and max depth for the boreholes\n",
    "    eno = row.borehole_id\n",
    "    \n",
    "    df_ = borehole_utils.extract_by_primary_key(df_conductivity, eno)\n",
    "    print(df_)\n",
    "    break\n",
    "    # Get the intervals onto which the other datasets will be interpolated\n",
    "    \n",
    "    \n",
    "    "
   ]
  },
  {
   "cell_type": "code",
   "execution_count": 93,
   "metadata": {},
   "outputs": [
    {
     "data": {
      "text/plain": [
       "array([635728, 635730, 635734, 635735, 635737, 635738, 635739, 635740,\n",
       "       635741, 635742, 635743, 635746, 635747, 635748], dtype=int64)"
      ]
     },
     "execution_count": 93,
     "metadata": {},
     "output_type": "execute_result"
    }
   ],
   "source": [
    "subset_enos = df_subset.borehole_id.values\n",
    "\n",
    "subset_enos"
   ]
  },
  {
   "cell_type": "code",
   "execution_count": 95,
   "metadata": {},
   "outputs": [
    {
     "ename": "ValueError",
     "evalue": "Lengths must match to compare",
     "output_type": "error",
     "traceback": [
      "\u001b[1;31m---------------------------------------------------------------------------\u001b[0m",
      "\u001b[1;31mValueError\u001b[0m                                Traceback (most recent call last)",
      "\u001b[1;32m<ipython-input-95-ab5aa45a8a31>\u001b[0m in \u001b[0;36m<module>\u001b[1;34m()\u001b[0m\n\u001b[1;32m----> 1\u001b[1;33m \u001b[0mdf_indgam\u001b[0m\u001b[1;33m[\u001b[0m\u001b[0mdf_indgam\u001b[0m\u001b[1;33m[\u001b[0m\u001b[1;34m'borehole_id'\u001b[0m\u001b[1;33m]\u001b[0m \u001b[1;32min\u001b[0m \u001b[0msubset_enos\u001b[0m\u001b[1;33m]\u001b[0m\u001b[1;33m\u001b[0m\u001b[0m\n\u001b[0m",
      "\u001b[1;32m~\\AppData\\Local\\Continuum\\anaconda3\\envs\\hydrogeol_utils\\lib\\site-packages\\pandas\\core\\ops.py\u001b[0m in \u001b[0;36mwrapper\u001b[1;34m(self, other, axis)\u001b[0m\n\u001b[0;32m   1221\u001b[0m             \u001b[1;31m# as it will broadcast\u001b[0m\u001b[1;33m\u001b[0m\u001b[1;33m\u001b[0m\u001b[0m\n\u001b[0;32m   1222\u001b[0m             \u001b[1;32mif\u001b[0m \u001b[0mother\u001b[0m\u001b[1;33m.\u001b[0m\u001b[0mndim\u001b[0m \u001b[1;33m!=\u001b[0m \u001b[1;36m0\u001b[0m \u001b[1;32mand\u001b[0m \u001b[0mlen\u001b[0m\u001b[1;33m(\u001b[0m\u001b[0mself\u001b[0m\u001b[1;33m)\u001b[0m \u001b[1;33m!=\u001b[0m \u001b[0mlen\u001b[0m\u001b[1;33m(\u001b[0m\u001b[0mother\u001b[0m\u001b[1;33m)\u001b[0m\u001b[1;33m:\u001b[0m\u001b[1;33m\u001b[0m\u001b[0m\n\u001b[1;32m-> 1223\u001b[1;33m                 \u001b[1;32mraise\u001b[0m \u001b[0mValueError\u001b[0m\u001b[1;33m(\u001b[0m\u001b[1;34m'Lengths must match to compare'\u001b[0m\u001b[1;33m)\u001b[0m\u001b[1;33m\u001b[0m\u001b[0m\n\u001b[0m\u001b[0;32m   1224\u001b[0m \u001b[1;33m\u001b[0m\u001b[0m\n\u001b[0;32m   1225\u001b[0m             \u001b[0mres_values\u001b[0m \u001b[1;33m=\u001b[0m \u001b[0mna_op\u001b[0m\u001b[1;33m(\u001b[0m\u001b[0mself\u001b[0m\u001b[1;33m.\u001b[0m\u001b[0mvalues\u001b[0m\u001b[1;33m,\u001b[0m \u001b[0mnp\u001b[0m\u001b[1;33m.\u001b[0m\u001b[0masarray\u001b[0m\u001b[1;33m(\u001b[0m\u001b[0mother\u001b[0m\u001b[1;33m)\u001b[0m\u001b[1;33m)\u001b[0m\u001b[1;33m\u001b[0m\u001b[0m\n",
      "\u001b[1;31mValueError\u001b[0m: Lengths must match to compare"
     ]
    }
   ],
   "source": [
    "df_indgam[df_indgam['borehole_id'] in subset_enos]"
   ]
  },
  {
   "cell_type": "code",
   "execution_count": 101,
   "metadata": {},
   "outputs": [
    {
     "data": {
      "text/plain": [
       "814"
      ]
     },
     "execution_count": 101,
     "metadata": {},
     "output_type": "execute_result"
    }
   ],
   "source": [
    "mask = df_indgam['borehole_id'].isin([635728])"
   ]
  },
  {
   "cell_type": "code",
   "execution_count": null,
   "metadata": {},
   "outputs": [],
   "source": []
  }
 ],
 "metadata": {
  "kernelspec": {
   "display_name": "Python 3",
   "language": "python",
   "name": "python3"
  },
  "language_info": {
   "codemirror_mode": {
    "name": "ipython",
    "version": 3
   },
   "file_extension": ".py",
   "mimetype": "text/x-python",
   "name": "python",
   "nbconvert_exporter": "python",
   "pygments_lexer": "ipython3",
   "version": "3.6.3"
  }
 },
 "nbformat": 4,
 "nbformat_minor": 2
}
