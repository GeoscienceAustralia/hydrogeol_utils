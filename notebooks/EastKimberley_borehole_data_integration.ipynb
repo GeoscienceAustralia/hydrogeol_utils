{
 "cells": [
  {
   "cell_type": "markdown",
   "metadata": {},
   "source": [
    "This notebook takes borehole data from the East Kimberley, interpolates/ averages the data so that it they can be formulated as a sample vs feature array. This array can be used to investigate correlations between datasets, impute the array  and be used as training data for interpretations at boreholes\n",
    "\n",
    "Neil Symington\n",
    "neil.symington@ga.gov.au"
   ]
  },
  {
   "cell_type": "code",
   "execution_count": 5,
   "metadata": {},
   "outputs": [],
   "source": [
    "from sqlite3 import dbapi2 as sqlite\n",
    "import pandas as pd\n",
    "import numpy as np\n",
    "from hydrogeol_utils import spatial_functions\n",
    "import os\n",
    "import sqlalchemy as db"
   ]
  },
  {
   "cell_type": "code",
   "execution_count": 6,
   "metadata": {},
   "outputs": [],
   "source": [
    "# Extract data from the database\n",
    "\n",
    "path = r\"\\\\prod.lan\\active\\proj\\futurex\\East_Kimberley\\Working\\SharedWorkspace\\Bores_working\\compilation\\spatialite\"\n",
    "\n",
    "DB_PATH = os.path.join(\"East_Kimberley_borehole_data.sqlite\")\n",
    "\n",
    "engine = db.create_engine('sqlite:///' + DB_PATH, module=sqlite)\n",
    "\n",
    "connection = engine.connect()\n"
   ]
  },
  {
   "cell_type": "code",
   "execution_count": 7,
   "metadata": {},
   "outputs": [],
   "source": [
    "# Import the header table\n",
    "\n",
    "query = "
   ]
  },
  {
   "cell_type": "code",
   "execution_count": null,
   "metadata": {},
   "outputs": [],
   "source": []
  }
 ],
 "metadata": {
  "kernelspec": {
   "display_name": "Python 3",
   "language": "python",
   "name": "python3"
  },
  "language_info": {
   "codemirror_mode": {
    "name": "ipython",
    "version": 3
   },
   "file_extension": ".py",
   "mimetype": "text/x-python",
   "name": "python",
   "nbconvert_exporter": "python",
   "pygments_lexer": "ipython3",
   "version": "3.6.3"
  }
 },
 "nbformat": 4,
 "nbformat_minor": 2
}
