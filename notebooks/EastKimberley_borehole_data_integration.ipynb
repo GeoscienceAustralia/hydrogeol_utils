{
 "cells": [
  {
   "cell_type": "markdown",
   "metadata": {},
   "source": [
    "This notebook takes borehole data from the East Kimberley, interpolates/ averages the data so that it they can be formulated as a sample vs feature array. This array can be used to investigate correlations between datasets, impute the array  and be used as training data for interpretations at boreholes\n",
    "\n",
    "Neil Symington\n",
    "neil.symington@ga.gov.au"
   ]
  },
  {
   "cell_type": "code",
   "execution_count": 1,
   "metadata": {},
   "outputs": [],
   "source": [
    "%matplotlib inline"
   ]
  },
  {
   "cell_type": "code",
   "execution_count": 2,
   "metadata": {},
   "outputs": [
    {
     "name": "stderr",
     "output_type": "stream",
     "text": [
      "C:\\Users\\u77932\\AppData\\Local\\Continuum\\anaconda3\\envs\\hydrogeol_utils\\lib\\site-packages\\h5py\\__init__.py:36: FutureWarning: Conversion of the second argument of issubdtype from `float` to `np.floating` is deprecated. In future, it will be treated as `np.float64 == np.dtype(float).type`.\n",
      "  from ._conv import register_converters as _register_converters\n"
     ]
    }
   ],
   "source": [
    "from sqlite3 import dbapi2 as sqlite\n",
    "from shapely.geometry import Polygon\n",
    "import pandas as pd\n",
    "import geopandas as gpd\n",
    "import numpy as np\n",
    "from hydrogeol_utils import spatial_functions, AEM_utils, plotting_utils\n",
    "from geophys_utils._netcdf_point_utils import NetCDFPointUtils\n",
    "import matplotlib.pyplot as plt\n",
    "import os\n",
    "import sqlalchemy as db\n",
    "from sqlalchemy import create_engine, event\n",
    "import netCDF4"
   ]
  },
  {
   "cell_type": "code",
   "execution_count": 3,
   "metadata": {},
   "outputs": [],
   "source": [
    "# First we bring in polygons for the project area\n",
    "\n",
    "gdf = gpd.read_file(r\"\\\\prod.lan\\active\\proj\\futurex\\East_Kimberley\\Working\\Neil\\Keep_spatial\\Keep_River_polygons.shp\")\n",
    "\n",
    "# Visualise the palaeovalley extent as defined by the magnetics\n",
    "#gdf.loc[[0],'geometry'].plot()\n",
    "\n",
    "# Create a unary union so we can query our spatially query the bores\n",
    "OrdKeep = gdf.geometry.unary_union.wkt\n"
   ]
  },
  {
   "cell_type": "code",
   "execution_count": 4,
   "metadata": {},
   "outputs": [],
   "source": [
    "# Extract data from the database\n",
    "\n",
    "path = r\"\\\\prod.lan\\active\\proj\\futurex\\East_Kimberley\\Working\\SharedWorkspace\\Bores_working\\compilation\\spatialite\"\n",
    "\n",
    "DB_PATH = os.path.join(path, \"East_Kimberley_Boreholes.sqlite\")\n",
    "\n",
    "SPATIALITE_PATH = r'C:\\mod_spatialite-4.3.0a-win-amd64'\n",
    "\n",
    "# Add spatialite dll to path\n",
    "os.environ['PATH'] = SPATIALITE_PATH + ';' + os.environ['PATH']\n",
    "\n",
    "engine = db.create_engine('sqlite:///' + DB_PATH, module=sqlite)\n",
    "\n",
    "@event.listens_for(engine, 'connect')\n",
    "def connect(dbapi_connection, connection_rec):\n",
    "    dbapi_connection.enable_load_extension(True)\n",
    "    dbapi_connection.execute('SELECT load_extension(\"mod_spatialite\")')\n",
    "\n",
    "\n",
    "connection = engine.connect()\n"
   ]
  },
  {
   "cell_type": "code",
   "execution_count": 5,
   "metadata": {},
   "outputs": [
    {
     "name": "stdout",
     "output_type": "stream",
     "text": [
      "\n",
      "\n",
      "select\n",
      "\n",
      "   b.*\n",
      "\n",
      "from\n",
      "\n",
      "   borehole b\n",
      "\n",
      "where\n",
      "\n",
      "    within(GeomFromText('POLYGON ((503725.1616292503 8365005.710026997, 503797.9112354947 8365049.777662147, 545533.9824877982 8363955.027693332, 555824.2588038964 8337896.865118176, 558946.0197683489 8337454.919065265, 557778.2797407188 8337239.809060173, 556205.879152536 8336930.4843543, 557487.5911249644 8333684.793186628, 557496.2158347503 8333662.952753694, 544392.6445761472 8283029.217971241, 544357.8626615324 8282894.816577523, 503524.2702587695 8237140.634983661, 448598.5557859408 8240759.81529371, 448510.4090386229 8240765.623483469, 473911.8997739411 8299766.09539283, 473902.8962494675 8299786.129389727, 457250.0834351546 8336857.594840728, 503725.1616292503 8365005.710026997))'), b.geometry);\n",
      "    \n",
      "\n",
      "\n"
     ]
    }
   ],
   "source": [
    "# Import the header table using a sql query\n",
    "\n",
    "header_query = \"\"\"\n",
    "\n",
    "select\n",
    "\n",
    "   b.*\n",
    "\n",
    "from\n",
    "\n",
    "   borehole b\n",
    "\n",
    "where\n",
    "\n",
    "    within(GeomFromText('{}'), b.geometry);\n",
    "    \n",
    "\n",
    "\"\"\".format(OrdKeep)\n",
    "\n",
    "print(header_query)\n",
    "\n",
    "df_header = pd.read_sql(header_query, connection, params = None)"
   ]
  },
  {
   "cell_type": "code",
   "execution_count": 6,
   "metadata": {},
   "outputs": [],
   "source": [
    "# First import all the datasets\n",
    "\n",
    "enos = df_header.borehole_id.values\n"
   ]
  },
  {
   "cell_type": "code",
   "execution_count": 7,
   "metadata": {},
   "outputs": [],
   "source": [
    "# Now load the various datasets\n",
    "\n",
    "def extract_sql_with_enos(table_name, columns, connection, enos):\n",
    "    # Create a string of placeholders\n",
    "    st_eno = ','.join(str(x) for x in enos)\n",
    "    \n",
    "    query = \"select t.\"\n",
    "    cols = \", t.\".join(columns)\n",
    "    query += cols\n",
    "    query += \" from \"\n",
    "    query += table_name\n",
    "    query += \" t where t.borehole_id in ({});\".format(st_eno)\n",
    "    \n",
    "    return pd.read_sql(query, connection)"
   ]
  },
  {
   "cell_type": "code",
   "execution_count": 8,
   "metadata": {},
   "outputs": [],
   "source": [
    "df_bNMR = extract_sql_with_enos(\"boreholeNMR_data\", ['Depth', 'Total_water_content',\n",
    "                                                'Clay_water_content', 'Capillary_water_content',\n",
    "                                               'Free_water_content', 'K_SDR', 'borehole_id'], connection, enos)\n",
    "\n",
    "df_lithology = extract_sql_with_enos(\"borehole_lithology\", ['Depth_from', 'Depth_to',\n",
    "                                                'Lithology_name', 'Lithology_description',\n",
    "                                                           'borehole_id'], connection, enos)\n",
    "\n",
    "df_indgam = extract_sql_with_enos(\"induction_gamma_data\", ['Depth', 'Conductivity',\n",
    "                                                'Gamma_calibrated', 'GR',\n",
    "                                                          'borehole_id'], connection, enos)\n",
    "\n",
    "df_EC_pH = extract_sql_with_enos(\"pore_fluid_EC_pH\", ['Depth', 'EC', 'pH', 'borehole_id'],\n",
    "                                 connection, enos)\n"
   ]
  },
  {
   "cell_type": "code",
   "execution_count": 9,
   "metadata": {},
   "outputs": [],
   "source": [
    "# Our first investigation will be looking at relationships between these borehole data \n",
    "# and the AEM\n",
    "\n",
    "# load AEM\n",
    "\n",
    "nc_dir = r\"\\\\prod.lan\\active\\proj\\futurex\\East_Kimberley\\Data\\Processed\\Geophysics\\AEM\\EK_nbc_inversions\\OrdKeep_borehole_constrained\\netcdf\"\n",
    "\n",
    "ek_cond = netCDF4.Dataset(os.path.join(nc_dir, \"OrdKeep2019_ModeExp_cor2DLogOrd.nc\"))\n",
    "\n",
    "# Create an instance of point utils\n",
    "\n",
    "cond_point_util = NetCDFPointUtils(ek_cond)\n",
    "\n",
    "wkt, aem_coords = cond_point_util.utm_coords(cond_point_util.xycoords)"
   ]
  },
  {
   "cell_type": "code",
   "execution_count": 10,
   "metadata": {},
   "outputs": [],
   "source": [
    "# For every bore we will find the distance and netcdf\n",
    "# index for each borehole that is within 1 km of an AEM fiducial\n",
    "\n",
    "distances, indices = spatial_functions.nearest_neighbours(df_header[['Easting','Northing']], aem_coords,\n",
    "                                                        points_required = 10, max_distance = 1000.)"
   ]
  },
  {
   "cell_type": "code",
   "execution_count": 11,
   "metadata": {},
   "outputs": [
    {
     "name": "stderr",
     "output_type": "stream",
     "text": [
      "C:\\Users\\u77932\\AppData\\Local\\Continuum\\anaconda3\\envs\\hydrogeol_utils\\lib\\site-packages\\pandas\\core\\frame.py:6201: FutureWarning: Sorting because non-concatenation axis is not aligned. A future version\n",
      "of pandas will change to not sort by default.\n",
      "\n",
      "To accept the future behavior, pass 'sort=True'.\n",
      "\n",
      "To retain the current behavior and silence the warning, pass sort=False\n",
      "\n",
      "  sort=sort)\n"
     ]
    }
   ],
   "source": [
    "# Here we will create a table of AEM conductivity profiles for each\n",
    "# borehole. To guard against anomolour points we will take an inverse\n",
    "# distance weighting of conductivity from the 10 closest points\n",
    "\n",
    "# REsults are written into a dataframe\n",
    "\n",
    "df_conductivity = pd.DataFrame(columns = {'borehole_id',\n",
    "                                          'Depth_from',\n",
    "                                          'Depth_to',\n",
    "                                          'conductivity'})\n",
    "\n",
    "# Create a flag for if there is AEM data for the borehole\n",
    "\n",
    "df_header['AEM_proximal'] = 0\n",
    "\n",
    "for i, (index, row) in enumerate(df_header.iterrows()):\n",
    "    # If the distances are not infinite (i.e. the boreholes disatnce is greater\n",
    "    # than the maximum)\n",
    "    if np.isfinite(np.sum(distances[i])):\n",
    "        \n",
    "        # Extract a representative profile\n",
    "        df_conductivity_profile = AEM_utils.extract_conductivity_profile(ek_cond,\n",
    "                                                   distances[i], indices[i],\n",
    "                                                   as_dataframe = True,\n",
    "                                                  mask_below_doi=True)\n",
    "        \n",
    "        df_conductivity_profile['borehole_id'] = row.borehole_id\n",
    "\n",
    "        # Append it to the dataframe\n",
    "        df_conductivity = df_conductivity.append(df_conductivity_profile)\n",
    "        \n",
    "        # Update the flag\n",
    "        df_header.at[index, 'AEM_proximal'] = 1 \n"
   ]
  },
  {
   "cell_type": "code",
   "execution_count": 20,
   "metadata": {},
   "outputs": [],
   "source": [
    "# Spit out this as a csv\n",
    "\n",
    "outfile = r\"\\\\prod.lan\\active\\proj\\futurex\\East_Kimberley\\Working\\SharedWorkspace\\Bores_working\\compilation\\AEM\\borhole_interpolated_AEM_profiles.csv\"\n",
    "\n",
    "df_conductivity.to_csv(outfile, index=False)"
   ]
  },
  {
   "cell_type": "code",
   "execution_count": 18,
   "metadata": {},
   "outputs": [
    {
     "name": "stderr",
     "output_type": "stream",
     "text": [
      "C:\\Users\\u77932\\AppData\\Local\\Continuum\\anaconda3\\envs\\hydrogeol_utils\\lib\\site-packages\\matplotlib\\scale.py:111: RuntimeWarning: invalid value encountered in less_equal\n",
      "  out[a <= 0] = -1000\n"
     ]
    }
   ],
   "source": [
    "# Lets do a quick visual analysis of borehole induction vs AEM for a site\n",
    "\n",
    "outdir = r\"\\\\prod.lan\\active\\proj\\futurex\\East_Kimberley\\Working\\Neil\\AEM_vs_induction_plots\"\n",
    "\n",
    "for index, row in df_header.iterrows():\n",
    "    \n",
    "    if (row['AEM_proximal'] == 1) & (row['Induction_acquired'] == 1):\n",
    "        \n",
    "        fig, (ax1,ax2) = plt.subplots(1,2, sharey = True, figsize = (8,6))\n",
    "        \n",
    "        # Extract the data using eno\n",
    "        \n",
    "        eno = row['borehole_id']\n",
    "        \n",
    "        \n",
    "        # Extract induction\n",
    "        \n",
    "        indmask = df_indgam['borehole_id'] == eno\n",
    "        \n",
    "        induction_profile = df_indgam[indmask]['Conductivity'].values\n",
    "        \n",
    "        depth = df_indgam[indmask]['Depth'].values\n",
    "        \n",
    "        ax2 = plotting_utils.plot_downhole_log(ax2, induction_profile,\n",
    "                                  depth,log_plot=True)\n",
    "        \n",
    "        \n",
    "        # Extract AEM conductivity\n",
    "        condmask = df_conductivity['borehole_id'] == eno\n",
    "        \n",
    "        conductivity_profile = df_conductivity[condmask]['conductivity'].values\n",
    "        \n",
    "        depth_top= df_conductivity[condmask]['Depth_from'].values\n",
    "        \n",
    "        \n",
    "        # So the plots are on a similar scale we clip the conductivity to\n",
    "        # the depth of the bore + 20 m\n",
    "        \n",
    "        depth_mask = depth_top < (np.max(depth) + 20.) \n",
    "        \n",
    "        ax1 = plotting_utils.plot_AEM_conductivity_profile(ax1, conductivity_profile[depth_mask],\n",
    "                                  depth_top[depth_mask], doi=None, log_plot=True)\n",
    "        \n",
    "        \n",
    "        ax1.set_title(\"AEM inverted model\")\n",
    "        ax1.set_ylabel(\"Depth\")\n",
    "        ax1.set_xlabel(\"AEM bulk Conductivity (S/m)\")\n",
    "        ax2.set_title(\"Borehole induction data\")\n",
    "\n",
    "        ax2.set_xlabel(\"borehole induction conductivity (S/m)\")\n",
    "        plt.savefig(os.path.join(outdir, row['Borehole_name'] + \"_conductivity_vs_induction.png\"))\n",
    "        \n",
    "        plt.close()\n",
    "        "
   ]
  },
  {
   "cell_type": "code",
   "execution_count": null,
   "metadata": {},
   "outputs": [],
   "source": []
  }
 ],
 "metadata": {
  "kernelspec": {
   "display_name": "Python 3",
   "language": "python",
   "name": "python3"
  },
  "language_info": {
   "codemirror_mode": {
    "name": "ipython",
    "version": 3
   },
   "file_extension": ".py",
   "mimetype": "text/x-python",
   "name": "python",
   "nbconvert_exporter": "python",
   "pygments_lexer": "ipython3",
   "version": "3.6.3"
  }
 },
 "nbformat": 4,
 "nbformat_minor": 2
}
