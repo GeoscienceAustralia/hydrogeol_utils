{
 "cells": [
  {
   "cell_type": "markdown",
   "metadata": {},
   "source": [
    "A notebook finds the relationship between groundwater samples (TDS) and AEM conductivity\n",
    "\n",
    "Neil Symington\n",
    "neil.symington@ga.gov.au"
   ]
  },
  {
   "cell_type": "code",
   "execution_count": 1,
   "metadata": {},
   "outputs": [],
   "source": [
    "%matplotlib widget"
   ]
  },
  {
   "cell_type": "code",
   "execution_count": 2,
   "metadata": {},
   "outputs": [],
   "source": [
    "import pandas as pd\n",
    "import rasterio\n",
    "from sqlite3 import dbapi2 as sqlite\n",
    "import numpy as np\n",
    "from hydrogeol_utils import SNMR_utils, AEM_utils, spatial_functions, borehole_utils, grid_utils\n",
    "from shapely.geometry import Polygon, shape\n",
    "import netCDF4\n",
    "import math\n",
    "import time\n",
    "import os, glob\n",
    "import gc\n",
    "from geophys_utils._netcdf_line_utils import NetCDFLineUtils\n",
    "from geophys_utils._netcdf_point_utils import NetCDFPointUtils\n",
    "from geophys_utils import points2convex_hull\n",
    "import rasterio\n",
    "from rasterio import Affine\n",
    "from rasterio.warp import reproject, Resampling\n",
    "from scipy import interpolate, stats\n",
    "import sqlalchemy as db\n",
    "from sqlalchemy import create_engine, event\n",
    "import matplotlib.pyplot as plt\n",
    "from hydrogeol_utils.db_utils import makeCon, closeCon"
   ]
  },
  {
   "cell_type": "code",
   "execution_count": 3,
   "metadata": {},
   "outputs": [],
   "source": [
    "# Function for finding the nea\n",
    "\n",
    "def get_bore(df, borehole_id):\n",
    "    \"\"\"\n",
    "    @param: df: pandas dataframe with borehole data\n",
    "    @param: borehole_id: integer with identification number of borehole\n",
    "    \n",
    "    returns\n",
    "    dataframe with only rows corresponding to particular bore\n",
    "    \"\"\"\n",
    "    mask = df['borehole_id'] == borehole_id\n",
    "    return df[mask]"
   ]
  },
  {
   "cell_type": "code",
   "execution_count": 4,
   "metadata": {},
   "outputs": [],
   "source": [
    "# Bring the AEM data into memory\n",
    "\n",
    "cond_path = r\"C:\\Users\\PCUser\\Desktop\\AEM\\LCI\\HowardE_WB_MGA52.nc\"\n",
    "cond_dataset = netCDF4.Dataset(cond_path, 'r')"
   ]
  },
  {
   "cell_type": "code",
   "execution_count": 5,
   "metadata": {},
   "outputs": [],
   "source": [
    "# Create a convex hull around the Keep River area based on line 3xxx,xxx\n",
    "\n",
    "# Initialise an instance of the netCDF point and line utility classes\n",
    "cond_line_utils = NetCDFLineUtils(cond_dataset)\n",
    "cond_point_utils = NetCDFPointUtils(cond_dataset)\n",
    "\n",
    "# Display the lines for the conductivity mode\n",
    "\n",
    "lines = cond_line_utils.line\n",
    "\n",
    "# Get the utm coordinates using the mask created above\n",
    "utm_wkt, aem_coords = cond_point_utils.utm_coords(cond_point_utils.xycoords)\n"
   ]
  },
  {
   "cell_type": "code",
   "execution_count": 6,
   "metadata": {},
   "outputs": [],
   "source": [
    "# Bring in the groundwater samples\n",
    "\n",
    "infile = r\"C:\\Users\\PCUser\\Desktop\\NSC_data\\data\\bores\\HE_salinity.csv\"\n",
    "\n",
    "df_gw = pd.read_csv(infile)\n",
    "\n",
    "df_gw['conductivity'] = np.nan"
   ]
  },
  {
   "cell_type": "code",
   "execution_count": 7,
   "metadata": {},
   "outputs": [],
   "source": [
    "\n",
    "# Extract the AEM conductivity using nearest neighbour\n",
    "distances, indices = spatial_functions.nearest_neighbours(df_gw[['Easting','Northing']],\n",
    "                                                          aem_coords,\n",
    "                                                          points_required = 1,# return 1 closest point\n",
    "                                                          max_distance = 250.)\n",
    "# Remove nulls which are >250m from a FID\n",
    "mask = np.isfinite(distances)\n",
    "\n",
    "indices = indices[mask]\n",
    "df_gw = df_gw[mask]"
   ]
  },
  {
   "cell_type": "code",
   "execution_count": 8,
   "metadata": {},
   "outputs": [],
   "source": [
    "# Extract variables as arrays using the index mask\n",
    "conductivity_profile = cond_dataset['conductivity'][indices]\n",
    "\n",
    "depth_tops = cond_dataset['layer_top_depth'][indices]\n",
    "\n",
    "depth_bottom = np.nan*np.ones(depth_tops.shape, dtype = np.float32)\n",
    "\n",
    "depth_bottom[:,:-1] = depth_tops[:,1:]\n",
    "\n",
    "east = cond_dataset['easting'][indices]\n",
    "north = cond_dataset['northing'][indices]\n",
    "doi = cond_dataset['depth_of_investigation'][indices]"
   ]
  },
  {
   "cell_type": "code",
   "execution_count": 9,
   "metadata": {},
   "outputs": [],
   "source": [
    "# Create an AEM dataframe\n",
    "\n",
    "df_AEM = pd.DataFrame(columns = ['Depth_from', 'Depth_to',\n",
    "                                 'log_conductivity', 'easting',\n",
    "                                 'northing', 'borehole_id',\n",
    "                                 'doi'])\n",
    "\n",
    "df_AEM['log_conductivity'] = np.log10(conductivity_profile.flatten())\n",
    "df_AEM['Depth_from'] = depth_tops.flatten()\n",
    "df_AEM['Depth_to'] = depth_bottom.flatten()\n",
    "\n",
    "df_AEM['easting'] = np.repeat(east, conductivity_profile.shape[1])\n",
    "df_AEM['northing'] = np.repeat(north, conductivity_profile.shape[1])\n",
    "\n",
    "df_AEM['doi'] = np.repeat(doi, conductivity_profile.shape[1])\n",
    "\n",
    "df_AEM['borehole_id'] = np.repeat(df_gw['borehole_id'].values,\n",
    "                                   conductivity_profile.shape[1])"
   ]
  },
  {
   "cell_type": "code",
   "execution_count": 10,
   "metadata": {},
   "outputs": [],
   "source": [
    "# Mask below the doi\n",
    "\n",
    "mask = df_AEM['doi'] > df_AEM['Depth_from']\n",
    "\n",
    "df_AEM = df_AEM[mask]"
   ]
  },
  {
   "cell_type": "code",
   "execution_count": 11,
   "metadata": {},
   "outputs": [
    {
     "data": {
      "text/html": [
       "<div>\n",
       "<style scoped>\n",
       "    .dataframe tbody tr th:only-of-type {\n",
       "        vertical-align: middle;\n",
       "    }\n",
       "\n",
       "    .dataframe tbody tr th {\n",
       "        vertical-align: top;\n",
       "    }\n",
       "\n",
       "    .dataframe thead th {\n",
       "        text-align: right;\n",
       "    }\n",
       "</style>\n",
       "<table border=\"1\" class=\"dataframe\">\n",
       "  <thead>\n",
       "    <tr style=\"text-align: right;\">\n",
       "      <th></th>\n",
       "      <th>borehole_id</th>\n",
       "      <th>Easting</th>\n",
       "      <th>Northing</th>\n",
       "      <th>elevation</th>\n",
       "      <th>Depth_from</th>\n",
       "      <th>Depth_to</th>\n",
       "      <th>EC_(S/m)</th>\n",
       "      <th>TDS (mg/l)</th>\n",
       "      <th>conductivity</th>\n",
       "    </tr>\n",
       "  </thead>\n",
       "  <tbody>\n",
       "    <tr>\n",
       "      <th>0</th>\n",
       "      <td>RN021012</td>\n",
       "      <td>730704.956</td>\n",
       "      <td>8617357.034</td>\n",
       "      <td>30.11441</td>\n",
       "      <td>35.0</td>\n",
       "      <td>40.0</td>\n",
       "      <td>0.0402</td>\n",
       "      <td>341.938490</td>\n",
       "      <td>NaN</td>\n",
       "    </tr>\n",
       "    <tr>\n",
       "      <th>1</th>\n",
       "      <td>RN021398</td>\n",
       "      <td>731319.997</td>\n",
       "      <td>8619159.994</td>\n",
       "      <td>29.90000</td>\n",
       "      <td>55.8</td>\n",
       "      <td>62.0</td>\n",
       "      <td>0.0292</td>\n",
       "      <td>276.170464</td>\n",
       "      <td>NaN</td>\n",
       "    </tr>\n",
       "    <tr>\n",
       "      <th>2</th>\n",
       "      <td>RN021760</td>\n",
       "      <td>728455.948</td>\n",
       "      <td>8619158.002</td>\n",
       "      <td>18.66000</td>\n",
       "      <td>40.5</td>\n",
       "      <td>46.5</td>\n",
       "      <td>0.0374</td>\n",
       "      <td>300.654500</td>\n",
       "      <td>NaN</td>\n",
       "    </tr>\n",
       "    <tr>\n",
       "      <th>3</th>\n",
       "      <td>RN025941</td>\n",
       "      <td>732518.999</td>\n",
       "      <td>8619168.994</td>\n",
       "      <td>32.38000</td>\n",
       "      <td>76.0</td>\n",
       "      <td>82.0</td>\n",
       "      <td>0.0328</td>\n",
       "      <td>305.899496</td>\n",
       "      <td>NaN</td>\n",
       "    </tr>\n",
       "    <tr>\n",
       "      <th>4</th>\n",
       "      <td>RN035865</td>\n",
       "      <td>722976.996</td>\n",
       "      <td>8623636.994</td>\n",
       "      <td>9.00648</td>\n",
       "      <td>49.0</td>\n",
       "      <td>65.0</td>\n",
       "      <td>0.0422</td>\n",
       "      <td>361.983264</td>\n",
       "      <td>NaN</td>\n",
       "    </tr>\n",
       "    <tr>\n",
       "      <th>5</th>\n",
       "      <td>RN036538</td>\n",
       "      <td>739083.006</td>\n",
       "      <td>8621835.994</td>\n",
       "      <td>2.33975</td>\n",
       "      <td>79.0</td>\n",
       "      <td>85.0</td>\n",
       "      <td>6.0700</td>\n",
       "      <td>51533.011230</td>\n",
       "      <td>NaN</td>\n",
       "    </tr>\n",
       "    <tr>\n",
       "      <th>6</th>\n",
       "      <td>RN037154</td>\n",
       "      <td>737529.964</td>\n",
       "      <td>8618857.946</td>\n",
       "      <td>18.33939</td>\n",
       "      <td>42.0</td>\n",
       "      <td>59.0</td>\n",
       "      <td>0.0372</td>\n",
       "      <td>301.491340</td>\n",
       "      <td>NaN</td>\n",
       "    </tr>\n",
       "    <tr>\n",
       "      <th>7</th>\n",
       "      <td>RN037414</td>\n",
       "      <td>737791.994</td>\n",
       "      <td>8620381.994</td>\n",
       "      <td>13.90000</td>\n",
       "      <td>73.0</td>\n",
       "      <td>76.0</td>\n",
       "      <td>0.0605</td>\n",
       "      <td>481.042408</td>\n",
       "      <td>NaN</td>\n",
       "    </tr>\n",
       "    <tr>\n",
       "      <th>8</th>\n",
       "      <td>RN037492</td>\n",
       "      <td>725371.004</td>\n",
       "      <td>8623695.994</td>\n",
       "      <td>5.50000</td>\n",
       "      <td>53.0</td>\n",
       "      <td>58.0</td>\n",
       "      <td>2.9600</td>\n",
       "      <td>21621.887070</td>\n",
       "      <td>NaN</td>\n",
       "    </tr>\n",
       "    <tr>\n",
       "      <th>9</th>\n",
       "      <td>RN037493</td>\n",
       "      <td>726137.001</td>\n",
       "      <td>8622208.995</td>\n",
       "      <td>8.23000</td>\n",
       "      <td>60.0</td>\n",
       "      <td>65.0</td>\n",
       "      <td>0.1469</td>\n",
       "      <td>916.547432</td>\n",
       "      <td>NaN</td>\n",
       "    </tr>\n",
       "    <tr>\n",
       "      <th>10</th>\n",
       "      <td>RN037494</td>\n",
       "      <td>724459.998</td>\n",
       "      <td>8623547.994</td>\n",
       "      <td>6.00000</td>\n",
       "      <td>38.0</td>\n",
       "      <td>43.0</td>\n",
       "      <td>3.0200</td>\n",
       "      <td>19124.287220</td>\n",
       "      <td>NaN</td>\n",
       "    </tr>\n",
       "    <tr>\n",
       "      <th>11</th>\n",
       "      <td>RN037495</td>\n",
       "      <td>735181.004</td>\n",
       "      <td>8620483.994</td>\n",
       "      <td>23.75000</td>\n",
       "      <td>32.0</td>\n",
       "      <td>35.0</td>\n",
       "      <td>0.0326</td>\n",
       "      <td>220.000000</td>\n",
       "      <td>NaN</td>\n",
       "    </tr>\n",
       "    <tr>\n",
       "      <th>12</th>\n",
       "      <td>RN037498</td>\n",
       "      <td>733351.005</td>\n",
       "      <td>8616619.994</td>\n",
       "      <td>38.25000</td>\n",
       "      <td>55.0</td>\n",
       "      <td>60.0</td>\n",
       "      <td>0.0206</td>\n",
       "      <td>182.713632</td>\n",
       "      <td>NaN</td>\n",
       "    </tr>\n",
       "  </tbody>\n",
       "</table>\n",
       "</div>"
      ],
      "text/plain": [
       "   borehole_id     Easting     Northing  elevation  Depth_from  Depth_to  \\\n",
       "0     RN021012  730704.956  8617357.034   30.11441        35.0      40.0   \n",
       "1     RN021398  731319.997  8619159.994   29.90000        55.8      62.0   \n",
       "2     RN021760  728455.948  8619158.002   18.66000        40.5      46.5   \n",
       "3     RN025941  732518.999  8619168.994   32.38000        76.0      82.0   \n",
       "4     RN035865  722976.996  8623636.994    9.00648        49.0      65.0   \n",
       "5     RN036538  739083.006  8621835.994    2.33975        79.0      85.0   \n",
       "6     RN037154  737529.964  8618857.946   18.33939        42.0      59.0   \n",
       "7     RN037414  737791.994  8620381.994   13.90000        73.0      76.0   \n",
       "8     RN037492  725371.004  8623695.994    5.50000        53.0      58.0   \n",
       "9     RN037493  726137.001  8622208.995    8.23000        60.0      65.0   \n",
       "10    RN037494  724459.998  8623547.994    6.00000        38.0      43.0   \n",
       "11    RN037495  735181.004  8620483.994   23.75000        32.0      35.0   \n",
       "12    RN037498  733351.005  8616619.994   38.25000        55.0      60.0   \n",
       "\n",
       "    EC_(S/m)    TDS (mg/l)  conductivity  \n",
       "0     0.0402    341.938490           NaN  \n",
       "1     0.0292    276.170464           NaN  \n",
       "2     0.0374    300.654500           NaN  \n",
       "3     0.0328    305.899496           NaN  \n",
       "4     0.0422    361.983264           NaN  \n",
       "5     6.0700  51533.011230           NaN  \n",
       "6     0.0372    301.491340           NaN  \n",
       "7     0.0605    481.042408           NaN  \n",
       "8     2.9600  21621.887070           NaN  \n",
       "9     0.1469    916.547432           NaN  \n",
       "10    3.0200  19124.287220           NaN  \n",
       "11    0.0326    220.000000           NaN  \n",
       "12    0.0206    182.713632           NaN  "
      ]
     },
     "execution_count": 11,
     "metadata": {},
     "output_type": "execute_result"
    }
   ],
   "source": [
    "df_gw"
   ]
  },
  {
   "cell_type": "code",
   "execution_count": 12,
   "metadata": {},
   "outputs": [
    {
     "name": "stdout",
     "output_type": "stream",
     "text": [
      "25\n",
      "   Depth_from   Depth_to  log_conductivity     easting   northing borehole_id  \\\n",
      "5   29.200001  36.500000         -2.595496  730712.375  8617344.0    RN021012   \n",
      "6   36.500000  44.299999         -3.192012  730712.375  8617344.0    RN021012   \n",
      "\n",
      "          doi  \n",
      "5  387.609985  \n",
      "6  387.609985  \n",
      "26\n",
      "    Depth_from   Depth_to  log_conductivity     easting   northing  \\\n",
      "38   52.700001  61.799999         -2.957224  731273.625  8619185.0   \n",
      "39   61.799999  71.599998         -3.102433  731273.625  8619185.0   \n",
      "\n",
      "   borehole_id     doi  \n",
      "38    RN021398  455.25  \n",
      "39    RN021398  455.25  \n",
      "20\n",
      "    Depth_from   Depth_to  log_conductivity      easting   northing  \\\n",
      "66   36.500000  44.299999         -2.537568  728438.3125  8619162.0   \n",
      "67   44.299999  52.700001         -2.907518  728438.3125  8619162.0   \n",
      "\n",
      "   borehole_id         doi  \n",
      "66    RN021760  255.130005  \n",
      "67    RN021760  255.130005  \n",
      "27\n",
      "     Depth_from   Depth_to  log_conductivity     easting   northing  \\\n",
      "100   71.599998  82.199997         -2.996203  732532.875  8619185.0   \n",
      "\n",
      "    borehole_id         doi  \n",
      "100    RN025941  446.209991  \n",
      "27\n",
      "     Depth_from   Depth_to  log_conductivity     easting   northing  \\\n",
      "127   44.299999  52.700001         -2.465086  722942.875  8623611.0   \n",
      "128   52.700001  61.799999         -2.500098  722942.875  8623611.0   \n",
      "129   61.799999  71.599998         -2.490660  722942.875  8623611.0   \n",
      "\n",
      "    borehole_id         doi  \n",
      "127    RN035865  550.030029  \n",
      "128    RN035865  550.030029  \n",
      "129    RN035865  550.030029  \n",
      "13\n",
      "     Depth_from   Depth_to  log_conductivity     easting   northing  \\\n",
      "160   71.599998  82.199997         -0.323046  739074.125  8621858.0   \n",
      "161   82.199997  93.599998         -0.322012  739074.125  8621858.0   \n",
      "\n",
      "    borehole_id         doi  \n",
      "160    RN036538  130.550003  \n",
      "161    RN036538  130.550003  \n",
      "18\n",
      "     Depth_from   Depth_to  log_conductivity      easting   northing  \\\n",
      "186   36.500000  44.299999         -2.046104  737529.3125  8618854.0   \n",
      "187   44.299999  52.700001         -1.952550  737529.3125  8618854.0   \n",
      "188   52.700001  61.799999         -2.074816  737529.3125  8618854.0   \n",
      "\n",
      "    borehole_id         doi  \n",
      "186    RN037154  239.020004  \n",
      "187    RN037154  239.020004  \n",
      "188    RN037154  239.020004  \n",
      "26\n",
      "     Depth_from   Depth_to  log_conductivity      easting   northing  \\\n",
      "220   71.599998  82.199997         -2.429268  737794.3125  8620361.0   \n",
      "\n",
      "    borehole_id    doi  \n",
      "220    RN037414  390.0  \n",
      "23\n",
      "     Depth_from   Depth_to  log_conductivity     easting   northing  \\\n",
      "248   52.700001  61.799999         -1.716671  725371.125  8623680.0   \n",
      "\n",
      "    borehole_id         doi  \n",
      "248    RN037492  301.540009  \n",
      "28\n",
      "     Depth_from   Depth_to  log_conductivity     easting   northing  \\\n",
      "278   52.700001  61.799999         -2.871749  726193.125  8622178.0   \n",
      "279   61.799999  71.599998         -2.950755  726193.125  8622178.0   \n",
      "\n",
      "    borehole_id         doi  \n",
      "278    RN037493  550.030029  \n",
      "279    RN037493  550.030029  \n",
      "23\n",
      "     Depth_from   Depth_to  log_conductivity     easting   northing  \\\n",
      "306        36.5  44.299999          -1.03583  724503.125  8623625.0   \n",
      "\n",
      "    borehole_id         doi  \n",
      "306    RN037494  299.290009  \n",
      "8\n",
      "     Depth_from  Depth_to  log_conductivity     easting   northing  \\\n",
      "335   29.200001      36.5         -2.197556  735177.375  8620502.0   \n",
      "\n",
      "    borehole_id    doi  \n",
      "335    RN037495  60.23  \n",
      "22\n",
      "     Depth_from   Depth_to  log_conductivity      easting   northing  \\\n",
      "368   52.700001  61.799999         -2.428297  733397.3125  8616594.0   \n",
      "\n",
      "    borehole_id         doi  \n",
      "368    RN037498  285.420013  \n"
     ]
    }
   ],
   "source": [
    "\n",
    "\n",
    "for index, row in df_gw.iterrows():\n",
    "    \n",
    "    # Subset the interpreted dataframe\n",
    "    borehole_id = row.borehole_id\n",
    "   \n",
    "    # Get the aem model for this bore\n",
    "    df_temp = df_AEM[df_AEM['borehole_id'] == borehole_id]\n",
    "    \n",
    "    # Subset based on the screenen interval and average\n",
    "    \n",
    "    mask = np.logical_or((df_temp['Depth_from'] > row.Depth_to),(df_temp['Depth_to'] < row.Depth_from))\n",
    "    \n",
    "    print(mask.sum())\n",
    "    \n",
    "    print(df_temp[~mask])\n",
    "    \n",
    "\n",
    "    interval_cond = df_temp[~mask]['log_conductivity'].mean()\n",
    "    \n",
    "    # Add this to the df_merged dataframe\n",
    "    df_gw.at[index, 'conductivity'] = 10**interval_cond\n",
    "    \n",
    "# Remove any nulls where the screen didn't intersect the layered model\n",
    "df_gw.dropna(how=\"any\", subset = ['conductivity'], inplace = True)"
   ]
  },
  {
   "cell_type": "code",
   "execution_count": 13,
   "metadata": {},
   "outputs": [
    {
     "data": {
      "text/plain": [
       "array([  402.,   292.,   374.,   328.,   422., 60700.,   372.,   605.,\n",
       "       29600.,  1469., 30200.,   326.,   206.])"
      ]
     },
     "execution_count": 13,
     "metadata": {},
     "output_type": "execute_result"
    }
   ],
   "source": [
    "EC = df_gw['EC_(S/m)'].values * 10000\n",
    "conductivity = df_gw['conductivity'].values\n"
   ]
  },
  {
   "cell_type": "code",
   "execution_count": 44,
   "metadata": {},
   "outputs": [],
   "source": [
    "# Linear regression function\n",
    "\n",
    "from scipy import stats\n",
    "\n",
    "slope, intercept, r_value, p_value, std_err = stats.linregress(np.log10(conductivity),\n",
    "                                                               np.log10(EC))"
   ]
  },
  {
   "cell_type": "code",
   "execution_count": 45,
   "metadata": {},
   "outputs": [
    {
     "data": {
      "text/plain": [
       "array([  402.,   292.,   374.,   328.,   422., 60700.,   372.,   605.,\n",
       "       29600.,  1469., 30200.,   326.,   206.])"
      ]
     },
     "execution_count": 45,
     "metadata": {},
     "output_type": "execute_result"
    }
   ],
   "source": [
    "EC"
   ]
  },
  {
   "cell_type": "code",
   "execution_count": 46,
   "metadata": {},
   "outputs": [
    {
     "data": {
      "text/plain": [
       "array([0.00127716, 0.00093362, 0.00189434, 0.00100878, 0.00327128,\n",
       "       0.47585093, 0.00945169, 0.00372162, 0.01920123, 0.00122673,\n",
       "       0.09208104, 0.00634518, 0.00372995])"
      ]
     },
     "execution_count": 46,
     "metadata": {},
     "output_type": "execute_result"
    }
   ],
   "source": [
    "conductivity"
   ]
  },
  {
   "cell_type": "code",
   "execution_count": 83,
   "metadata": {},
   "outputs": [
    {
     "name": "stderr",
     "output_type": "stream",
     "text": [
      "C:\\Users\\PCUser\\Anaconda3\\envs\\hydrogeol_utils\\lib\\site-packages\\ipykernel_launcher.py:3: RuntimeWarning: More than 20 figures have been opened. Figures created through the pyplot interface (`matplotlib.pyplot.figure`) are retained until explicitly closed and may consume too much memory. (To control this warning, see the rcParam `figure.max_open_warning`).\n",
      "  This is separate from the ipykernel package so we can avoid doing imports until\n"
     ]
    },
    {
     "data": {
      "application/vnd.jupyter.widget-view+json": {
       "model_id": "3229cd4966f44dc3920decd7e382f25d",
       "version_major": 2,
       "version_minor": 0
      },
      "text/plain": [
       "Canvas(toolbar=Toolbar(toolitems=[('Home', 'Reset original view', 'home', 'home'), ('Back', 'Back to previous …"
      ]
     },
     "metadata": {},
     "output_type": "display_data"
    }
   ],
   "source": [
    "import matplotlib.ticker as mtick\n",
    "\n",
    "fig, ax = plt.subplots(1,1, figsize = (6,4))\n",
    "\n",
    "\n",
    "ax.scatter(conductivity, EC)\n",
    "\n",
    "        \n",
    "ax.set_xlabel('Bulk conductivity sampled from AEM  (S/m)')\n",
    "\n",
    "ax.set_ylabel('EC (µs/cm)')\n",
    "ax.grid()\n",
    "\n",
    "ax.set_xscale('log')\n",
    "ax.set_yscale('log')\n",
    "\n",
    "ax.set_xlim(0.0001,1)\n",
    "\n",
    "x = np.log10(ax.get_xlim())\n",
    "y = slope*x + intercept\n",
    "\n",
    "ax.plot(10**x, 10**y, 'grey', alpha = 0.5, label = 'linear regression function \\n R-squared = '+ str(round(r_value**2,2)))\n",
    "ax.legend()\n",
    "\n",
    "plt.savefig(r'C:\\Users\\PCUser\\Desktop\\NSC_data\\reporting\\HowardEast\\HE_EC_AEM_conductivity_scatter.png', dpi = 300)\n",
    "plt.show()"
   ]
  },
  {
   "cell_type": "code",
   "execution_count": 73,
   "metadata": {},
   "outputs": [
    {
     "data": {
      "text/plain": [
       "array([-4.,  0.])"
      ]
     },
     "execution_count": 73,
     "metadata": {},
     "output_type": "execute_result"
    }
   ],
   "source": [
    "x"
   ]
  },
  {
   "cell_type": "code",
   "execution_count": 74,
   "metadata": {},
   "outputs": [
    {
     "data": {
      "text/plain": [
       "array([1.45004137, 5.13566166])"
      ]
     },
     "execution_count": 74,
     "metadata": {},
     "output_type": "execute_result"
    }
   ],
   "source": [
    "y"
   ]
  },
  {
   "cell_type": "code",
   "execution_count": 78,
   "metadata": {},
   "outputs": [
    {
     "data": {
      "text/plain": [
       "0.71"
      ]
     },
     "execution_count": 78,
     "metadata": {},
     "output_type": "execute_result"
    }
   ],
   "source": [
    "round(r_value**2,2)"
   ]
  },
  {
   "cell_type": "code",
   "execution_count": null,
   "metadata": {},
   "outputs": [],
   "source": []
  }
 ],
 "metadata": {
  "kernelspec": {
   "display_name": "Python 3",
   "language": "python",
   "name": "python3"
  },
  "language_info": {
   "codemirror_mode": {
    "name": "ipython",
    "version": 3
   },
   "file_extension": ".py",
   "mimetype": "text/x-python",
   "name": "python",
   "nbconvert_exporter": "python",
   "pygments_lexer": "ipython3",
   "version": "3.7.3"
  }
 },
 "nbformat": 4,
 "nbformat_minor": 4
}
