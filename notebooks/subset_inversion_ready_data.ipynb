{
 "cells": [
  {
   "cell_type": "markdown",
   "metadata": {},
   "source": [
    "A notebook for using spatial masks for subsetting inversion ready AEM files for rjmcmctdem\n",
    "\n",
    "Neil Symington\n",
    "neil.symington@ga.gov.au"
   ]
  },
  {
   "cell_type": "code",
   "execution_count": 33,
   "metadata": {},
   "outputs": [],
   "source": [
    "import pandas as pd\n",
    "import os\n",
    "from shapely.geometry import LineString, Point\n",
    "import aseg_gdf2"
   ]
  },
  {
   "cell_type": "code",
   "execution_count": 20,
   "metadata": {},
   "outputs": [],
   "source": [
    "# Here we extract some AEM data for further inversion\n",
    "\n",
    "# bring in a shapefile as a geometry\n",
    "\n",
    "infile = r\"C:\\Users\\PCUser\\Desktop\\NSC_data\\data\\AEM\\HE\\interpretation\\dykes_AEM.shp\"\n",
    "\n",
    "from osgeo import ogr\n",
    "file = ogr.Open(infile)\n",
    "shape = file.GetLayer(0)\n",
    "#first feature of the shapefile\n",
    "feature = shape.GetFeature(1)"
   ]
  },
  {
   "cell_type": "code",
   "execution_count": 24,
   "metadata": {},
   "outputs": [
    {
     "data": {
      "text/plain": [
       "[[737596.7189334314, 8616995.982219212],\n",
       " [737338.4704182763, 8617871.582830079],\n",
       " [737500.062075695, 8618499.236189455],\n",
       " [736795.8801227398, 8619490.092260392],\n",
       " [736366.0904860562, 8620798.051977122],\n",
       " [735132.074302434, 8622868.459846316],\n",
       " [734415.8398837065, 8623927.416912898],\n",
       " [732756.2478623688, 8626885.126059178]]"
      ]
     },
     "execution_count": 24,
     "metadata": {},
     "output_type": "execute_result"
    }
   ],
   "source": [
    "shapefile['geometry']['coordinates']"
   ]
  },
  {
   "cell_type": "code",
   "execution_count": 39,
   "metadata": {},
   "outputs": [],
   "source": [
    "import json\n",
    "shapefile = json.loads(feature.ExportToJson())\n",
    "\n",
    "# Buffer 200 m around line feature\n",
    "dykeB = LineString(shapefile['geometry']['coordinates']).buffer(100.)\n",
    "\n",
    "#from functools import partial\n",
    "#import pyproj\n",
    "#from shapely.ops import transform\n",
    "\n",
    "#project = partial(\n",
    "#    pyproj.transform,\n",
    "#    pyproj.Proj(init='epsg:4283'), # source coordinate system\n",
    "#    pyproj.Proj(init='epsg:28352')) # destination coordinate system\n",
    "\n",
    "#Oolloo_extent = transform(project, Oolloo_extent)  # apply projection"
   ]
  },
  {
   "cell_type": "code",
   "execution_count": 40,
   "metadata": {},
   "outputs": [
    {
     "data": {
      "image/svg+xml": [
       "<svg xmlns=\"http://www.w3.org/2000/svg\" xmlns:xlink=\"http://www.w3.org/1999/xlink\" width=\"300\" height=\"300\" viewBox=\"732252.7039884995 8616492.42039953 5847.576764613506 10896.249533517286\" preserveAspectRatio=\"xMinYMin meet\"><g transform=\"matrix(1,0,0,-1,0,17243881.090332575)\"><path fill-rule=\"evenodd\" fill=\"#66cc99\" stroke=\"#555555\" stroke-width=\"72.64166355678191\" opacity=\"0.6\" d=\"M 737242.5552138456,8617843.29372336 L 737240.0690727028,8617853.773417138 L 737238.7244351833,8617864.459708795 L 737238.5368997384,8617875.228632135 L 737239.5086418705,8617885.955262393 L 737241.6283888968,8617896.515165422 L 737391.6367547095,8618479.176772097 L 736714.3680111271,8619432.163203258 L 736708.9857456301,8619440.601178097 L 736704.4738854787,8619449.534896206 L 736700.8776251643,8619458.874870136 L 736274.5360025052,8620756.341398893 L 735047.6391815362,8622814.80454268 L 734333.0072266622,8623871.392356435 L 734328.6304783237,8623878.483083978 L 732669.038456986,8626836.192230258 L 732664.6620401335,8626844.975876546 L 732661.167644815,8626854.146191038 L 732658.5889239679,8626863.614858598 L 732656.9507120833,8626873.290690778 L 732656.2687860372,8626883.080504026 L 732656.5497131504,8626892.890017089 L 732657.7907879411,8626902.62475899 L 732659.9800581806,8626912.19097885 L 732663.0964399999,8626921.496548736 L 732667.1099209383,8626930.451850925 L 732671.9818489803,8626938.970640963 L 732677.6653047958,8626946.970878243 L 732684.1055535984,8626954.37551611 L 732691.2405722714,8626961.11324385 L 732699.0016466846,8626967.119173462 L 732707.3140334489,8626972.335464561 L 732716.0976797356,8626976.711881414 L 732725.2679942293,8626980.206276732 L 732734.7366617887,8626982.784997579 L 732744.4124939687,8626984.423209464 L 732754.2023072164,8626985.10513551 L 732764.0118202784,8626984.824208397 L 732773.7465621814,8626983.583133606 L 732783.3127820396,8626981.393863367 L 732792.6183519261,8626978.277481547 L 732801.573654116,8626974.26400061 L 732810.0924441539,8626969.392072566 L 732818.0926814347,8626963.70861675 L 732825.4973193001,8626957.268367948 L 732832.2350470396,8626950.133349275 L 732838.2409766519,8626942.372274863 L 732843.4572677517,8626934.059888098 L 734501.0087560395,8623979.98736045 L 735214.9069594783,8622924.48440278 L 735217.9738431696,8622919.658175403 L 736451.9900267918,8620849.25030621 L 736457.091564871,8620839.510434095 L 736461.0929836316,8620829.269367378 L 736886.158543746,8619535.6862231 L 737581.5741873077,8618557.16524659 L 737586.783845234,8618549.029107505 L 737591.1840656227,8618540.428214794 L 737594.7337780069,8618531.442846863 L 737597.3998503314,8618522.156870702 L 737599.1573981984,8618512.656959103 L 737599.9900171314,8618503.031781672 L 737599.8899356908,8618493.371177208 L 737598.8580880094,8618483.765315183 L 737596.9041050745,8618474.303854112 L 737442.1964167537,8617873.389166763 L 737692.6341378621,8617024.271325931 L 737694.9450972796,8617014.733772099 L 737696.3100850434,8617005.01563056 L 737696.7159555752,8616995.210492332 L 737696.1588001198,8616985.412786257 L 737694.6439843888,8616975.716869596 L 737692.1860968857,8616966.216119332 L 737688.808808411,8616957.002032883 L 737684.5446440987,8616948.163346935 L 737679.4346701824,8616939.785182869 L 737673.5280985041,8616931.948226983 L 737666.881812578,8616924.727953445 L 737659.5598197707,8616918.19389744 L 737651.6326348757,8616912.408985496 L 737643.1766010169,8616907.42892948 L 737634.2731544229,8616903.30169005 L 737625.0080401516,8616900.067014782 L 737615.4704863181,8616897.756055364 L 737605.7523447797,8616896.3910676 L 737595.9472065518,8616895.985197067 L 737586.1495004756,8616896.542352524 L 737576.4535838168,8616898.057168255 L 737566.9528335527,8616900.515055757 L 737557.7387471023,8616903.892344233 L 737548.9000611551,8616908.156508544 L 737540.5218970884,8616913.266482461 L 737532.6849412019,8616919.173054138 L 737525.4646676653,8616925.819340065 L 737518.9306116595,8616933.141332872 L 737513.1456997158,8616941.068517767 L 737508.1656436985,8616949.524551626 L 737504.0384042696,8616958.42799822 L 737500.8037290007,8616967.693112493 L 737242.5552138456,8617843.29372336 z\" /></g></svg>"
      ],
      "text/plain": [
       "<shapely.geometry.polygon.Polygon at 0x279b85ec278>"
      ]
     },
     "execution_count": 40,
     "metadata": {},
     "output_type": "execute_result"
    }
   ],
   "source": [
    "dykeB"
   ]
  },
  {
   "cell_type": "code",
   "execution_count": 41,
   "metadata": {},
   "outputs": [
    {
     "data": {
      "text/plain": [
       "159277"
      ]
     },
     "execution_count": 41,
     "metadata": {},
     "output_type": "execute_result"
    }
   ],
   "source": [
    "infile = r\"C:\\Temp\\HE_inversion_ready.dat\"\n",
    "\n",
    "\n",
    "gdf = aseg_gdf2.read(infile).df()\n",
    "\n",
    "len(gdf)"
   ]
  },
  {
   "cell_type": "code",
   "execution_count": 42,
   "metadata": {},
   "outputs": [],
   "source": [
    "# Write those inside the polygon into the dyke b file\n",
    "\n",
    "outfile = r\"C:\\Temp\\HE_inversion_ready_dyke_b.dat\"\n",
    "\n",
    "#Iterate through an get the indices of those that fall within the Oolloo\n",
    "\n",
    "idx = []\n",
    "\n",
    "for index, row in gdf.iterrows():\n",
    "    coords = row[['easting ', 'northing']].values\n",
    "    \n",
    "    if dykeB.contains(Point(coords)):\n",
    "        idx.append(index)"
   ]
  },
  {
   "cell_type": "code",
   "execution_count": 43,
   "metadata": {},
   "outputs": [],
   "source": [
    "\n",
    "with open(infile, 'r' ) as inf:\n",
    "    with open(outfile, 'w') as outf:\n",
    "        for i, line in enumerate(inf):\n",
    "            if i in idx:\n",
    "                outf.write(line)"
   ]
  },
  {
   "cell_type": "code",
   "execution_count": null,
   "metadata": {},
   "outputs": [],
   "source": []
  }
 ],
 "metadata": {
  "kernelspec": {
   "display_name": "hydrogeol_utils",
   "language": "python",
   "name": "hydrogeol_utils"
  },
  "language_info": {
   "codemirror_mode": {
    "name": "ipython",
    "version": 3
   },
   "file_extension": ".py",
   "mimetype": "text/x-python",
   "name": "python",
   "nbconvert_exporter": "python",
   "pygments_lexer": "ipython3",
   "version": "3.7.3"
  }
 },
 "nbformat": 4,
 "nbformat_minor": 4
}
