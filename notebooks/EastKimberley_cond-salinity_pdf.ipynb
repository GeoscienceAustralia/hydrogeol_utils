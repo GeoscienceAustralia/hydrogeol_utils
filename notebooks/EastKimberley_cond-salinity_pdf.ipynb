{
 "cells": [
  {
   "cell_type": "markdown",
   "metadata": {},
   "source": [
    "This notebook takes borehole data from the East Kimberley and uses it to calculate the cementation values for solving Archie's Law.\n",
    "\n",
    "Neil Symington\n",
    "neil.symington@ga.gov.au"
   ]
  },
  {
   "cell_type": "code",
   "execution_count": 1,
   "metadata": {},
   "outputs": [],
   "source": [
    "%matplotlib inline"
   ]
  },
  {
   "cell_type": "code",
   "execution_count": 4,
   "metadata": {},
   "outputs": [],
   "source": [
    "from sqlite3 import dbapi2 as sqlite\n",
    "import pandas as pd\n",
    "from shapely.geometry import Polygon, shape\n",
    "from shapely import wkt\n",
    "import numpy as np\n",
    "from hydrogeol_utils import spatial_functions, AEM_utils, plotting_utils, borehole_utils\n",
    "from geophys_utils._netcdf_point_utils import NetCDFPointUtils\n",
    "from geophys_utils._netcdf_line_utils import NetCDFLineUtils\n",
    "from geophys_utils import points2convex_hull\n",
    "import matplotlib.pyplot as plt\n",
    "import os\n",
    "import math\n",
    "import sqlalchemy as db\n",
    "from sqlalchemy import create_engine, event\n",
    "import netCDF4\n",
    "import yaml\n",
    "import warnings\n",
    "warnings.filterwarnings(\"ignore\",category =RuntimeWarning)\n",
    "from hydrogeol_utils.db_utils import makeCon, closeCon"
   ]
  },
  {
   "cell_type": "code",
   "execution_count": 5,
   "metadata": {},
   "outputs": [],
   "source": [
    "# Function for finding the nearest point \n",
    "\n",
    "def get_bore(df, borehole_id):\n",
    "    \"\"\"\n",
    "    df: dataframe with borehole data\n",
    "    borehole_id: eno\n",
    "    \n",
    "    returns\n",
    "    dataframe with only rows corresponding to particular bore\n",
    "    \"\"\"\n",
    "    mask = df['borehole_id'] == borehole_id\n",
    "    return df[mask]\n"
   ]
  },
  {
   "cell_type": "code",
   "execution_count": 6,
   "metadata": {},
   "outputs": [],
   "source": [
    "# Bring in the AEM\n",
    "\n",
    "nc_dir = r\"C:\\Users\\PCUser\\Desktop\\EK_data\\AEM\\netCDF\"\n",
    "\n",
    "cond_path = os.path.join(nc_dir,'EastKimberley_wb_inversion.nc')\n",
    "cond_dataset = netCDF4.Dataset(cond_path, 'r')"
   ]
  },
  {
   "cell_type": "code",
   "execution_count": 7,
   "metadata": {},
   "outputs": [
    {
     "data": {
      "image/svg+xml": [
       "<svg xmlns=\"http://www.w3.org/2000/svg\" xmlns:xlink=\"http://www.w3.org/1999/xlink\" width=\"300\" height=\"300\" viewBox=\"460023.87999990705 8241660.879944195 110039.11500015535 123703.7400036538\" preserveAspectRatio=\"xMinYMin meet\"><g transform=\"matrix(1,0,0,-1,0,16607025.499892045)\"><path fill-rule=\"evenodd\" fill=\"#66cc99\" stroke=\"#555555\" stroke-width=\"824.6916000243586\" opacity=\"0.6\" d=\"M 497703.0000000027,8246242.49994433 L 497669.00000000256,8246242.99994433 L 497635.8125000035,8246246.49994433 L 497603.40625000355,8246253.999944331 L 496786.3125000036,8246526.499944339 L 464605.5000000424,8257490.999944661 L 466221.6875000397,8304389.499946042 L 466469.6875000387,8305081.999946062 L 488233.6875000138,8330164.999946804 L 491461.4062500101,8333382.4999469 L 523230.31249997555,8360782.999947714 L 550185.3749999455,8350756.499947417 L 554398.812499941,8345955.999947274 L 565480.3749999278,8329967.999946802 L 565481.374999927,8329943.4999468 L 560532.9999999315,8318658.499946466 L 497768.9062499999,8246255.499944331 L 497736.59375000146,8246246.49994433 L 497703.0000000027,8246242.49994433 z\" /></g></svg>"
      ],
      "text/plain": [
       "<shapely.geometry.polygon.Polygon at 0x23d51e64cf8>"
      ]
     },
     "execution_count": 7,
     "metadata": {},
     "output_type": "execute_result"
    }
   ],
   "source": [
    "# Create a convex hull around the Keep River area based on line 3xxx,xxx\n",
    "\n",
    "# Initialise an instance of the netCDF point and line utility classes\n",
    "cond_line_utils = NetCDFLineUtils(cond_dataset)\n",
    "cond_point_utils = NetCDFPointUtils(cond_dataset)\n",
    "\n",
    "# Display the lines for the conductivity mode\n",
    "\n",
    "lines = cond_line_utils.line\n",
    "\n",
    "# Get the utm coordinates using the mask created above\n",
    "utm_wkt, aem_coords = cond_point_utils.utm_coords(cond_point_utils.xycoords)\n",
    "\n",
    "# Get the convex hull of the subset\n",
    "convex_hull = points2convex_hull(aem_coords)\n",
    "\n",
    "\n",
    "# Create a shapely object of the convex hull\n",
    "Keep_poly = Polygon(convex_hull)\n",
    "\n",
    "Keep_poly"
   ]
  },
  {
   "cell_type": "code",
   "execution_count": 8,
   "metadata": {},
   "outputs": [
    {
     "name": "stdout",
     "output_type": "stream",
     "text": [
      "Connected to C:\\Users\\PCUser\\Desktop\\EK_data\\Boreholes\\East_Kimberley_borehole_data.sqlite. Temporary working copy created.\n"
     ]
    }
   ],
   "source": [
    "# Extract data from the database\n",
    "\n",
    "# Extract borehole data from the database\n",
    "\n",
    "DB_PATH = r\"C:\\Users\\PCUser\\Desktop\\EK_data\\Boreholes\\East_Kimberley_borehole_data.sqlite\"\n",
    "\n",
    "SPATIALITE_PATH = r'C:\\mod_spatialite-NG-win-amd64'\n",
    "\n",
    "# Add spatialite dll to path\n",
    "os.environ['PATH'] = SPATIALITE_PATH + ';' + os.environ['PATH']\n",
    "\n",
    "engine = db.create_engine('sqlite:///' + DB_PATH, module=sqlite)\n",
    "\n",
    "\n",
    "connection = makeCon(DB_PATH)\n",
    "\n"
   ]
  },
  {
   "cell_type": "code",
   "execution_count": 9,
   "metadata": {},
   "outputs": [
    {
     "name": "stdout",
     "output_type": "stream",
     "text": [
      "Select b.* from borehole b  where within(b.geom,GeomFromText('POLYGON ((497703.0000000027 8246242.49994433, 497669.0000000026 8246242.99994433, 497635.8125000035 8246246.49994433, 497603.4062500036 8246253.999944331, 496786.3125000036 8246526.499944339, 464605.5000000424 8257490.999944661, 466221.6875000397 8304389.499946042, 466469.6875000387 8305081.999946062, 488233.6875000138 8330164.999946804, 491461.4062500101 8333382.4999469, 523230.3124999756 8360782.999947714, 550185.3749999455 8350756.499947417, 554398.812499941 8345955.999947274, 565480.3749999278 8329967.999946802, 565481.374999927 8329943.4999468, 560532.9999999315 8318658.499946466, 497768.9062499999 8246255.499944331, 497736.5937500015 8246246.49994433, 497703.0000000027 8246242.49994433))'));\n"
     ]
    }
   ],
   "source": [
    "# Extract boreholes from within this geometry\n",
    "\n",
    "df_header = borehole_utils.extract_boreholes_within_geometry('borehole', connection,\n",
    "                                                             Keep_poly.wkt, columns = 'all',\n",
    "                                                             verbose = True)\n",
    "# Keep only bores with both EC and induction\n",
    "\n",
    "mask = np.logical_and(df_header['Induction_acquired'] == 1,  df_header['EC_pH_acquired'] == 1)\n",
    "\n",
    "df_header= df_header[mask]\n",
    "\n",
    "# Get the enos\n",
    "\n",
    "\n",
    "\n",
    "enos= df_header['borehole_id'].values\n"
   ]
  },
  {
   "cell_type": "code",
   "execution_count": 10,
   "metadata": {},
   "outputs": [
    {
     "name": "stdout",
     "output_type": "stream",
     "text": [
      "select t.Depth, t.Apparent_conductivity, t.borehole_id from induction_gamma_data t where t.borehole_id in (635728,635730,635733,635734,635735,635737,635738,635739,635740,635741,635742,635744,635921);\n",
      "select t.Depth, t.EC, t.borehole_id from pore_fluid_EC_pH t where t.borehole_id in (635728,635730,635733,635734,635735,635737,635738,635739,635740,635741,635742,635744,635921);\n"
     ]
    }
   ],
   "source": [
    "# First import all the datasets based on our enos (primary key)\n",
    "\n",
    "df_ind = borehole_utils.extract_sql_with_primary_key(\"induction_gamma_data\", \n",
    "                                                        ['Depth', 'Apparent_conductivity','borehole_id'],\n",
    "                                                        connection, enos,\n",
    "                                                       verbose = True).dropna(how='any')\n",
    "\n",
    "df_EC = borehole_utils.extract_sql_with_primary_key(\"pore_fluid_EC_pH\", \n",
    "                                                       ['Depth', 'EC', 'borehole_id'],\n",
    "                                                       connection, enos, verbose = True)\n"
   ]
  },
  {
   "cell_type": "code",
   "execution_count": 11,
   "metadata": {},
   "outputs": [
    {
     "name": "stdout",
     "output_type": "stream",
     "text": [
      "2.646000000000001\n",
      "2.8859999999999957\n",
      "3.0760000000000005\n",
      "3.3859999999999957\n",
      "3.6059999999999945\n",
      "3.355000000000004\n",
      "3.6910000000000025\n",
      "2.030000000000001\n"
     ]
    },
    {
     "name": "stderr",
     "output_type": "stream",
     "text": [
      "C:\\Users\\PCUser\\Anaconda3\\envs\\hydrogeol_utils\\lib\\site-packages\\ipykernel_launcher.py:32: SettingWithCopyWarning: \n",
      "A value is trying to be set on a copy of a slice from a DataFrame.\n",
      "Try using .loc[row_indexer,col_indexer] = value instead\n",
      "\n",
      "See the caveats in the documentation: http://pandas.pydata.org/pandas-docs/stable/user_guide/indexing.html#returning-a-view-versus-a-copy\n",
      "C:\\Users\\PCUser\\Anaconda3\\envs\\hydrogeol_utils\\lib\\site-packages\\pandas\\core\\frame.py:7138: FutureWarning: Sorting because non-concatenation axis is not aligned. A future version\n",
      "of pandas will change to not sort by default.\n",
      "\n",
      "To accept the future behavior, pass 'sort=False'.\n",
      "\n",
      "To retain the current behavior and silence the warning, pass 'sort=True'.\n",
      "\n",
      "  sort=sort,\n"
     ]
    }
   ],
   "source": [
    "# For every EC we will search for the representative induction value\n",
    "\n",
    "df_EC_cond = pd.DataFrame(columns = ['Depth','Apparent_conductivity', 'EC', 'borehole_id'])\n",
    "\n",
    "max_distance = 2.\n",
    "\n",
    "# Iterate through bores\n",
    "for bore in df_EC['borehole_id'].unique():\n",
    "    df_EC_subset = get_bore(df_EC, bore)\n",
    "    df_ind_subset = get_bore(df_ind, bore)\n",
    "\n",
    "    # Iterate throught the depths and find the nearest conductivity\n",
    "    inds = df_ind_subset.Apparent_conductivity.values\n",
    "    inds_interpolated = np.nan*np.zeros(shape = len(df_EC_subset),\n",
    "                                        dtype = np.float32)\n",
    "    \n",
    "    # Iterate through the EC sample depths\n",
    "    for i, depth in enumerate(df_EC_subset.Depth.values):\n",
    "        \n",
    "        # Define minimum indices\n",
    "        min_ind = np.argmin(np.abs(df_ind_subset.Depth.values - depth))\n",
    "        \n",
    "        # Check if the nearest point is within the maximum distance\n",
    "        \n",
    "        if not np.abs(df_ind_subset.Depth.values - depth)[min_ind] > max_distance:\n",
    "        \n",
    "            inds_interpolated[i] = inds[min_ind]\n",
    "        else:\n",
    "            print(np.abs(df_ind_subset.Depth.values - depth)[min_ind])\n",
    "    \n",
    "    # Add to dataframe\n",
    "    df_EC_subset['Apparent_conductivity'] = inds_interpolated\n",
    "    \n",
    "    \n",
    "    \n",
    "    # Append \n",
    "    df_EC_cond = df_EC_cond.append(df_EC_subset)\n",
    "        \n",
    "        \n",
    "df_EC_cond.dropna(how='any', axis = 0, inplace=True)       "
   ]
  },
  {
   "cell_type": "code",
   "execution_count": 12,
   "metadata": {},
   "outputs": [
    {
     "data": {
      "text/html": [
       "<div>\n",
       "<style scoped>\n",
       "    .dataframe tbody tr th:only-of-type {\n",
       "        vertical-align: middle;\n",
       "    }\n",
       "\n",
       "    .dataframe tbody tr th {\n",
       "        vertical-align: top;\n",
       "    }\n",
       "\n",
       "    .dataframe thead th {\n",
       "        text-align: right;\n",
       "    }\n",
       "</style>\n",
       "<table border=\"1\" class=\"dataframe\">\n",
       "  <thead>\n",
       "    <tr style=\"text-align: right;\">\n",
       "      <th></th>\n",
       "      <th>Apparent_conductivity</th>\n",
       "      <th>Depth</th>\n",
       "      <th>EC</th>\n",
       "      <th>borehole_id</th>\n",
       "    </tr>\n",
       "  </thead>\n",
       "  <tbody>\n",
       "    <tr>\n",
       "      <th>0</th>\n",
       "      <td>0.750119</td>\n",
       "      <td>4.20</td>\n",
       "      <td>1.5870</td>\n",
       "      <td>635728</td>\n",
       "    </tr>\n",
       "    <tr>\n",
       "      <th>1</th>\n",
       "      <td>0.683254</td>\n",
       "      <td>4.54</td>\n",
       "      <td>1.4620</td>\n",
       "      <td>635728</td>\n",
       "    </tr>\n",
       "    <tr>\n",
       "      <th>2</th>\n",
       "      <td>0.681730</td>\n",
       "      <td>4.88</td>\n",
       "      <td>1.2970</td>\n",
       "      <td>635728</td>\n",
       "    </tr>\n",
       "    <tr>\n",
       "      <th>3</th>\n",
       "      <td>1.228420</td>\n",
       "      <td>6.18</td>\n",
       "      <td>2.0450</td>\n",
       "      <td>635728</td>\n",
       "    </tr>\n",
       "    <tr>\n",
       "      <th>4</th>\n",
       "      <td>1.471350</td>\n",
       "      <td>6.64</td>\n",
       "      <td>2.1500</td>\n",
       "      <td>635728</td>\n",
       "    </tr>\n",
       "    <tr>\n",
       "      <th>...</th>\n",
       "      <td>...</td>\n",
       "      <td>...</td>\n",
       "      <td>...</td>\n",
       "      <td>...</td>\n",
       "    </tr>\n",
       "    <tr>\n",
       "      <th>651</th>\n",
       "      <td>0.730638</td>\n",
       "      <td>31.92</td>\n",
       "      <td>0.5420</td>\n",
       "      <td>635742</td>\n",
       "    </tr>\n",
       "    <tr>\n",
       "      <th>652</th>\n",
       "      <td>0.602245</td>\n",
       "      <td>32.77</td>\n",
       "      <td>0.4210</td>\n",
       "      <td>635742</td>\n",
       "    </tr>\n",
       "    <tr>\n",
       "      <th>653</th>\n",
       "      <td>0.458843</td>\n",
       "      <td>33.39</td>\n",
       "      <td>0.3912</td>\n",
       "      <td>635742</td>\n",
       "    </tr>\n",
       "    <tr>\n",
       "      <th>654</th>\n",
       "      <td>0.414987</td>\n",
       "      <td>33.73</td>\n",
       "      <td>0.3798</td>\n",
       "      <td>635742</td>\n",
       "    </tr>\n",
       "    <tr>\n",
       "      <th>655</th>\n",
       "      <td>0.384006</td>\n",
       "      <td>34.13</td>\n",
       "      <td>0.3822</td>\n",
       "      <td>635742</td>\n",
       "    </tr>\n",
       "  </tbody>\n",
       "</table>\n",
       "<p>647 rows × 4 columns</p>\n",
       "</div>"
      ],
      "text/plain": [
       "     Apparent_conductivity  Depth      EC borehole_id\n",
       "0                 0.750119   4.20  1.5870      635728\n",
       "1                 0.683254   4.54  1.4620      635728\n",
       "2                 0.681730   4.88  1.2970      635728\n",
       "3                 1.228420   6.18  2.0450      635728\n",
       "4                 1.471350   6.64  2.1500      635728\n",
       "..                     ...    ...     ...         ...\n",
       "651               0.730638  31.92  0.5420      635742\n",
       "652               0.602245  32.77  0.4210      635742\n",
       "653               0.458843  33.39  0.3912      635742\n",
       "654               0.414987  33.73  0.3798      635742\n",
       "655               0.384006  34.13  0.3822      635742\n",
       "\n",
       "[647 rows x 4 columns]"
      ]
     },
     "execution_count": 12,
     "metadata": {},
     "output_type": "execute_result"
    }
   ],
   "source": [
    "df_EC_cond"
   ]
  },
  {
   "cell_type": "code",
   "execution_count": 13,
   "metadata": {},
   "outputs": [
    {
     "data": {
      "image/png": "[encoded data removed]",
      "text/plain": [
       "<Figure size 432x288 with 1 Axes>"
      ]
     },
     "metadata": {
      "needs_background": "light"
     },
     "output_type": "display_data"
    }
   ],
   "source": [
    "# Scatter plot the EC and apparent conductivity\n",
    "\n",
    "\n",
    "plt.scatter(np.log10(df_EC_cond['Apparent_conductivity'].values),\n",
    "           np.log10(df_EC_cond['EC']).values)\n",
    "           #c = df_EC_cond['Depth'].values,\n",
    "           #colormap='viridis')\n",
    "\n",
    "plt.xlabel('Apparent conductivity\\n sampled\\n from inductoin logs (S/m)')\n",
    "\n",
    "plt.ylabel('EC measured on pore fluids (S/m)')\n",
    "\n",
    "plt.savefig(r'C:\\Temp\\EK_EC_apparent_conductivity.png', dpi = 300)\n",
    "plt.show()"
   ]
  },
  {
   "cell_type": "code",
   "execution_count": 14,
   "metadata": {},
   "outputs": [],
   "source": [
    "# We try the same exercise using the AEM bulk conductivity\n",
    "\n",
    "cond_point_utils = NetCDFPointUtils(cond_dataset)\n",
    "\n",
    "utm_wkt, aem_coords = cond_point_utils.utm_coords(cond_point_utils.xycoords)\n",
    "\n",
    "# Extract the AEM conductivity using nearest neighbour\n",
    "distances, indices = spatial_functions.nearest_neighbours(df_header[['Easting','Northing']],\n",
    "                                                          aem_coords,\n",
    "                                                          points_required = 1,# return 10 closest points\n",
    "                                                          max_distance = 250.)"
   ]
  },
  {
   "cell_type": "code",
   "execution_count": 15,
   "metadata": {},
   "outputs": [],
   "source": [
    "conductivity_profile = cond_dataset['conductivity'][indices]\n",
    "\n",
    "depth_tops = cond_dataset['layer_top_depth'][indices]\n",
    "\n",
    "depth_bottom = np.nan*np.ones(depth_tops.shape, dtype = np.float32)\n",
    "\n",
    "depth_bottom[:,:-1] = depth_tops[:,1:]\n",
    "\n",
    "east = cond_dataset['easting'][indices]\n",
    "north = cond_dataset['northing'][indices]\n",
    "doi = cond_dataset['depth_of_investigation'][indices]"
   ]
  },
  {
   "cell_type": "code",
   "execution_count": 16,
   "metadata": {},
   "outputs": [],
   "source": [
    "# Create an AEM dataframe\n",
    "\n",
    "df_AEM = pd.DataFrame(columns = ['Depth_from', 'Depth_to',\n",
    "                                 'conductivity', 'easting',\n",
    "                                 'northing', 'borehole_id', 'EC',\n",
    "                                 'doi'])\n",
    "\n",
    "df_AEM['conductivity'] = conductivity_profile.flatten()\n",
    "df_AEM['Depth_from'] = depth_tops.flatten()\n",
    "df_AEM['Depth_to'] = depth_bottom.flatten()\n",
    "\n",
    "df_AEM['easting'] = np.repeat(east, conductivity_profile.shape[1])\n",
    "df_AEM['northing'] = np.repeat(north, conductivity_profile.shape[1])\n",
    "\n",
    "df_AEM['doi'] = np.repeat(doi, conductivity_profile.shape[1])\n",
    "\n",
    "df_AEM['borehole_id'] = np.repeat(df_header['borehole_id'].values,\n",
    "                                   conductivity_profile.shape[1])"
   ]
  },
  {
   "cell_type": "code",
   "execution_count": 17,
   "metadata": {},
   "outputs": [],
   "source": [
    "mask = df_AEM['doi'] > df_AEM['Depth_from']"
   ]
  },
  {
   "cell_type": "code",
   "execution_count": 18,
   "metadata": {},
   "outputs": [],
   "source": [
    "df_AEM = df_AEM[mask]"
   ]
  },
  {
   "cell_type": "code",
   "execution_count": 19,
   "metadata": {},
   "outputs": [
    {
     "data": {
      "text/html": [
       "<div>\n",
       "<style scoped>\n",
       "    .dataframe tbody tr th:only-of-type {\n",
       "        vertical-align: middle;\n",
       "    }\n",
       "\n",
       "    .dataframe tbody tr th {\n",
       "        vertical-align: top;\n",
       "    }\n",
       "\n",
       "    .dataframe thead th {\n",
       "        text-align: right;\n",
       "    }\n",
       "</style>\n",
       "<table border=\"1\" class=\"dataframe\">\n",
       "  <thead>\n",
       "    <tr style=\"text-align: right;\">\n",
       "      <th></th>\n",
       "      <th>Depth_from</th>\n",
       "      <th>Depth_to</th>\n",
       "      <th>conductivity</th>\n",
       "      <th>easting</th>\n",
       "      <th>northing</th>\n",
       "      <th>borehole_id</th>\n",
       "      <th>EC</th>\n",
       "      <th>doi</th>\n",
       "    </tr>\n",
       "  </thead>\n",
       "  <tbody>\n",
       "    <tr>\n",
       "      <th>0</th>\n",
       "      <td>0.000000</td>\n",
       "      <td>3.000000</td>\n",
       "      <td>0.178667</td>\n",
       "      <td>520112.68750</td>\n",
       "      <td>8306273.5</td>\n",
       "      <td>635728</td>\n",
       "      <td>NaN</td>\n",
       "      <td>89.919998</td>\n",
       "    </tr>\n",
       "    <tr>\n",
       "      <th>1</th>\n",
       "      <td>3.000000</td>\n",
       "      <td>6.300000</td>\n",
       "      <td>0.290192</td>\n",
       "      <td>520112.68750</td>\n",
       "      <td>8306273.5</td>\n",
       "      <td>635728</td>\n",
       "      <td>NaN</td>\n",
       "      <td>89.919998</td>\n",
       "    </tr>\n",
       "    <tr>\n",
       "      <th>2</th>\n",
       "      <td>6.300000</td>\n",
       "      <td>10.000000</td>\n",
       "      <td>0.848896</td>\n",
       "      <td>520112.68750</td>\n",
       "      <td>8306273.5</td>\n",
       "      <td>635728</td>\n",
       "      <td>NaN</td>\n",
       "      <td>89.919998</td>\n",
       "    </tr>\n",
       "    <tr>\n",
       "      <th>3</th>\n",
       "      <td>10.000000</td>\n",
       "      <td>14.100000</td>\n",
       "      <td>0.671141</td>\n",
       "      <td>520112.68750</td>\n",
       "      <td>8306273.5</td>\n",
       "      <td>635728</td>\n",
       "      <td>NaN</td>\n",
       "      <td>89.919998</td>\n",
       "    </tr>\n",
       "    <tr>\n",
       "      <th>4</th>\n",
       "      <td>14.100000</td>\n",
       "      <td>18.600000</td>\n",
       "      <td>0.712758</td>\n",
       "      <td>520112.68750</td>\n",
       "      <td>8306273.5</td>\n",
       "      <td>635728</td>\n",
       "      <td>NaN</td>\n",
       "      <td>89.919998</td>\n",
       "    </tr>\n",
       "    <tr>\n",
       "      <th>...</th>\n",
       "      <td>...</td>\n",
       "      <td>...</td>\n",
       "      <td>...</td>\n",
       "      <td>...</td>\n",
       "      <td>...</td>\n",
       "      <td>...</td>\n",
       "      <td>...</td>\n",
       "      <td>...</td>\n",
       "    </tr>\n",
       "    <tr>\n",
       "      <th>369</th>\n",
       "      <td>41.900002</td>\n",
       "      <td>49.299999</td>\n",
       "      <td>0.791139</td>\n",
       "      <td>523360.09375</td>\n",
       "      <td>8314916.5</td>\n",
       "      <td>635921</td>\n",
       "      <td>NaN</td>\n",
       "      <td>80.870003</td>\n",
       "    </tr>\n",
       "    <tr>\n",
       "      <th>370</th>\n",
       "      <td>49.299999</td>\n",
       "      <td>57.500000</td>\n",
       "      <td>0.737463</td>\n",
       "      <td>523360.09375</td>\n",
       "      <td>8314916.5</td>\n",
       "      <td>635921</td>\n",
       "      <td>NaN</td>\n",
       "      <td>80.870003</td>\n",
       "    </tr>\n",
       "    <tr>\n",
       "      <th>371</th>\n",
       "      <td>57.500000</td>\n",
       "      <td>66.599998</td>\n",
       "      <td>0.624220</td>\n",
       "      <td>523360.09375</td>\n",
       "      <td>8314916.5</td>\n",
       "      <td>635921</td>\n",
       "      <td>NaN</td>\n",
       "      <td>80.870003</td>\n",
       "    </tr>\n",
       "    <tr>\n",
       "      <th>372</th>\n",
       "      <td>66.599998</td>\n",
       "      <td>76.699997</td>\n",
       "      <td>0.526039</td>\n",
       "      <td>523360.09375</td>\n",
       "      <td>8314916.5</td>\n",
       "      <td>635921</td>\n",
       "      <td>NaN</td>\n",
       "      <td>80.870003</td>\n",
       "    </tr>\n",
       "    <tr>\n",
       "      <th>373</th>\n",
       "      <td>76.699997</td>\n",
       "      <td>87.900002</td>\n",
       "      <td>0.469925</td>\n",
       "      <td>523360.09375</td>\n",
       "      <td>8314916.5</td>\n",
       "      <td>635921</td>\n",
       "      <td>NaN</td>\n",
       "      <td>80.870003</td>\n",
       "    </tr>\n",
       "  </tbody>\n",
       "</table>\n",
       "<p>273 rows × 8 columns</p>\n",
       "</div>"
      ],
      "text/plain": [
       "     Depth_from   Depth_to  conductivity       easting   northing  \\\n",
       "0      0.000000   3.000000      0.178667  520112.68750  8306273.5   \n",
       "1      3.000000   6.300000      0.290192  520112.68750  8306273.5   \n",
       "2      6.300000  10.000000      0.848896  520112.68750  8306273.5   \n",
       "3     10.000000  14.100000      0.671141  520112.68750  8306273.5   \n",
       "4     14.100000  18.600000      0.712758  520112.68750  8306273.5   \n",
       "..          ...        ...           ...           ...        ...   \n",
       "369   41.900002  49.299999      0.791139  523360.09375  8314916.5   \n",
       "370   49.299999  57.500000      0.737463  523360.09375  8314916.5   \n",
       "371   57.500000  66.599998      0.624220  523360.09375  8314916.5   \n",
       "372   66.599998  76.699997      0.526039  523360.09375  8314916.5   \n",
       "373   76.699997  87.900002      0.469925  523360.09375  8314916.5   \n",
       "\n",
       "     borehole_id   EC        doi  \n",
       "0         635728  NaN  89.919998  \n",
       "1         635728  NaN  89.919998  \n",
       "2         635728  NaN  89.919998  \n",
       "3         635728  NaN  89.919998  \n",
       "4         635728  NaN  89.919998  \n",
       "..           ...  ...        ...  \n",
       "369       635921  NaN  80.870003  \n",
       "370       635921  NaN  80.870003  \n",
       "371       635921  NaN  80.870003  \n",
       "372       635921  NaN  80.870003  \n",
       "373       635921  NaN  80.870003  \n",
       "\n",
       "[273 rows x 8 columns]"
      ]
     },
     "execution_count": 19,
     "metadata": {},
     "output_type": "execute_result"
    }
   ],
   "source": [
    "df_AEM"
   ]
  },
  {
   "cell_type": "code",
   "execution_count": 20,
   "metadata": {},
   "outputs": [
    {
     "name": "stderr",
     "output_type": "stream",
     "text": [
      "C:\\Users\\PCUser\\Anaconda3\\envs\\hydrogeol_utils\\lib\\site-packages\\ipykernel_launcher.py:16: SettingWithCopyWarning: \n",
      "A value is trying to be set on a copy of a slice from a DataFrame.\n",
      "Try using .loc[row_indexer,col_indexer] = value instead\n",
      "\n",
      "See the caveats in the documentation: http://pandas.pydata.org/pandas-docs/stable/user_guide/indexing.html#returning-a-view-versus-a-copy\n",
      "  app.launch_new_instance()\n"
     ]
    }
   ],
   "source": [
    "# Now we iterate through each column and find the average\n",
    "\n",
    "for bore in df_AEM['borehole_id'].unique():\n",
    "    \n",
    "    df_EC_subset = get_bore(df_EC, bore)\n",
    "    \n",
    "    df_AEM_subset = get_bore(df_AEM, bore)\n",
    "    \n",
    "    new_intervals = df_AEM_subset[['Depth_from', 'Depth_to']]\n",
    "    \n",
    "    \n",
    "    df_newEC = spatial_functions.interpolate_depths_to_intervals(df_EC_subset, ['EC'],\n",
    "                                                                 new_intervals.values,\n",
    "                                                                depth_column='Depth', how='median')\n",
    "\n",
    "    df_AEM_subset['EC'] = df_newEC['EC'].values\n",
    "    \n",
    "    df_AEM.at[df_AEM_subset.index, :] = df_AEM_subset\n",
    "    \n",
    "    \n",
    "df_AEM.dropna(how = 'any', subset = ['EC'], inplace=True)"
   ]
  },
  {
   "cell_type": "code",
   "execution_count": 23,
   "metadata": {},
   "outputs": [],
   "source": [
    "from scipy import stats\n",
    "\n",
    "slope, intercept, r_value, p_value, std_err = stats.linregress(np.log10(df_AEM['conductivity'].values),\n",
    "                                                               np.log10(df_AEM['EC'].astype(np.float).values))"
   ]
  },
  {
   "cell_type": "code",
   "execution_count": 25,
   "metadata": {},
   "outputs": [
    {
     "name": "stdout",
     "output_type": "stream",
     "text": [
      "R-squared =  0.8674041106281604\n",
      "EC =  0.9060561444524374  * sigma +  0.4937600070627951\n",
      "p-value =  3.5991674671326844e-38\n",
      "Standard error is  0.03888394821367266\n"
     ]
    },
    {
     "data": {
      "image/png": "[encoded data removed]",
      "text/plain": [
       "<Figure size 432x288 with 1 Axes>"
      ]
     },
     "metadata": {
      "needs_background": "light"
     },
     "output_type": "display_data"
    }
   ],
   "source": [
    "# Scatter plot the EC and apparent conductivity\n",
    "\n",
    "x = np.array([-4,1])\n",
    "y = slope * x + intercept\n",
    "        \n",
    "plt.plot(x, y, 'k')\n",
    "\n",
    "plt.scatter(np.log10(df_AEM['conductivity'].values),\n",
    "           np.log10(df_AEM['EC'].astype(np.float).values))\n",
    "           #c = df_EC_cond['Depth'].values,\n",
    "           #colormap='viridis')\n",
    "print('R-squared = ', str(r_value**2))\n",
    "print('EC = ', str(slope), ' * sigma + ', str(intercept) )\n",
    "print('p-value = ', p_value)\n",
    "print('Standard error is ', std_err)        \n",
    "plt.xlabel('Bulkt conductivity\\n sampled\\n from AEM  (S/m)')\n",
    "\n",
    "plt.ylabel('EC measured on pore fluids (S/m)')\n",
    "\n",
    "plt.savefig(r'C:\\Temp\\EK_EC_AEM_conductivity.png', dpi = 300)\n",
    "plt.show()"
   ]
  },
  {
   "cell_type": "code",
   "execution_count": 23,
   "metadata": {},
   "outputs": [
    {
     "data": {
      "text/plain": [
       "(68,)"
      ]
     },
     "execution_count": 23,
     "metadata": {},
     "output_type": "execute_result"
    }
   ],
   "source": [
    "cz_base_src = rasterio.open(infile)\n",
    "cz_base_arr = cz_base_src.read()[0]"
   ]
  },
  {
   "cell_type": "code",
   "execution_count": 24,
   "metadata": {},
   "outputs": [],
   "source": []
  },
  {
   "cell_type": "code",
   "execution_count": 25,
   "metadata": {},
   "outputs": [
    {
     "data": {
      "text/plain": [
       "0.809932865164502"
      ]
     },
     "execution_count": 25,
     "metadata": {},
     "output_type": "execute_result"
    }
   ],
   "source": [
    "slope\n"
   ]
  },
  {
   "cell_type": "code",
   "execution_count": null,
   "metadata": {},
   "outputs": [],
   "source": []
  }
 ],
 "metadata": {
  "@webio": {
   "lastCommId": null,
   "lastKernelId": null
  },
  "kernelspec": {
   "display_name": "Python 3",
   "language": "python",
   "name": "python3"
  },
  "language_info": {
   "codemirror_mode": {
    "name": "ipython",
    "version": 3
   },
   "file_extension": ".py",
   "mimetype": "text/x-python",
   "name": "python",
   "nbconvert_exporter": "python",
   "pygments_lexer": "ipython3",
   "version": "3.7.3"
  }
 },
 "nbformat": 4,
 "nbformat_minor": 4
}
