{
 "cells": [
  {
   "cell_type": "markdown",
   "metadata": {},
   "source": [
    "This is a notebook for caluclating the resistivity profile at SNMR sites using the AEM survey nearest point\n",
    "\n",
    "Neil Symingotn\n",
    "\n",
    "neil.symington@ga.gov.au\n"
   ]
  },
  {
   "cell_type": "code",
   "execution_count": 5,
   "metadata": {},
   "outputs": [],
   "source": [
    "import pandas as pd\n",
    "import numpy as np\n",
    "import netCDF4\n",
    "from hydrogeol_utils import spatial_functions\n",
    "from geophys_utils import NetCDFPointUtils\n",
    "import sqlalchemy as db\n",
    "from sqlite3 import dbapi2 as sqlite\n",
    "from sqlalchemy import create_engine, event\n",
    "import os"
   ]
  },
  {
   "cell_type": "code",
   "execution_count": 34,
   "metadata": {},
   "outputs": [],
   "source": [
    "# Connect to the SNMR database\n",
    "\n",
    "DB_PATH = r\"C:\\Users\\PCUser\\Desktop\\SSC_data\\SNMR\\SSC_SNMR.sqlite\"\n",
    "        \n",
    "engine = db.create_engine('sqlite:///' + DB_PATH, module=sqlite)\n",
    "\n",
    "@event.listens_for(engine, 'connect')\n",
    "def connect(dbapi_connection, connection_rec):\n",
    "    dbapi_connection.enable_load_extension(True)\n",
    "    dbapi_connection.execute('SELECT load_extension(\"mod_spatialite\")')\n",
    "\n",
    "\n",
    "connection = engine.connect()\n",
    "\n",
    "query = \"\"\"\n",
    "\n",
    "SELECT\n",
    "              s.site_id,\n",
    "              s.Field_ID,\n",
    "              s.mid_X,\n",
    "              s.mid_Y\n",
    "              \n",
    "FROM \n",
    "\n",
    "             sites as s\n",
    "\n",
    "\"\"\"\n",
    "\n",
    "df_sites = pd.read_sql_query(query, connection, index_col = 'site_id')\n"
   ]
  },
  {
   "cell_type": "code",
   "execution_count": 35,
   "metadata": {},
   "outputs": [
    {
     "data": {
      "text/html": [
       "<div>\n",
       "<style scoped>\n",
       "    .dataframe tbody tr th:only-of-type {\n",
       "        vertical-align: middle;\n",
       "    }\n",
       "\n",
       "    .dataframe tbody tr th {\n",
       "        vertical-align: top;\n",
       "    }\n",
       "\n",
       "    .dataframe thead th {\n",
       "        text-align: right;\n",
       "    }\n",
       "</style>\n",
       "<table border=\"1\" class=\"dataframe\">\n",
       "  <thead>\n",
       "    <tr style=\"text-align: right;\">\n",
       "      <th></th>\n",
       "      <th>Field_ID</th>\n",
       "      <th>mid_X</th>\n",
       "      <th>mid_Y</th>\n",
       "    </tr>\n",
       "    <tr>\n",
       "      <th>site_id</th>\n",
       "      <th></th>\n",
       "      <th></th>\n",
       "      <th></th>\n",
       "    </tr>\n",
       "  </thead>\n",
       "  <tbody>\n",
       "    <tr>\n",
       "      <th>0</th>\n",
       "      <td>AS_GMR_15A</td>\n",
       "      <td>402460.3760</td>\n",
       "      <td>7360850.562</td>\n",
       "    </tr>\n",
       "    <tr>\n",
       "      <th>1</th>\n",
       "      <td>AS_GMR_23</td>\n",
       "      <td>440686.9021</td>\n",
       "      <td>7368656.659</td>\n",
       "    </tr>\n",
       "    <tr>\n",
       "      <th>2</th>\n",
       "      <td>AS_GMR_20</td>\n",
       "      <td>421235.9865</td>\n",
       "      <td>7364864.674</td>\n",
       "    </tr>\n",
       "    <tr>\n",
       "      <th>3</th>\n",
       "      <td>AS_GMR_22</td>\n",
       "      <td>429375.4174</td>\n",
       "      <td>7366308.744</td>\n",
       "    </tr>\n",
       "    <tr>\n",
       "      <th>4</th>\n",
       "      <td>AS_GMR_21</td>\n",
       "      <td>423033.3493</td>\n",
       "      <td>7368303.693</td>\n",
       "    </tr>\n",
       "    <tr>\n",
       "      <th>...</th>\n",
       "      <td>...</td>\n",
       "      <td>...</td>\n",
       "      <td>...</td>\n",
       "    </tr>\n",
       "    <tr>\n",
       "      <th>71</th>\n",
       "      <td>TT_GMR_15</td>\n",
       "      <td>372440.5256</td>\n",
       "      <td>7493864.659</td>\n",
       "    </tr>\n",
       "    <tr>\n",
       "      <th>72</th>\n",
       "      <td>TT_GMR_12</td>\n",
       "      <td>359844.8114</td>\n",
       "      <td>7525739.883</td>\n",
       "    </tr>\n",
       "    <tr>\n",
       "      <th>73</th>\n",
       "      <td>TT_GMR_06</td>\n",
       "      <td>340950.1837</td>\n",
       "      <td>7527435.463</td>\n",
       "    </tr>\n",
       "    <tr>\n",
       "      <th>74</th>\n",
       "      <td>TT_GMR_20a</td>\n",
       "      <td>371664.9428</td>\n",
       "      <td>7518768.508</td>\n",
       "    </tr>\n",
       "    <tr>\n",
       "      <th>75</th>\n",
       "      <td>WD_GMR_13</td>\n",
       "      <td>381765.0085</td>\n",
       "      <td>7707451.003</td>\n",
       "    </tr>\n",
       "  </tbody>\n",
       "</table>\n",
       "<p>76 rows × 3 columns</p>\n",
       "</div>"
      ],
      "text/plain": [
       "           Field_ID        mid_X        mid_Y\n",
       "site_id                                      \n",
       "0        AS_GMR_15A  402460.3760  7360850.562\n",
       "1         AS_GMR_23  440686.9021  7368656.659\n",
       "2         AS_GMR_20  421235.9865  7364864.674\n",
       "3         AS_GMR_22  429375.4174  7366308.744\n",
       "4         AS_GMR_21  423033.3493  7368303.693\n",
       "...             ...          ...          ...\n",
       "71        TT_GMR_15  372440.5256  7493864.659\n",
       "72        TT_GMR_12  359844.8114  7525739.883\n",
       "73        TT_GMR_06  340950.1837  7527435.463\n",
       "74       TT_GMR_20a  371664.9428  7518768.508\n",
       "75        WD_GMR_13  381765.0085  7707451.003\n",
       "\n",
       "[76 rows x 3 columns]"
      ]
     },
     "execution_count": 35,
     "metadata": {},
     "output_type": "execute_result"
    }
   ],
   "source": [
    "df_sites"
   ]
  },
  {
   "cell_type": "code",
   "execution_count": 36,
   "metadata": {},
   "outputs": [],
   "source": [
    "coords = df_sites[['mid_X', 'mid_Y']]"
   ]
  },
  {
   "cell_type": "code",
   "execution_count": 37,
   "metadata": {},
   "outputs": [],
   "source": [
    "# Bring in the LCI inversion\n",
    "\n",
    "nc_inpath = r\"C:\\Users\\PCUser\\Desktop\\AEM\\LCI\\SouthernStuart_WB_MGA53.nc\"\n",
    "\n",
    "d = netCDF4.Dataset(nc_inpath)"
   ]
  },
  {
   "cell_type": "code",
   "execution_count": 38,
   "metadata": {},
   "outputs": [],
   "source": [
    "cond_point_utils = NetCDFPointUtils(d)\n",
    "\n",
    "# Get the AEM utm coordinates\n",
    "\n",
    "utm_wkt, aem_coords = cond_point_utils.utm_coords(cond_point_utils.xycoords)"
   ]
  },
  {
   "cell_type": "code",
   "execution_count": 39,
   "metadata": {},
   "outputs": [],
   "source": [
    "# Extract the AEM conductivity using nearest neighbour\n",
    "distances, indices = spatial_functions.nearest_neighbours(coords,\n",
    "                                                          aem_coords,\n",
    "                                                          points_required = 1,# return 10 closest points\n",
    "                                                          max_distance = 10000.)"
   ]
  },
  {
   "cell_type": "code",
   "execution_count": 40,
   "metadata": {},
   "outputs": [],
   "source": [
    "# Now we want to use these indices to extract the conductivity profile\n",
    "\n",
    "conds = d['conductivity'][indices].data\n",
    "res = 1./conds\n",
    "depth_top = d['layer_top_depth'][indices].data\n",
    "\n",
    "# Check all depths are the same\n",
    "\n",
    "for i in range(depth_top.shape[1]):\n",
    "    assert np.all(np.isclose(depth_top[:,i], depth_top[0,i]))\n"
   ]
  },
  {
   "cell_type": "code",
   "execution_count": 41,
   "metadata": {},
   "outputs": [
    {
     "data": {
      "text/plain": [
       "30"
      ]
     },
     "execution_count": 41,
     "metadata": {},
     "output_type": "execute_result"
    }
   ],
   "source": [
    "conds.shape[1]"
   ]
  },
  {
   "cell_type": "code",
   "execution_count": 42,
   "metadata": {},
   "outputs": [],
   "source": [
    "for j in range(conds.shape[1]):\n",
    "    df_sites['cond_l' + str(j+1)] = conds[:,j]\n",
    "for j in range(conds.shape[1]):\n",
    "    df_sites['layer_top_l' + str(j+1)] = depth_top[:,j]"
   ]
  },
  {
   "cell_type": "code",
   "execution_count": 43,
   "metadata": {},
   "outputs": [],
   "source": [
    "df_sites['distance2fid'] = distances\n",
    "\n",
    "df_sites.to_csv(r\"C:\\temp\\SSC_SNMR_nearest_LCI_fid.csv\", index = False)"
   ]
  },
  {
   "cell_type": "code",
   "execution_count": 33,
   "metadata": {},
   "outputs": [],
   "source": [
    "# calculate thickness\n",
    "\n",
    "thickness = spatial_functions.depth_to_thickness(depth_top[0])"
   ]
  },
  {
   "cell_type": "code",
   "execution_count": 66,
   "metadata": {},
   "outputs": [
    {
     "name": "stdout",
     "output_type": "stream",
     "text": [
      "E:\\SSC\\NMR\\SNMR\\resisitivity_profiles\\AS_GMR_02_res_profile.txt\n",
      "E:\\SSC\\NMR\\SNMR\\resisitivity_profiles\\AS_GMR_07_res_profile.txt\n",
      "E:\\SSC\\NMR\\SNMR\\resisitivity_profiles\\AS_GMR_08_res_profile.txt\n",
      "E:\\SSC\\NMR\\SNMR\\resisitivity_profiles\\AS_GMR_09_res_profile.txt\n",
      "E:\\SSC\\NMR\\SNMR\\resisitivity_profiles\\AS_GMR_26_res_profile.txt\n",
      "E:\\SSC\\NMR\\SNMR\\resisitivity_profiles\\AS_GMR_30_res_profile.txt\n",
      "E:\\SSC\\NMR\\SNMR\\resisitivity_profiles\\AS_GMR_31_res_profile.txt\n",
      "E:\\SSC\\NMR\\SNMR\\resisitivity_profiles\\AS_GMR_32_res_profile.txt\n",
      "E:\\SSC\\NMR\\SNMR\\resisitivity_profiles\\AS_GMR_35_res_profile.txt\n",
      "E:\\SSC\\NMR\\SNMR\\resisitivity_profiles\\AS_GMR_36_res_profile.txt\n",
      "E:\\SSC\\NMR\\SNMR\\resisitivity_profiles\\AS_GMR_37_res_profile.txt\n",
      "E:\\SSC\\NMR\\SNMR\\resisitivity_profiles\\AS_GMR_38_res_profile.txt\n",
      "E:\\SSC\\NMR\\SNMR\\resisitivity_profiles\\AS_GMR_39_res_profile.txt\n",
      "E:\\SSC\\NMR\\SNMR\\resisitivity_profiles\\AS_GMR_40_res_profile.txt\n",
      "E:\\SSC\\NMR\\SNMR\\resisitivity_profiles\\AS_GMR_41_res_profile.txt\n",
      "E:\\SSC\\NMR\\SNMR\\resisitivity_profiles\\AS_GMR_42_res_profile.txt\n",
      "E:\\SSC\\NMR\\SNMR\\resisitivity_profiles\\AS_GMR_43_res_profile.txt\n",
      "E:\\SSC\\NMR\\SNMR\\resisitivity_profiles\\AS_GMR_44_res_profile.txt\n",
      "E:\\SSC\\NMR\\SNMR\\resisitivity_profiles\\AS_GMR_45_res_profile.txt\n",
      "E:\\SSC\\NMR\\SNMR\\resisitivity_profiles\\AS_GMR_46_res_profile.txt\n",
      "E:\\SSC\\NMR\\SNMR\\resisitivity_profiles\\AS_GMR_05_res_profile.txt\n",
      "E:\\SSC\\NMR\\SNMR\\resisitivity_profiles\\AS_GMR_06_res_profile.txt\n",
      "E:\\SSC\\NMR\\SNMR\\resisitivity_profiles\\AS_GMR_10_res_profile.txt\n",
      "E:\\SSC\\NMR\\SNMR\\resisitivity_profiles\\AS_GMR_11_res_profile.txt\n",
      "E:\\SSC\\NMR\\SNMR\\resisitivity_profiles\\AS_GMR_15A_res_profile.txt\n",
      "E:\\SSC\\NMR\\SNMR\\resisitivity_profiles\\AS_GMR_16_res_profile.txt\n",
      "E:\\SSC\\NMR\\SNMR\\resisitivity_profiles\\AS_GMR_18_res_profile.txt\n",
      "E:\\SSC\\NMR\\SNMR\\resisitivity_profiles\\AS_GMR_20_res_profile.txt\n",
      "E:\\SSC\\NMR\\SNMR\\resisitivity_profiles\\AS_GMR_21_res_profile.txt\n",
      "E:\\SSC\\NMR\\SNMR\\resisitivity_profiles\\AS_GMR_22_res_profile.txt\n",
      "E:\\SSC\\NMR\\SNMR\\resisitivity_profiles\\AS_GMR_23_res_profile.txt\n",
      "E:\\SSC\\NMR\\SNMR\\resisitivity_profiles\\AS_GMR_12_res_profile.txt\n",
      "E:\\SSC\\NMR\\SNMR\\resisitivity_profiles\\AS_GMR_14_res_profile.txt\n",
      "E:\\SSC\\NMR\\SNMR\\resisitivity_profiles\\AS_GMR_17_res_profile.txt\n",
      "E:\\SSC\\NMR\\SNMR\\resisitivity_profiles\\AS_GMR_29_res_profile.txt\n",
      "E:\\SSC\\NMR\\SNMR\\resisitivity_profiles\\WD_GMR_03_res_profile.txt\n",
      "E:\\SSC\\NMR\\SNMR\\resisitivity_profiles\\WD_GMR_04_res_profile.txt\n",
      "E:\\SSC\\NMR\\SNMR\\resisitivity_profiles\\WD_GMR_05a_res_profile.txt\n",
      "E:\\SSC\\NMR\\SNMR\\resisitivity_profiles\\WD_GMR_06_res_profile.txt\n",
      "E:\\SSC\\NMR\\SNMR\\resisitivity_profiles\\WD_GMR_08_res_profile.txt\n",
      "E:\\SSC\\NMR\\SNMR\\resisitivity_profiles\\WD_GMR_11_res_profile.txt\n",
      "E:\\SSC\\NMR\\SNMR\\resisitivity_profiles\\WD_GMR_17_res_profile.txt\n",
      "E:\\SSC\\NMR\\SNMR\\resisitivity_profiles\\WD_GMR_18_res_profile.txt\n",
      "E:\\SSC\\NMR\\SNMR\\resisitivity_profiles\\WD_GMR_20_res_profile.txt\n",
      "E:\\SSC\\NMR\\SNMR\\resisitivity_profiles\\WD_GMR_21_res_profile.txt\n",
      "E:\\SSC\\NMR\\SNMR\\resisitivity_profiles\\WD_GMR_22_res_profile.txt\n",
      "E:\\SSC\\NMR\\SNMR\\resisitivity_profiles\\WD_GMR_24_res_profile.txt\n",
      "E:\\SSC\\NMR\\SNMR\\resisitivity_profiles\\WD_GMR_25_res_profile.txt\n",
      "E:\\SSC\\NMR\\SNMR\\resisitivity_profiles\\WD_GMR_29_res_profile.txt\n",
      "E:\\SSC\\NMR\\SNMR\\resisitivity_profiles\\WD_GMR_31_res_profile.txt\n",
      "E:\\SSC\\NMR\\SNMR\\resisitivity_profiles\\WD_GMR_32_res_profile.txt\n",
      "E:\\SSC\\NMR\\SNMR\\resisitivity_profiles\\WD_GMR_33_res_profile.txt\n",
      "E:\\SSC\\NMR\\SNMR\\resisitivity_profiles\\WD_GMR_34_res_profile.txt\n",
      "E:\\SSC\\NMR\\SNMR\\resisitivity_profiles\\WD_GMR_35_res_profile.txt\n",
      "E:\\SSC\\NMR\\SNMR\\resisitivity_profiles\\WD_GMR_36a_res_profile.txt\n",
      "E:\\SSC\\NMR\\SNMR\\resisitivity_profiles\\WD_GMR_37_res_profile.txt\n",
      "E:\\SSC\\NMR\\SNMR\\resisitivity_profiles\\TT_GMR_08_res_profile.txt\n",
      "E:\\SSC\\NMR\\SNMR\\resisitivity_profiles\\TT_GMR_11_res_profile.txt\n",
      "E:\\SSC\\NMR\\SNMR\\resisitivity_profiles\\TT_GMR_04_res_profile.txt\n",
      "E:\\SSC\\NMR\\SNMR\\resisitivity_profiles\\TT_GMR_05_res_profile.txt\n",
      "E:\\SSC\\NMR\\SNMR\\resisitivity_profiles\\TT_GMR_03_res_profile.txt\n",
      "E:\\SSC\\NMR\\SNMR\\resisitivity_profiles\\TT_GMR_09_res_profile.txt\n",
      "E:\\SSC\\NMR\\SNMR\\resisitivity_profiles\\TT_GMR_13_res_profile.txt\n",
      "E:\\SSC\\NMR\\SNMR\\resisitivity_profiles\\TT_GMR_14_res_profile.txt\n",
      "E:\\SSC\\NMR\\SNMR\\resisitivity_profiles\\TT_GMR_15_res_profile.txt\n",
      "E:\\SSC\\NMR\\SNMR\\resisitivity_profiles\\TT_GMR_16_res_profile.txt\n",
      "E:\\SSC\\NMR\\SNMR\\resisitivity_profiles\\TT_GMR_06_res_profile.txt\n",
      "E:\\SSC\\NMR\\SNMR\\resisitivity_profiles\\TT_GMR_12_res_profile.txt\n",
      "E:\\SSC\\NMR\\SNMR\\resisitivity_profiles\\TT_GMR_20a_res_profile.txt\n",
      "E:\\SSC\\NMR\\SNMR\\resisitivity_profiles\\WD_GMR_13_res_profile.txt\n",
      "E:\\SSC\\NMR\\SNMR\\resisitivity_profiles\\WD_GMR_42_res_profile.txt\n",
      "E:\\SSC\\NMR\\SNMR\\resisitivity_profiles\\WD_GMR_40_res_profile.txt\n",
      "E:\\SSC\\NMR\\SNMR\\resisitivity_profiles\\TC_GMR_01_res_profile.txt\n",
      "E:\\SSC\\NMR\\SNMR\\resisitivity_profiles\\TC_GMR_14_res_profile.txt\n",
      "E:\\SSC\\NMR\\SNMR\\resisitivity_profiles\\TC_GMR_18_res_profile.txt\n",
      "E:\\SSC\\NMR\\SNMR\\resisitivity_profiles\\TC_GMR_20_res_profile.txt\n",
      "E:\\SSC\\NMR\\SNMR\\resisitivity_profiles\\TC_GMR_25_res_profile.txt\n",
      "E:\\SSC\\NMR\\SNMR\\resisitivity_profiles\\TC_GMR_29_res_profile.txt\n",
      "E:\\SSC\\NMR\\SNMR\\resisitivity_profiles\\TC_GMR_30_res_profile.txt\n"
     ]
    }
   ],
   "source": [
    "# Now we will write the first 22 layers out in the required format\n",
    "# which is :\n",
    "#\n",
    "#nlayers\n",
    "#res(layer 1) thickness(layer 1)\n",
    "#...\n",
    "#res(layer 1) thickness(layer n)\n",
    "# res bottom half space\n",
    "\n",
    "nlayers = 22\n",
    "\n",
    "outdir =  r\"E:\\SSC\\NMR\\SNMR\\resisitivity_profiles\"\n",
    "\n",
    "for i, (index, row) in enumerate(df_sites.iterrows()):\n",
    "    fname = os.path.join(outdir, row[\"Field_ID\"] + '_res_profile.txt')\n",
    "    print(fname)\n",
    "    with open(fname, 'w') as f:\n",
    "        f.write(str(nlayers) + '\\n')\n",
    "        for j in range(nlayers - 1):\n",
    "            f.write(str(round(res[i,j],4)) + '\\t')\n",
    "            f.write(str(round(thickness[j],4)) + '\\n')\n",
    "        f.write(str(round(res[i,j+1],4)))"
   ]
  },
  {
   "cell_type": "code",
   "execution_count": 61,
   "metadata": {},
   "outputs": [],
   "source": [
    "outdir = r\"E:\\SSC\\NMR\\SNMR\\inversions\"\n",
    "\n",
    "for i, (index, row) in enumerate(df_sites.iterrows()):\n",
    "    dirname = os.path.join(outdir, row[\"Field_ID\"])\n",
    "    os.mkdir(dirname)"
   ]
  },
  {
   "cell_type": "code",
   "execution_count": 59,
   "metadata": {},
   "outputs": [],
   "source": [
    "path = r\"E:\\SSC\\NMR\\SNMR\\Processed_data\"\n",
    "os.chdir(path)\n",
    "import glob\n",
    "\n",
    "files = [f for f in glob.glob(path + \"**/*80ms*\", recursive=True)]"
   ]
  },
  {
   "cell_type": "code",
   "execution_count": 60,
   "metadata": {},
   "outputs": [
    {
     "data": {
      "text/plain": [
       "[]"
      ]
     },
     "execution_count": 60,
     "metadata": {},
     "output_type": "execute_result"
    }
   ],
   "source": [
    "files"
   ]
  },
  {
   "cell_type": "code",
   "execution_count": null,
   "metadata": {},
   "outputs": [],
   "source": []
  }
 ],
 "metadata": {
  "kernelspec": {
   "display_name": "Python 3",
   "language": "python",
   "name": "python3"
  },
  "language_info": {
   "codemirror_mode": {
    "name": "ipython",
    "version": 3
   },
   "file_extension": ".py",
   "mimetype": "text/x-python",
   "name": "python",
   "nbconvert_exporter": "python",
   "pygments_lexer": "ipython3",
   "version": "3.7.3"
  }
 },
 "nbformat": 4,
 "nbformat_minor": 4
}
