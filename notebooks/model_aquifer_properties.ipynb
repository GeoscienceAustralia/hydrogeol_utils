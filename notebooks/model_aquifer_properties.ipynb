{
 "cells": [
  {
   "cell_type": "markdown",
   "metadata": {},
   "source": [
    "This notebook demonstrates two simple approaches for estimating aquifer hydraulic properties from a number of geoscientific datasets.\n",
    "\n",
    "Neil Symington\n",
    "neil.symington@ga.gov.au"
   ]
  },
  {
   "cell_type": "code",
   "execution_count": 2,
   "metadata": {},
   "outputs": [
    {
     "ename": "ModuleNotFoundError",
     "evalue": "No module named 'hydrogeol_utils'",
     "output_type": "error",
     "traceback": [
      "\u001b[1;31m---------------------------------------------------------------------------\u001b[0m",
      "\u001b[1;31mModuleNotFoundError\u001b[0m                       Traceback (most recent call last)",
      "\u001b[1;32m<ipython-input-2-129a76fcff5c>\u001b[0m in \u001b[0;36m<module>\u001b[1;34m\u001b[0m\n\u001b[0;32m      5\u001b[0m \u001b[1;32mfrom\u001b[0m \u001b[0mshapely\u001b[0m \u001b[1;32mimport\u001b[0m \u001b[0mwkt\u001b[0m\u001b[1;33m\u001b[0m\u001b[1;33m\u001b[0m\u001b[0m\n\u001b[0;32m      6\u001b[0m \u001b[1;32mimport\u001b[0m \u001b[0mnumpy\u001b[0m \u001b[1;32mas\u001b[0m \u001b[0mnp\u001b[0m\u001b[1;33m\u001b[0m\u001b[1;33m\u001b[0m\u001b[0m\n\u001b[1;32m----> 7\u001b[1;33m \u001b[1;32mfrom\u001b[0m \u001b[0mhydrogeol_utils\u001b[0m \u001b[1;32mimport\u001b[0m \u001b[0mspatial_functions\u001b[0m\u001b[1;33m,\u001b[0m \u001b[0mAEM_utils\u001b[0m\u001b[1;33m,\u001b[0m \u001b[0mplotting_utils\u001b[0m\u001b[1;33m,\u001b[0m \u001b[0mborehole_utils\u001b[0m\u001b[1;33m,\u001b[0m \u001b[0mSNMR_utils\u001b[0m\u001b[1;33m\u001b[0m\u001b[1;33m\u001b[0m\u001b[0m\n\u001b[0m\u001b[0;32m      8\u001b[0m \u001b[1;32mfrom\u001b[0m \u001b[0mgeophys_utils\u001b[0m\u001b[1;33m.\u001b[0m\u001b[0m_netcdf_point_utils\u001b[0m \u001b[1;32mimport\u001b[0m \u001b[0mNetCDFPointUtils\u001b[0m\u001b[1;33m\u001b[0m\u001b[1;33m\u001b[0m\u001b[0m\n\u001b[0;32m      9\u001b[0m \u001b[1;32mimport\u001b[0m \u001b[0mmatplotlib\u001b[0m\u001b[1;33m.\u001b[0m\u001b[0mpyplot\u001b[0m \u001b[1;32mas\u001b[0m \u001b[0mplt\u001b[0m\u001b[1;33m\u001b[0m\u001b[1;33m\u001b[0m\u001b[0m\n",
      "\u001b[1;31mModuleNotFoundError\u001b[0m: No module named 'hydrogeol_utils'"
     ]
    }
   ],
   "source": [
    "from sqlite3 import dbapi2 as sqlite\n",
    "import pandas as pd\n",
    "#import fiona\n",
    "from shapely.geometry import Polygon, shape\n",
    "from shapely import wkt\n",
    "import numpy as np\n",
    "from hydrogeol_utils import spatial_functions, AEM_utils, plotting_utils, borehole_utils, SNMR_utils\n",
    "from geophys_utils._netcdf_point_utils import NetCDFPointUtils\n",
    "import matplotlib.pyplot as plt\n",
    "import os\n",
    "import math\n",
    "import sqlalchemy as db\n",
    "from sqlalchemy import create_engine, event\n",
    "import netCDF4\n",
    "import rasterio\n",
    "import warnings\n",
    "warnings.filterwarnings(\"ignore\",category =RuntimeWarning)\n",
    "from hydrogeol_utils.db_utils import makeCon, closeCon"
   ]
  },
  {
   "cell_type": "code",
   "execution_count": 1,
   "metadata": {},
   "outputs": [],
   "source": [
    "%matplotlib inline"
   ]
  },
  {
   "cell_type": "code",
   "execution_count": null,
   "metadata": {},
   "outputs": [],
   "source": []
  }
 ],
 "metadata": {
  "kernelspec": {
   "display_name": "Python 3",
   "language": "python",
   "name": "python3"
  },
  "language_info": {
   "codemirror_mode": {
    "name": "ipython",
    "version": 3
   },
   "file_extension": ".py",
   "mimetype": "text/x-python",
   "name": "python",
   "nbconvert_exporter": "python",
   "pygments_lexer": "ipython3",
   "version": "3.7.3"
  }
 },
 "nbformat": 4,
 "nbformat_minor": 2
}
