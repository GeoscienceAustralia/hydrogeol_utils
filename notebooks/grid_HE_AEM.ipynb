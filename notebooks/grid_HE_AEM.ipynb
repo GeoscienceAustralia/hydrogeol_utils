{
 "cells": [
  {
   "cell_type": "markdown",
   "metadata": {},
   "source": [
    "Notebook for gridding AEM using gdal"
   ]
  },
  {
   "cell_type": "code",
   "execution_count": 1,
   "metadata": {},
   "outputs": [],
   "source": [
    "%matplotlib inline"
   ]
  },
  {
   "cell_type": "code",
   "execution_count": 18,
   "metadata": {},
   "outputs": [],
   "source": [
    "import netCDF4\n",
    "import numpy as np\n",
    "from hydrogeol_utils import spatial_functions\n",
    "from geophys_utils._netcdf_point_utils import NetCDFPointUtils\n",
    "import time\n",
    "import rasterio\n",
    "import affine"
   ]
  },
  {
   "cell_type": "code",
   "execution_count": 3,
   "metadata": {},
   "outputs": [],
   "source": [
    "infile = r\"C:\\Users\\PCUser\\Desktop\\AEM\\LCI\\HowardE_WB_MGA52.nc\"\n",
    "\n",
    "lci_dat = netCDF4.Dataset(infile)\n",
    "cond_point_utils = NetCDFPointUtils(lci_dat)\n",
    "utm_wkt, aem_coords = cond_point_utils.utm_coords(cond_point_utils.xycoords)\n",
    "\n",
    "minx, maxx  = aem_coords[:,0].min(), aem_coords[:,0].max()\n",
    "miny, maxy  = aem_coords[:,1].min(), aem_coords[:,1].max()"
   ]
  },
  {
   "cell_type": "code",
   "execution_count": 49,
   "metadata": {},
   "outputs": [
    {
     "name": "stdout",
     "output_type": "stream",
     "text": [
      "Gridding  temp_grid.tif\n",
      "Finished gridding  temp_grid.tif\n",
      "Gridding  temp_grid.tif\n",
      "Finished gridding  temp_grid.tif\n",
      "Gridding  temp_grid.tif\n",
      "Finished gridding  temp_grid.tif\n",
      "Gridding  temp_grid.tif\n",
      "Finished gridding  temp_grid.tif\n",
      "Gridding  temp_grid.tif\n",
      "Finished gridding  temp_grid.tif\n",
      "Gridding  temp_grid.tif\n",
      "Finished gridding  temp_grid.tif\n",
      "Gridding  temp_grid.tif\n",
      "Finished gridding  temp_grid.tif\n",
      "Gridding  temp_grid.tif\n",
      "Finished gridding  temp_grid.tif\n",
      "Gridding  temp_grid.tif\n",
      "Finished gridding  temp_grid.tif\n",
      "Gridding  temp_grid.tif\n",
      "Finished gridding  temp_grid.tif\n",
      "Gridding  temp_grid.tif\n",
      "Finished gridding  temp_grid.tif\n",
      "Gridding  temp_grid.tif\n",
      "Finished gridding  temp_grid.tif\n",
      "Gridding  temp_grid.tif\n",
      "Finished gridding  temp_grid.tif\n",
      "Gridding  temp_grid.tif\n",
      "Finished gridding  temp_grid.tif\n",
      "Gridding  temp_grid.tif\n",
      "Finished gridding  temp_grid.tif\n",
      "Gridding  temp_grid.tif\n",
      "Finished gridding  temp_grid.tif\n",
      "Gridding  temp_grid.tif\n",
      "Finished gridding  temp_grid.tif\n",
      "Gridding  temp_grid.tif\n",
      "Finished gridding  temp_grid.tif\n",
      "Gridding  temp_grid.tif\n",
      "Finished gridding  temp_grid.tif\n",
      "Gridding  temp_grid.tif\n",
      "Finished gridding  temp_grid.tif\n",
      "Gridding  temp_grid.tif\n",
      "Finished gridding  temp_grid.tif\n",
      "Gridding  temp_grid.tif\n",
      "Finished gridding  temp_grid.tif\n",
      "Gridding  temp_grid.tif\n",
      "Finished gridding  temp_grid.tif\n",
      "Gridding  temp_grid.tif\n",
      "Finished gridding  temp_grid.tif\n",
      "Gridding  temp_grid.tif\n",
      "Finished gridding  temp_grid.tif\n",
      "Gridding  temp_grid.tif\n",
      "Finished gridding  temp_grid.tif\n",
      "Gridding  temp_grid.tif\n",
      "Finished gridding  temp_grid.tif\n",
      "Gridding  temp_grid.tif\n",
      "Finished gridding  temp_grid.tif\n",
      "Gridding  temp_grid.tif\n",
      "Finished gridding  temp_grid.tif\n",
      "Gridding  temp_grid.tif\n",
      "Finished gridding  temp_grid.tif\n",
      "Gridding time:  2056.933696269989  seconds\n"
     ]
    }
   ],
   "source": [
    "# Define gdal algorithm as string - see https://gdal.org/programs/gdal_grid.html\n",
    "algorithm = 'invdist:power=2:radius1=250:radius2=250:max_points=15:'\n",
    "algorithm += 'min_points=2:nodata=-9999.'\n",
    "\n",
    "grid_kwargs = {'conductivity': {'log_grid': True,\n",
    "                                'gdal_algorithm': algorithm}}\n",
    "\n",
    "start_time = time.time()\n",
    "\n",
    "# Currently this is too resource intense, need to make it more effecient\n",
    "aem_grid = spatial_functions.grid_points_gdal(cond_point_utils,\n",
    "                 grid_resolution = 20.,\n",
    "                 variables = 'conductivity',\n",
    "                 grid_wkt = utm_wkt,\n",
    "                 reprojected_grid_bounds = (minx + 200., miny -200.,\n",
    "                                            maxx + 200., maxy - 200.),\n",
    "                 point_step=1, # Only use every 4th point\n",
    "                 grid_kwargs = grid_kwargs)\n",
    "\n",
    "print(\"Gridding time: \", time.time() - start_time, ' seconds')"
   ]
  },
  {
   "cell_type": "code",
   "execution_count": 50,
   "metadata": {},
   "outputs": [],
   "source": [
    "newarr = aem_grid['conductivity']"
   ]
  },
  {
   "cell_type": "code",
   "execution_count": 51,
   "metadata": {},
   "outputs": [],
   "source": [
    "# Convert gdal geotransform to affine\n",
    "\n",
    "\n",
    "(c, a, b, f, d, e) = aem_grid['geotransform']\n",
    "\n",
    "newaff = affine.Affine(a, b, c,\n",
    "                      d, e, f)"
   ]
  },
  {
   "cell_type": "code",
   "execution_count": 52,
   "metadata": {},
   "outputs": [],
   "source": [
    "outfile = r\"C:\\Users\\PCUser\\Desktop\\NSC_data\\data\\AEM\\HE\\grids\\HE_layer_grid.tif\"\n",
    "\n",
    "new_dataset = rasterio.open(outfile, 'w', driver='GTiff',\n",
    "                                height=newarr.shape[1], width=newarr.shape[2],\n",
    "                                count=newarr.shape[0], dtype=newarr.dtype,\n",
    "                                crs=utm_wkt, transform=newaff)\n",
    "\n",
    "for i, item in enumerate(newarr):\n",
    "    new_dataset.write(item, i+1)\n",
    "new_dataset.close()"
   ]
  },
  {
   "cell_type": "code",
   "execution_count": 44,
   "metadata": {},
   "outputs": [],
   "source": [
    "new_dataset.close()"
   ]
  },
  {
   "cell_type": "code",
   "execution_count": 30,
   "metadata": {},
   "outputs": [
    {
     "data": {
      "text/plain": [
       "(387, 469)"
      ]
     },
     "execution_count": 30,
     "metadata": {},
     "output_type": "execute_result"
    }
   ],
   "source": [
    "item.shape"
   ]
  },
  {
   "cell_type": "code",
   "execution_count": 35,
   "metadata": {},
   "outputs": [
    {
     "data": {
      "text/plain": [
       "(718150.0, 50.0, 0.0, 8611900.0, 0.0, 50.0)"
      ]
     },
     "execution_count": 35,
     "metadata": {},
     "output_type": "execute_result"
    }
   ],
   "source": [
    "aem_grid['geotransform']"
   ]
  },
  {
   "cell_type": "code",
   "execution_count": null,
   "metadata": {},
   "outputs": [],
   "source": []
  }
 ],
 "metadata": {
  "kernelspec": {
   "display_name": "Python 3",
   "language": "python",
   "name": "python3"
  },
  "language_info": {
   "codemirror_mode": {
    "name": "ipython",
    "version": 3
   },
   "file_extension": ".py",
   "mimetype": "text/x-python",
   "name": "python",
   "nbconvert_exporter": "python",
   "pygments_lexer": "ipython3",
   "version": "3.7.3"
  }
 },
 "nbformat": 4,
 "nbformat_minor": 4
}
