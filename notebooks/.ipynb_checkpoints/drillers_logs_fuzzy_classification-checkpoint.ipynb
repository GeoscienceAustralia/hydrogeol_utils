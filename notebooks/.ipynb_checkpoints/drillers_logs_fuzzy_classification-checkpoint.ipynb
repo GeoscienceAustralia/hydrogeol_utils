{
 "cells": [
  {
   "cell_type": "markdown",
   "metadata": {},
   "source": [
    "This notebook aims to classify drillers descriptions into lithological classes. Given the vagueness of classifying rocks with continuous properties into discrete classess as well as the inaccuracy of predictions we aim to use fuzzy theory to define the degree of class membership.\n",
    "\n",
    "Here is a real example of a drillers description 'Clayey fine(0.5-2 mm) sand; yellow light brown, with 5% FeO cemented concretions, sample dry'. This description would likely lead a geologist to classify this interval as a sand with some clay. In a winner take all scheme we may classify the interval as a sand, but this simplification loses much of the detalil of the description. Maybe a class membership of 0.7 sand and 0.3 clay might be a better representation.\n",
    "\n",
    "Neil Symington\n",
    "neil.symington@ga.gov.au"
   ]
  },
  {
   "cell_type": "code",
   "execution_count": 2,
   "metadata": {},
   "outputs": [],
   "source": [
    "import pandas as pd\n",
    "import json\n",
    "import numpy as np\n",
    "import re\n",
    "import sqlite3\n",
    "import matplotlib.pyplot as plt"
   ]
  },
  {
   "cell_type": "code",
   "execution_count": 3,
   "metadata": {},
   "outputs": [],
   "source": [
    "# Define key functions\n",
    "\n",
    "def add_to_dictionary(value, key, dictionary):\n",
    "    \"\"\"\n",
    "    A function for appending an object to a dictionary\n",
    "    entry\n",
    "    \n",
    "    @param value: object to be added to the dictionary\n",
    "    @param key: dictionary key\n",
    "    @dictionary: dictionary\n",
    "    returns\n",
    "    dictionary with added values\n",
    "    \"\"\"\n",
    "    # Check if it already exists if so add nothing\n",
    "    try:\n",
    "        if values in dictionary[key]:\n",
    "            return dictionary\n",
    "        # Otherwise add the word\n",
    "        else:\n",
    "            dictionary[key] += [values]\n",
    "            return dictionary\n",
    "    except KeyError:\n",
    "        dictionary[key] = [values]\n",
    "        return dictionary\n",
    "\n",
    "def search(kword_dict, word):\n",
    "    \"\"\"\n",
    "    A search function for finding if a keword\n",
    "    exists as a list element within a dictionary entry\n",
    "    \n",
    "    @param kword_dict: dictionary with keywords\n",
    "    @word: string\n",
    "    returns\n",
    "    the key for the entry if it exists or None if not\n",
    "    \"\"\"\n",
    "    word = word.lower()\n",
    "    for k in kword_dict:\n",
    "        for v in kword_dict[k]:\n",
    "            if word in v:\n",
    "                return k\n",
    "    return None\n",
    "\n",
    "def keyword_frequency(string, kwords):\n",
    "    \"\"\"\n",
    "    Function for counting the occurene of key words\n",
    "    within a lithology description\n",
    "    \n",
    "    @param string: string from which to search for keywords\n",
    "    @parma kwords: list of keywords\n",
    "    keyword and the entries are a list of 'synonyms'\n",
    "    returns\n",
    "    \n",
    "    dictionary with score denoting the number of times a\n",
    "    key word was seen\n",
    "    \"\"\"\n",
    "    # remove punctuation and split into list\n",
    "    L = re.sub(r'[^\\w\\s]','', string).split()\n",
    "    # make entirely lowercase\n",
    "    L = [x.lower() for x in L]\n",
    "    # Now use counter funtoin for performance\n",
    "    c=Counter(L)\n",
    "    \n",
    "    newDict = dict.fromkeys(kwords, 0)\n",
    "    # Iterate through words in description\n",
    "    for item, count in c.items():\n",
    "        # If the item is in the key word dict\n",
    "        # then add the counted value to the new dictionary\n",
    "        if item in kwords:\n",
    "            # if the entry is in the kword dictionary\n",
    "            # assign the item a 1 in newDict\n",
    "            newDict[item] += count\n",
    "    \n",
    "    # Return the dictionary\n",
    "    return newDict"
   ]
  },
  {
   "cell_type": "code",
   "execution_count": 4,
   "metadata": {},
   "outputs": [],
   "source": [
    "# Open the key word dictionary from a json file produced in drillers_description_bag_of_words\n",
    "\n",
    "\n",
    "filename = r\"C:\\Users\\symin\\OneDrive\\Documents\\GA\\lithology_classification\\NGIS_lithology_kwords_fuzzy.json\"\n",
    "\n",
    "with open(filename, 'r') as f:\n",
    "    lithology_kwords = json.load(f)\n",
    "\n",
    "# Or save\n",
    "#with open(filename, 'w') as f:\n",
    "    # Make sure the dictionary exists otherwise the json will be wiped\n",
    "#    try:\n",
    "#        lithology_kwords\n",
    "#    except NameError:\n",
    "#        print(\"Dictionary undefined\")\n",
    "#    else:\n",
    "#        json.dump(lithology_kwords, f,\n",
    "#                  indent=4, sort_keys=True)"
   ]
  },
  {
   "cell_type": "code",
   "execution_count": 5,
   "metadata": {},
   "outputs": [],
   "source": [
    "# Here we are going to add some editting of this to produce adjective classes for lithologies (i.e. sandy, clayey)\n",
    "\n",
    "new_kwords = ['sandy', 'silty', 'clayey']\n",
    "\n",
    "for item in new_kwords:\n",
    "    lithology_kwords[item] = []\n",
    "    # Search corresponding entries for similar keywords\n",
    "    prefix = item[:4]\n",
    "    for entry in lithology_kwords[prefix]:\n",
    "        if item in entry:\n",
    "            lithology_kwords[prefix].remove(entry)\n",
    "            lithology_kwords[item].append(entry)\n",
    "    for entry in lithology_kwords[prefix + 'stone']:\n",
    "        if item in entry:\n",
    "            lithology_kwords[prefix + 'stone'].remove(entry)\n",
    "            lithology_kwords[item].append(entry)\n",
    "            \n",
    "    "
   ]
  },
  {
   "cell_type": "code",
   "execution_count": 6,
   "metadata": {},
   "outputs": [],
   "source": [
    "# Here we add some keywrods that were missed\n",
    "\n",
    "lithology_kwords['unconsolidated'] = ['unconsolidated']\n",
    "lithology_kwords['consolidated'] = ['consolidated']"
   ]
  },
  {
   "cell_type": "code",
   "execution_count": 7,
   "metadata": {},
   "outputs": [
    {
     "name": "stdout",
     "output_type": "stream",
     "text": [
      "dict_keys(['alluvium', 'amphibolite', 'angular', 'artificial', 'banded', 'basalt', 'bedrock', 'bioturbation', 'blotched', 'bluestone', 'breccia', 'brown', 'carbonate', 'cavity', 'cement', 'chalcedony', 'chert', 'clast', 'clay', 'clayey', 'claystone', 'coal', 'coarse', 'conglomerate', 'coral', 'cross-bedding', 'dark', 'deformation', 'diorite', 'dolerite', 'dolomite', 'dolostone', 'dropstone', 'dry', 'duricrust', 'fe oxides', 'fine', 'gneiss', 'grading', 'grained', 'grainsize', 'granite', 'gravel', 'grey', 'greywacke', 'groundwater', 'imbrication', 'intraclasts', 'ironstone', 'kaolinite', 'lag', 'lamination', 'laterite', 'light', 'limestone', 'lineation', 'loam', 'massive', 'matrix', 'medium', 'moderately', 'moist', 'mottled', 'mud', 'mudflakes', 'mudstone', 'orange', 'overbank', 'pegmatite', 'phyllite', 'pink', 'poorly', 'porcellanite', 'purple', 'quartz', 'quartzite', 'red', 'regolith', 'ripple', 'rock', 'root', 'rounded', 'sand', 'sandstone', 'sandy', 'schist', 'sediment', 'shale', 'silt', 'siltstone', 'silty', 'slate', 'soil', 'sorted', 'streaked', 'unknown', 'vegetation', 'very', 'water', 'weathered', 'well', 'wet', 'white', 'yellow', 'unconsolidated', 'consolidated'])\n"
     ]
    }
   ],
   "source": [
    "print(lithology_kwords.keys())"
   ]
  },
  {
   "cell_type": "code",
   "execution_count": 24,
   "metadata": {},
   "outputs": [],
   "source": [
    "# Next we want a series of lists for how the keywords relate to the classes\n",
    "\n",
    "# We will start with sediment vs consolidated rock\n",
    "\n",
    "sediment = ['alluvium', 'gravel', 'sand', 'silt', 'clay', 'mud', 'mud', 'loam', 'soil', 'regolith', 'unconsolidated'\n",
    "           ]\n",
    "\n",
    "rock = ['rock', 'bedrock', 'consolidated', 'granite', 'basalt', 'amphibolite', 'claystone', 'mudstone', 'siltstone',\n",
    "       'sandstone', 'conglomerate']"
   ]
  },
  {
   "cell_type": "code",
   "execution_count": 8,
   "metadata": {},
   "outputs": [],
   "source": [
    "# Now scrapte the NGIS database for additional lithologies\n",
    "\n",
    "# This database is a copy of key tables for boreholes in the NGIS\n",
    "# database that fall within the EFtF project areas\n",
    "db = r\"C:\\GA\\boreholes\\Borehole_Data_Consolidation_CompositeLogs_NeilFork\\EFTF_BH.sqlite\"\n",
    "\n",
    "conn = sqlite3.connect(db)\n",
    "\n",
    "# open the lithologies table using a sql qury in pandas\n",
    "query = 'SELECT * from Lithology;'\n",
    "df_ngis = pd.read_sql(query, conn)"
   ]
  },
  {
   "cell_type": "code",
   "execution_count": 15,
   "metadata": {},
   "outputs": [
    {
     "name": "stdout",
     "output_type": "stream",
     "text": [
      "gravel\n",
      "1\n",
      "&\n",
      "1\n",
      "sand\n",
      "1\n",
      "-\n",
      "1\n",
      "water\n",
      "1\n"
     ]
    }
   ],
   "source": [
    "# Now we will try the whole NGIS database. This takes some time\n",
    "\n",
    "df_results = pd.DataFrame(columns = sediment + rock)\n",
    "\n",
    "# Iterate through the panda series\n",
    "for index, string in df_ngis['l_Description'].dropna().items():\n",
    "    # Get a dictionary with the word count for each keyword\n",
    "    newDict = bag_of_words(string, lithology_kwords)\n",
    "    # Append this to a dataframe with the same index as\n",
    "    # the original data\n",
    "    df_results = df_results.append(pd.DataFrame(newDict,\n",
    "                                   index = [index]))"
   ]
  },
  {
   "cell_type": "code",
   "execution_count": null,
   "metadata": {},
   "outputs": [],
   "source": []
  }
 ],
 "metadata": {
  "kernelspec": {
   "display_name": "Python 3",
   "language": "python",
   "name": "python3"
  },
  "language_info": {
   "codemirror_mode": {
    "name": "ipython",
    "version": 3
   },
   "file_extension": ".py",
   "mimetype": "text/x-python",
   "name": "python",
   "nbconvert_exporter": "python",
   "pygments_lexer": "ipython3",
   "version": "3.6.3"
  }
 },
 "nbformat": 4,
 "nbformat_minor": 2
}
