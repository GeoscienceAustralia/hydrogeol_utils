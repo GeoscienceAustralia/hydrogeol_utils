{
 "cells": [
  {
   "cell_type": "code",
   "execution_count": 3,
   "metadata": {},
   "outputs": [],
   "source": [
    "import netCDF4\n",
    "from geophys_utils._netcdf_line_utils import NetCDFLineUtils\n",
    "import numpy as np\n",
    "import matplotlib.pyplot as plt\n",
    "import matplotlib as mpl\n",
    "import matplotlib.cm as cm\n",
    "from matplotlib.patches import Rectangle\n",
    "import pandas as pd\n",
    "import importlib\n",
    "from hydrogeol_utils.plotting_utils import ConductivitySectionPlot\n",
    "from hydrogeol_utils import SNMR_utils\n",
    "import time\n",
    "import os\n",
    "import sqlalchemy as db\n",
    "from sqlite3 import dbapi2 as sqlite\n",
    "\n",
    "\n",
    "# Open the stochastically inverted rjMCMC\n",
    "# AEM inversoin from GARJMCMCTDEM\n",
    "\n",
    "rj_path = r\"C:\\Users\\symin\\OneDrive\\Documents\\GA\\AEM\\rjmcmc.nc\"\n",
    "rj_dataset = netCDF4.Dataset(rj_path)\n",
    "\n",
    "# Some major issues here\n",
    "\n",
    "# Create an instance of plots\n",
    "plots_rj = ConductivitySectionPlot(rj_dataset)\n",
    "\n",
    "# We will use the same panel settings\n",
    "\n",
    "line = 105001\n",
    "\n",
    "cond_vars = ['conductivity_mean', 'conductivity_p10', 'conductivity_p50', 'conductivity_p90',\n",
    "            'conductivity_highestlikelihood', 'conductivity_lowestmisfit', 'changepoint']\n",
    "\n",
    "\n",
    "# Grid the line but leave it in memory\n",
    "gridded_vars = plots_rj.grid_vars(xres = 20., yres =2., lines=line,\n",
    "                               conductivity_variables = cond_vars,\n",
    "                               data_variables = None,\n",
    "                               layer_subdivisions = 4, resampling_method = 'linear',\n",
    "                               save_hdf5 = False, return_dict = True)\n"
   ]
  },
  {
   "cell_type": "code",
   "execution_count": 4,
   "metadata": {},
   "outputs": [
    {
     "ename": "KeyError",
     "evalue": "'depth_of_investigation'",
     "output_type": "error",
     "traceback": [
      "\u001b[1;31m---------------------------------------------------------------------------\u001b[0m",
      "\u001b[1;31mKeyError\u001b[0m                                  Traceback (most recent call last)",
      "\u001b[1;32m<ipython-input-4-bf13a55d85b4>\u001b[0m in \u001b[0;36m<module>\u001b[1;34m()\u001b[0m\n\u001b[0;32m     36\u001b[0m \u001b[1;31m# Now plot\u001b[0m\u001b[1;33m\u001b[0m\u001b[1;33m\u001b[0m\u001b[0m\n\u001b[0;32m     37\u001b[0m plots_rj.plot_conductivity_section(ax_array, gridded_vars[line], plot_settings, panel_settings, save_fig = False,\n\u001b[1;32m---> 38\u001b[1;33m                                   outfile = os.path.join(outdir, str(line) + '.png'))\n\u001b[0m",
      "\u001b[1;32m~\\onedrive\\documents\\github\\pycharm_projects\\hydrogeol_utils\\hydrogeol_utils\\plotting_utils.py\u001b[0m in \u001b[0;36mplot_conductivity_section\u001b[1;34m(self, ax_array, gridded_variables, plot_settings, panel_settings, save_fig, outfile)\u001b[0m\n\u001b[0;32m    784\u001b[0m \u001b[1;33m\u001b[0m\u001b[0m\n\u001b[0;32m    785\u001b[0m                 \u001b[1;31m# PLot the grid\u001b[0m\u001b[1;33m\u001b[0m\u001b[1;33m\u001b[0m\u001b[0m\n\u001b[1;32m--> 786\u001b[1;33m                 \u001b[0mself\u001b[0m\u001b[1;33m.\u001b[0m\u001b[0mplot_grid\u001b[0m\u001b[1;33m(\u001b[0m\u001b[0max\u001b[0m\u001b[1;33m,\u001b[0m \u001b[0mgridded_variables\u001b[0m\u001b[1;33m,\u001b[0m \u001b[0mvariables\u001b[0m\u001b[1;33m[\u001b[0m\u001b[0mi\u001b[0m\u001b[1;33m]\u001b[0m\u001b[1;33m,\u001b[0m \u001b[0mpanel_kwargs\u001b[0m\u001b[1;33m[\u001b[0m\u001b[0mi\u001b[0m\u001b[1;33m]\u001b[0m\u001b[1;33m)\u001b[0m\u001b[1;33m\u001b[0m\u001b[0m\n\u001b[0m\u001b[0;32m    787\u001b[0m                 \u001b[0max_pos\u001b[0m\u001b[1;33m[\u001b[0m\u001b[0mi\u001b[0m\u001b[1;33m]\u001b[0m \u001b[1;33m=\u001b[0m \u001b[0max\u001b[0m\u001b[1;33m.\u001b[0m\u001b[0mget_position\u001b[0m\u001b[1;33m(\u001b[0m\u001b[1;33m)\u001b[0m\u001b[1;33m\u001b[0m\u001b[0m\n\u001b[0;32m    788\u001b[0m \u001b[1;33m\u001b[0m\u001b[0m\n",
      "\u001b[1;32m~\\onedrive\\documents\\github\\pycharm_projects\\hydrogeol_utils\\hydrogeol_utils\\plotting_utils.py\u001b[0m in \u001b[0;36mplot_grid\u001b[1;34m(self, ax, gridded_variables, variable, panel_kwargs)\u001b[0m\n\u001b[0;32m    630\u001b[0m         \u001b[1;31m# PLot depth of investigation and make area underneath more transparent if desired\u001b[0m\u001b[1;33m\u001b[0m\u001b[1;33m\u001b[0m\u001b[0m\n\u001b[0;32m    631\u001b[0m         \u001b[1;32mif\u001b[0m \u001b[0mpanel_kwargs\u001b[0m\u001b[1;33m[\u001b[0m\u001b[1;34m'shade_doi'\u001b[0m\u001b[1;33m]\u001b[0m\u001b[1;33m:\u001b[0m\u001b[1;33m\u001b[0m\u001b[0m\n\u001b[1;32m--> 632\u001b[1;33m             \u001b[0meoi\u001b[0m \u001b[1;33m=\u001b[0m \u001b[0mgridded_variables\u001b[0m\u001b[1;33m[\u001b[0m\u001b[1;34m'elevation'\u001b[0m\u001b[1;33m]\u001b[0m \u001b[1;33m-\u001b[0m \u001b[0mgridded_variables\u001b[0m\u001b[1;33m[\u001b[0m\u001b[1;34m'depth_of_investigation'\u001b[0m\u001b[1;33m]\u001b[0m\u001b[1;33m\u001b[0m\u001b[0m\n\u001b[0m\u001b[0;32m    633\u001b[0m \u001b[1;33m\u001b[0m\u001b[0m\n\u001b[0;32m    634\u001b[0m             \u001b[0max\u001b[0m\u001b[1;33m.\u001b[0m\u001b[0mplot\u001b[0m\u001b[1;33m(\u001b[0m\u001b[0mline_x\u001b[0m\u001b[1;33m,\u001b[0m \u001b[0meoi\u001b[0m\u001b[1;33m,\u001b[0m \u001b[1;34m'k'\u001b[0m\u001b[1;33m)\u001b[0m\u001b[1;33m\u001b[0m\u001b[0m\n",
      "\u001b[1;31mKeyError\u001b[0m: 'depth_of_investigation'"
     ]
    }
   ],
   "source": [
    "\n",
    "# The sections will be plotted with a number of panels with a shared horizontal axis\n",
    "# To define what we will plot for each panel we use a dictionary that define the variable\n",
    "# to plot (which needs to be inluded in the interpolated) and the \n",
    "\n",
    "plot_settings = {'figsize': (20, 11), 'dpi': 300}\n",
    "\n",
    "panel_settings = {\n",
    "                  \n",
    "                 'panel_1': {'variable': 'conductivity_p50',\n",
    "                             'plot_type': 'grid',\n",
    "                             'panel_kwargs': {'title': 'AEM conductivity median',\n",
    "                                              'max_depth': 500, 'shade_doi': False, 'colourbar': True,\n",
    "                                              'colourbar_label': 'Conductivity (S/m)',\n",
    "                                             'log_plot': False, 'vmin': 0, 'vmax': 0.1,\n",
    "                                             'cmap': 'jet', 'ylabel': 'elevation_(mAHD)'},\n",
    "                             'height_ratio': 5},\n",
    "                  \n",
    "                 'panel_2': {'variable': 'conductivity_highestlikelihood',\n",
    "                             'plot_type': 'grid',\n",
    "                             'panel_kwargs': {'title': 'AEM conductivity highest likelihood',\n",
    "                                              'max_depth': 500, 'shade_doi': False, 'colourbar': True,\n",
    "                                              'colourbar_label': 'Conductivity (S/m)',\n",
    "                                             'log_plot': True, 'vmin': 0.001, 'vmax': 0.1,\n",
    "                                            'cmap': 'jet', 'ylabel': 'elevation_(mAHD)'},\n",
    "                             'height_ratio': 5}}\n",
    "\n",
    "\n",
    "outdir = r\"C:\\temp\"\n",
    "\n",
    "# PLot the figure just within the editor\n",
    "fig, ax_array = plt.subplots(len(panel_settings), 1, sharex=True, figsize=(20, 11),\n",
    "                                     gridspec_kw={'height_ratios':\n",
    "                                                  plots_rj.unpack_plot_settings(panel_settings,'height_ratio')})\n",
    "\n",
    "# Now plot\n",
    "plots_rj.plot_conductivity_section(ax_array, gridded_vars[line], plot_settings, panel_settings, save_fig = False,\n",
    "                                  outfile = os.path.join(outdir, str(line) + '.png'))\n"
   ]
  },
  {
   "cell_type": "code",
   "execution_count": null,
   "metadata": {},
   "outputs": [],
   "source": []
  }
 ],
 "metadata": {
  "kernelspec": {
   "display_name": "Python 3",
   "language": "python",
   "name": "python3"
  },
  "language_info": {
   "codemirror_mode": {
    "name": "ipython",
    "version": 3
   },
   "file_extension": ".py",
   "mimetype": "text/x-python",
   "name": "python",
   "nbconvert_exporter": "python",
   "pygments_lexer": "ipython3",
   "version": "3.6.3"
  }
 },
 "nbformat": 4,
 "nbformat_minor": 2
}
