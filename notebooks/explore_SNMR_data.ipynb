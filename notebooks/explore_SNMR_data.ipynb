{
 "cells": [
  {
   "cell_type": "markdown",
   "metadata": {},
   "source": [
    "A notebook for exploring SNMR data and inversions in their current format.\n",
    "\n",
    "Neil Symington\n",
    "\n",
    "neil.symington@ga.gov.au"
   ]
  },
  {
   "cell_type": "code",
   "execution_count": 1,
   "metadata": {},
   "outputs": [],
   "source": [
    "%matplotlib inline"
   ]
  },
  {
   "cell_type": "code",
   "execution_count": 2,
   "metadata": {},
   "outputs": [
    {
     "name": "stderr",
     "output_type": "stream",
     "text": [
      "C:\\Users\\u77932\\AppData\\Local\\Continuum\\anaconda3\\envs\\hydrogeol_utils\\lib\\site-packages\\h5py\\__init__.py:36: FutureWarning: Conversion of the second argument of issubdtype from `float` to `np.floating` is deprecated. In future, it will be treated as `np.float64 == np.dtype(float).type`.\n",
      "  from ._conv import register_converters as _register_converters\n"
     ]
    }
   ],
   "source": [
    "import pandas as pd\n",
    "import numpy as np\n",
    "import matplotlib.pyplot as plt\n",
    "import sqlalchemy as db\n",
    "from sqlite3 import dbapi2 as sqlite\n",
    "from hydrogeol_utils import SNMR_utils\n",
    "import h5py\n",
    "from shapely import wkt\n",
    "from shapely import wkb"
   ]
  },
  {
   "cell_type": "markdown",
   "metadata": {},
   "source": [
    "We will start by looking at the processed data files. These were originally in matlab container files but I transferred them to hdf5. The container structure was a straight conversion using octave and is in my opion rather silly."
   ]
  },
  {
   "cell_type": "code",
   "execution_count": 31,
   "metadata": {},
   "outputs": [
    {
     "name": "stdout",
     "output_type": "stream",
     "text": [
      "['data']\n",
      "['type', 'value']\n",
      "['T_dead_time', 'T_pulse', 'coil_1_fid', 'coil_2_fid', 'coil_3_fid', 'coil_4_fid', 'detect_frequency', 'fs', 'interpulse_delay', 'pulse_moment', 'pulse_moment_phase', 'pulse_moment_voltage', 'pulse_moment_voltage_phase', 'pulse_sequence', 'time_fid']\n"
     ]
    }
   ],
   "source": [
    "filename = r\"\"\"\\\\prod.lan\\active\\proj\\futurex\\East_Kimberley\\Data\\Processed\\Geophysics\\NMR\\SNMR\\processed_data_hdf5\\OB18_30_FID_60ms.hdf5\"\"\"\n",
    "\n",
    "f = h5py.File(filename, 'r')\n",
    "\n",
    "# Get the group name\n",
    "gp = list(f.keys())\n",
    "\n",
    "print(gp)\n",
    "\n",
    "# Get the second group name\n",
    "gp2 = list(f['data'].keys())\n",
    "\n",
    "print(gp2)\n",
    "\n",
    "# Get the third group keys, which are the actual data\n",
    "gp3 = list(f['data']['value'].keys())\n",
    "\n",
    "print(gp3)\n"
   ]
  },
  {
   "cell_type": "code",
   "execution_count": 4,
   "metadata": {},
   "outputs": [],
   "source": [
    "# An adhoc function to extract the SNMR data from hdf5 container files\n",
    "\n",
    "def extract_data(f, table_name):\n",
    "    return (f['data']['value'][table_name]['value'].value)\n"
   ]
  },
  {
   "cell_type": "code",
   "execution_count": 5,
   "metadata": {},
   "outputs": [
    {
     "name": "stdout",
     "output_type": "stream",
     "text": [
      "(28, 3647)\n"
     ]
    }
   ],
   "source": [
    "# Here we extract an array\n",
    "coil_1_fid = extract_data(f, 'coil_1_fid')\n",
    "\n",
    "print(np.shape(coil_1_fid))"
   ]
  },
  {
   "cell_type": "code",
   "execution_count": 6,
   "metadata": {},
   "outputs": [
    {
     "name": "stdout",
     "output_type": "stream",
     "text": [
      "0.01034\n"
     ]
    }
   ],
   "source": [
    "# Here we extract a scalar\n",
    "print(extract_data(f, 'T_dead_time'))"
   ]
  },
  {
   "cell_type": "markdown",
   "metadata": {},
   "source": [
    "The matlab files are inverted to generate water content profiles using the GMR inversion software. I won't go into this process but it includes a command line interface allowing batch inversion given a csv file input. The inversions also accept a conductivity profile as an input which are derived from the AEM inversion.\n",
    "\n",
    "I created my own spatialite database for ease of accesssing the data. The process for creating this databse is describe dhere:\n",
    "\n",
    "https://github.com/Neil-Symington/hydrogeol_utils/blob/Neil_dev/notebooks/create_SNMR_spatialite-db.ipynb\n"
   ]
  },
  {
   "cell_type": "code",
   "execution_count": 9,
   "metadata": {},
   "outputs": [],
   "source": [
    "# Lets explore the database\n",
    "\n",
    "# Connect to the SNMR database\n",
    "\n",
    "DB_PATH = r\"\\\\prod.lan\\active\\proj\\futurex\\East_Kimberley\\Data\\Processed\\Geophysics\\NMR\\SNMR\\East_Kimberley_SNMR.sqlite\"\n",
    "        \n",
    "engine = db.create_engine('sqlite:///' + DB_PATH, module=sqlite)\n",
    "\n",
    "connection = engine.connect()"
   ]
  },
  {
   "cell_type": "code",
   "execution_count": 10,
   "metadata": {},
   "outputs": [
    {
     "name": "stdout",
     "output_type": "stream",
     "text": [
      "['ElementaryGeometries', 'KNN', 'SpatialIndex', 'acquisitions', 'data_licenses', 'geometry_columns', 'geometry_columns_auth', 'geometry_columns_field_infos', 'geometry_columns_statistics', 'geometry_columns_time', 'inverse_model_metadata', 'inverse_models', 'sites', 'spatial_ref_sys', 'spatial_ref_sys_aux', 'spatialite_history', 'sql_statements_log', 'sqlite_sequence', 'views_geometry_columns', 'views_geometry_columns_auth', 'views_geometry_columns_field_infos', 'views_geometry_columns_statistics', 'virts_geometry_columns', 'virts_geometry_columns_auth', 'virts_geometry_columns_field_infos', 'virts_geometry_columns_statistics']\n"
     ]
    }
   ],
   "source": [
    "# Let have a look at the tables\n",
    "print(engine.table_names())"
   ]
  },
  {
   "cell_type": "code",
   "execution_count": 12,
   "metadata": {},
   "outputs": [
    {
     "name": "stdout",
     "output_type": "stream",
     "text": [
      "              Field_ID       Site_Code       mid_X        mid_Y  \\\n",
      "site_id                                                           \n",
      "0             MillProf  EKSNMR16091601  466505.910  8316696.170   \n",
      "1        saltflats_st1  EKSNMR16091701  468448.666  8354121.638   \n",
      "\n",
      "         declination_angle  inclination_angle        date  loop_width  \\\n",
      "site_id                                                                 \n",
      "0                      0.0              -43.7  2016-09-16       100.0   \n",
      "1                      0.0              -43.7  2016-09-17       100.0   \n",
      "\n",
      "        coil_type                                           geometry  \\\n",
      "site_id                                                                \n",
      "0          square  POLYGON ((466296.2798914838 8316647.306548808,...   \n",
      "1          square  POLYGON ((468500.9411914838 8354169.254548808,...   \n",
      "\n",
      "                                                      geom  \n",
      "site_id                                                     \n",
      "0        b'\\x00\\x01\\xc0n\\x00\\x00\\x1e\\x91\\xa1\\xeb>t\\x1cA...  \n",
      "1        b'\\x00\\x01\\xc0n\\x00\\x00\\xe2d\\xcd\\x90\\xb1\\x96\\x...  \n"
     ]
    }
   ],
   "source": [
    "# The key tables holding the important data are the following\n",
    "\n",
    "# The sites table contains metadata to each site\n",
    "\n",
    "df_sites = pd.read_sql('SELECT * from sites;', connection, index_col = 'site_id')\n",
    "\n",
    "print(df_sites.head(2))"
   ]
  },
  {
   "cell_type": "code",
   "execution_count": 13,
   "metadata": {
    "scrolled": true
   },
   "outputs": [
    {
     "data": {
      "image/svg+xml": [
       "<svg xmlns=\"http://www.w3.org/2000/svg\" xmlns:xlink=\"http://www.w3.org/1999/xlink\" width=\"112.91376560501521\" height=\"112.91376560367644\" viewBox=\"466187.54811719747 8316543.233117199 112.91376560501521 112.91376560367644\" preserveAspectRatio=\"xMinYMin meet\"><g transform=\"matrix(1,0,0,-1,0,16633199.38)\"><path fill-rule=\"evenodd\" fill=\"#66cc99\" stroke=\"#555555\" stroke-width=\"2.0\" opacity=\"0.6\" d=\"M 466296.2798914838,8316647.306548808 L 466291.6215488077,8316547.415108517 L 466191.7301085162,8316552.073451193 L 466196.3884511923,8316651.964891484 L 466296.2798914838,8316647.306548808 z\" /></g></svg>"
      ],
      "text/plain": [
       "<shapely.geometry.polygon.Polygon at 0x4b9e550>"
      ]
     },
     "execution_count": 13,
     "metadata": {},
     "output_type": "execute_result"
    }
   ],
   "source": [
    "# The geometry column is a wkt polygon, which denotes the geomtry of\n",
    "# the coil (almost always a square)\n",
    "\n",
    "wkt_poly = wkt.loads(df_sites.iloc[0].geometry)\n",
    "\n",
    "wkt_poly\n",
    "\n",
    "# There is also a wkb column that is used by spatialite"
   ]
  },
  {
   "cell_type": "code",
   "execution_count": 14,
   "metadata": {},
   "outputs": [
    {
     "data": {
      "text/html": [
       "<div>\n",
       "<style scoped>\n",
       "    .dataframe tbody tr th:only-of-type {\n",
       "        vertical-align: middle;\n",
       "    }\n",
       "\n",
       "    .dataframe tbody tr th {\n",
       "        vertical-align: top;\n",
       "    }\n",
       "\n",
       "    .dataframe thead th {\n",
       "        text-align: right;\n",
       "    }\n",
       "</style>\n",
       "<table border=\"1\" class=\"dataframe\">\n",
       "  <thead>\n",
       "    <tr style=\"text-align: right;\">\n",
       "      <th></th>\n",
       "      <th>pulse_sequence</th>\n",
       "      <th>pulse_length</th>\n",
       "      <th>site_id</th>\n",
       "    </tr>\n",
       "    <tr>\n",
       "      <th>acquisition_id</th>\n",
       "      <th></th>\n",
       "      <th></th>\n",
       "      <th></th>\n",
       "    </tr>\n",
       "  </thead>\n",
       "  <tbody>\n",
       "    <tr>\n",
       "      <th>0</th>\n",
       "      <td>FID</td>\n",
       "      <td>40.0</td>\n",
       "      <td>0</td>\n",
       "    </tr>\n",
       "    <tr>\n",
       "      <th>1</th>\n",
       "      <td>CPMG</td>\n",
       "      <td>20.0</td>\n",
       "      <td>0</td>\n",
       "    </tr>\n",
       "    <tr>\n",
       "      <th>2</th>\n",
       "      <td>FID</td>\n",
       "      <td>40.0</td>\n",
       "      <td>1</td>\n",
       "    </tr>\n",
       "    <tr>\n",
       "      <th>3</th>\n",
       "      <td>FID</td>\n",
       "      <td>40.0</td>\n",
       "      <td>2</td>\n",
       "    </tr>\n",
       "    <tr>\n",
       "      <th>4</th>\n",
       "      <td>CPMG</td>\n",
       "      <td>10.0</td>\n",
       "      <td>2</td>\n",
       "    </tr>\n",
       "    <tr>\n",
       "      <th>5</th>\n",
       "      <td>FID</td>\n",
       "      <td>40.0</td>\n",
       "      <td>3</td>\n",
       "    </tr>\n",
       "    <tr>\n",
       "      <th>6</th>\n",
       "      <td>CPMG</td>\n",
       "      <td>10.0</td>\n",
       "      <td>3</td>\n",
       "    </tr>\n",
       "    <tr>\n",
       "      <th>7</th>\n",
       "      <td>FID</td>\n",
       "      <td>40.0</td>\n",
       "      <td>4</td>\n",
       "    </tr>\n",
       "    <tr>\n",
       "      <th>8</th>\n",
       "      <td>CPMG</td>\n",
       "      <td>10.0</td>\n",
       "      <td>4</td>\n",
       "    </tr>\n",
       "    <tr>\n",
       "      <th>9</th>\n",
       "      <td>FID</td>\n",
       "      <td>40.0</td>\n",
       "      <td>5</td>\n",
       "    </tr>\n",
       "  </tbody>\n",
       "</table>\n",
       "</div>"
      ],
      "text/plain": [
       "               pulse_sequence  pulse_length  site_id\n",
       "acquisition_id                                      \n",
       "0                         FID          40.0        0\n",
       "1                        CPMG          20.0        0\n",
       "2                         FID          40.0        1\n",
       "3                         FID          40.0        2\n",
       "4                        CPMG          10.0        2\n",
       "5                         FID          40.0        3\n",
       "6                        CPMG          10.0        3\n",
       "7                         FID          40.0        4\n",
       "8                        CPMG          10.0        4\n",
       "9                         FID          40.0        5"
      ]
     },
     "execution_count": 14,
     "metadata": {},
     "output_type": "execute_result"
    }
   ],
   "source": [
    "# Now lets look at the acquisition table which contains metadata relating to \n",
    "# acquisitions. As there were often more than one acquisition at each site\n",
    "# the relationship with sites is many to one\n",
    "\n",
    "df_acquisition = pd.read_sql('SELECT * from acquisitions;', connection,\n",
    "                             index_col = 'acquisition_id')\n",
    "df_acquisition.head(10)\n"
   ]
  },
  {
   "cell_type": "code",
   "execution_count": 101,
   "metadata": {},
   "outputs": [
    {
     "data": {
      "text/plain": [
       "(143,)"
      ]
     },
     "execution_count": 101,
     "metadata": {},
     "output_type": "execute_result"
    }
   ],
   "source": [
    "tuple(sid)"
   ]
  },
  {
   "cell_type": "code",
   "execution_count": 138,
   "metadata": {},
   "outputs": [
    {
     "data": {
      "text/html": [
       "<div>\n",
       "<style scoped>\n",
       "    .dataframe tbody tr th:only-of-type {\n",
       "        vertical-align: middle;\n",
       "    }\n",
       "\n",
       "    .dataframe tbody tr th {\n",
       "        vertical-align: top;\n",
       "    }\n",
       "\n",
       "    .dataframe thead th {\n",
       "        text-align: right;\n",
       "    }\n",
       "</style>\n",
       "<table border=\"1\" class=\"dataframe\">\n",
       "  <thead>\n",
       "    <tr style=\"text-align: right;\">\n",
       "      <th></th>\n",
       "      <th>acquisition_id</th>\n",
       "      <th>pulse_sequence</th>\n",
       "      <th>pulse_length</th>\n",
       "      <th>site_id</th>\n",
       "      <th>table_id</th>\n",
       "      <th>Depth_from</th>\n",
       "      <th>Depth_to</th>\n",
       "      <th>Mobile_water_content</th>\n",
       "      <th>Bound_water_content</th>\n",
       "      <th>Total_water_content</th>\n",
       "      <th>T1</th>\n",
       "      <th>T2</th>\n",
       "      <th>T2*</th>\n",
       "      <th>frequency</th>\n",
       "      <th>phase</th>\n",
       "      <th>site_id</th>\n",
       "      <th>acquisition_id</th>\n",
       "      <th>inversion_id</th>\n",
       "    </tr>\n",
       "  </thead>\n",
       "  <tbody>\n",
       "    <tr>\n",
       "      <th>0</th>\n",
       "      <td>258</td>\n",
       "      <td>FID</td>\n",
       "      <td>60.0</td>\n",
       "      <td>143</td>\n",
       "      <td>12700</td>\n",
       "      <td>0.414881</td>\n",
       "      <td>0.596031</td>\n",
       "      <td>0.001025</td>\n",
       "      <td>0.000000</td>\n",
       "      <td>0.001025</td>\n",
       "      <td>NaN</td>\n",
       "      <td>None</td>\n",
       "      <td>0.341667</td>\n",
       "      <td>2043.3159</td>\n",
       "      <td>0.745765</td>\n",
       "      <td>143</td>\n",
       "      <td>258</td>\n",
       "      <td>254</td>\n",
       "    </tr>\n",
       "    <tr>\n",
       "      <th>1</th>\n",
       "      <td>258</td>\n",
       "      <td>FID</td>\n",
       "      <td>60.0</td>\n",
       "      <td>143</td>\n",
       "      <td>12701</td>\n",
       "      <td>0.596031</td>\n",
       "      <td>0.823463</td>\n",
       "      <td>0.002670</td>\n",
       "      <td>0.001929</td>\n",
       "      <td>0.004599</td>\n",
       "      <td>NaN</td>\n",
       "      <td>None</td>\n",
       "      <td>0.251748</td>\n",
       "      <td>2043.1935</td>\n",
       "      <td>3.712982</td>\n",
       "      <td>143</td>\n",
       "      <td>258</td>\n",
       "      <td>254</td>\n",
       "    </tr>\n",
       "    <tr>\n",
       "      <th>2</th>\n",
       "      <td>258</td>\n",
       "      <td>FID</td>\n",
       "      <td>60.0</td>\n",
       "      <td>143</td>\n",
       "      <td>12702</td>\n",
       "      <td>0.823463</td>\n",
       "      <td>1.102440</td>\n",
       "      <td>0.002706</td>\n",
       "      <td>0.000000</td>\n",
       "      <td>0.002706</td>\n",
       "      <td>NaN</td>\n",
       "      <td>None</td>\n",
       "      <td>0.309719</td>\n",
       "      <td>2043.2415</td>\n",
       "      <td>3.674753</td>\n",
       "      <td>143</td>\n",
       "      <td>258</td>\n",
       "      <td>254</td>\n",
       "    </tr>\n",
       "    <tr>\n",
       "      <th>3</th>\n",
       "      <td>258</td>\n",
       "      <td>FID</td>\n",
       "      <td>60.0</td>\n",
       "      <td>143</td>\n",
       "      <td>12703</td>\n",
       "      <td>1.102440</td>\n",
       "      <td>1.438227</td>\n",
       "      <td>0.003472</td>\n",
       "      <td>0.003102</td>\n",
       "      <td>0.006574</td>\n",
       "      <td>NaN</td>\n",
       "      <td>None</td>\n",
       "      <td>0.293932</td>\n",
       "      <td>2042.9784</td>\n",
       "      <td>0.623540</td>\n",
       "      <td>143</td>\n",
       "      <td>258</td>\n",
       "      <td>254</td>\n",
       "    </tr>\n",
       "    <tr>\n",
       "      <th>4</th>\n",
       "      <td>258</td>\n",
       "      <td>FID</td>\n",
       "      <td>60.0</td>\n",
       "      <td>143</td>\n",
       "      <td>12704</td>\n",
       "      <td>1.438227</td>\n",
       "      <td>1.836089</td>\n",
       "      <td>0.000924</td>\n",
       "      <td>0.000000</td>\n",
       "      <td>0.000924</td>\n",
       "      <td>NaN</td>\n",
       "      <td>None</td>\n",
       "      <td>0.262528</td>\n",
       "      <td>2043.4918</td>\n",
       "      <td>4.867124</td>\n",
       "      <td>143</td>\n",
       "      <td>258</td>\n",
       "      <td>254</td>\n",
       "    </tr>\n",
       "    <tr>\n",
       "      <th>5</th>\n",
       "      <td>258</td>\n",
       "      <td>FID</td>\n",
       "      <td>60.0</td>\n",
       "      <td>143</td>\n",
       "      <td>12705</td>\n",
       "      <td>1.836089</td>\n",
       "      <td>2.301292</td>\n",
       "      <td>0.000724</td>\n",
       "      <td>0.000000</td>\n",
       "      <td>0.000724</td>\n",
       "      <td>NaN</td>\n",
       "      <td>None</td>\n",
       "      <td>0.184252</td>\n",
       "      <td>2043.5651</td>\n",
       "      <td>4.826270</td>\n",
       "      <td>143</td>\n",
       "      <td>258</td>\n",
       "      <td>254</td>\n",
       "    </tr>\n",
       "    <tr>\n",
       "      <th>6</th>\n",
       "      <td>258</td>\n",
       "      <td>FID</td>\n",
       "      <td>60.0</td>\n",
       "      <td>143</td>\n",
       "      <td>12706</td>\n",
       "      <td>2.301292</td>\n",
       "      <td>2.839100</td>\n",
       "      <td>0.001424</td>\n",
       "      <td>0.004348</td>\n",
       "      <td>0.005772</td>\n",
       "      <td>NaN</td>\n",
       "      <td>None</td>\n",
       "      <td>0.443600</td>\n",
       "      <td>2042.9411</td>\n",
       "      <td>4.161983</td>\n",
       "      <td>143</td>\n",
       "      <td>258</td>\n",
       "      <td>254</td>\n",
       "    </tr>\n",
       "    <tr>\n",
       "      <th>7</th>\n",
       "      <td>258</td>\n",
       "      <td>FID</td>\n",
       "      <td>60.0</td>\n",
       "      <td>143</td>\n",
       "      <td>12707</td>\n",
       "      <td>2.839100</td>\n",
       "      <td>3.454777</td>\n",
       "      <td>0.004209</td>\n",
       "      <td>0.000263</td>\n",
       "      <td>0.004472</td>\n",
       "      <td>NaN</td>\n",
       "      <td>None</td>\n",
       "      <td>0.192949</td>\n",
       "      <td>2043.3138</td>\n",
       "      <td>3.635841</td>\n",
       "      <td>143</td>\n",
       "      <td>258</td>\n",
       "      <td>254</td>\n",
       "    </tr>\n",
       "    <tr>\n",
       "      <th>8</th>\n",
       "      <td>258</td>\n",
       "      <td>FID</td>\n",
       "      <td>60.0</td>\n",
       "      <td>143</td>\n",
       "      <td>12708</td>\n",
       "      <td>3.454777</td>\n",
       "      <td>4.153590</td>\n",
       "      <td>0.001302</td>\n",
       "      <td>0.000000</td>\n",
       "      <td>0.001302</td>\n",
       "      <td>NaN</td>\n",
       "      <td>None</td>\n",
       "      <td>0.068064</td>\n",
       "      <td>2034.7860</td>\n",
       "      <td>1.723726</td>\n",
       "      <td>143</td>\n",
       "      <td>258</td>\n",
       "      <td>254</td>\n",
       "    </tr>\n",
       "    <tr>\n",
       "      <th>9</th>\n",
       "      <td>258</td>\n",
       "      <td>FID</td>\n",
       "      <td>60.0</td>\n",
       "      <td>143</td>\n",
       "      <td>12709</td>\n",
       "      <td>4.153590</td>\n",
       "      <td>4.940802</td>\n",
       "      <td>0.008786</td>\n",
       "      <td>0.005078</td>\n",
       "      <td>0.013864</td>\n",
       "      <td>NaN</td>\n",
       "      <td>None</td>\n",
       "      <td>0.294046</td>\n",
       "      <td>2043.1300</td>\n",
       "      <td>1.028823</td>\n",
       "      <td>143</td>\n",
       "      <td>258</td>\n",
       "      <td>254</td>\n",
       "    </tr>\n",
       "  </tbody>\n",
       "</table>\n",
       "</div>"
      ],
      "text/plain": [
       "   acquisition_id pulse_sequence  pulse_length  site_id  table_id  Depth_from  \\\n",
       "0             258            FID          60.0      143     12700    0.414881   \n",
       "1             258            FID          60.0      143     12701    0.596031   \n",
       "2             258            FID          60.0      143     12702    0.823463   \n",
       "3             258            FID          60.0      143     12703    1.102440   \n",
       "4             258            FID          60.0      143     12704    1.438227   \n",
       "5             258            FID          60.0      143     12705    1.836089   \n",
       "6             258            FID          60.0      143     12706    2.301292   \n",
       "7             258            FID          60.0      143     12707    2.839100   \n",
       "8             258            FID          60.0      143     12708    3.454777   \n",
       "9             258            FID          60.0      143     12709    4.153590   \n",
       "\n",
       "   Depth_to  Mobile_water_content  Bound_water_content  Total_water_content  \\\n",
       "0  0.596031              0.001025             0.000000             0.001025   \n",
       "1  0.823463              0.002670             0.001929             0.004599   \n",
       "2  1.102440              0.002706             0.000000             0.002706   \n",
       "3  1.438227              0.003472             0.003102             0.006574   \n",
       "4  1.836089              0.000924             0.000000             0.000924   \n",
       "5  2.301292              0.000724             0.000000             0.000724   \n",
       "6  2.839100              0.001424             0.004348             0.005772   \n",
       "7  3.454777              0.004209             0.000263             0.004472   \n",
       "8  4.153590              0.001302             0.000000             0.001302   \n",
       "9  4.940802              0.008786             0.005078             0.013864   \n",
       "\n",
       "   T1    T2       T2*  frequency     phase  site_id  acquisition_id  \\\n",
       "0 NaN  None  0.341667  2043.3159  0.745765      143             258   \n",
       "1 NaN  None  0.251748  2043.1935  3.712982      143             258   \n",
       "2 NaN  None  0.309719  2043.2415  3.674753      143             258   \n",
       "3 NaN  None  0.293932  2042.9784  0.623540      143             258   \n",
       "4 NaN  None  0.262528  2043.4918  4.867124      143             258   \n",
       "5 NaN  None  0.184252  2043.5651  4.826270      143             258   \n",
       "6 NaN  None  0.443600  2042.9411  4.161983      143             258   \n",
       "7 NaN  None  0.192949  2043.3138  3.635841      143             258   \n",
       "8 NaN  None  0.068064  2034.7860  1.723726      143             258   \n",
       "9 NaN  None  0.294046  2043.1300  1.028823      143             258   \n",
       "\n",
       "   inversion_id  \n",
       "0           254  \n",
       "1           254  \n",
       "2           254  \n",
       "3           254  \n",
       "4           254  \n",
       "5           254  \n",
       "6           254  \n",
       "7           254  \n",
       "8           254  \n",
       "9           254  "
      ]
     },
     "execution_count": 138,
     "metadata": {},
     "output_type": "execute_result"
    }
   ],
   "source": [
    "# The inversion data is kept in a large table that is related to the acquisitons\n",
    "# Here we join it to acquisitions for site OB18_30\n",
    "\n",
    "# Find the site_id\n",
    "mask = df_sites['Field_ID'] == \"OB18_30\"\n",
    "sid = df_sites[mask].index\n",
    "\n",
    "\n",
    "query = \"SELECT a.*, i.* FROM acquisitions as a JOIN inverse_models as i on a.acquisition_id=i.acquisition_id WHERE a.site_id = ?;\"\n",
    "\n",
    "df_inversions = pd.read_sql_query(query, connection,\n",
    "                                 params=tuple(sid))\n",
    "\n",
    "df_inversions.head(10)\n"
   ]
  },
  {
   "cell_type": "code",
   "execution_count": 153,
   "metadata": {},
   "outputs": [
    {
     "name": "stdout",
     "output_type": "stream",
     "text": [
      "(254, 255)\n",
      "   inversion_id  Depth_of_Investigation  reg_factor  conductive_earth_model  \\\n",
      "0           254               92.802041        0.02                       1   \n",
      "1           255               81.518669        0.02                       1   \n",
      "\n",
      "          Inversion_software  acquisition_id  \n",
      "0  GMRInversion1D_CLI_v2.7.3             258  \n",
      "1  GMRInversion1D_CLI_v2.7.3             259  \n"
     ]
    }
   ],
   "source": [
    "# We also have an inversion metadata table, here I will pull out the metadata for \n",
    "# the inversion above\n",
    "\n",
    "# Find the site_id\n",
    "\n",
    "inv_id = df_inversions.inversion_id.unique()\n",
    "\n",
    "query = \"SELECT * FROM inverse_model_metadata i WHERE i.inversion_id in ({});\"\n",
    "\n",
    "placeholder= '?' # For SQLite. See DBAPI paramstyle.\n",
    "placeholders= ', '.join(placeholder * len(inv_id))\n",
    "\n",
    "query = query.format(placeholders)\n",
    "\n",
    "params = tuple(inv_id)\n",
    "\n",
    "print(params)\n",
    "\n",
    "# A bug means I cannot pass params but I can pass (254,255)\n",
    "df_inversion_metadata = pd.read_sql_query(query, connection,\n",
    "                                          params=(254,255))\n",
    "\n",
    "print(df_inversion_metadata)"
   ]
  },
  {
   "cell_type": "code",
   "execution_count": 162,
   "metadata": {},
   "outputs": [
    {
     "data": {
      "image/png": "[encoded data removed]",
      "text/plain": [
       "<matplotlib.figure.Figure at 0x9b2cf98>"
      ]
     },
     "metadata": {},
     "output_type": "display_data"
    }
   ],
   "source": [
    "# Finally lets plot an inversion\n",
    "\n",
    "fig, ax1 = plt.subplots(1,1, sharey=True, figsize = (4,4))\n",
    "\n",
    "ax1 = SNMR_utils.plot_profile(ax1, df_inversions[df_inversions['inversion_id']==inv_id[0]],\n",
    "                              doi = df_inversion_metadata[df_inversion_metadata['inversion_id']==\n",
    "                                                         inv_id[0]]['Depth_of_Investigation'].values)\n",
    "\n",
    "plt.gca().invert_yaxis()\n",
    "plt.show()"
   ]
  }
 ],
 "metadata": {
  "kernelspec": {
   "display_name": "Python 3",
   "language": "python",
   "name": "python3"
  },
  "language_info": {
   "codemirror_mode": {
    "name": "ipython",
    "version": 3
   },
   "file_extension": ".py",
   "mimetype": "text/x-python",
   "name": "python",
   "nbconvert_exporter": "python",
   "pygments_lexer": "ipython3",
   "version": "3.6.3"
  }
 },
 "nbformat": 4,
 "nbformat_minor": 2
}
