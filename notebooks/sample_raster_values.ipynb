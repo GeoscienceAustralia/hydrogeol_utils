{
 "cells": [
  {
   "cell_type": "markdown",
   "metadata": {},
   "source": [
    "A notebook demonstrating sampling elevations using a number of rasters. This is in essence replacing some common ArcGIS tools\n",
    "\n",
    "Neil Symington\n",
    "neil.symington@ga.gov.au\n"
   ]
  },
  {
   "cell_type": "code",
   "execution_count": 1,
   "metadata": {},
   "outputs": [],
   "source": [
    "from sqlite3 import dbapi2 as sqlite\n",
    "import pandas as pd\n",
    "import fiona\n",
    "from shapely.geometry import Polygon, shape\n",
    "from shapely import wkt\n",
    "import numpy as np\n",
    "from hydrogeol_utils import spatial_functions, SNMR_utils\n",
    "from geophys_utils._netcdf_point_utils import NetCDFPointUtils\n",
    "import matplotlib.pyplot as plt\n",
    "import os\n",
    "import math\n",
    "import sqlalchemy as db\n",
    "from sqlalchemy import create_engine, event\n",
    "\n",
    "import rasterio\n"
   ]
  },
  {
   "cell_type": "code",
   "execution_count": 15,
   "metadata": {},
   "outputs": [],
   "source": [
    "# First open the SNMR database\n",
    "\n",
    "# Our next tak is to bring the SNMR data in \n",
    "\n",
    "# Connect to the SNMR database\n",
    "\n",
    "# Now we want to know the screened interval and other spatial information so we open up the \n",
    "# borehole database\n",
    "\n",
    "\n",
    "SPATIALITE_PATH = r'C:\\mod_spatialite-4.3.0a-win-amd64'\n",
    "\n",
    "# Add spatialite dll to path\n",
    "os.environ['PATH'] = SPATIALITE_PATH + ';' + os.environ['PATH']\n",
    "\n",
    "\n",
    "DB_PATH = r\"\\\\prod.lan\\active\\proj\\futurex\\East_Kimberley\\Data\\Processed\\Geophysics\\NMR\\SNMR\\East_Kimberley_SNMR.sqlite\"\n",
    "        \n",
    "engine = db.create_engine('sqlite:///' + DB_PATH, module=sqlite)\n",
    "\n",
    "@event.listens_for(engine, 'connect')\n",
    "def connect(dbapi_connection, connection_rec):\n",
    "    dbapi_connection.enable_load_extension(True)\n",
    "    dbapi_connection.execute('SELECT load_extension(\"mod_spatialite\")')\n",
    "\n",
    "\n",
    "connection = engine.connect()\n",
    "\n",
    "query = \"\"\"\n",
    "\n",
    "SELECT\n",
    "              s.*\n",
    "              \n",
    "FROM \n",
    "\n",
    "             sites as s\n",
    "             ;\"\"\"\n",
    "\n",
    "df_sites = pd.read_sql_query(query, connection, index_col = 'site_id')\n",
    "\n",
    "# Add an elevation column\n",
    "\n",
    "df_sites['elevation_mAHD'] = np.nan"
   ]
  },
  {
   "cell_type": "code",
   "execution_count": 16,
   "metadata": {},
   "outputs": [],
   "source": [
    "# Define our elevation rasters\n",
    "\n",
    "lid_10m = r\"\\\\prod.lan\\active\\proj\\futurex\\East_Kimberley\\Working\\SharedWorkspace\\LiDAR\\LiDAR_final\\EK_LiDAR_cubic_10x10.tif\"\n",
    "\n",
    "srtm = r\"\\\\prod.lan\\active\\proj\\futurex\\East_Kimberley\\Data\\Processed\\ElevationDepth\\Elevation\\DEM_1sec\\demh1sv1ek_z52.tif\""
   ]
  },
  {
   "cell_type": "code",
   "execution_count": 17,
   "metadata": {},
   "outputs": [],
   "source": [
    "lid_src = rasterio.open(lid_10m)\n",
    "\n",
    "srtm_src = rasterio.open(srtm)\n",
    "\n",
    "lid_bounds = lid_src.bounds\n",
    "\n",
    "srtm_bounds = srtm_src.bounds"
   ]
  },
  {
   "cell_type": "code",
   "execution_count": 18,
   "metadata": {},
   "outputs": [],
   "source": [
    "# Iterate through the sites and add the raster value to the dataframe\n",
    "# if it is within the extent of the raster\n",
    "for index, row in df_sites.iterrows():\n",
    "    # get the coords\n",
    "    x, y = row.mid_X, row.mid_Y\n",
    "    # Check lidar\n",
    "    if spatial_functions.point_within_bounds(x,y, lid_bounds):\n",
    "        \n",
    "        elev = next(lid_src.sample(np.array([[x,y]])))[0]\n",
    "        \n",
    "        df_sites.at[index, 'elevation_mAHD'] = elev\n",
    "    # Check srtm\n",
    "    elif spatial_functions.point_within_bounds(x,y, srtm_bounds):\n",
    "        \n",
    "        elev = next(srtm_src.sample(np.array([[x,y]])))[0]\n",
    "        \n",
    "        df_sites.at[index, 'elevation_mAHD'] = elev\n",
    "    # Otherwise print for further investigation\n",
    "    else:\n",
    "        print(row)\n",
    "    # TO protect against nulls we will make all < -10 mAHD values nan\n",
    "    if elev < -10:\n",
    "        df_sites.at[index, 'elevation_mAHD'] = np.nan\n",
    "        "
   ]
  },
  {
   "cell_type": "code",
   "execution_count": null,
   "metadata": {},
   "outputs": [],
   "source": []
  }
 ],
 "metadata": {
  "kernelspec": {
   "display_name": "Python 3",
   "language": "python",
   "name": "python3"
  },
  "language_info": {
   "codemirror_mode": {
    "name": "ipython",
    "version": 3
   },
   "file_extension": ".py",
   "mimetype": "text/x-python",
   "name": "python",
   "nbconvert_exporter": "python",
   "pygments_lexer": "ipython3",
   "version": "3.6.3"
  }
 },
 "nbformat": 4,
 "nbformat_minor": 2
}
