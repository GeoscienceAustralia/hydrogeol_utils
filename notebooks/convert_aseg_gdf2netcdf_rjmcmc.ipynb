{
 "cells": [
  {
   "cell_type": "markdown",
   "metadata": {},
   "source": [
    "This notebook demonstrates the conversion of AEM data from aseg-gdf format to netCDF format\n",
    "\n",
    "Neil Symington\n",
    "neil.symington@ga.gov.au"
   ]
  },
  {
   "cell_type": "code",
   "execution_count": 1,
   "metadata": {},
   "outputs": [
    {
     "name": "stderr",
     "output_type": "stream",
     "text": [
      "DEBUG:root:test\n",
      "DEBUG:matplotlib.pyplot:Loaded backend module://ipykernel.pylab.backend_inline version unknown.\n"
     ]
    }
   ],
   "source": [
    "%matplotlib inline\n",
    "\n",
    "from geophys_utils.netcdf_converter import aseg_gdf2netcdf_converter\n",
    "from geophys_utils.netcdf_converter.aseg_gdf_utils import aseg_gdf_format2dtype\n",
    "from scipy.io import loadmat\n",
    "import netCDF4\n",
    "import os, math\n",
    "import numpy as np\n",
    "import matplotlib.pyplot as plt\n",
    "# SO we can see the logging. This enables us to debug\n",
    "import gc\n",
    "import pandas as pd\n",
    "import logging\n",
    "logger = logging.getLogger()\n",
    "logger.setLevel(logging.DEBUG)\n",
    "logging.debug(\"test\")\n",
    "import importlib"
   ]
  },
  {
   "cell_type": "code",
   "execution_count": 9,
   "metadata": {},
   "outputs": [],
   "source": [
    "def extract_pmap_info(D):\n",
    "    \"\"\"\n",
    "    @param: D: python dictionary from loadmat function in scipy\n",
    "    \n",
    "    returns\n",
    "    a more usebal dictionary\n",
    "    \"\"\"\n",
    "\n",
    "    freq = D['M']['f'][0,0]\n",
    "\n",
    "\n",
    "    # Get the changepoint histogram\n",
    "\n",
    "    cp = D['M']['cp'][0,0].flatten()\n",
    "\n",
    "    cond_cells = np.linspace(D['M']['vmin'][0,0][0,0], D['M']['vmax'][0,0][0,0], D['M']['nvcells'][0,0][0,0])\n",
    "    \n",
    "    laybins = D['M']['lhist'][0,0][0,0][1].flatten()\n",
    "    lay_prob = D['M']['lhist'][0,0][0,0][2].flatten()\n",
    "\n",
    "    nsample = D['M']['nsample'][0,0][0,0]\n",
    "\n",
    "    ndata = int(D['M']['ndata'][0,0][0,0])\n",
    "    nsamples = np.int(D['M']['nsample'][0,0][0,0])\n",
    "    \n",
    "    misfit = []\n",
    "    sample_no = []\n",
    "   \n",
    "    for i in range(nchains):\n",
    "        misfit.append(D['M']['conv'][0,0]['misfit'][0,i].flatten())\n",
    "        sample_no.append(D['M']['conv'][0,0]['sample'][0,i].flatten())\n",
    "        \n",
    "    \n",
    "    return {'conductivity_pmap': freq, \"change_point_pmap\": cp, 'nlayer_bins': laybins, \n",
    "            'nlayer_prob': lay_prob, 'nsamples': nsample, 'ndata': ndata, 'misfit': np.array(misfit),\n",
    "           'sample_no': np.array(sample_no), 'ndata': ndata}"
   ]
  },
  {
   "cell_type": "code",
   "execution_count": 3,
   "metadata": {},
   "outputs": [],
   "source": [
    "\n",
    "root = r\"C:\\Users\\PCUser\\Desktop\\NSC_data\\data\\AEM\\HE\\garjmcmc\\combined\"\n",
    "nc_out_path = os.path.join(root, \"HE_rjmcmc_.nc\")\n",
    "\n",
    "dat_in_path = os.path.join(root, 'rjmcmc.dat')\n",
    "\n",
    "\n",
    "dfn_in_path = os.path.join(root, 'rjmcmc.dfn')\n",
    "\n",
    "\n",
    "crs_string = \"EPSG:28352\""
   ]
  },
  {
   "cell_type": "code",
   "execution_count": 4,
   "metadata": {
    "scrolled": true
   },
   "outputs": [
    {
     "name": "stderr",
     "output_type": "stream",
     "text": [
      "INFO:geophys_utils.netcdf_converter.aseg_gdf2netcdf_converter:Reading definitions file C:\\Users\\PCUser\\Desktop\\NSC_data\\data\\AEM\\HE\\garjmcmc\\combined\\rjmcmc.dfn\n",
      "INFO:geophys_utils.netcdf_converter.aseg_gdf2netcdf_converter:Reading data file C:\\Users\\PCUser\\Desktop\\NSC_data\\data\\AEM\\HE\\garjmcmc\\combined\\rjmcmc.dat\n"
     ]
    },
    {
     "name": "stdout",
     "output_type": "stream",
     "text": [
      "[{'short_name': 'comments', 'format': 'A4', 'long_name': 'COMMENTS', 'dtype': '<U4', 'columns': 1, 'width_specifier': 4, 'decimal_places': 0, 'variable_attributes': {'aseg_gdf_format': 'A4'}}, {'short_name': 'uniqueid', 'format': 'I12', 'long_name': 'Inversion sequence number', 'dtype': 'int64', 'columns': 1, 'width_specifier': 12, 'decimal_places': 0, 'variable_attributes': {'aseg_gdf_format': 'I12'}}, {'short_name': 'survey', 'format': 'I12', 'long_name': 'Survey number', 'dtype': 'int64', 'columns': 1, 'width_specifier': 12, 'decimal_places': 0, 'variable_attributes': {'aseg_gdf_format': 'I12'}}, {'short_name': 'date', 'format': 'I12', 'long_name': 'Date number', 'dtype': 'int64', 'columns': 1, 'width_specifier': 12, 'decimal_places': 0, 'variable_attributes': {'aseg_gdf_format': 'I12'}}, {'short_name': 'flight', 'format': 'I12', 'long_name': 'Flight number', 'dtype': 'int64', 'columns': 1, 'width_specifier': 12, 'decimal_places': 0, 'variable_attributes': {'aseg_gdf_format': 'I12'}}, {'short_name': 'line', 'format': 'I12', 'long_name': 'Line number', 'dtype': 'int64', 'columns': 1, 'width_specifier': 12, 'decimal_places': 0, 'variable_attributes': {'aseg_gdf_format': 'I12'}}, {'short_name': 'fiducial', 'format': 'F12.2', 'long_name': 'Fiducial number', 'dtype': 'float64', 'columns': 1, 'width_specifier': 12, 'decimal_places': 2, 'variable_attributes': {'aseg_gdf_format': 'F12.2'}}, {'short_name': 'easting', 'format': 'F9.1', 'long_name': 'IntrepidX', 'dtype': 'float32', 'columns': 1, 'width_specifier': 9, 'decimal_places': 1, 'units': 'm', 'variable_attributes': {'aseg_gdf_format': 'F9.1'}}, {'short_name': 'northing', 'format': 'F10.1', 'long_name': 'IntrepidY', 'dtype': 'float64', 'columns': 1, 'width_specifier': 10, 'decimal_places': 1, 'units': 'm', 'variable_attributes': {'aseg_gdf_format': 'F10.1'}}, {'short_name': 'elevation', 'format': 'F10.2', 'long_name': 'Ground elevation relative to sea-level', 'dtype': 'float64', 'columns': 1, 'width_specifier': 10, 'decimal_places': 2, 'units': 'm', 'variable_attributes': {'aseg_gdf_format': 'F10.2'}}, {'short_name': 'altimeter', 'format': 'F8.2', 'long_name': 'Height of altimeter above ground-level', 'dtype': 'float32', 'columns': 1, 'width_specifier': 8, 'decimal_places': 2, 'units': 'm', 'variable_attributes': {'aseg_gdf_format': 'F8.2'}}, {'short_name': 'nchains', 'format': 'I9', 'long_name': 'Number of chains', 'dtype': 'int32', 'columns': 1, 'width_specifier': 9, 'decimal_places': 0, 'variable_attributes': {'aseg_gdf_format': 'I9'}}, {'short_name': 'nsamples', 'format': 'I9', 'long_name': 'Number of samples per chain', 'dtype': 'int32', 'columns': 1, 'width_specifier': 9, 'decimal_places': 0, 'variable_attributes': {'aseg_gdf_format': 'I9'}}, {'short_name': 'nburnin', 'format': 'I9', 'long_name': 'Number of samples in burn-in', 'dtype': 'int32', 'columns': 1, 'width_specifier': 9, 'decimal_places': 0, 'variable_attributes': {'aseg_gdf_format': 'I9'}}, {'short_name': 'sampletime', 'format': 'F9.2', 'long_name': 'Sampling wall time in seconds', 'dtype': 'float32', 'columns': 1, 'width_specifier': 9, 'decimal_places': 2, 'units': 's', 'variable_attributes': {'aseg_gdf_format': 'F9.2'}}, {'short_name': 'misfit_lowest', 'format': 'E15.6', 'long_name': 'Lowest misfit on any chain', 'dtype': 'float64', 'columns': 1, 'width_specifier': 15, 'decimal_places': 6, 'variable_attributes': {'aseg_gdf_format': 'E15.6'}}, {'short_name': 'misfit_average', 'format': 'E15.6', 'long_name': 'Average misfit over all chains', 'dtype': 'float64', 'columns': 1, 'width_specifier': 15, 'decimal_places': 6, 'variable_attributes': {'aseg_gdf_format': 'E15.6'}}, {'short_name': 'ndepthcells', 'format': 'I4', 'long_name': 'Number of depth cells or bins in histograms', 'dtype': 'int16', 'columns': 1, 'width_specifier': 4, 'decimal_places': 0, 'variable_attributes': {'aseg_gdf_format': 'I4'}}, {'short_name': 'depthcelltop', 'format': '150F8.2', 'long_name': 'Depths of cell tops', 'dtype': 'float32', 'columns': 150, 'width_specifier': 8, 'decimal_places': 2, 'units': 'm', 'variable_attributes': {'aseg_gdf_format': '150F8.2'}}, {'short_name': 'conductivity_mean', 'format': '150E15.6', 'long_name': 'Conductivity of mean model', 'dtype': 'float64', 'columns': 150, 'width_specifier': 15, 'decimal_places': 6, 'units': 'S/m', 'variable_attributes': {'aseg_gdf_format': '150E15.6'}}, {'short_name': 'conductivity_mode', 'format': '150E15.6', 'long_name': 'Conductivity of mode model', 'dtype': 'float64', 'columns': 150, 'width_specifier': 15, 'decimal_places': 6, 'units': 'S/m', 'variable_attributes': {'aseg_gdf_format': '150E15.6'}}, {'short_name': 'conductivity_p50', 'format': '150E15.6', 'long_name': 'Conductivity at 50th percentile or median', 'dtype': 'float64', 'columns': 150, 'width_specifier': 15, 'decimal_places': 6, 'units': 'S/m', 'variable_attributes': {'aseg_gdf_format': '150E15.6'}}, {'short_name': 'conductivity_p10', 'format': '150E15.6', 'long_name': 'Conductivity at 10th percentile', 'dtype': 'float64', 'columns': 150, 'width_specifier': 15, 'decimal_places': 6, 'units': 'S/m', 'variable_attributes': {'aseg_gdf_format': '150E15.6'}}, {'short_name': 'conductivity_p90', 'format': '150E15.6', 'long_name': 'Conductivity at 90th percentile', 'dtype': 'float64', 'columns': 150, 'width_specifier': 15, 'decimal_places': 6, 'units': 'S/m', 'variable_attributes': {'aseg_gdf_format': '150E15.6'}}, {'short_name': 'conductivity_highestlikelihood', 'format': '150E15.6', 'long_name': 'Conductivity of highest likelihood model', 'dtype': 'float64', 'columns': 150, 'width_specifier': 15, 'decimal_places': 6, 'units': 'S/m', 'variable_attributes': {'aseg_gdf_format': '150E15.6'}}, {'short_name': 'conductivity_lowestmisfit', 'format': '150E15.6', 'long_name': 'Conductivity of howest misfit model', 'dtype': 'float64', 'columns': 150, 'width_specifier': 15, 'decimal_places': 6, 'units': 'S/m', 'variable_attributes': {'aseg_gdf_format': '150E15.6'}}, {'short_name': 'changepoint', 'format': '150I11', 'long_name': 'Changepoint histogram', 'dtype': 'int64', 'columns': 150, 'width_specifier': 11, 'decimal_places': 0, 'units': 'counts', 'variable_attributes': {'aseg_gdf_format': '150I11'}}]\n"
     ]
    },
    {
     "name": "stderr",
     "output_type": "stream",
     "text": [
      "INFO:geophys_utils.netcdf_converter.aseg_gdf2netcdf_converter:A total of 4299 points were read\n",
      "c:\\users\\pcuser\\onedrive\\github\\geophys_utils\\geophys_utils\\netcdf_converter\\aseg_gdf_utils.py:29: RuntimeWarning: invalid value encountered in log10\n",
      "  fexp[f != 0] = np.ceil(np.log10(np.abs(f[f != 0]))).astype('int32')\n",
      "c:\\users\\pcuser\\onedrive\\github\\geophys_utils\\geophys_utils\\netcdf_converter\\aseg_gdf_utils.py:34: RuntimeWarning: divide by zero encountered in true_divide\n",
      "  fman = f/10.0**fexp\n",
      "INFO:geophys_utils.netcdf_converter.aseg_gdf2netcdf_converter:Datatype for variable uniqueid changed from int64 to int16\n",
      "INFO:geophys_utils.netcdf_converter.aseg_gdf2netcdf_converter:Datatype for variable survey changed from int64 to int16\n",
      "INFO:geophys_utils.netcdf_converter.aseg_gdf2netcdf_converter:Datatype for variable date changed from int64 to int32\n",
      "INFO:geophys_utils.netcdf_converter.aseg_gdf2netcdf_converter:Datatype for variable flight changed from int64 to int32\n",
      "INFO:geophys_utils.netcdf_converter.aseg_gdf2netcdf_converter:Datatype for variable line changed from int64 to int32\n",
      "INFO:geophys_utils.netcdf_converter.aseg_gdf2netcdf_converter:Datatype for variable fiducial changed from float64 to float32\n",
      "INFO:geophys_utils.netcdf_converter.aseg_gdf2netcdf_converter:Datatype for variable northing changed from float64 to float32\n",
      "INFO:geophys_utils.netcdf_converter.aseg_gdf2netcdf_converter:Datatype for variable elevation changed from float64 to float32\n",
      "INFO:geophys_utils.netcdf_converter.aseg_gdf2netcdf_converter:Datatype for variable nchains changed from int32 to int8\n",
      "INFO:geophys_utils.netcdf_converter.aseg_gdf2netcdf_converter:Datatype for variable nburnin changed from int32 to int16\n",
      "INFO:geophys_utils.netcdf_converter.aseg_gdf2netcdf_converter:Datatype for variable misfit_lowest changed from float64 to float32\n",
      "INFO:geophys_utils.netcdf_converter.aseg_gdf2netcdf_converter:Datatype for variable misfit_average changed from float64 to float32\n",
      "INFO:geophys_utils.netcdf_converter.aseg_gdf2netcdf_converter:Datatype for variable ndepthcells changed from int16 to int8\n",
      "INFO:geophys_utils.netcdf_converter.aseg_gdf2netcdf_converter:Datatype for variable conductivity_mean changed from float64 to float32\n",
      "INFO:geophys_utils.netcdf_converter.aseg_gdf2netcdf_converter:Datatype for variable conductivity_mode changed from float64 to float32\n",
      "INFO:geophys_utils.netcdf_converter.aseg_gdf2netcdf_converter:Datatype for variable conductivity_p50 changed from float64 to float32\n",
      "INFO:geophys_utils.netcdf_converter.aseg_gdf2netcdf_converter:Datatype for variable conductivity_p10 changed from float64 to float32\n",
      "INFO:geophys_utils.netcdf_converter.aseg_gdf2netcdf_converter:Datatype for variable conductivity_p90 changed from float64 to float32\n",
      "INFO:geophys_utils.netcdf_converter.aseg_gdf2netcdf_converter:Datatype for variable conductivity__highestlikelihood changed from float64 to float32\n",
      "INFO:geophys_utils.netcdf_converter.aseg_gdf2netcdf_converter:Datatype for variable conductivity_lowestmisfit changed from float64 to float32\n",
      "INFO:geophys_utils.netcdf_converter.aseg_gdf2netcdf_converter:Datatype for variable change_point changed from int64 to int16\n",
      "INFO:geophys_utils.netcdf_converter.aseg_gdf2netcdf_converter:\tWriting single comments value to scalar variable\n",
      "INFO:geophys_utils.netcdf_converter.aseg_gdf2netcdf_converter:\tWriting 1D int16 variable uniqueid\n",
      "INFO:geophys_utils.netcdf_converter.aseg_gdf2netcdf_converter:\tWriting single survey value to scalar variable\n",
      "INFO:geophys_utils.netcdf_converter.aseg_gdf2netcdf_converter:\tWriting 1D int32 variable date\n",
      "INFO:geophys_utils.netcdf_converter.aseg_gdf2netcdf_converter:\tWriting flight lookup variables\n",
      "INFO:geophys_utils.netcdf_converter.aseg_gdf2netcdf_converter:\tCreating dimension for flight\n",
      "INFO:geophys_utils.netcdf_converter.aseg_gdf2netcdf_converter:\t\tWriting 5 flight lookup values to array variable flight\n",
      "INFO:geophys_utils.netcdf_converter.aseg_gdf2netcdf_converter:\t\tWriting flight lookup indices to array variable flight_index\n",
      "INFO:geophys_utils.netcdf_converter.aseg_gdf2netcdf_converter:\tWriting line lookup variables\n",
      "INFO:geophys_utils.netcdf_converter.aseg_gdf2netcdf_converter:\tCreating dimension for line\n",
      "INFO:geophys_utils.netcdf_converter.aseg_gdf2netcdf_converter:\t\tWriting 71 line lookup values to array variable line\n",
      "INFO:geophys_utils.netcdf_converter.aseg_gdf2netcdf_converter:\t\tWriting line lookup indices to array variable line_index\n",
      "INFO:geophys_utils.netcdf_converter.aseg_gdf2netcdf_converter:\tWriting 1D float32 variable fiducial\n",
      "INFO:geophys_utils.netcdf_converter.aseg_gdf2netcdf_converter:\tWriting 1D float32 variable easting\n",
      "INFO:geophys_utils.netcdf_converter.aseg_gdf2netcdf_converter:\tWriting 1D float32 variable northing\n",
      "INFO:geophys_utils.netcdf_converter.aseg_gdf2netcdf_converter:\tWriting 1D float32 variable elevation\n",
      "INFO:geophys_utils.netcdf_converter.aseg_gdf2netcdf_converter:\tWriting single altimeter value to scalar variable\n",
      "INFO:geophys_utils.netcdf_converter.aseg_gdf2netcdf_converter:\tWriting single nchains value to scalar variable\n",
      "INFO:geophys_utils.netcdf_converter.aseg_gdf2netcdf_converter:\tWriting single nsamples value to scalar variable\n",
      "INFO:geophys_utils.netcdf_converter.aseg_gdf2netcdf_converter:\tWriting single nburnin value to scalar variable\n",
      "INFO:geophys_utils.netcdf_converter.aseg_gdf2netcdf_converter:\tWriting 1D float32 variable sampletime\n",
      "INFO:geophys_utils.netcdf_converter.aseg_gdf2netcdf_converter:\tWriting 1D float32 variable misfit_lowest\n",
      "INFO:geophys_utils.netcdf_converter.aseg_gdf2netcdf_converter:\tWriting 1D float32 variable misfit_average\n",
      "INFO:geophys_utils.netcdf_converter.aseg_gdf2netcdf_converter:\tWriting single ndepthcells value to scalar variable\n",
      "INFO:geophys_utils.netcdf_converter.aseg_gdf2netcdf_converter:\tWriting 2D float32 variable layer_top_depth\n"
     ]
    },
    {
     "name": "stdout",
     "output_type": "stream",
     "text": [
      "point 4299\n",
      "layer 150\n"
     ]
    },
    {
     "name": "stderr",
     "output_type": "stream",
     "text": [
      "INFO:geophys_utils.netcdf_converter.aseg_gdf2netcdf_converter:\tWriting 2D float32 variable conductivity_mean\n",
      "INFO:geophys_utils.netcdf_converter.aseg_gdf2netcdf_converter:\tWriting 2D float32 variable conductivity_mode\n",
      "INFO:geophys_utils.netcdf_converter.aseg_gdf2netcdf_converter:\tWriting 2D float32 variable conductivity_p50\n",
      "INFO:geophys_utils.netcdf_converter.aseg_gdf2netcdf_converter:\tWriting 2D float32 variable conductivity_p10\n",
      "INFO:geophys_utils.netcdf_converter.aseg_gdf2netcdf_converter:\tWriting 2D float32 variable conductivity_p90\n",
      "INFO:geophys_utils.netcdf_converter.aseg_gdf2netcdf_converter:\tWriting 2D float32 variable conductivity__highestlikelihood\n",
      "INFO:geophys_utils.netcdf_converter.aseg_gdf2netcdf_converter:\tWriting 2D float32 variable conductivity_lowestmisfit\n",
      "INFO:geophys_utils.netcdf_converter.aseg_gdf2netcdf_converter:\tWriting 2D int16 variable change_point\n",
      "INFO:geophys_utils.netcdf_converter.aseg_gdf2netcdf_converter:Creating crs, longitude and latitude variables for unprojected CRS\n",
      "INFO:geophys_utils.netcdf_converter.aseg_gdf2netcdf_converter:Creating new crs variable for unprojected CRS\n",
      "INFO:geophys_utils.netcdf_converter.aseg_gdf2netcdf_converter:Creating new longitude variable\n",
      "INFO:geophys_utils.netcdf_converter.aseg_gdf2netcdf_converter:Creating new latitude variable\n",
      "INFO:geophys_utils.netcdf_converter.aseg_gdf2netcdf_converter:Re-writing new global attributes for new CRS\n"
     ]
    }
   ],
   "source": [
    "if os.path.exists(nc_out_path):\n",
    "    os.remove(nc_out_path)\n",
    "\n",
    "d2n = aseg_gdf2netcdf_converter.ASEGGDF2NetCDFConverter(nc_out_path, \n",
    "                                                 dat_in_path, \n",
    "                                                 dfn_in_path,\n",
    "                                                 crs_string,\n",
    "                                                 fix_precision=True,\n",
    "                                                 remove_null_columns = False)\n",
    "d2n.convert2netcdf()                                      "
   ]
  },
  {
   "cell_type": "code",
   "execution_count": 5,
   "metadata": {},
   "outputs": [],
   "source": [
    "# Create a python object with the EM dataset\n",
    "d = netCDF4.Dataset(nc_out_path, \"a\")"
   ]
  },
  {
   "cell_type": "code",
   "execution_count": 6,
   "metadata": {},
   "outputs": [],
   "source": [
    "# Now we want to add the probability map data\n",
    "\n",
    "# open a csv that maps the fiducials to their pmap matla files\n",
    "\n",
    "df = pd.read_csv(r\"C:\\Users\\PCUser\\Desktop\\NSC_data\\data\\AEM\\HE\\garjmcmc\\combined\\rjmcmc_map.csv\")\n",
    "\n",
    "# Makew sure they are the same length\n",
    "assert len(d['fiducial'][:]) == len(df)\n"
   ]
  },
  {
   "cell_type": "code",
   "execution_count": 10,
   "metadata": {},
   "outputs": [],
   "source": [
    "ndpethcells = df['ndepthcells '].iloc[0]\n",
    "nsamples = len(df)\n",
    "\n",
    "ncond_cells = 100\n",
    "nchains = d['nchains'][0].data\n",
    "# From the matlab files\n",
    "nmisfit = 1019\n",
    "min_layers = 1\n",
    "max_layers = 25\n",
    "condmin = 0.002\n",
    "condmax = 3.\n",
    "\n",
    "\n",
    "# TODO add an assertion function here\n"
   ]
  },
  {
   "cell_type": "code",
   "execution_count": 18,
   "metadata": {},
   "outputs": [],
   "source": [
    "# now we create some arrays that will be added to the netCDF file as variables\n",
    "misfit_count = np.arange(1, nchains + 1)\n",
    "layer_bins = np.arange(min_layers, max_layers + 1)\n",
    "\n",
    "pmap_conductivities = np.zeros(shape = (nsamples, ndpethcells, ncond_cells), dtype = np.int32)\n",
    "maxlayer_counts = np.zeros(shape = (nsamples, layer_bins.shape[0]), dtype = np.int32)\n",
    "cond_cells = np.linspace(np.log10(condmin), np.log10(condmax), ncond_cells)\n",
    "misfit= np.zeros(shape = (nsamples, nchains, nmisfit), dtype = np.float64)\n",
    "sample_no = np.zeros(shape = (nsamples, nchains, nmisfit), dtype = np.int32)\n",
    "ndata = np.zeros(shape = (nsamples), dtype = np.int)"
   ]
  },
  {
   "cell_type": "code",
   "execution_count": 22,
   "metadata": {},
   "outputs": [],
   "source": [
    "# Now we need to populate the arrays\n",
    "\n",
    "# We iterate through the fiducials to ensure we have everything ordered correctly\n",
    "\n",
    "for i in range(nsamples):\n",
    "    pmap_file = df[df['fiducial '] == d['fiducial'][i]]['matfile'].values[0]\n",
    "    D = extract_pmap_info(loadmat(pmap_file))\n",
    "    # Write data to arrays\n",
    "    pmap_conductivities[i] = D['conductivity_pmap']\n",
    "    maxlayer_counts[i] = D['nlayer_prob']\n",
    "    misfit[i] = D['misfit']\n",
    "    sample_no = D['sample_no']\n",
    "    ndata[i] = D['ndata']\n",
    "    \n",
    "    "
   ]
  },
  {
   "cell_type": "code",
   "execution_count": 25,
   "metadata": {},
   "outputs": [],
   "source": [
    "for j in range(sample_no.shape[1]):\n",
    "    assert np.unique(sample_no[:,j]).shape[0] == 1\n",
    "    \n",
    "rj_number = sample_no[0]"
   ]
  },
  {
   "cell_type": "code",
   "execution_count": 27,
   "metadata": {},
   "outputs": [
    {
     "ename": "RuntimeError",
     "evalue": "NetCDF: String match to name in use",
     "output_type": "error",
     "traceback": [
      "\u001b[1;31m---------------------------------------------------------------------------\u001b[0m",
      "\u001b[1;31mRuntimeError\u001b[0m                              Traceback (most recent call last)",
      "\u001b[1;32m<ipython-input-27-8a8b8863c4c2>\u001b[0m in \u001b[0;36m<module>\u001b[1;34m\u001b[0m\n\u001b[0;32m      1\u001b[0m \u001b[1;31m# Create new dimensions\u001b[0m\u001b[1;33m\u001b[0m\u001b[1;33m\u001b[0m\u001b[1;33m\u001b[0m\u001b[0m\n\u001b[0;32m      2\u001b[0m \u001b[1;33m\u001b[0m\u001b[0m\n\u001b[1;32m----> 3\u001b[1;33m \u001b[0mcond_pmap_dim\u001b[0m \u001b[1;33m=\u001b[0m \u001b[0md\u001b[0m\u001b[1;33m.\u001b[0m\u001b[0mcreateDimension\u001b[0m\u001b[1;33m(\u001b[0m\u001b[1;34m\"conductivity_cells\"\u001b[0m\u001b[1;33m,\u001b[0m \u001b[0mcond_cells\u001b[0m\u001b[1;33m.\u001b[0m\u001b[0mshape\u001b[0m\u001b[1;33m[\u001b[0m\u001b[1;36m0\u001b[0m\u001b[1;33m]\u001b[0m\u001b[1;33m)\u001b[0m\u001b[1;33m\u001b[0m\u001b[1;33m\u001b[0m\u001b[0m\n\u001b[0m\u001b[0;32m      4\u001b[0m \u001b[1;33m\u001b[0m\u001b[0m\n\u001b[0;32m      5\u001b[0m \u001b[0mlayer_pmap_dim\u001b[0m \u001b[1;33m=\u001b[0m \u001b[0md\u001b[0m\u001b[1;33m.\u001b[0m\u001b[0mcreateDimension\u001b[0m\u001b[1;33m(\u001b[0m\u001b[1;34m\"nlayers_cells\"\u001b[0m\u001b[1;33m,\u001b[0m \u001b[0mlayer_bins\u001b[0m\u001b[1;33m.\u001b[0m\u001b[0mshape\u001b[0m\u001b[1;33m[\u001b[0m\u001b[1;36m0\u001b[0m\u001b[1;33m]\u001b[0m\u001b[1;33m)\u001b[0m\u001b[1;33m\u001b[0m\u001b[1;33m\u001b[0m\u001b[0m\n",
      "\u001b[1;32mnetCDF4\\_netCDF4.pyx\u001b[0m in \u001b[0;36mnetCDF4._netCDF4.Dataset.createDimension\u001b[1;34m()\u001b[0m\n",
      "\u001b[1;32mnetCDF4\\_netCDF4.pyx\u001b[0m in \u001b[0;36mnetCDF4._netCDF4.Dimension.__init__\u001b[1;34m()\u001b[0m\n",
      "\u001b[1;32mnetCDF4\\_netCDF4.pyx\u001b[0m in \u001b[0;36mnetCDF4._netCDF4._ensure_nc_success\u001b[1;34m()\u001b[0m\n",
      "\u001b[1;31mRuntimeError\u001b[0m: NetCDF: String match to name in use"
     ]
    }
   ],
   "source": [
    "# Create new dimensions\n",
    "\n",
    "cond_pmap_dim = d.createDimension(\"conductivity_cells\", cond_cells.shape[0])\n",
    "\n",
    "layer_pmap_dim = d.createDimension(\"nlayers_cells\", layer_bins.shape[0])\n",
    "\n",
    "# Create variables for the associated values for these dimensions\n",
    "\n",
    "cond_pmap_dim = d.createVariable(\"conductivity_cells\",\"f8\",(\"conductivity_cells\",))\n",
    "\n",
    "layer_pmap_dim = d.createVariable(\"nlayers_cells\",\"i4\",(\"nlayers_cells\",))\n",
    "\n",
    "# Fill\n",
    "\n",
    "cond_pmap_dim[:] = cond_cells\n",
    "layer_pmap_dim[:] = layer_bins"
   ]
  },
  {
   "cell_type": "code",
   "execution_count": 28,
   "metadata": {},
   "outputs": [],
   "source": [
    "# Create new dimensions\n",
    "\n",
    "chain_dim = d.createDimension(\"chain_dim\", misfit_count.shape[0])\n",
    "\n",
    "rjsample_dim = d.createDimension(\"rj_sample_dim\", misfit.shape[2])\n",
    "\n",
    "# Create variables for the associated values for these dimensions\n",
    "\n",
    "chain_dim = d.createVariable(\"chain_no\",\"i4\",(\"chain_dim\",))\n",
    "\n",
    "rjsample_dim = d.createVariable(\"rj_sample_number\",\"i4\",(\"rj_sample_dim\",))\n",
    "\n",
    "# Fill\n",
    "\n",
    "chain_dim[:] = misfit_count\n",
    "rjsample_dim[:] = rj_number"
   ]
  },
  {
   "cell_type": "code",
   "execution_count": 29,
   "metadata": {},
   "outputs": [],
   "source": [
    "# Now add the remaining variables\n",
    "\n",
    "cond_pmap =  d.createVariable(\"conducitivty_bin_count\",\"f8\",(\"point\", \"layer\",\n",
    "                                                                  \"conductivity_cells\"))\n",
    "\n",
    "layer_pmap =  d.createVariable(\"nlayer_bin_count\",\"f8\",(\"point\", \"nlayers_cells\"))\n",
    "\n",
    "misfits =  d.createVariable(\"misfit\",\"f8\",(\"point\", \"chain_dim\", \"rj_sample_dim\"))\n"
   ]
  },
  {
   "cell_type": "code",
   "execution_count": 30,
   "metadata": {},
   "outputs": [],
   "source": [
    "if np.unique(ndata).shape[0] == 1:\n",
    "    ndat = d.createVariable('n_data', \"i4\")\n",
    "    ndat[:] =  np.unique(ndata)[0]\n",
    "else:\n",
    "    ndat = d.createVariable('n_data', \"i4\", ('point',))\n",
    "    ndat[:] =  ndata"
   ]
  },
  {
   "cell_type": "code",
   "execution_count": 31,
   "metadata": {},
   "outputs": [],
   "source": [
    "cond_pmap[:] = pmap_conductivities\n",
    "\n",
    "layer_pmap[:] = maxlayer_counts\n",
    "\n",
    "misfits[:] = misfit"
   ]
  },
  {
   "cell_type": "code",
   "execution_count": 32,
   "metadata": {},
   "outputs": [],
   "source": [
    "d.close()"
   ]
  },
  {
   "cell_type": "code",
   "execution_count": 28,
   "metadata": {},
   "outputs": [],
   "source": [
    "d = netCDF4.Dataset(nc_out_path, \"r\")"
   ]
  },
  {
   "cell_type": "code",
   "execution_count": 29,
   "metadata": {},
   "outputs": [
    {
     "data": {
      "text/plain": [
       "<class 'netCDF4._netCDF4.Dataset'>\n",
       "root group (NETCDF4 data model, file format HDF5):\n",
       "    title: Dataset read from ASEG-GDF file rjmcmc.dat\n",
       "    Conventions: CF-1.6,ACDD-1.3\n",
       "    featureType: trajectory\n",
       "    geospatial_vertical_min: -20.9\n",
       "    geospatial_vertical_max: 34.3\n",
       "    geospatial_vertical_units: m\n",
       "    geospatial_vertical_resolution: point\n",
       "    geospatial_vertical_positive: up\n",
       "    history: Converted from ASEG-GDF file C:\\Users\\PCUser\\Desktop\\NSC_data\\data\\AEM\\HE\\garjmcmc\\combined\\rjmcmc.dat using definitions file C:\\Users\\PCUser\\Desktop\\NSC_data\\data\\AEM\\HE\\garjmcmc\\combined\\rjmcmc.dfn\n",
       "    date_created: 2019-12-23T14:27:39.021963\n",
       "    geospatial_east_resolution: point\n",
       "    geospatial_north_resolution: point\n",
       "    geospatial_east_min: 730488.1875\n",
       "    geospatial_east_max: 740655.1875\n",
       "    geospatial_east_units: m\n",
       "    geospatial_north_min: 8613396.0\n",
       "    geospatial_north_max: 8623772.0\n",
       "    geospatial_north_units: m\n",
       "    geospatial_bounds: POLYGON((730488.1875 8613396.0000, 735163.1250 8623566.0000, 735801.3125 8623747.0000, 735939.8750 8623772.0000, 738665.0000 8623211.0000, 738760.1875 8623167.0000, 738851.8750 8623112.0000, 738936.3750 8623048.0000, 739093.1250 8622905.0000, 740005.8125 8621979.0000, 740470.3750 8621464.0000, 740597.8750 8621320.0000, 740637.1875 8621231.0000, 740655.1875 8621081.0000, 739392.6875 8618774.0000, 739290.6250 8618664.0000, 730488.1875 8613396.0000))\n",
       "    keywords: geophysics, airborne, AEM, conductivity\n",
       "    dimensions(sizes): point(4299), layer(150), flight(5), line(71), conductivity_cells(100), nlayers_cells(25), chain_dim(32), rj_sample_dim(1019)\n",
       "    variables(dimensions): int8 \u001b[4mtransverse_mercator\u001b[0m(), <class 'str'> \u001b[4mcomments\u001b[0m(), int16 \u001b[4muniqueid\u001b[0m(point), int64 \u001b[4msurvey\u001b[0m(), int32 \u001b[4mdate\u001b[0m(point), int64 \u001b[4mflight\u001b[0m(flight), int8 \u001b[4mflight_index\u001b[0m(point), int64 \u001b[4mline\u001b[0m(line), int8 \u001b[4mline_index\u001b[0m(point), float32 \u001b[4mfiducial\u001b[0m(point), float32 \u001b[4measting\u001b[0m(point), float32 \u001b[4mnorthing\u001b[0m(point), float32 \u001b[4melevation\u001b[0m(point), float32 \u001b[4maltimeter\u001b[0m(), int32 \u001b[4mnchains\u001b[0m(), int32 \u001b[4mnsamples\u001b[0m(), int32 \u001b[4mnburnin\u001b[0m(), float32 \u001b[4msampletime\u001b[0m(point), float32 \u001b[4mmisfit_lowest\u001b[0m(point), float32 \u001b[4mmisfit_average\u001b[0m(point), int16 \u001b[4mndepthcells\u001b[0m(), float32 \u001b[4mlayer_top_depth\u001b[0m(point,layer), float32 \u001b[4mconductivity_mean\u001b[0m(point,layer), float32 \u001b[4mconductivity_mode\u001b[0m(point,layer), float32 \u001b[4mconductivity_p50\u001b[0m(point,layer), float32 \u001b[4mconductivity_p10\u001b[0m(point,layer), float32 \u001b[4mconductivity_p90\u001b[0m(point,layer), float32 \u001b[4mconductivity__highestlikelihood\u001b[0m(point,layer), float32 \u001b[4mconductivity_lowestmisfit\u001b[0m(point,layer), int16 \u001b[4mchange_point\u001b[0m(point,layer), int8 \u001b[4mcrs\u001b[0m(), float64 \u001b[4mlongitude\u001b[0m(point), float64 \u001b[4mlatitude\u001b[0m(point), float64 \u001b[4mconductivity_cells\u001b[0m(conductivity_cells), int32 \u001b[4mnlayers_cells\u001b[0m(nlayers_cells), int32 \u001b[4mchain_no\u001b[0m(chain_dim), int32 \u001b[4mrj_sample_number\u001b[0m(rj_sample_dim), float64 \u001b[4mconducitivty_bin_count\u001b[0m(point,layer,conductivity_cells), float64 \u001b[4mnlayer_bin_count\u001b[0m(point,nlayers_cells), float64 \u001b[4mmisfit\u001b[0m(point,chain_dim,rj_sample_dim), int32 \u001b[4mn_data\u001b[0m()\n",
       "    groups: "
      ]
     },
     "execution_count": 29,
     "metadata": {},
     "output_type": "execute_result"
    }
   ],
   "source": [
    "d"
   ]
  },
  {
   "cell_type": "code",
   "execution_count": null,
   "metadata": {},
   "outputs": [],
   "source": []
  }
 ],
 "metadata": {
  "@webio": {
   "lastCommId": null,
   "lastKernelId": null
  },
  "kernelspec": {
   "display_name": "Python 3",
   "language": "python",
   "name": "python3"
  },
  "language_info": {
   "codemirror_mode": {
    "name": "ipython",
    "version": 3
   },
   "file_extension": ".py",
   "mimetype": "text/x-python",
   "name": "python",
   "nbconvert_exporter": "python",
   "pygments_lexer": "ipython3",
   "version": "3.7.3"
  }
 },
 "nbformat": 4,
 "nbformat_minor": 4
}
