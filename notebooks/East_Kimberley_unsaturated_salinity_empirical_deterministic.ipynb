{
 "cells": [
  {
   "cell_type": "markdown",
   "metadata": {},
   "source": [
    "A notebook demonstrating the estimation of groundwater quality for the Keep River planes aquifer system. We determine that there is a strong linear relationship between groundwater EC (measured from pore fluid samples) and the representative bulk AEM conductivity. We use this empirical relationship to estimate the groundwater quality for the top \n",
    "\n",
    "Neil Symington\n",
    "neil.symington@ga.gov.au"
   ]
  },
  {
   "cell_type": "code",
   "execution_count": 1,
   "metadata": {},
   "outputs": [],
   "source": [
    "%matplotlib inline"
   ]
  },
  {
   "cell_type": "code",
   "execution_count": 2,
   "metadata": {},
   "outputs": [],
   "source": [
    "import pandas as pd\n",
    "import rasterio\n",
    "from sqlite3 import dbapi2 as sqlite\n",
    "import numpy as np\n",
    "from hydrogeol_utils import SNMR_utils, AEM_utils, spatial_functions, borehole_utils, grid_utils\n",
    "from shapely.geometry import Polygon, shape\n",
    "import netCDF4\n",
    "import math\n",
    "import time\n",
    "import os, glob\n",
    "import gc\n",
    "from geophys_utils._netcdf_line_utils import NetCDFLineUtils\n",
    "from geophys_utils._netcdf_point_utils import NetCDFPointUtils\n",
    "from geophys_utils import points2convex_hull\n",
    "import rasterio\n",
    "from rasterio import Affine\n",
    "from rasterio.warp import reproject, Resampling\n",
    "from scipy import interpolate, stats\n",
    "import sqlalchemy as db\n",
    "from sqlalchemy import create_engine, event\n",
    "import matplotlib.pyplot as plt\n",
    "from hydrogeol_utils.db_utils import makeCon, closeCon"
   ]
  },
  {
   "cell_type": "code",
   "execution_count": 3,
   "metadata": {},
   "outputs": [],
   "source": [
    "def resample_raster2array(infile, newaff, new_shape, driver='GTiff',\n",
    "                    null = -999):\n",
    "\n",
    "    # Open\n",
    "    src = rasterio.open(infile)\n",
    "\n",
    "    # Extract data as an array\n",
    "    arr = src.read()[0]\n",
    "\n",
    "    # Get the affine\n",
    "    aff = src.transform\n",
    "\n",
    "\n",
    "    # Create new array with the grid\n",
    "    # coordinates from the kriging\n",
    "    newarr = np.empty(shape=new_shape)\n",
    "\n",
    "    # Reproject\n",
    "    reproject(\n",
    "        arr, newarr,\n",
    "        src_transform=aff,\n",
    "        dst_transform=newaff,\n",
    "        src_crs=src.crs,\n",
    "        dst_crs=src.crs,\n",
    "        resampling=Resampling.bilinear)\n",
    "\n",
    "    src.close()\n",
    "\n",
    "    # This is a hack to handle different nulls which are always lower than -900\n",
    "    \n",
    "    newarr[newarr < -900] = np.nan\n",
    "\n",
    "    return newarr\n",
    "\n",
    "def slice_conductivity(logcondprofile, cond_intervals, base, top):\n",
    "    old_intervals = cond_intervals.copy()\n",
    "    \n",
    "    old_intervals[:,0]= old_intervals[:,0] + 0.01\n",
    "\n",
    "    old_intervals = np.sort(old_intervals.flatten())\n",
    "    \n",
    "    # repeat params\n",
    "    params = np.repeat(logcondprofile, 2)\n",
    "    \n",
    "    # Interpolate\n",
    "\n",
    "    f = interpolate.interp1d(old_intervals,\n",
    "                             params, kind='linear')\n",
    "    \n",
    "    new_intervals = np.array([top,base])\n",
    "    \n",
    "    xnew = new_intervals\n",
    "    \n",
    "    xnew = xnew[(xnew > np.min(old_intervals)) & (xnew < np.max(old_intervals))]\n",
    "\n",
    "    xnew = np.sort(np.concatenate((old_intervals, xnew)))\n",
    "\n",
    "    ynew = f(xnew)\n",
    "    mask = np.logical_and(xnew <= base, xnew >= top)\n",
    "    \n",
    "    new_profile = ynew[mask]\n",
    "    new_depths = xnew[mask]\n",
    "    \n",
    "    # Calculate thickness\n",
    "    thickness = spatial_functions.depth_to_thickness(new_depths)[:-1]\n",
    "    # Calculate weights based on thickness\n",
    "    weights = thickness/(thickness.sum())\n",
    "    \n",
    "    # Now multiply these weights by the profile\n",
    "    weighted_logcond = weights * new_profile[:-1]\n",
    "    \n",
    "    return(np.sum(weighted_logcond))\n",
    "    \n",
    "# Function for finding the nearest point \n",
    "\n",
    "def get_bore(df, borehole_id):\n",
    "    \"\"\"\n",
    "    df: dataframe with borehole data\n",
    "    borehole_id: eno\n",
    "    \n",
    "    returns\n",
    "    dataframe with only rows corresponding to particular bore\n",
    "    \"\"\"\n",
    "    mask = df['borehole_id'] == borehole_id\n",
    "    return df[mask]\n"
   ]
  },
  {
   "cell_type": "code",
   "execution_count": 4,
   "metadata": {},
   "outputs": [],
   "source": [
    "# Bring in the AEM\n",
    "\n",
    "nc_dir = r\"C:\\Users\\PCUser\\Desktop\\EK_data\\AEM\\netCDF\"\n",
    "\n",
    "cond_path = os.path.join(nc_dir,'EastKimberley_wb_inversion.nc')\n",
    "cond_dataset = netCDF4.Dataset(cond_path, 'r')"
   ]
  },
  {
   "cell_type": "code",
   "execution_count": 5,
   "metadata": {},
   "outputs": [
    {
     "data": {
      "image/svg+xml": [
       "<svg xmlns=\"http://www.w3.org/2000/svg\" xmlns:xlink=\"http://www.w3.org/1999/xlink\" width=\"300\" height=\"300\" viewBox=\"460023.87999990705 8241660.879944195 110039.11500015535 123703.7400036538\" preserveAspectRatio=\"xMinYMin meet\"><g transform=\"matrix(1,0,0,-1,0,16607025.499892045)\"><path fill-rule=\"evenodd\" fill=\"#66cc99\" stroke=\"#555555\" stroke-width=\"824.6916000243586\" opacity=\"0.6\" d=\"M 497703.0000000027,8246242.49994433 L 497669.00000000256,8246242.99994433 L 497635.8125000035,8246246.49994433 L 497603.40625000355,8246253.999944331 L 496786.3125000036,8246526.499944339 L 464605.5000000424,8257490.999944661 L 466221.6875000397,8304389.499946042 L 466469.6875000387,8305081.999946062 L 488233.6875000138,8330164.999946804 L 491461.4062500101,8333382.4999469 L 523230.31249997555,8360782.999947714 L 550185.3749999455,8350756.499947417 L 554398.812499941,8345955.999947274 L 565480.3749999278,8329967.999946802 L 565481.374999927,8329943.4999468 L 560532.9999999315,8318658.499946466 L 497768.9062499999,8246255.499944331 L 497736.59375000146,8246246.49994433 L 497703.0000000027,8246242.49994433 z\" /></g></svg>"
      ],
      "text/plain": [
       "<shapely.geometry.polygon.Polygon at 0x19cd57c9508>"
      ]
     },
     "execution_count": 5,
     "metadata": {},
     "output_type": "execute_result"
    }
   ],
   "source": [
    "# Create a convex hull around the Keep River area based on line 3xxx,xxx\n",
    "\n",
    "# Initialise an instance of the netCDF point and line utility classes\n",
    "cond_line_utils = NetCDFLineUtils(cond_dataset)\n",
    "cond_point_utils = NetCDFPointUtils(cond_dataset)\n",
    "\n",
    "# Display the lines for the conductivity mode\n",
    "\n",
    "lines = cond_line_utils.line\n",
    "\n",
    "# Get the utm coordinates using the mask created above\n",
    "utm_wkt, aem_coords = cond_point_utils.utm_coords(cond_point_utils.xycoords)\n",
    "\n",
    "# Get the convex hull of the subset\n",
    "convex_hull = points2convex_hull(aem_coords)\n",
    "\n",
    "\n",
    "# Create a shapely object of the convex hull\n",
    "Keep_poly = Polygon(convex_hull)\n",
    "\n",
    "Keep_poly"
   ]
  },
  {
   "cell_type": "code",
   "execution_count": 6,
   "metadata": {},
   "outputs": [
    {
     "name": "stdout",
     "output_type": "stream",
     "text": [
      "Connected to C:\\Users\\PCUser\\Desktop\\EK_data\\Boreholes\\East_Kimberley_borehole_data.sqlite. Temporary working copy created.\n"
     ]
    }
   ],
   "source": [
    "# Extract data from the database\n",
    "\n",
    "# Extract borehole data from the database\n",
    "\n",
    "DB_PATH = r\"C:\\Users\\PCUser\\Desktop\\EK_data\\Boreholes\\East_Kimberley_borehole_data.sqlite\"\n",
    "\n",
    "SPATIALITE_PATH = r'C:\\mod_spatialite-NG-win-amd64'\n",
    "\n",
    "# Add spatialite dll to path\n",
    "os.environ['PATH'] = SPATIALITE_PATH + ';' + os.environ['PATH']\n",
    "\n",
    "engine = db.create_engine('sqlite:///' + DB_PATH, module=sqlite)\n",
    "\n",
    "\n",
    "connection = makeCon(DB_PATH)"
   ]
  },
  {
   "cell_type": "code",
   "execution_count": 7,
   "metadata": {},
   "outputs": [],
   "source": [
    "# First import all the datasets based on our enos (primary key)\n",
    "\n",
    "df_EC = pd.read_csv(r\"C:\\Users\\PCUser\\Desktop\\EK_data\\Boreholes\\EK_saturation_extract_unsaturated_EC.csv\")\n",
    "\n",
    "enos = df_EC['ENO'].unique()"
   ]
  },
  {
   "cell_type": "code",
   "execution_count": 8,
   "metadata": {},
   "outputs": [
    {
     "name": "stdout",
     "output_type": "stream",
     "text": [
      "select t.borehole_id, t.Easting, t.Northing from borehole t where t.borehole_id in (635728,635729,635733,635734,635735,635737,635738,635739,635740,635741,635742,635744,635745,635746,635747,635748,635749);\n",
      "    borehole_id     Easting     Northing\n",
      "0        635728  520144.760  8306293.880\n",
      "1        635729  523301.492  8314853.537\n",
      "2        635733  501830.614  8295403.070\n",
      "3        635734  504915.931  8292360.686\n",
      "4        635735  505309.448  8293856.701\n",
      "5        635737  507769.229  8299897.749\n",
      "6        635738  514309.962  8298828.237\n",
      "7        635739  500051.985  8295681.132\n",
      "8        635740  500053.109  8296644.456\n",
      "9        635741  500049.774  8295302.212\n",
      "10       635742  500054.317  8293767.687\n",
      "11       635744  530338.125  8322496.983\n",
      "12       635745  542732.935  8331311.342\n",
      "13       635746  542730.465  8331303.544\n",
      "14       635747  467010.637  8305925.689\n",
      "15       635748  462063.182  8304333.873\n",
      "16       635749  432985.000  8287369.000\n"
     ]
    }
   ],
   "source": [
    "# Extract boreholes from within this geometry\n",
    "\n",
    "cols = ['borehole_id', 'Easting', 'Northing']\n",
    "\n",
    "df_header = borehole_utils.extract_sql_with_primary_key('borehole', cols,\n",
    "                                                        connection, enos,\n",
    "                                                        primary_key_column = 'borehole_id', \n",
    "                                                        verbose = True)\n",
    "\n",
    "\n",
    "print(df_header)"
   ]
  },
  {
   "cell_type": "code",
   "execution_count": 9,
   "metadata": {},
   "outputs": [],
   "source": [
    "# Get bulk the representative AEM conductivity profiles using a nearest neighboour search\n",
    "\n",
    "cond_point_utils = NetCDFPointUtils(cond_dataset)\n",
    "\n",
    "utm_wkt, aem_coords = cond_point_utils.utm_coords(cond_point_utils.xycoords)\n",
    "\n",
    "# Extract the AEM conductivity using nearest neighbour\n",
    "distances, indices = spatial_functions.nearest_neighbours(df_header[['Easting','Northing']],\n",
    "                                                          aem_coords,\n",
    "                                                          points_required = 1,# return 1 closest point\n",
    "                                                          max_distance = 250.)\n",
    "# Remove nulls which are >250m from a FID\n",
    "mask = np.isfinite(distances)\n",
    "\n",
    "indices = indices[mask]\n",
    "df_header = df_header[mask]"
   ]
  },
  {
   "cell_type": "code",
   "execution_count": 10,
   "metadata": {},
   "outputs": [],
   "source": [
    "# Extract variables as arrays using the index mask\n",
    "conductivity_profile = cond_dataset['conductivity'][indices]\n",
    "\n",
    "depth_tops = cond_dataset['layer_top_depth'][indices]\n",
    "\n",
    "depth_bottom = np.nan*np.ones(depth_tops.shape, dtype = np.float32)\n",
    "\n",
    "depth_bottom[:,:-1] = depth_tops[:,1:]\n",
    "\n",
    "east = cond_dataset['easting'][indices]\n",
    "north = cond_dataset['northing'][indices]\n",
    "doi = cond_dataset['depth_of_investigation'][indices]"
   ]
  },
  {
   "cell_type": "code",
   "execution_count": 11,
   "metadata": {},
   "outputs": [],
   "source": [
    "# Create an AEM dataframe\n",
    "\n",
    "df_AEM = pd.DataFrame(columns = ['Depth_from', 'Depth_to',\n",
    "                                 'conductivity', 'easting',\n",
    "                                 'northing', 'borehole_id', 'EC',\n",
    "                                 'doi'])\n",
    "\n",
    "df_AEM['conductivity'] = conductivity_profile.flatten()\n",
    "df_AEM['Depth_from'] = depth_tops.flatten()\n",
    "df_AEM['Depth_to'] = depth_bottom.flatten()\n",
    "\n",
    "df_AEM['easting'] = np.repeat(east, conductivity_profile.shape[1])\n",
    "df_AEM['northing'] = np.repeat(north, conductivity_profile.shape[1])\n",
    "\n",
    "df_AEM['doi'] = np.repeat(doi, conductivity_profile.shape[1])\n",
    "\n",
    "df_AEM['borehole_id'] = np.repeat(df_header['borehole_id'].values,\n",
    "                                   conductivity_profile.shape[1])"
   ]
  },
  {
   "cell_type": "code",
   "execution_count": 12,
   "metadata": {},
   "outputs": [],
   "source": [
    "# Mask below the doi\n",
    "\n",
    "mask = df_AEM['doi'] > df_AEM['Depth_from']\n",
    "\n",
    "df_AEM = df_AEM[mask]"
   ]
  },
  {
   "cell_type": "code",
   "execution_count": 13,
   "metadata": {},
   "outputs": [],
   "source": [
    "df_EC.rename(columns = {'normalised_porefluid_EC_(S/m)': 'EC',\n",
    "                       'ENO': 'borehole_id'},\n",
    "            inplace = True)"
   ]
  },
  {
   "cell_type": "code",
   "execution_count": 14,
   "metadata": {},
   "outputs": [
    {
     "name": "stderr",
     "output_type": "stream",
     "text": [
      "C:\\Users\\PCUser\\Anaconda3\\envs\\hydrogeol_utils\\lib\\site-packages\\ipykernel_launcher.py:16: SettingWithCopyWarning: \n",
      "A value is trying to be set on a copy of a slice from a DataFrame.\n",
      "Try using .loc[row_indexer,col_indexer] = value instead\n",
      "\n",
      "See the caveats in the documentation: http://pandas.pydata.org/pandas-docs/stable/user_guide/indexing.html#returning-a-view-versus-a-copy\n",
      "  app.launch_new_instance()\n"
     ]
    }
   ],
   "source": [
    "# Now we iterate through each AEM layer and find the median EC\n",
    "\n",
    "for bore in df_AEM['borehole_id'].unique():\n",
    "    \n",
    "    df_EC_subset = get_bore(df_EC, bore)\n",
    "    \n",
    "    df_AEM_subset = get_bore(df_AEM, bore)\n",
    "    \n",
    "    new_intervals = df_AEM_subset[['Depth_from', 'Depth_to']]\n",
    "    \n",
    "    # interpolate\n",
    "    df_newEC = spatial_functions.interpolate_depths_to_intervals(df_EC_subset, ['EC'],\n",
    "                                                                 new_intervals.values,\n",
    "                                                                depth_column='Depth', how='median')\n",
    "\n",
    "    df_AEM_subset['EC'] = df_newEC['EC'].values\n",
    "    \n",
    "    df_AEM.at[df_AEM_subset.index, :] = df_AEM_subset\n",
    "    \n",
    "    \n",
    "df_AEM.dropna(how = 'any', subset = ['EC'], inplace=True)"
   ]
  },
  {
   "cell_type": "code",
   "execution_count": 15,
   "metadata": {},
   "outputs": [],
   "source": [
    "# Linear regression function\n",
    "\n",
    "from scipy import stats\n",
    "\n",
    "slope, intercept, r_value, p_value, std_err = stats.linregress(np.log10(df_AEM['conductivity'].values),\n",
    "                                                               np.log10(df_AEM['EC'].astype(np.float).values))"
   ]
  },
  {
   "cell_type": "code",
   "execution_count": 20,
   "metadata": {},
   "outputs": [
    {
     "name": "stdout",
     "output_type": "stream",
     "text": [
      "R-squared =  0.7792223170665724\n",
      "EC =  1.202559887131297  * sigma +  0.5656672475700601\n"
     ]
    },
    {
     "data": {
      "image/png": "[encoded data removed]",
      "text/plain": [
       "<Figure size 432x288 with 1 Axes>"
      ]
     },
     "metadata": {
      "needs_background": "light"
     },
     "output_type": "display_data"
    }
   ],
   "source": [
    "# Scatter plot the EC and apparent conductivity\n",
    "\n",
    "x = np.array([-3,1])\n",
    "y = slope * x + intercept\n",
    "        \n",
    "plt.plot(x, y, 'grey')\n",
    "\n",
    "plt.scatter(np.log10(df_AEM['conductivity'].values),\n",
    "           np.log10(df_AEM['EC'].astype(np.float).values))\n",
    "           #c = df_EC_cond['Depth'].values,\n",
    "           #colormap='viridis')\n",
    "print('R-squared = ', str(r_value**2))\n",
    "print('EC = ', str(slope), ' * sigma + ', str(intercept) )\n",
    "\n",
    "        \n",
    "plt.xlabel('Bulk log conductivity\\n sampled from AEM  (S/m)')\n",
    "\n",
    "plt.ylabel('Log EC measured on pore fluids (S/m)')\n",
    "\n",
    "plt.savefig(r'C:\\Users\\PCUser\\Desktop\\EK_data\\Interp\\EK_unsaturated_EC_AEM_conductivity_scatter.png', dpi = 300)\n",
    "plt.show()"
   ]
  },
  {
   "cell_type": "code",
   "execution_count": 4,
   "metadata": {},
   "outputs": [],
   "source": [
    "# Now we have our function we want to find the average AEM\n",
    "# conductivity for the top 20m of saturated aquifer\n",
    "\n",
    "# bring in the water table surface\n",
    "\n",
    "wt_infile = r\"C:\\Users\\PCUser\\Desktop\\EK_data\\Interp\\WaterTable\\KR_wt_depth_clipped.tif\"\n",
    "\n",
    "wt_src = rasterio.open(wt_infile)\n",
    "wt_arr = wt_src.read()[0]\n",
    "\n",
    "# Romve null values\n",
    "\n",
    "null = -3.4028235e+38\n",
    "\n",
    "wt_arr[np.isclose(wt_arr, null)] = np.nan\n",
    "\n",
    "# Top array is the surface\n",
    "\n",
    "top = np.zeros(shape = wt_arr.shape,\n",
    "              dtype = wt_arr.dtype) + 0.001\n",
    "\n",
    "top[np.isnan(wt_arr)] = np.nan"
   ]
  },
  {
   "cell_type": "code",
   "execution_count": 5,
   "metadata": {},
   "outputs": [
    {
     "data": {
      "text/plain": [
       "CRS.from_wkt('PROJCS[\"GDA_1994_Transverse_Mercator\",GEOGCS[\"GDA94\",DATUM[\"Geocentric_Datum_of_Australia_1994\",SPHEROID[\"GRS 1980\",6378137,298.2572221010042,AUTHORITY[\"EPSG\",\"7019\"]],AUTHORITY[\"EPSG\",\"6283\"]],PRIMEM[\"Greenwich\",0],UNIT[\"degree\",0.0174532925199433],AUTHORITY[\"EPSG\",\"4283\"]],PROJECTION[\"Transverse_Mercator\"],PARAMETER[\"latitude_of_origin\",0],PARAMETER[\"central_meridian\",129],PARAMETER[\"scale_factor\",0.9996],PARAMETER[\"false_easting\",500000],PARAMETER[\"false_northing\",10000000],UNIT[\"metre\",1,AUTHORITY[\"EPSG\",\"9001\"]]]')"
      ]
     },
     "execution_count": 5,
     "metadata": {},
     "output_type": "execute_result"
    }
   ],
   "source": [
    "wt_src.crs"
   ]
  },
  {
   "cell_type": "code",
   "execution_count": 97,
   "metadata": {},
   "outputs": [],
   "source": [
    "# Find the depth indices to interpolate\n",
    "max_depth = np.nanmax(wt_arr)\n",
    "\n",
    "max_ind = np.where(cond_dataset['layer_top_depth'][0] < max_depth)[0].max() + 1"
   ]
  },
  {
   "cell_type": "code",
   "execution_count": 98,
   "metadata": {},
   "outputs": [],
   "source": [
    "# Create a grid onto which we will be interpolating our AEM conductivity\n",
    "\n",
    "nrow, ncol = wt_arr.shape[0], wt_arr.shape[1]\n",
    "\n",
    "xr, yr = np.abs(wt_src.transform.a), np.abs(wt_src.transform.e)\n",
    "\n",
    "# Get the lower left coordinates for x and y-offset inputs into grid\n",
    "xoff = wt_src.bounds.left\n",
    "yoff = wt_src.bounds.bottom\n",
    "\n",
    "# Create a structured grid\n",
    "sat_grid = grid_utils.StructuredGrid(delr = np.array(ncol * [yr]),\n",
    "                                    delc = np.array(nrow * [xr]),\n",
    "                                    top=top,#\n",
    "                                    botm=np.expand_dims(wt_arr, axis=0),\n",
    "                                    proj4=wt_src.crs.to_proj4(),\n",
    "                                    xoff = xoff,\n",
    "                                    yoff = yoff,\n",
    "                                    nlay = 1,\n",
    "                                    lenuni=2, # units are metres\n",
    "                                    nrow= nrow,\n",
    "                                    ncol = ncol\n",
    "                                    )\n",
    "\n",
    "minx, maxx, miny, maxy = sat_grid.extent"
   ]
  },
  {
   "cell_type": "code",
   "execution_count": null,
   "metadata": {},
   "outputs": [],
   "source": []
  },
  {
   "cell_type": "code",
   "execution_count": 90,
   "metadata": {},
   "outputs": [
    {
     "name": "stderr",
     "output_type": "stream",
     "text": [
      "C:\\Users\\PCUser\\Anaconda3\\envs\\hydrogeol_utils\\lib\\site-packages\\ipykernel_launcher.py:2: RuntimeWarning: invalid value encountered in less\n",
      "  \n"
     ]
    }
   ],
   "source": [
    "# Hack alert\n",
    "mask = wt_arr < 3.5\n",
    "\n",
    "wt_arr[mask] = 5."
   ]
  },
  {
   "cell_type": "code",
   "execution_count": 58,
   "metadata": {},
   "outputs": [
    {
     "data": {
      "text/plain": [
       "3.5010002"
      ]
     },
     "execution_count": 58,
     "metadata": {},
     "output_type": "execute_result"
    }
   ],
   "source": [
    "np.nanmin(wt_arr)"
   ]
  },
  {
   "cell_type": "code",
   "execution_count": 39,
   "metadata": {},
   "outputs": [
    {
     "name": "stdout",
     "output_type": "stream",
     "text": [
      "Gridding  temp_grid.tif\n",
      "Finished gridding  temp_grid.tif\n",
      "Gridding  temp_grid.tif\n",
      "Finished gridding  temp_grid.tif\n",
      "Gridding  temp_grid.tif\n",
      "Finished gridding  temp_grid.tif\n",
      "Gridding  temp_grid.tif\n",
      "Finished gridding  temp_grid.tif\n",
      "Gridding  temp_grid.tif\n",
      "Finished gridding  temp_grid.tif\n",
      "Gridding  temp_grid.tif\n",
      "Finished gridding  temp_grid.tif\n",
      "Gridding  temp_grid.tif\n",
      "Finished gridding  temp_grid.tif\n",
      "Gridding  temp_grid.tif\n",
      "Finished gridding  temp_grid.tif\n",
      "Gridding time:  91.51810765266418  seconds\n"
     ]
    }
   ],
   "source": [
    "# Define gdal algorithm as string - see https://gdal.org/programs/gdal_grid.html\n",
    "algorithm = 'invdist:power=2:radius1=250:radius2=250:max_points=10:'\n",
    "algorithm += 'min_points=2:nodata=-9999.99'\n",
    "\n",
    "grid_kwargs = {'conductivity': {'log_grid': True,\n",
    "                                'gdal_algorithm': algorithm}}\n",
    "\n",
    "start_time = time.time()\n",
    "\n",
    "# Currently this is too resource intense, need to make it more effecient\n",
    "aem_grid = spatial_functions.grid_points_gdal(cond_point_utils,\n",
    "                 grid_resolution = xr,\n",
    "                 variables = 'conductivity',\n",
    "                 reprojected_grid_bounds = (minx, miny, maxx, maxy),\n",
    "                 grid_wkt = utm_wkt,\n",
    "                 point_step=1,\n",
    "                 grid_kwargs = grid_kwargs,\n",
    "                 depth_inds = np.arange(0,max_ind))\n",
    "\n",
    "print(\"Gridding time: \", time.time() - start_time, ' seconds')\n",
    "\n",
    "# Finall we remove the 2 cell buffer and flip up down\n",
    "\n",
    "aem_grid['conductivity'] = aem_grid['conductivity'][:,2:-2,2:-2][:,::-1,:]"
   ]
  },
  {
   "cell_type": "code",
   "execution_count": 100,
   "metadata": {},
   "outputs": [
    {
     "data": {
      "image/png": "[encoded data removed]",
      "text/plain": [
       "<Figure size 432x288 with 2 Axes>"
      ]
     },
     "metadata": {
      "needs_background": "light"
     },
     "output_type": "display_data"
    }
   ],
   "source": [
    "# Now lets calculate the weighted average of the AEM between the wt top and 20m below\n",
    "\n",
    "wt_ave_grid = spatial_functions.weighted_average(cond_dataset['layer_top_depth'][0],\n",
    "                                np.log10(aem_grid['conductivity']),\n",
    "                               top, wt_arr)\n",
    "# Convert back to linear space\n",
    "wt_ave_grid = 10**(wt_ave_grid)\n",
    "\n",
    "# Plot the result\n",
    "\n",
    "\n",
    "plt.imshow(wt_ave_grid)\n",
    "plt.colorbar()\n",
    "plt.show()\n"
   ]
  },
  {
   "cell_type": "code",
   "execution_count": 102,
   "metadata": {},
   "outputs": [
    {
     "data": {
      "image/png": "[encoded data removed]",
      "text/plain": [
       "<Figure size 432x288 with 2 Axes>"
      ]
     },
     "metadata": {
      "needs_background": "light"
     },
     "output_type": "display_data"
    }
   ],
   "source": [
    "# The final step is to apply the linear regression function\n",
    "\n",
    "gw_logEC = slope * np.log10(wt_ave_grid) + intercept\n",
    "\n",
    "\n",
    "gw_EC = 10**(gw_logEC)\n",
    "\n",
    "plt.imshow(gw_EC, extent= [minx, maxx, miny, maxy])\n",
    "plt.title('Predicted gorundwater EC for unsaturated aquifer material')\n",
    "plt.xlabel('Easting (m)')\n",
    "plt.ylabel('Northing (m)')\n",
    "cbar = plt.colorbar()\n",
    "cbar.set_label('EC (S/m)')\n",
    "\n",
    "\n",
    "outfile = r\"C:\\Users\\PCUser\\Desktop\\EK_data\\Interp\\EK_gw_EC_unsaturated.png\"\n",
    "plt.savefig(outfile, dpi= 300)\n",
    "plt.show()\n",
    "\n"
   ]
  },
  {
   "cell_type": "code",
   "execution_count": 105,
   "metadata": {},
   "outputs": [],
   "source": [
    "# Save the outfile\n",
    "\n",
    "null = -9999.\n",
    "\n",
    "outfile =  r\"C:\\Users\\PCUser\\Desktop\\EK_data\\Interp\\EK_gw_EC_unsaturated.tif\"\n",
    "\n",
    "new_dataset = rasterio.open(outfile, 'w', driver='GTiff',\n",
    "                            height= gw_EC.shape[0], width=gw_EC.shape[1],\n",
    "                            count=1, dtype=np.float64,\n",
    "                            crs=wt_src.crs, transform=wt_src.transform,\n",
    "                            nodata = null)\n",
    "\n",
    "# set nan to no data value\n",
    "gw_EC[np.isnan(gw_EC)] = null\n",
    "\n",
    "new_dataset.write(gw_EC, 1)\n",
    "\n",
    "new_dataset.close()\n"
   ]
  },
  {
   "cell_type": "code",
   "execution_count": null,
   "metadata": {},
   "outputs": [],
   "source": []
  }
 ],
 "metadata": {
  "kernelspec": {
   "display_name": "Python 3",
   "language": "python",
   "name": "python3"
  },
  "language_info": {
   "codemirror_mode": {
    "name": "ipython",
    "version": 3
   },
   "file_extension": ".py",
   "mimetype": "text/x-python",
   "name": "python",
   "nbconvert_exporter": "python",
   "pygments_lexer": "ipython3",
   "version": "3.7.4"
  }
 },
 "nbformat": 4,
 "nbformat_minor": 2
}
