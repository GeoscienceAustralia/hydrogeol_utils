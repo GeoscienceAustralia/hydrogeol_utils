{
 "cells": [
  {
   "cell_type": "markdown",
   "metadata": {},
   "source": [
    "A notebook demostrating the use of Archie's Law to estimate water qulity estimates. The equation is the following.\n",
    "\n",
    "logCw = logCt – mlogØ\n",
    "\n",
    " \n",
    "\n",
    "where Cw is the predicted fluid EC (S/m), Ct is bulk conductivity and logØ is the free water.\n",
    "\n",
    "We are trying to estimate fluid EC at on a grid given AEM conductivity (interpolated) and mobile water (interpolated) and a cementation factor based on empirical relationships developed using pore fluid EC and borehole NMR.\n",
    "\n",
    "Neil Symington\n",
    "neil.symington@ga.gov.au"
   ]
  },
  {
   "cell_type": "code",
   "execution_count": 173,
   "metadata": {},
   "outputs": [],
   "source": [
    "%matplotlib inline"
   ]
  },
  {
   "cell_type": "code",
   "execution_count": 174,
   "metadata": {},
   "outputs": [],
   "source": [
    "import pandas\n",
    "import rasterio\n",
    "import numpy as np\n",
    "from hydrogeol_utils import SNMR_utils, AEM_utils, spatial_functions, borehole_utils\n",
    "import netCDF4\n",
    "import math\n",
    "import os, glob\n",
    "import gc\n",
    "from geophys_utils._netcdf_line_utils import NetCDFLineUtils\n",
    "from geophys_utils._netcdf_point_utils import NetCDFPointUtils\n",
    "import rasterio\n",
    "from rasterio import Affine\n",
    "from rasterio.warp import reproject, Resampling"
   ]
  },
  {
   "cell_type": "code",
   "execution_count": 188,
   "metadata": {},
   "outputs": [],
   "source": [
    "def resample_raster2array(infile, newaff, new_shape, driver='GTiff',\n",
    "                    null = -999):\n",
    "\n",
    "    # Open\n",
    "    src = rasterio.open(infile)\n",
    "\n",
    "    # Extract data as an array\n",
    "    arr = src.read()[0]\n",
    "\n",
    "    # Get the affine\n",
    "    aff = src.transform\n",
    "\n",
    "\n",
    "    # Create new array with the grid\n",
    "    # coordinates from the kriging\n",
    "    newarr = np.empty(shape=new_shape)\n",
    "\n",
    "    # Reproject\n",
    "    reproject(\n",
    "        arr, newarr,\n",
    "        src_transform=aff,\n",
    "        dst_transform=newaff,\n",
    "        src_crs=src.crs,\n",
    "        dst_crs=src.crs,\n",
    "        resampling=Resampling.bilinear)\n",
    "\n",
    "    src.close()\n",
    "\n",
    "    # Do some post processing\n",
    "    #newarr[np.abs(newarr - null) < 0.000001] = np.nan\n",
    "    newarr[newarr < -10**2] = np.nan\n",
    "\n",
    "    return newarr"
   ]
  },
  {
   "cell_type": "code",
   "execution_count": 177,
   "metadata": {},
   "outputs": [],
   "source": [
    "# We also want to reshape the mobile water raster\n",
    "\n",
    "#infile = r\"D:\\GA\\aquifer_properties\\interpolated\\cenozoic_mobile.tif\"\n",
    "infile = r\"D:\\GA\\aquifer_properties\\interpolated\\permocarb_mobile.tif\"\n",
    "\n",
    "mob_water_src = rasterio.open(infile)"
   ]
  },
  {
   "cell_type": "code",
   "execution_count": 178,
   "metadata": {},
   "outputs": [],
   "source": [
    "arr = mob_water_src.read()[0]\n",
    "\n",
    "# Get the affine\n",
    "aff = mob_water_src.transform\n",
    "\n",
    "# GEt log of the water content\n",
    "\n",
    "logMob = np.log10(arr)"
   ]
  },
  {
   "cell_type": "code",
   "execution_count": 179,
   "metadata": {},
   "outputs": [
    {
     "data": {
      "text/plain": [
       "(251, 261)"
      ]
     },
     "execution_count": 179,
     "metadata": {},
     "output_type": "execute_result"
    }
   ],
   "source": [
    "arr.shape"
   ]
  },
  {
   "cell_type": "code",
   "execution_count": 180,
   "metadata": {},
   "outputs": [
    {
     "name": "stdout",
     "output_type": "stream",
     "text": [
      "layer_01_000.0_002.0_m.tif\n",
      "layer_02_002.0_004.0_m.tif\n",
      "layer_03_004.0_006.2_m.tif\n",
      "layer_04_006.2_008.4_m.tif\n",
      "layer_05_008.4_010.9_m.tif\n",
      "layer_06_010.9_013.6_m.tif\n",
      "layer_07_013.6_016.6_m.tif\n",
      "layer_08_016.6_020.0_m.tif\n",
      "layer_09_020.0_023.8_m.tif\n",
      "layer_10_023.8_028.1_m.tif\n",
      "layer_11_028.1_033.1_m.tif\n",
      "layer_12_033.1_038.8_m.tif\n",
      "layer_13_038.8_045.3_m.tif\n",
      "layer_14_045.3_052.9_m.tif\n",
      "layer_15_052.9_061.6_m.tif\n",
      "layer_16_061.6_071.7_m.tif\n",
      "layer_17_071.7_083.4_m.tif\n",
      "layer_18_083.4_096.9_m.tif\n",
      "layer_19_096.9_112.6_m.tif\n",
      "layer_20_112.6_130.8_m.tif\n",
      "layer_21_130.8_151.9_m.tif\n",
      "layer_22_151.9_176.3_m.tif\n",
      "layer_23_176.3_204.7_m.tif\n",
      "layer_24_204.7_237.6_m.tif\n",
      "layer_25_237.6_275.7_m.tif\n",
      "layer_26_275.7_319.9_m.tif\n",
      "layer_27_319.9_371.3_m.tif\n",
      "layer_28_371.3_430.9_m.tif\n",
      "layer_29_430.9_500.0_m.tif\n",
      "layer_30_500.0_Inf_m.tif\n"
     ]
    }
   ],
   "source": [
    "# OPen an AEM grid, resample them onto the same affine as the stratigraphy\n",
    "# and save them as a multiband array\n",
    "\n",
    "import glob\n",
    "\n",
    "os.chdir(r\"D:\\GA\\EK_AEM\\OrdKeep_borehole_constrained\\gdal_grids\\grids\\layergrids\")\n",
    "\n",
    "arrs = np.empty(shape = (30, arr.shape[0], arr.shape[1]), dtype = np.float32)\n",
    "intervals = np.zeros(shape = (30,2), dtype = np.float32)\n",
    "\n",
    "for i, file in enumerate(glob.glob('*.tif')):\n",
    "    \n",
    "    print(file)\n",
    "    \n",
    "    arrs[i] = resample_raster2array(file, aff, arr.shape,\n",
    "                                    driver='GTiff', null = 0)\n",
    "    \n",
    "    intervals[i] = [float(file.split('_')[2]), float(file.split('_')[3])]"
   ]
  },
  {
   "cell_type": "code",
   "execution_count": 181,
   "metadata": {},
   "outputs": [],
   "source": [
    "# Create the log conductivity array\n",
    "\n",
    "logcond =np.log10(arrs)\n",
    "\n",
    "# GEt depth top array\n",
    "depth_top = intervals[:,0]"
   ]
  },
  {
   "cell_type": "code",
   "execution_count": 143,
   "metadata": {},
   "outputs": [],
   "source": [
    "outfile = r\"C:\\temp\\AEM_multiband_downsampled.tif\"\n",
    "\n",
    "new_dataset = rasterio.open(outfile, 'w', driver='GTiff',\n",
    "                                height=arrs.shape[1], width=arrs.shape[2],\n",
    "                                count=arrs.shape[0], dtype=np.float32,\n",
    "                                crs=src.crs, transform=aff)\n",
    "for i in range(30):\n",
    "    new_dataset.write(arrs[i], i+1)\n",
    "\n",
    "new_dataset.close()"
   ]
  },
  {
   "cell_type": "code",
   "execution_count": 189,
   "metadata": {},
   "outputs": [],
   "source": [
    "# Open\n",
    "#infile = r\"D:\\GA\\KeepWaterTable\\raster_elevation_interpolation\\nulled\\KeepRiver_water_table_mBGL.tif\"\n",
    "infile = r\"D:\\GA\\AEM_interp_OrdKeep\\Neil\\elevatoin\\Cuk_Pk_top.tif\"\n",
    "\n",
    "strat_top = resample_raster2array(infile, aff, arr.shape,\n",
    "                                    driver='GTiff', null = -3.40282e+38)\n",
    "\n",
    "#infile = r\"D:\\GA\\AEM_interp_OrdKeep\\Neil\\elevatoin\\Cz_base.tif\"\n",
    "infile = r\"D:\\GA\\AEM_interp_OrdKeep\\Neil\\elevatoin\\Cuk_Pk_base.tif\"\n",
    "\n",
    "strat_base = resample_raster2array(infile, aff, arr.shape,\n",
    "                                    driver='GTiff', null = null\n",
    "                                      )\n"
   ]
  },
  {
   "cell_type": "code",
   "execution_count": 196,
   "metadata": {},
   "outputs": [
    {
     "data": {
      "text/plain": [
       "150.00000000000003"
      ]
     },
     "execution_count": 196,
     "metadata": {},
     "output_type": "execute_result"
    }
   ],
   "source": [
    "np.nanmax(strat_top)"
   ]
  },
  {
   "cell_type": "code",
   "execution_count": 191,
   "metadata": {},
   "outputs": [],
   "source": [
    "# We need to conver the strat top and base to depth\n",
    "\n",
    "# Bring in the LiDAR\n",
    "\n",
    "infile = r\"D:\\GA\\rasters\\EK_LiDAR_cubic_5x5.tif\"\n",
    "\n",
    "lid5m = resample_raster2array(infile, aff, arr.shape,\n",
    "                                    driver='GTiff', null = null\n",
    "                                      )"
   ]
  },
  {
   "cell_type": "code",
   "execution_count": 194,
   "metadata": {},
   "outputs": [],
   "source": [
    "# Now convert strat top and base to depth by subtracting them from the LiDAR\n",
    "\n",
    "strat_top_depth = strat_top\n",
    "strat_top_depth = lid5m - strat_top\n",
    "strat_base_depth = lid5m - strat_base"
   ]
  },
  {
   "cell_type": "code",
   "execution_count": 210,
   "metadata": {},
   "outputs": [
    {
     "name": "stderr",
     "output_type": "stream",
     "text": [
      "C:\\Users\\symin\\Anaconda3\\envs\\hydrogeol_utils\\lib\\site-packages\\ipykernel_launcher.py:3: RuntimeWarning: invalid value encountered in less\n",
      "  This is separate from the ipykernel package so we can avoid doing imports until\n"
     ]
    }
   ],
   "source": [
    "# Do some post processing for negative depths\n",
    "\n",
    "strat_top_depth[strat_top_depth < 0] = 0"
   ]
  },
  {
   "cell_type": "code",
   "execution_count": 232,
   "metadata": {},
   "outputs": [],
   "source": [
    "# Now we want to iterate through the strat coordinates\n",
    "# find top and bottom and use this to find the AEM conductivity\n",
    "\n",
    "log_AEM_interval = np.nan*np.ones(shape = (strat_top_depth.shape), dtype = np.float32)\n",
    "\n",
    "for i in range(strat_top_depth.shape[0]):\n",
    "    for j in range(strat_top_depth.shape[1]):\n",
    "        top = strat_top_depth[i,j]\n",
    "        base = strat_base_depth[i,j]\n",
    "        \n",
    "        #if (~np.isnan(top)) and (~np.isnan(base)) and (top < base):\n",
    "        if (~np.isnan(top)) and (top < base):\n",
    "            top_ind = np.searchsorted(depth_top, top)\n",
    "            base_ind = np.searchsorted(depth_top, base)\n",
    "            \n",
    "            # Now use these indices to slice and average the log10 AEM\n",
    "            if top_ind == base_ind:\n",
    "                log_AEM_interval[i,j] = logcond[top_ind,i,j]\n",
    "            elif top_ind < base_ind:\n",
    "                log_AEM_interval[i,j] = logcond[top_ind:base_ind,i,j].mean()\n",
    "            else:\n",
    "                print('error')\n",
    "\n",
    "        \n"
   ]
  },
  {
   "cell_type": "code",
   "execution_count": 233,
   "metadata": {},
   "outputs": [],
   "source": [
    "# Now we can estimate our water quality value\n",
    "\n",
    "#m = 0.509 # From KP\n",
    "m = 0.726\n",
    "\n",
    "logEC = log_AEM_interval - (m * logMob)"
   ]
  },
  {
   "cell_type": "code",
   "execution_count": 234,
   "metadata": {},
   "outputs": [],
   "source": [
    "# Convert to EC\n",
    "\n",
    "EC = 10**logEC"
   ]
  },
  {
   "cell_type": "code",
   "execution_count": 216,
   "metadata": {},
   "outputs": [],
   "source": [
    "# Export as a raster\n",
    "\n",
    "outfile = r\"D:\\GA\\waterQuality\\permocarb_EC.tif\"\n",
    "\n",
    "new_dataset = rasterio.open(outfile, 'w', driver='GTiff',\n",
    "                                height=arrs.shape[1], width=arrs.shape[2],\n",
    "                                count=arrs.shape[0], dtype=np.float32,\n",
    "                                crs=src.crs, transform=aff)\n",
    "new_dataset.write(EC, 1)\n",
    "\n",
    "new_dataset.close()"
   ]
  },
  {
   "cell_type": "code",
   "execution_count": 214,
   "metadata": {},
   "outputs": [
    {
     "data": {
      "text/plain": [
       "array([[nan, nan, nan, ..., nan, nan, nan],\n",
       "       [nan, nan, nan, ..., nan, nan, nan],\n",
       "       [nan, nan, nan, ..., nan, nan, nan],\n",
       "       ...,\n",
       "       [nan, nan, nan, ..., nan, nan, nan],\n",
       "       [nan, nan, nan, ..., nan, nan, nan],\n",
       "       [nan, nan, nan, ..., nan, nan, nan]], dtype=float32)"
      ]
     },
     "execution_count": 214,
     "metadata": {},
     "output_type": "execute_result"
    }
   ],
   "source": [
    "EC"
   ]
  },
  {
   "cell_type": "code",
   "execution_count": 235,
   "metadata": {},
   "outputs": [
    {
     "data": {
      "text/plain": [
       "<matplotlib.image.AxesImage at 0x1bb025771d0>"
      ]
     },
     "execution_count": 235,
     "metadata": {},
     "output_type": "execute_result"
    },
    {
     "data": {
      "image/png": "[encoded data removed]",
      "text/plain": [
       "<matplotlib.figure.Figure at 0x1bb024aa668>"
      ]
     },
     "metadata": {},
     "output_type": "display_data"
    }
   ],
   "source": [
    "plt.imshow(log_AEM_interval)"
   ]
  },
  {
   "cell_type": "code",
   "execution_count": 228,
   "metadata": {},
   "outputs": [
    {
     "data": {
      "text/plain": [
       "array([[nan, nan, nan, ..., nan, nan, nan],\n",
       "       [nan, nan, nan, ..., nan, nan, nan],\n",
       "       [nan, nan, nan, ..., nan, nan, nan],\n",
       "       ...,\n",
       "       [nan, nan, nan, ..., nan, nan, nan],\n",
       "       [nan, nan, nan, ..., nan, nan, nan],\n",
       "       [nan, nan, nan, ..., nan, nan, nan]], dtype=float32)"
      ]
     },
     "execution_count": 228,
     "metadata": {},
     "output_type": "execute_result"
    }
   ],
   "source": [
    "log_AEM_interval"
   ]
  },
  {
   "cell_type": "code",
   "execution_count": null,
   "metadata": {},
   "outputs": [],
   "source": []
  }
 ],
 "metadata": {
  "kernelspec": {
   "display_name": "Python 3",
   "language": "python",
   "name": "python3"
  },
  "language_info": {
   "codemirror_mode": {
    "name": "ipython",
    "version": 3
   },
   "file_extension": ".py",
   "mimetype": "text/x-python",
   "name": "python",
   "nbconvert_exporter": "python",
   "pygments_lexer": "ipython3",
   "version": "3.6.3"
  }
 },
 "nbformat": 4,
 "nbformat_minor": 2
}
