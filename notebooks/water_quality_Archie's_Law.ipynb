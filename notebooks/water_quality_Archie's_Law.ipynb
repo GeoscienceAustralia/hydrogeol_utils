{
 "cells": [
  {
   "cell_type": "markdown",
   "metadata": {},
   "source": [
    "A notebook demostrating the use of Archie's Law to estimate water qulity estimates. The equation is the following.\n",
    "\n",
    "logCw = logCt – mlogØ\n",
    "\n",
    " \n",
    "\n",
    "where Cw is the predicted fluid EC (S/m), Ct is bulk conductivity and logØ is the free water.\n",
    "\n",
    "We are trying to estimate fluid EC at on a grid given AEM conductivity (interpolated) and mobile water (interpolated) and a cementation factor based on empirical relationships developed using pore fluid EC and borehole NMR.\n",
    "\n",
    "Neil Symington\n",
    "neil.symington@ga.gov.au"
   ]
  },
  {
   "cell_type": "code",
   "execution_count": 1,
   "metadata": {},
   "outputs": [],
   "source": [
    "%matplotlib inline"
   ]
  },
  {
   "cell_type": "code",
   "execution_count": 2,
   "metadata": {},
   "outputs": [],
   "source": [
    "import pandas\n",
    "import rasterio\n",
    "import numpy as np\n",
    "from hydrogeol_utils import SNMR_utils, AEM_utils, spatial_functions, borehole_utils\n",
    "import netCDF4\n",
    "import math\n",
    "import os, glob\n",
    "import gc\n",
    "from geophys_utils._netcdf_line_utils import NetCDFLineUtils\n",
    "from geophys_utils._netcdf_point_utils import NetCDFPointUtils\n",
    "import rasterio\n",
    "from rasterio import Affine\n",
    "from rasterio.warp import reproject, Resampling\n",
    "from scipy import interpolate\n",
    "import matplotlib.pyplot as plt"
   ]
  },
  {
   "cell_type": "code",
   "execution_count": 3,
   "metadata": {},
   "outputs": [],
   "source": [
    "def resample_raster2array(infile, newaff, new_shape, driver='GTiff',\n",
    "                    null = -999):\n",
    "\n",
    "    # Open\n",
    "    src = rasterio.open(infile)\n",
    "\n",
    "    # Extract data as an array\n",
    "    arr = src.read()[0]\n",
    "\n",
    "    # Get the affine\n",
    "    aff = src.transform\n",
    "\n",
    "\n",
    "    # Create new array with the grid\n",
    "    # coordinates from the kriging\n",
    "    newarr = np.empty(shape=new_shape)\n",
    "\n",
    "    # Reproject\n",
    "    reproject(\n",
    "        arr, newarr,\n",
    "        src_transform=aff,\n",
    "        dst_transform=newaff,\n",
    "        src_crs=src.crs,\n",
    "        dst_crs=src.crs,\n",
    "        resampling=Resampling.bilinear)\n",
    "\n",
    "    src.close()\n",
    "\n",
    "    # Do some post processing\n",
    "    #newarr[np.abs(newarr - null) < 0.000001] = np.nan\n",
    "    newarr[newarr < -900] = np.nan\n",
    "\n",
    "    return newarr\n",
    "\n",
    "def slice_conductivity(logcondprofile, cond_intervals, base, top):\n",
    "    old_intervals = cond_intervals.copy()\n",
    "    \n",
    "    old_intervals[:,0]= old_intervals[:,0] + 0.01\n",
    "\n",
    "    old_intervals = np.sort(old_intervals.flatten())\n",
    "    \n",
    "    # repeat params\n",
    "    params = np.repeat(logcondprofile, 2)\n",
    "    \n",
    "    # Interpolate\n",
    "\n",
    "    f = interpolate.interp1d(old_intervals,\n",
    "                             params, kind='linear')\n",
    "    \n",
    "    new_intervals = np.array([top,base])\n",
    "    \n",
    "    xnew = new_intervals\n",
    "    \n",
    "    xnew = xnew[(xnew > np.min(old_intervals)) & (xnew < np.max(old_intervals))]\n",
    "\n",
    "    xnew = np.sort(np.concatenate((old_intervals, xnew)))\n",
    "\n",
    "    ynew = f(xnew)\n",
    "    mask = np.logical_and(xnew <= base, xnew >= top)\n",
    "    \n",
    "    new_profile = ynew[mask]\n",
    "    new_depths = xnew[mask]\n",
    "    \n",
    "    # Calculate thickness\n",
    "    thickness = spatial_functions.depth_to_thickness(new_depths)[:-1]\n",
    "    # Calculate weights based on thickness\n",
    "    weights = thickness/(thickness.sum())\n",
    "    \n",
    "    # Now multiply these weights by the profile\n",
    "    weighted_logcond = weights * new_profile[:-1]\n",
    "    \n",
    "    return(np.sum(weighted_logcond))\n",
    "    \n"
   ]
  },
  {
   "cell_type": "code",
   "execution_count": 4,
   "metadata": {},
   "outputs": [
    {
     "ename": "RasterioIOError",
     "evalue": "'D:\\GA\\aquifer_properties\\interpolated\\permocarb_mobile.tif' does not exist in the file system, and is not recognized as a supported dataset name.",
     "output_type": "error",
     "traceback": [
      "\u001b[1;31m---------------------------------------------------------------------------\u001b[0m",
      "\u001b[1;31mCPLE_OpenFailedError\u001b[0m                      Traceback (most recent call last)",
      "\u001b[1;32mrasterio\\_base.pyx\u001b[0m in \u001b[0;36mrasterio._base.DatasetBase.__init__\u001b[1;34m()\u001b[0m\n",
      "\u001b[1;32mrasterio\\_shim.pyx\u001b[0m in \u001b[0;36mrasterio._shim.open_dataset\u001b[1;34m()\u001b[0m\n",
      "\u001b[1;32mrasterio\\_err.pyx\u001b[0m in \u001b[0;36mrasterio._err.exc_wrap_pointer\u001b[1;34m()\u001b[0m\n",
      "\u001b[1;31mCPLE_OpenFailedError\u001b[0m: 'D:\\GA\\aquifer_properties\\interpolated\\permocarb_mobile.tif' does not exist in the file system, and is not recognized as a supported dataset name.",
      "\nDuring handling of the above exception, another exception occurred:\n",
      "\u001b[1;31mRasterioIOError\u001b[0m                           Traceback (most recent call last)",
      "\u001b[1;32m<ipython-input-4-13ec2cccfb36>\u001b[0m in \u001b[0;36m<module>\u001b[1;34m()\u001b[0m\n\u001b[0;32m      4\u001b[0m \u001b[0minfile\u001b[0m \u001b[1;33m=\u001b[0m \u001b[1;34mr\"D:\\GA\\aquifer_properties\\interpolated\\permocarb_mobile.tif\"\u001b[0m\u001b[1;33m\u001b[0m\u001b[0m\n\u001b[0;32m      5\u001b[0m \u001b[1;33m\u001b[0m\u001b[0m\n\u001b[1;32m----> 6\u001b[1;33m \u001b[0mmob_water_src\u001b[0m \u001b[1;33m=\u001b[0m \u001b[0mrasterio\u001b[0m\u001b[1;33m.\u001b[0m\u001b[0mopen\u001b[0m\u001b[1;33m(\u001b[0m\u001b[0minfile\u001b[0m\u001b[1;33m)\u001b[0m\u001b[1;33m\u001b[0m\u001b[0m\n\u001b[0m",
      "\u001b[1;32m~\\AppData\\Local\\Continuum\\anaconda3\\envs\\hydrogeol_utils\\lib\\site-packages\\rasterio\\env.py\u001b[0m in \u001b[0;36mwrapper\u001b[1;34m(*args, **kwds)\u001b[0m\n\u001b[0;32m    400\u001b[0m \u001b[1;33m\u001b[0m\u001b[0m\n\u001b[0;32m    401\u001b[0m         \u001b[1;32mwith\u001b[0m \u001b[0menv_ctor\u001b[0m\u001b[1;33m(\u001b[0m\u001b[0msession\u001b[0m\u001b[1;33m=\u001b[0m\u001b[0msession\u001b[0m\u001b[1;33m)\u001b[0m\u001b[1;33m:\u001b[0m\u001b[1;33m\u001b[0m\u001b[0m\n\u001b[1;32m--> 402\u001b[1;33m             \u001b[1;32mreturn\u001b[0m \u001b[0mf\u001b[0m\u001b[1;33m(\u001b[0m\u001b[1;33m*\u001b[0m\u001b[0margs\u001b[0m\u001b[1;33m,\u001b[0m \u001b[1;33m**\u001b[0m\u001b[0mkwds\u001b[0m\u001b[1;33m)\u001b[0m\u001b[1;33m\u001b[0m\u001b[0m\n\u001b[0m\u001b[0;32m    403\u001b[0m \u001b[1;33m\u001b[0m\u001b[0m\n\u001b[0;32m    404\u001b[0m     \u001b[1;32mreturn\u001b[0m \u001b[0mwrapper\u001b[0m\u001b[1;33m\u001b[0m\u001b[0m\n",
      "\u001b[1;32m~\\AppData\\Local\\Continuum\\anaconda3\\envs\\hydrogeol_utils\\lib\\site-packages\\rasterio\\__init__.py\u001b[0m in \u001b[0;36mopen\u001b[1;34m(fp, mode, driver, width, height, count, crs, transform, dtype, nodata, sharing, **kwargs)\u001b[0m\n\u001b[0;32m    215\u001b[0m         \u001b[1;31m# None.\u001b[0m\u001b[1;33m\u001b[0m\u001b[1;33m\u001b[0m\u001b[0m\n\u001b[0;32m    216\u001b[0m         \u001b[1;32mif\u001b[0m \u001b[0mmode\u001b[0m \u001b[1;33m==\u001b[0m \u001b[1;34m'r'\u001b[0m\u001b[1;33m:\u001b[0m\u001b[1;33m\u001b[0m\u001b[0m\n\u001b[1;32m--> 217\u001b[1;33m             \u001b[0ms\u001b[0m \u001b[1;33m=\u001b[0m \u001b[0mDatasetReader\u001b[0m\u001b[1;33m(\u001b[0m\u001b[0mpath\u001b[0m\u001b[1;33m,\u001b[0m \u001b[0mdriver\u001b[0m\u001b[1;33m=\u001b[0m\u001b[0mdriver\u001b[0m\u001b[1;33m,\u001b[0m \u001b[1;33m**\u001b[0m\u001b[0mkwargs\u001b[0m\u001b[1;33m)\u001b[0m\u001b[1;33m\u001b[0m\u001b[0m\n\u001b[0m\u001b[0;32m    218\u001b[0m         \u001b[1;32melif\u001b[0m \u001b[0mmode\u001b[0m \u001b[1;33m==\u001b[0m \u001b[1;34m'r+'\u001b[0m\u001b[1;33m:\u001b[0m\u001b[1;33m\u001b[0m\u001b[0m\n\u001b[0;32m    219\u001b[0m             \u001b[0ms\u001b[0m \u001b[1;33m=\u001b[0m \u001b[0mget_writer_for_path\u001b[0m\u001b[1;33m(\u001b[0m\u001b[0mpath\u001b[0m\u001b[1;33m)\u001b[0m\u001b[1;33m(\u001b[0m\u001b[0mpath\u001b[0m\u001b[1;33m,\u001b[0m \u001b[0mmode\u001b[0m\u001b[1;33m,\u001b[0m \u001b[0mdriver\u001b[0m\u001b[1;33m=\u001b[0m\u001b[0mdriver\u001b[0m\u001b[1;33m,\u001b[0m \u001b[1;33m**\u001b[0m\u001b[0mkwargs\u001b[0m\u001b[1;33m)\u001b[0m\u001b[1;33m\u001b[0m\u001b[0m\n",
      "\u001b[1;32mrasterio\\_base.pyx\u001b[0m in \u001b[0;36mrasterio._base.DatasetBase.__init__\u001b[1;34m()\u001b[0m\n",
      "\u001b[1;31mRasterioIOError\u001b[0m: 'D:\\GA\\aquifer_properties\\interpolated\\permocarb_mobile.tif' does not exist in the file system, and is not recognized as a supported dataset name."
     ]
    }
   ],
   "source": [
    "# We also want to reshape the mobile water raster\n",
    "\n",
    "#infile = r\"D:\\GA\\aquifer_properties\\interpolated\\cenozoic_mobile.tif\"\n",
    "infile = r\"D:\\GA\\aquifer_properties\\interpolated\\permocarb_mobile.tif\"\n",
    "\n",
    "mob_water_src = rasterio.open(infile)"
   ]
  },
  {
   "cell_type": "code",
   "execution_count": null,
   "metadata": {},
   "outputs": [],
   "source": [
    "arr = mob_water_src.read()[0]\n",
    "\n",
    "# Get the affine\n",
    "aff = mob_water_src.transform\n",
    "\n",
    "# GEt log of the water content\n",
    "\n",
    "logMob = np.log10(arr)"
   ]
  },
  {
   "cell_type": "code",
   "execution_count": null,
   "metadata": {},
   "outputs": [],
   "source": [
    "plt.close()\n",
    "plt.imshow(arr)\n",
    "plt.show()"
   ]
  },
  {
   "cell_type": "code",
   "execution_count": null,
   "metadata": {},
   "outputs": [],
   "source": [
    "# OPen an AEM grid, resample them onto the same affine as the stratigraphy\n",
    "# and save them as a multiband array\n",
    "\n",
    "import glob\n",
    "\n",
    "os.chdir(r\"D:\\GA\\EK_AEM\\OrdKeep_borehole_constrained\\gdal_grids\\grids\\layergrids\")\n",
    "\n",
    "cond = np.nan*np.ones(shape = (30, arr.shape[0], arr.shape[1]),\n",
    "                      dtype = np.float32)\n",
    "intervals = np.zeros(shape = (30,2), dtype = np.float32)\n",
    "\n",
    "for i, file in enumerate(glob.glob('*.tif')):\n",
    "    \n",
    "    print(file)\n",
    "    \n",
    "    cond[i] = resample_raster2array(file, aff, arr.shape,\n",
    "                                    driver='GTiff', null = 0)\n",
    "    \n",
    "    intervals[i] = [float(file.split('_')[2]), float(file.split('_')[3])]"
   ]
  },
  {
   "cell_type": "code",
   "execution_count": null,
   "metadata": {},
   "outputs": [],
   "source": [
    "cond_intervals = intervals.copy()"
   ]
  },
  {
   "cell_type": "code",
   "execution_count": null,
   "metadata": {},
   "outputs": [],
   "source": [
    "# Create the log conductivity array\n",
    "\n",
    "logcond =np.log10(cond)\n"
   ]
  },
  {
   "cell_type": "code",
   "execution_count": null,
   "metadata": {},
   "outputs": [],
   "source": [
    "plt.close()\n",
    "plt.imshow(logcond[0])\n",
    "\n",
    "plt.show()"
   ]
  },
  {
   "cell_type": "code",
   "execution_count": null,
   "metadata": {},
   "outputs": [],
   "source": [
    "# Open\n",
    "#infile = r\"D:\\GA\\KeepWaterTable\\raster_elevation_interpolation\\nulled\\KeepRiver_water_table_mBGL.tif\"\n",
    "infile = r\"D:\\GA\\AEM_interp_OrdKeep\\Neil\\elevatoin\\Cuk_Pk_top.tif\"\n",
    "\n",
    "strat_top = resample_raster2array(infile, aff, logMob.shape,\n",
    "                                    driver='GTiff', null = -3.40282e+38)\n",
    "\n",
    "#infile = r\"D:\\GA\\AEM_interp_OrdKeep\\Neil\\elevatoin\\Cz_base.tif\"\n",
    "infile = r\"D:\\GA\\AEM_interp_OrdKeep\\Neil\\elevatoin\\Cuk_Pk_base.tif\"\n",
    "\n",
    "strat_base = resample_raster2array(infile, aff, logMob.shape,\n",
    "                                    driver='GTiff', null = -3.40282e+38\n",
    "                                      )\n"
   ]
  },
  {
   "cell_type": "code",
   "execution_count": null,
   "metadata": {},
   "outputs": [],
   "source": [
    "# We need to conver the strat top and base to depth\n",
    "\n",
    "# Bring in the LiDAR\n",
    "\n",
    "infile = r\"D:\\GA\\rasters\\EK_LiDAR_cubic_5x5.tif\"\n",
    "\n",
    "lid5m = resample_raster2array(infile, aff, logMob.shape,\n",
    "                                    driver='GTiff', null = -9999.\n",
    "                                      )"
   ]
  },
  {
   "cell_type": "code",
   "execution_count": null,
   "metadata": {},
   "outputs": [],
   "source": [
    "# Now convert strat top and base to depth by subtracting them from the LiDAR\n",
    "\n",
    "#strat_top_depth = strat_top\n",
    "strat_top_depth = lid5m - strat_top\n",
    "strat_base_depth = lid5m - strat_base"
   ]
  },
  {
   "cell_type": "code",
   "execution_count": null,
   "metadata": {},
   "outputs": [],
   "source": [
    "# Do some post processing for negative depths\n",
    "\n",
    "strat_top_depth[strat_top_depth < 0] = 0"
   ]
  },
  {
   "cell_type": "code",
   "execution_count": null,
   "metadata": {},
   "outputs": [],
   "source": [
    "depth_top = intervals[:,0]"
   ]
  },
  {
   "cell_type": "code",
   "execution_count": null,
   "metadata": {},
   "outputs": [],
   "source": [
    "# Now we want to iterate through the strat coordinates\n",
    "# find top and bottom and use this to find the AEM conductivity\n",
    "\n",
    "log_AEM_interval = np.nan*np.ones(shape = (strat_top_depth.shape), dtype = np.float32)\n",
    "\n",
    "for i in range(strat_top_depth.shape[0]):\n",
    "    for j in range(strat_top_depth.shape[1]):\n",
    "        top = strat_top_depth[i,j]\n",
    "        base = strat_base_depth[i,j]\n",
    "\n",
    "        if (~np.isnan(top)) and (top < base):\n",
    "            top_ind = np.searchsorted(depth_top, top)\n",
    "            base_ind = np.searchsorted(depth_top, base)\n",
    "            \n",
    "            # Now use these indices to slice and average the log10 AEM\n",
    "            if top_ind == base_ind:\n",
    "                log_AEM_interval[i,j] = logcond[top_ind,i,j]\n",
    "            elif top_ind < base_ind:\n",
    "                log_AEM_interval[i,j] = slice_conductivity(logcond[:,i,j], cond_intervals, base, top)\n",
    "            else:\n",
    "                print('error')\n",
    "\n",
    "\n",
    "        \n"
   ]
  },
  {
   "cell_type": "code",
   "execution_count": null,
   "metadata": {},
   "outputs": [],
   "source": [
    "# Now we can estimate our water quality value\n",
    "\n",
    "#m = 0.509 # From KP\n",
    "m = 0.726\n",
    "\n",
    "logEC = log_AEM_interval - (m * logMob)"
   ]
  },
  {
   "cell_type": "code",
   "execution_count": null,
   "metadata": {},
   "outputs": [],
   "source": [
    "# Convert to EC\n",
    "\n",
    "EC = 10**logEC"
   ]
  },
  {
   "cell_type": "code",
   "execution_count": null,
   "metadata": {},
   "outputs": [],
   "source": [
    "# Export as a raster\n",
    "\n",
    "outfile = r\"D:\\GA\\waterQuality\\permocarb_EC.tif\"\n",
    "#outfile = r\"D:\\GA\\waterQuality\\Cenozoic_EC.tif\"\n",
    "\n",
    "new_dataset = rasterio.open(outfile, 'w', driver='GTiff',\n",
    "                                height= EC.shape[0], width=EC.shape[1],\n",
    "                                count=1, dtype=np.float32,\n",
    "                                crs=mob_water_src.crs, transform=aff)\n",
    "new_dataset.write(EC, 1)\n",
    "\n",
    "new_dataset.close()"
   ]
  },
  {
   "cell_type": "code",
   "execution_count": null,
   "metadata": {},
   "outputs": [],
   "source": [
    "TDS = EC/1.57 * 1000. # From Steve"
   ]
  },
  {
   "cell_type": "code",
   "execution_count": null,
   "metadata": {},
   "outputs": [],
   "source": [
    "# Export as a raster\n",
    "\n",
    "outfile = r\"D:\\GA\\waterQuality\\permocarb_TDS.tif\"\n",
    "#outfile = r\"D:\\GA\\waterQuality\\Cenozoic_TDS.tif\"\n",
    "\n",
    "new_dataset = rasterio.open(outfile, 'w', driver='GTiff',\n",
    "                                height= TDS.shape[0], width=TDS.shape[1],\n",
    "                                count=1, dtype=np.float32,\n",
    "                                crs=mob_water_src.crs, transform=aff)\n",
    "new_dataset.write(TDS, 1)\n",
    "\n",
    "new_dataset.close()"
   ]
  },
  {
   "cell_type": "code",
   "execution_count": null,
   "metadata": {},
   "outputs": [],
   "source": []
  }
 ],
 "metadata": {
  "kernelspec": {
   "display_name": "Python 3",
   "language": "python",
   "name": "python3"
  },
  "language_info": {
   "codemirror_mode": {
    "name": "ipython",
    "version": 3
   },
   "file_extension": ".py",
   "mimetype": "text/x-python",
   "name": "python",
   "nbconvert_exporter": "python",
   "pygments_lexer": "ipython3",
   "version": "3.6.3"
  }
 },
 "nbformat": 4,
 "nbformat_minor": 2
}
