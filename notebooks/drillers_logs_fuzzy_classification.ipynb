{
 "cells": [
  {
   "cell_type": "markdown",
   "metadata": {},
   "source": [
    "This notebook aims to classify drillers descriptions into lithological classes. Given the vagueness of classifying rocks with continuous properties into discrete classess as well as the inaccuracy of predictions we aim to use fuzzy theory to define the degree of class membership.\n",
    "\n",
    "Here is a real example of a drillers description 'Clayey fine(0.5-2 mm) sand; yellow light brown, with 5% FeO cemented concretions, sample dry'. This description would likely lead a geologist to classify this interval as a sand with some clay. In a winner take all scheme we may classify the interval as a sand, but this simplification loses much of the detalil of the description. Maybe a class membership of 0.7 sand and 0.3 clay might be a better representation.\n",
    "\n",
    "Neil Symington\n",
    "neil.symington@ga.gov.au"
   ]
  },
  {
   "cell_type": "code",
   "execution_count": 14,
   "metadata": {},
   "outputs": [],
   "source": [
    "import pandas as pd\n",
    "import geopandas as gpd\n",
    "import json\n",
    "import os\n",
    "import numpy as np\n",
    "import re\n",
    "import time\n",
    "import sqlite3\n",
    "import matplotlib.pyplot as plt\n",
    "from shapely.wkb import dumps, loads\n",
    "import shapely\n",
    "from collections import Counter"
   ]
  },
  {
   "cell_type": "code",
   "execution_count": 3,
   "metadata": {},
   "outputs": [],
   "source": [
    "# Define key functions\n",
    "\n",
    "def add_to_dictionary(value, key, dictionary):\n",
    "    \"\"\"\n",
    "    A function for appending an object to a dictionary\n",
    "    entry\n",
    "    \n",
    "    @param value: object to be added to the dictionary\n",
    "    @param key: dictionary key\n",
    "    @dictionary: dictionary\n",
    "    returns\n",
    "    dictionary with added values\n",
    "    \"\"\"\n",
    "    # Check if it already exists if so add nothing\n",
    "    try:\n",
    "        if values in dictionary[key]:\n",
    "            return dictionary\n",
    "        # Otherwise add the word\n",
    "        else:\n",
    "            dictionary[key] += [values]\n",
    "            return dictionary\n",
    "    except KeyError:\n",
    "        dictionary[key] = [values]\n",
    "        return dictionary\n",
    "\n",
    "def search(kword_dict, word):\n",
    "    \"\"\"\n",
    "    A search function for finding if a keword\n",
    "    exists as a list element within a dictionary entry\n",
    "    \n",
    "    @param kword_dict: dictionary with keywords\n",
    "    @word: string\n",
    "    returns\n",
    "    the key for the entry if it exists or None if not\n",
    "    \"\"\"\n",
    "    word = word.lower()\n",
    "    for k in kword_dict:\n",
    "        for v in kword_dict[k]:\n",
    "            if word in v:\n",
    "                return k\n",
    "    return None\n",
    "\n",
    "def keyword_frequency(string, kwords):\n",
    "    \"\"\"\n",
    "    Function for counting the occurene of key words\n",
    "    within a lithology description\n",
    "    \n",
    "    @param string: string from which to search for keywords\n",
    "    @parma kwords: list of keywords\n",
    "    keyword and the entries are a list of 'synonyms'\n",
    "    returns\n",
    "    \n",
    "    dictionary with score denoting the number of times a\n",
    "    key word was seen\n",
    "    \"\"\"\n",
    "    # remove punctuation and split into list\n",
    "    L = re.sub(r'[^\\w\\s]','', string).split()\n",
    "    # make entirely lowercase\n",
    "    L = [x.lower() for x in L]\n",
    "    # Now use counter funtoin for performance\n",
    "    c=Counter(L)\n",
    "    \n",
    "    newDict = dict.fromkeys(kwords, 0)\n",
    "    # Iterate through words in description\n",
    "    for item, count in c.items():\n",
    "        # If the item is in the key word dict\n",
    "        # then add the counted value to the new dictionary\n",
    "        if item in kwords:\n",
    "            # if the entry is in the kword dictionary\n",
    "            # assign the item a 1 in newDict\n",
    "            newDict[item] += count\n",
    "    \n",
    "    # Return the dictionary\n",
    "    return newDict"
   ]
  },
  {
   "cell_type": "code",
   "execution_count": 4,
   "metadata": {},
   "outputs": [],
   "source": [
    "# Open the key word dictionary from a json file produced in drillers_description_bag_of_words\n",
    "\n",
    "\n",
    "filename = r\"C:\\Users\\symin\\OneDrive\\Documents\\GA\\lithology_classification\\NGIS_lithology_kwords_fuzzy.json\"\n",
    "\n",
    "with open(filename, 'r') as f:\n",
    "    lithology_kwords = json.load(f)\n",
    "\n",
    "# Or save\n",
    "#with open(filename, 'w') as f:\n",
    "    # Make sure the dictionary exists otherwise the json will be wiped\n",
    "#    try:\n",
    "#        lithology_kwords\n",
    "#    except NameError:\n",
    "#        print(\"Dictionary undefined\")\n",
    "#    else:\n",
    "#        json.dump(lithology_kwords, f,\n",
    "#                  indent=4, sort_keys=True)"
   ]
  },
  {
   "cell_type": "code",
   "execution_count": 5,
   "metadata": {},
   "outputs": [],
   "source": [
    "# Here we are going to add some editting of this to produce adjective classes for lithologies (i.e. sandy, clayey)\n",
    "\n",
    "new_kwords = ['sandy', 'silty', 'clayey']\n",
    "\n",
    "for item in new_kwords:\n",
    "    lithology_kwords[item] = []\n",
    "    # Search corresponding entries for similar keywords\n",
    "    prefix = item[:4]\n",
    "    for entry in lithology_kwords[prefix]:\n",
    "        if item in entry:\n",
    "            lithology_kwords[prefix].remove(entry)\n",
    "            lithology_kwords[item].append(entry)\n",
    "    for entry in lithology_kwords[prefix + 'stone']:\n",
    "        if item in entry:\n",
    "            lithology_kwords[prefix + 'stone'].remove(entry)\n",
    "            lithology_kwords[item].append(entry)\n",
    "            \n",
    "    "
   ]
  },
  {
   "cell_type": "code",
   "execution_count": 6,
   "metadata": {},
   "outputs": [],
   "source": [
    "# Here we add some keywrods that were missed\n",
    "\n",
    "lithology_kwords['unconsolidated'] = ['unconsolidated']\n",
    "lithology_kwords['consolidated'] = ['consolidated']"
   ]
  },
  {
   "cell_type": "code",
   "execution_count": 7,
   "metadata": {},
   "outputs": [
    {
     "name": "stdout",
     "output_type": "stream",
     "text": [
      "dict_keys(['alluvium', 'amphibolite', 'angular', 'artificial', 'banded', 'basalt', 'bedrock', 'bioturbation', 'blotched', 'bluestone', 'breccia', 'brown', 'carbonate', 'cavity', 'cement', 'chalcedony', 'chert', 'clast', 'clay', 'clayey', 'claystone', 'coal', 'coarse', 'conglomerate', 'coral', 'cross-bedding', 'dark', 'deformation', 'diorite', 'dolerite', 'dolomite', 'dolostone', 'dropstone', 'dry', 'duricrust', 'fe oxides', 'fine', 'gneiss', 'grading', 'grained', 'grainsize', 'granite', 'gravel', 'grey', 'greywacke', 'groundwater', 'imbrication', 'intraclasts', 'ironstone', 'kaolinite', 'lag', 'lamination', 'laterite', 'light', 'limestone', 'lineation', 'loam', 'massive', 'matrix', 'medium', 'moderately', 'moist', 'mottled', 'mud', 'mudflakes', 'mudstone', 'orange', 'overbank', 'pegmatite', 'phyllite', 'pink', 'poorly', 'porcellanite', 'purple', 'quartz', 'quartzite', 'red', 'regolith', 'ripple', 'rock', 'root', 'rounded', 'sand', 'sandstone', 'sandy', 'schist', 'sediment', 'shale', 'silt', 'siltstone', 'silty', 'slate', 'soil', 'sorted', 'streaked', 'unknown', 'vegetation', 'very', 'water', 'weathered', 'well', 'wet', 'white', 'yellow', 'unconsolidated', 'consolidated'])\n"
     ]
    }
   ],
   "source": [
    "print(lithology_kwords.keys())"
   ]
  },
  {
   "cell_type": "code",
   "execution_count": 8,
   "metadata": {},
   "outputs": [],
   "source": [
    "# Next we want a series of lists for how the keywords relate to the classes\n",
    "\n",
    "# We will start with sediment vs consolidated rock\n",
    "\n",
    "sediment = ['alluvium', 'gravel', 'sand', 'silt', 'clay', 'mud', 'loam', 'soil', 'regolith', 'unconsolidated'\n",
    "           ]\n",
    "\n",
    "rock = ['rock', 'bedrock', 'consolidated', 'granite', 'basalt', 'amphibolite', 'claystone', 'mudstone', 'siltstone',\n",
    "       'sandstone', 'conglomerate']"
   ]
  },
  {
   "cell_type": "code",
   "execution_count": 27,
   "metadata": {},
   "outputs": [],
   "source": [
    "# Now scrapte the NGIS database for additional lithologies\n",
    "\n",
    "# This database is a copy of key tables for boreholes in the NGIS\n",
    "# database that fall within the EFtF project areas\n",
    "db = r\"C:\\GA\\boreholes\\Borehole_Data_Consolidation_CompositeLogs_NeilFork\\EFTF_BH.sqlite\"\n",
    "\n",
    "conn = sqlite3.connect(db)\n",
    "\n",
    "# Bring in the spatialite modules\n",
    "os.environ['PATH'] = r'C:\\Users\\symin\\mod_spatialite-NG-win-amd64\\mod_spatialite-NG-win-amd64' + ';' + os.environ['PATH']\n",
    "conn.enable_load_extension(True)\n",
    "conn.execute('SELECT load_extension(\"mod_spatialite\")')\n",
    "\n",
    "\n",
    "# open the lithologies table using a sql qury in pandas\n",
    "query = 'SELECT * from Lithology;'\n",
    "df_ngis = pd.read_sql(query, conn)\n",
    "\n",
    "sql = \"SELECT uid, Hex(ST_AsBinary(Transform(geometry , 4283))) as geom FROM header;\"\n",
    "\n",
    "df_header = gpd.GeoDataFrame.from_postgis(sql, conn, geom_col=\"geom\")"
   ]
  },
  {
   "cell_type": "code",
   "execution_count": 15,
   "metadata": {},
   "outputs": [
    {
     "name": "stderr",
     "output_type": "stream",
     "text": [
      "C:\\Users\\symin\\Anaconda3\\envs\\hydrogeol_utils\\lib\\site-packages\\pandas\\core\\frame.py:6201: FutureWarning: Sorting because non-concatenation axis is not aligned. A future version\n",
      "of pandas will change to not sort by default.\n",
      "\n",
      "To accept the future behavior, pass 'sort=True'.\n",
      "\n",
      "To retain the current behavior and silence the warning, pass sort=False\n",
      "\n",
      "  sort=sort)\n"
     ]
    },
    {
     "name": "stdout",
     "output_type": "stream",
     "text": [
      "--- 494.39134883880615 seconds ---\n"
     ]
    }
   ],
   "source": [
    "# Now we will try the whole NGIS database. This takes some time\n",
    "\n",
    "cols = rock + sediment\n",
    "\n",
    "df_results = pd.DataFrame(columns = sediment + rock)\n",
    "\n",
    "# Time the process\n",
    "start_time = time.time()\n",
    "\n",
    "\n",
    "# Iterate through the panda series\n",
    "for index, string in df_ngis['l_Description'].dropna().items():\n",
    "    # Get a dictionary with the word count for each keyword\n",
    "    newDict = keyword_frequency(string, cols)\n",
    "    # Append this to a dataframe with the same index as\n",
    "    # the original data\n",
    "    df_results = df_results.append(pd.DataFrame(newDict,\n",
    "                                   index = [index]))\n",
    "    \n",
    "print(\"--- %s seconds ---\" % (time.time() - start_time))"
   ]
  },
  {
   "cell_type": "code",
   "execution_count": 25,
   "metadata": {},
   "outputs": [],
   "source": [
    "# Join the results with the original frame to get the UID\n",
    "# and then the depth top\n",
    "\n",
    "df_results = pd.merge(df_results, df_ngis[['l_Description', 'l_ToDepth','uid']].dropna(),\n",
    "                           left_index = True, right_index=True).drop_duplicates()"
   ]
  },
  {
   "cell_type": "code",
   "execution_count": 28,
   "metadata": {},
   "outputs": [],
   "source": [
    "# Spit the table out to the database\n",
    "\n",
    "df_results.to_sql('rock_sediment_keyword_frequency', conn, if_exists= 'replace', index=False,\n",
    "                chunksize=100)\n"
   ]
  },
  {
   "cell_type": "code",
   "execution_count": 29,
   "metadata": {},
   "outputs": [],
   "source": [
    "# Now lets sum the rock and sediment components for each row\n",
    "\n",
    "df_results['rocksum'] = df_results[rock].sum(axis=1)\n",
    "df_results['sedsum'] = df_results[sediment].sum(axis=1)"
   ]
  },
  {
   "cell_type": "code",
   "execution_count": 32,
   "metadata": {},
   "outputs": [
    {
     "name": "stderr",
     "output_type": "stream",
     "text": [
      "C:\\Users\\symin\\Anaconda3\\envs\\hydrogeol_utils\\lib\\site-packages\\ipykernel_launcher.py:2: SettingWithCopyWarning: \n",
      "A value is trying to be set on a copy of a slice from a DataFrame.\n",
      "Try using .loc[row_indexer,col_indexer] = value instead\n",
      "\n",
      "See the caveats in the documentation: http://pandas.pydata.org/pandas-docs/stable/indexing.html#indexing-view-versus-copy\n",
      "  \n"
     ]
    }
   ],
   "source": [
    "df_test=df_results[['rocksum', 'sedsum', 'l_ToDepth']]\n",
    "df_test['difference'] = df_test['rocksum'] - df_test['sedsum']"
   ]
  },
  {
   "cell_type": "code",
   "execution_count": 44,
   "metadata": {},
   "outputs": [],
   "source": [
    "# LEts only look at the top 400 metres\n",
    "\n",
    "df_test = df_test[df_test['l_ToDepth']  < 400]"
   ]
  },
  {
   "cell_type": "code",
   "execution_count": 18,
   "metadata": {},
   "outputs": [],
   "source": [
    "criteria1 = (df_results['rocksum'] == 0)\n",
    "criteria2 = (df_results['sedsum'] == 0)"
   ]
  },
  {
   "cell_type": "code",
   "execution_count": 51,
   "metadata": {
    "scrolled": true
   },
   "outputs": [
    {
     "name": "stderr",
     "output_type": "stream",
     "text": [
      "C:\\Users\\symin\\Anaconda3\\envs\\hydrogeol_utils\\lib\\site-packages\\ipykernel_launcher.py:2: UserWarning: Boolean Series key will be reindexed to match DataFrame index.\n",
      "  \n"
     ]
    }
   ],
   "source": [
    "# Just for fun lets say that the higher the sum of keywords\n",
    "df_test= df_test[~criteria1][~criteria2]"
   ]
  },
  {
   "cell_type": "code",
   "execution_count": 54,
   "metadata": {},
   "outputs": [
    {
     "data": {
      "image/png": "[encoded data removed]",
      "text/plain": [
       "<matplotlib.figure.Figure at 0x224565cd390>"
      ]
     },
     "metadata": {},
     "output_type": "display_data"
    }
   ],
   "source": [
    "# Now lets plot difference vs depth\n",
    "\n",
    "df_test.plot.scatter('difference', 'l_ToDepth')\n",
    "plt.show()"
   ]
  },
  {
   "cell_type": "code",
   "execution_count": 70,
   "metadata": {},
   "outputs": [
    {
     "name": "stdout",
     "output_type": "stream",
     "text": [
      "Gravel sandstone and basalt with clasts up to 20mm in size\n",
      " \n",
      "Sand and gravel; well rounded and poorly sorted grains from 1 mm to 4 cm. Gravels composed of black and pink sandstone, brown siltstone and granite.  Sample saturated.  Water sample taken at 24 m 680 Ás @ 25?c.\n",
      " \n",
      "Gravel clasts of basalt sandstone andquartz predominatly up to 30 mm in size.  Rig chattering and partial loss of circulation.\n",
      " \n",
      "Rock, sandstone & gravel\n",
      " \n",
      "Rock, fractured sandstone, sand & water\n",
      " \n",
      "Basalt, jaspilite, quartite, jaspilitic banded chert also sand 60% of which quartz 60% rest is feldspar-ilmenite(?) rock chips.  Heavy minerals present.  Minor possible garnets\n",
      " \n",
      "Rock, grey clay, with soft siltstone\n",
      " \n",
      "Grey rock, brown sandy clay, sandstone?\n",
      " \n",
      "Grey rock, brown sandy clay, sandstone?\n",
      " \n",
      "light brown and yellow sandstone with red brown siltstone and yellow clay\n",
      " \n"
     ]
    }
   ],
   "source": [
    "inds = df_test[df_test['difference']==1].index\n",
    "for i in range(10):\n",
    "    print(df_ngis.loc[inds]['l_Description'].sample().item())\n",
    "    print(' ')"
   ]
  },
  {
   "cell_type": "code",
   "execution_count": 65,
   "metadata": {},
   "outputs": [
    {
     "ename": "KeyboardInterrupt",
     "evalue": "",
     "output_type": "error",
     "traceback": [
      "\u001b[1;31m---------------------------------------------------------------------------\u001b[0m",
      "\u001b[1;31mKeyboardInterrupt\u001b[0m                         Traceback (most recent call last)",
      "\u001b[1;32m<ipython-input-65-6372682ddeba>\u001b[0m in \u001b[0;36m<module>\u001b[1;34m()\u001b[0m\n\u001b[0;32m      2\u001b[0m \u001b[1;33m\u001b[0m\u001b[0m\n\u001b[0;32m      3\u001b[0m \u001b[1;32mimport\u001b[0m \u001b[0mskfuzzy\u001b[0m \u001b[1;32mas\u001b[0m \u001b[0mfuzz\u001b[0m\u001b[1;33m\u001b[0m\u001b[0m\n\u001b[1;32m----> 4\u001b[1;33m \u001b[1;32mfrom\u001b[0m \u001b[0mskfuzzy\u001b[0m \u001b[1;32mimport\u001b[0m \u001b[0mcontrol\u001b[0m \u001b[1;32mas\u001b[0m \u001b[0mctrl\u001b[0m\u001b[1;33m\u001b[0m\u001b[0m\n\u001b[0m\u001b[0;32m      5\u001b[0m \u001b[1;33m\u001b[0m\u001b[0m\n\u001b[0;32m      6\u001b[0m \u001b[1;31m# New Antecedent/Consequent objects hold universe variables and membership\u001b[0m\u001b[1;33m\u001b[0m\u001b[1;33m\u001b[0m\u001b[0m\n",
      "\u001b[1;32m~\\Anaconda3\\envs\\hydrogeol_utils\\lib\\site-packages\\skfuzzy\\control\\__init__.py\u001b[0m in \u001b[0;36m<module>\u001b[1;34m()\u001b[0m\n\u001b[0;32m     13\u001b[0m            ]\n\u001b[0;32m     14\u001b[0m \u001b[1;33m\u001b[0m\u001b[0m\n\u001b[1;32m---> 15\u001b[1;33m from .antecedent_consequent import (Antecedent, Consequent,\n\u001b[0m\u001b[0;32m     16\u001b[0m                                     accumulation_max, accumulation_mult)\n\u001b[0;32m     17\u001b[0m \u001b[1;32mfrom\u001b[0m \u001b[1;33m.\u001b[0m\u001b[0mcontrolsystem\u001b[0m \u001b[1;32mimport\u001b[0m \u001b[0mControlSystem\u001b[0m\u001b[1;33m,\u001b[0m \u001b[0mControlSystemSimulation\u001b[0m\u001b[1;33m\u001b[0m\u001b[0m\n",
      "\u001b[1;32m~\\Anaconda3\\envs\\hydrogeol_utils\\lib\\site-packages\\skfuzzy\\control\\antecedent_consequent.py\u001b[0m in \u001b[0;36m<module>\u001b[1;34m()\u001b[0m\n\u001b[0;32m      3\u001b[0m \"\"\"\n\u001b[0;32m      4\u001b[0m \u001b[1;32mimport\u001b[0m \u001b[0mnumpy\u001b[0m \u001b[1;32mas\u001b[0m \u001b[0mnp\u001b[0m\u001b[1;33m\u001b[0m\u001b[0m\n\u001b[1;32m----> 5\u001b[1;33m \u001b[1;32mimport\u001b[0m \u001b[0mnetworkx\u001b[0m \u001b[1;32mas\u001b[0m \u001b[0mnx\u001b[0m\u001b[1;33m\u001b[0m\u001b[0m\n\u001b[0m\u001b[0;32m      6\u001b[0m \u001b[1;33m\u001b[0m\u001b[0m\n\u001b[0;32m      7\u001b[0m \u001b[1;32mfrom\u001b[0m \u001b[1;33m.\u001b[0m\u001b[0mstate\u001b[0m \u001b[1;32mimport\u001b[0m \u001b[0mStatefulProperty\u001b[0m\u001b[1;33m\u001b[0m\u001b[0m\n",
      "\u001b[1;32m~\\Anaconda3\\envs\\hydrogeol_utils\\lib\\site-packages\\networkx\\__init__.py\u001b[0m in \u001b[0;36m<module>\u001b[1;34m()\u001b[0m\n\u001b[0;32m    121\u001b[0m \u001b[1;32mimport\u001b[0m \u001b[0mnetworkx\u001b[0m\u001b[1;33m.\u001b[0m\u001b[0malgorithms\u001b[0m\u001b[1;33m\u001b[0m\u001b[0m\n\u001b[0;32m    122\u001b[0m \u001b[1;32mfrom\u001b[0m \u001b[0mnetworkx\u001b[0m\u001b[1;33m.\u001b[0m\u001b[0malgorithms\u001b[0m \u001b[1;32mimport\u001b[0m \u001b[1;33m*\u001b[0m\u001b[1;33m\u001b[0m\u001b[0m\n\u001b[1;32m--> 123\u001b[1;33m \u001b[1;32mimport\u001b[0m \u001b[0mnetworkx\u001b[0m\u001b[1;33m.\u001b[0m\u001b[0mlinalg\u001b[0m\u001b[1;33m\u001b[0m\u001b[0m\n\u001b[0m\u001b[0;32m    124\u001b[0m \u001b[1;33m\u001b[0m\u001b[0m\n\u001b[0;32m    125\u001b[0m \u001b[1;32mfrom\u001b[0m \u001b[0mnetworkx\u001b[0m\u001b[1;33m.\u001b[0m\u001b[0mlinalg\u001b[0m \u001b[1;32mimport\u001b[0m \u001b[1;33m*\u001b[0m\u001b[1;33m\u001b[0m\u001b[0m\n",
      "\u001b[1;32m~\\Anaconda3\\envs\\hydrogeol_utils\\lib\\site-packages\\networkx\\linalg\\__init__.py\u001b[0m in \u001b[0;36m<module>\u001b[1;34m()\u001b[0m\n\u001b[0;32m      7\u001b[0m \u001b[1;32mfrom\u001b[0m \u001b[0mnetworkx\u001b[0m\u001b[1;33m.\u001b[0m\u001b[0mlinalg\u001b[0m\u001b[1;33m.\u001b[0m\u001b[0mlaplacianmatrix\u001b[0m \u001b[1;32mimport\u001b[0m \u001b[1;33m*\u001b[0m\u001b[1;33m\u001b[0m\u001b[0m\n\u001b[0;32m      8\u001b[0m \u001b[1;32mimport\u001b[0m \u001b[0mnetworkx\u001b[0m\u001b[1;33m.\u001b[0m\u001b[0mlinalg\u001b[0m\u001b[1;33m.\u001b[0m\u001b[0mlaplacianmatrix\u001b[0m\u001b[1;33m\u001b[0m\u001b[0m\n\u001b[1;32m----> 9\u001b[1;33m \u001b[1;32mfrom\u001b[0m \u001b[0mnetworkx\u001b[0m\u001b[1;33m.\u001b[0m\u001b[0mlinalg\u001b[0m\u001b[1;33m.\u001b[0m\u001b[0malgebraicconnectivity\u001b[0m \u001b[1;32mimport\u001b[0m \u001b[1;33m*\u001b[0m\u001b[1;33m\u001b[0m\u001b[0m\n\u001b[0m\u001b[0;32m     10\u001b[0m \u001b[1;32mfrom\u001b[0m \u001b[0mnetworkx\u001b[0m\u001b[1;33m.\u001b[0m\u001b[0mlinalg\u001b[0m\u001b[1;33m.\u001b[0m\u001b[0mmodularitymatrix\u001b[0m \u001b[1;32mimport\u001b[0m \u001b[1;33m*\u001b[0m\u001b[1;33m\u001b[0m\u001b[0m\n\u001b[0;32m     11\u001b[0m \u001b[1;32mimport\u001b[0m \u001b[0mnetworkx\u001b[0m\u001b[1;33m.\u001b[0m\u001b[0mlinalg\u001b[0m\u001b[1;33m.\u001b[0m\u001b[0mmodularitymatrix\u001b[0m\u001b[1;33m\u001b[0m\u001b[0m\n",
      "\u001b[1;32m~\\Anaconda3\\envs\\hydrogeol_utils\\lib\\site-packages\\networkx\\linalg\\algebraicconnectivity.py\u001b[0m in \u001b[0;36m<module>\u001b[1;34m()\u001b[0m\n\u001b[0;32m     19\u001b[0m     \u001b[1;32mfrom\u001b[0m \u001b[0mscipy\u001b[0m\u001b[1;33m.\u001b[0m\u001b[0mlinalg\u001b[0m \u001b[1;32mimport\u001b[0m \u001b[0meigh\u001b[0m\u001b[1;33m,\u001b[0m \u001b[0minv\u001b[0m\u001b[1;33m\u001b[0m\u001b[0m\n\u001b[0;32m     20\u001b[0m     \u001b[1;32mfrom\u001b[0m \u001b[0mscipy\u001b[0m\u001b[1;33m.\u001b[0m\u001b[0msparse\u001b[0m \u001b[1;32mimport\u001b[0m \u001b[0mcsc_matrix\u001b[0m\u001b[1;33m,\u001b[0m \u001b[0mspdiags\u001b[0m\u001b[1;33m\u001b[0m\u001b[0m\n\u001b[1;32m---> 21\u001b[1;33m     \u001b[1;32mfrom\u001b[0m \u001b[0mscipy\u001b[0m\u001b[1;33m.\u001b[0m\u001b[0msparse\u001b[0m\u001b[1;33m.\u001b[0m\u001b[0mlinalg\u001b[0m \u001b[1;32mimport\u001b[0m \u001b[0meigsh\u001b[0m\u001b[1;33m,\u001b[0m \u001b[0mlobpcg\u001b[0m\u001b[1;33m\u001b[0m\u001b[0m\n\u001b[0m\u001b[0;32m     22\u001b[0m     \u001b[0m__all__\u001b[0m \u001b[1;33m=\u001b[0m \u001b[1;33m[\u001b[0m\u001b[1;34m'algebraic_connectivity'\u001b[0m\u001b[1;33m,\u001b[0m \u001b[1;34m'fiedler_vector'\u001b[0m\u001b[1;33m,\u001b[0m \u001b[1;34m'spectral_ordering'\u001b[0m\u001b[1;33m]\u001b[0m\u001b[1;33m\u001b[0m\u001b[0m\n\u001b[0;32m     23\u001b[0m \u001b[1;32mexcept\u001b[0m \u001b[0mImportError\u001b[0m\u001b[1;33m:\u001b[0m\u001b[1;33m\u001b[0m\u001b[0m\n",
      "\u001b[1;32m~\\Anaconda3\\envs\\hydrogeol_utils\\lib\\site-packages\\scipy\\sparse\\linalg\\__init__.py\u001b[0m in \u001b[0;36m<module>\u001b[1;34m()\u001b[0m\n\u001b[0;32m    112\u001b[0m \u001b[1;32mfrom\u001b[0m \u001b[0m__future__\u001b[0m \u001b[1;32mimport\u001b[0m \u001b[0mdivision\u001b[0m\u001b[1;33m,\u001b[0m \u001b[0mprint_function\u001b[0m\u001b[1;33m,\u001b[0m \u001b[0mabsolute_import\u001b[0m\u001b[1;33m\u001b[0m\u001b[0m\n\u001b[0;32m    113\u001b[0m \u001b[1;33m\u001b[0m\u001b[0m\n\u001b[1;32m--> 114\u001b[1;33m \u001b[1;32mfrom\u001b[0m \u001b[1;33m.\u001b[0m\u001b[0misolve\u001b[0m \u001b[1;32mimport\u001b[0m \u001b[1;33m*\u001b[0m\u001b[1;33m\u001b[0m\u001b[0m\n\u001b[0m\u001b[0;32m    115\u001b[0m \u001b[1;32mfrom\u001b[0m \u001b[1;33m.\u001b[0m\u001b[0mdsolve\u001b[0m \u001b[1;32mimport\u001b[0m \u001b[1;33m*\u001b[0m\u001b[1;33m\u001b[0m\u001b[0m\n\u001b[0;32m    116\u001b[0m \u001b[1;32mfrom\u001b[0m \u001b[1;33m.\u001b[0m\u001b[0minterface\u001b[0m \u001b[1;32mimport\u001b[0m \u001b[1;33m*\u001b[0m\u001b[1;33m\u001b[0m\u001b[0m\n",
      "\u001b[1;32m~\\Anaconda3\\envs\\hydrogeol_utils\\lib\\site-packages\\scipy\\sparse\\linalg\\isolve\\__init__.py\u001b[0m in \u001b[0;36m<module>\u001b[1;34m()\u001b[0m\n\u001b[0;32m      4\u001b[0m \u001b[1;33m\u001b[0m\u001b[0m\n\u001b[0;32m      5\u001b[0m \u001b[1;31m#from info import __doc__\u001b[0m\u001b[1;33m\u001b[0m\u001b[1;33m\u001b[0m\u001b[0m\n\u001b[1;32m----> 6\u001b[1;33m \u001b[1;32mfrom\u001b[0m \u001b[1;33m.\u001b[0m\u001b[0miterative\u001b[0m \u001b[1;32mimport\u001b[0m \u001b[1;33m*\u001b[0m\u001b[1;33m\u001b[0m\u001b[0m\n\u001b[0m\u001b[0;32m      7\u001b[0m \u001b[1;32mfrom\u001b[0m \u001b[1;33m.\u001b[0m\u001b[0mminres\u001b[0m \u001b[1;32mimport\u001b[0m \u001b[0mminres\u001b[0m\u001b[1;33m\u001b[0m\u001b[0m\n\u001b[0;32m      8\u001b[0m \u001b[1;32mfrom\u001b[0m \u001b[1;33m.\u001b[0m\u001b[0mlgmres\u001b[0m \u001b[1;32mimport\u001b[0m \u001b[0mlgmres\u001b[0m\u001b[1;33m\u001b[0m\u001b[0m\n",
      "\u001b[1;32m~\\Anaconda3\\envs\\hydrogeol_utils\\lib\\site-packages\\scipy\\sparse\\linalg\\isolve\\iterative.py\u001b[0m in \u001b[0;36m<module>\u001b[1;34m()\u001b[0m\n\u001b[0;32m      8\u001b[0m \u001b[1;32mimport\u001b[0m \u001b[0mnumpy\u001b[0m \u001b[1;32mas\u001b[0m \u001b[0mnp\u001b[0m\u001b[1;33m\u001b[0m\u001b[0m\n\u001b[0;32m      9\u001b[0m \u001b[1;33m\u001b[0m\u001b[0m\n\u001b[1;32m---> 10\u001b[1;33m \u001b[1;32mfrom\u001b[0m \u001b[1;33m.\u001b[0m \u001b[1;32mimport\u001b[0m \u001b[0m_iterative\u001b[0m\u001b[1;33m\u001b[0m\u001b[0m\n\u001b[0m\u001b[0;32m     11\u001b[0m \u001b[1;33m\u001b[0m\u001b[0m\n\u001b[0;32m     12\u001b[0m \u001b[1;32mfrom\u001b[0m \u001b[0mscipy\u001b[0m\u001b[1;33m.\u001b[0m\u001b[0msparse\u001b[0m\u001b[1;33m.\u001b[0m\u001b[0mlinalg\u001b[0m\u001b[1;33m.\u001b[0m\u001b[0minterface\u001b[0m \u001b[1;32mimport\u001b[0m \u001b[0mLinearOperator\u001b[0m\u001b[1;33m\u001b[0m\u001b[0m\n",
      "\u001b[1;32m~\\Anaconda3\\envs\\hydrogeol_utils\\lib\\importlib\\_bootstrap.py\u001b[0m in \u001b[0;36m_find_and_load\u001b[1;34m(name, import_)\u001b[0m\n",
      "\u001b[1;32m~\\Anaconda3\\envs\\hydrogeol_utils\\lib\\importlib\\_bootstrap.py\u001b[0m in \u001b[0;36m_find_and_load_unlocked\u001b[1;34m(name, import_)\u001b[0m\n",
      "\u001b[1;32m~\\Anaconda3\\envs\\hydrogeol_utils\\lib\\importlib\\_bootstrap.py\u001b[0m in \u001b[0;36m_load_unlocked\u001b[1;34m(spec)\u001b[0m\n",
      "\u001b[1;32m~\\Anaconda3\\envs\\hydrogeol_utils\\lib\\importlib\\_bootstrap.py\u001b[0m in \u001b[0;36mmodule_from_spec\u001b[1;34m(spec)\u001b[0m\n",
      "\u001b[1;32m~\\Anaconda3\\envs\\hydrogeol_utils\\lib\\importlib\\_bootstrap_external.py\u001b[0m in \u001b[0;36mcreate_module\u001b[1;34m(self, spec)\u001b[0m\n",
      "\u001b[1;31mKeyboardInterrupt\u001b[0m: "
     ]
    }
   ],
   "source": [
    "# Lets build a basic fuzzy model\n",
    "\n",
    "import skfuzzy as fuzz\n",
    "from skfuzzy import control as ctrl\n",
    "\n",
    "# New Antecedent/Consequent objects hold universe variables and membership\n",
    "# functions\n",
    "quality = ctrl.Antecedent(np.arange(0, 11, 1), 'keyword_difference')\n",
    "service = ctrl.Antecedent(np.arange(0, 11, 1), 'service')\n",
    "tip = ctrl.Consequent(np.arange(0, 26, 1), 'tip')\n",
    "\n",
    "# Auto-membership function population is possible with .automf(3, 5, or 7)\n",
    "quality.automf(3)\n",
    "service.automf(3)\n",
    "\n",
    "# Custom membership functions can be built interactively with a familiar,\n",
    "# Pythonic API\n",
    "tip['low'] = fuzz.trimf(tip.universe, [0, 0, 13])\n",
    "tip['medium'] = fuzz.trimf(tip.universe, [0, 13, 25])\n",
    "tip['high'] = fuzz.trimf(tip.universe, [13, 25, 25])"
   ]
  },
  {
   "cell_type": "code",
   "execution_count": null,
   "metadata": {},
   "outputs": [],
   "source": []
  }
 ],
 "metadata": {
  "kernelspec": {
   "display_name": "Python 3",
   "language": "python",
   "name": "python3"
  },
  "language_info": {
   "codemirror_mode": {
    "name": "ipython",
    "version": 3
   },
   "file_extension": ".py",
   "mimetype": "text/x-python",
   "name": "python",
   "nbconvert_exporter": "python",
   "pygments_lexer": "ipython3",
   "version": "3.6.3"
  }
 },
 "nbformat": 4,
 "nbformat_minor": 2
}
